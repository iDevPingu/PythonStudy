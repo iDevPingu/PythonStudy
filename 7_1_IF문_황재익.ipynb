{
  "nbformat": 4,
  "nbformat_minor": 0,
  "metadata": {
    "colab": {
      "name": "if예제",
      "version": "0.3.2",
      "provenance": [],
      "collapsed_sections": [],
      "include_colab_link": true
    },
    "kernelspec": {
      "name": "python3",
      "display_name": "Python 3"
    }
  },
  "cells": [
    {
      "cell_type": "markdown",
      "metadata": {
        "id": "view-in-github",
        "colab_type": "text"
      },
      "source": [
        "<a href=\"https://colab.research.google.com/github/jaicoco/PythonStudy/blob/master/7_1_IF%EB%AC%B8_%ED%99%A9%EC%9E%AC%EC%9D%B5.ipynb\" target=\"_parent\"><img src=\"https://colab.research.google.com/assets/colab-badge.svg\" alt=\"Open In Colab\"/></a>"
      ]
    },
    {
      "cell_type": "markdown",
      "metadata": {
        "id": "OZ7OvTWPKpm9",
        "colab_type": "text"
      },
      "source": [
        "### Q01. 다음 문장들을 들여쓰기 하세요."
      ]
    },
    {
      "cell_type": "code",
      "metadata": {
        "id": "XsBjiX0uLPIw",
        "colab_type": "code",
        "colab": {}
      },
      "source": [
        "  # 작은 연못에서 시작되었지.\n",
        "  # 바다로 바다로 갈 수 있음 좋겠네."
      ],
      "execution_count": 0,
      "outputs": []
    },
    {
      "cell_type": "markdown",
      "metadata": {
        "id": "HvDpVsQULflD",
        "colab_type": "text"
      },
      "source": [
        "### Q02. 다음 문장들을 내어쓰기 하세요."
      ]
    },
    {
      "cell_type": "code",
      "metadata": {
        "id": "Lb0bPAH7Lmgc",
        "colab_type": "code",
        "colab": {}
      },
      "source": [
        "# 커피를 너무 많이 마셨나봐요\n",
        "# 심장이 막 두근 대고 잠들 수가 없어요."
      ],
      "execution_count": 0,
      "outputs": []
    },
    {
      "cell_type": "markdown",
      "metadata": {
        "id": "90oo0VCQL5ql",
        "colab_type": "text"
      },
      "source": [
        "### Q03. 다음 코드는 에러가 뜹니다. 에러가 안뜨게 고쳐주세요."
      ]
    },
    {
      "cell_type": "code",
      "metadata": {
        "id": "bn4AbXVUMfIC",
        "colab_type": "code",
        "outputId": "d217695d-a20c-4ac7-8961-e63976cf122d",
        "colab": {
          "base_uri": "https://localhost:8080/",
          "height": 34
        }
      },
      "source": [
        "if True:\n",
        "  print('참입니다.')\n",
        "else:\n",
        "  print('거짓입니다.')"
      ],
      "execution_count": 0,
      "outputs": [
        {
          "output_type": "stream",
          "text": [
            "참입니다.\n"
          ],
          "name": "stdout"
        }
      ]
    },
    {
      "cell_type": "markdown",
      "metadata": {
        "id": "R2-96HvzMzYV",
        "colab_type": "text"
      },
      "source": [
        "### Q04. 다음 코드의 실행 결과를 예측해보세요."
      ]
    },
    {
      "cell_type": "code",
      "metadata": {
        "id": "DhXRkU4RM-_S",
        "colab_type": "code",
        "outputId": "88a9dc74-c9f4-4aed-c8a3-991d925557d4",
        "colab": {
          "base_uri": "https://localhost:8080/",
          "height": 34
        }
      },
      "source": [
        "if False:\n",
        "  print('참입니다.')\n",
        "else:\n",
        "  print('거짓입니다.')\n",
        " \n",
        "\n",
        "#거짓입니다 가 출력"
      ],
      "execution_count": 0,
      "outputs": [
        {
          "output_type": "stream",
          "text": [
            "거짓입니다.\n"
          ],
          "name": "stdout"
        }
      ]
    },
    {
      "cell_type": "markdown",
      "metadata": {
        "id": "lY6AIAWYNJYL",
        "colab_type": "text"
      },
      "source": [
        "### Q05. 다음 주어진 변수들에 대해 비교 연산자를 적용하고 결과를 확인하세요."
      ]
    },
    {
      "cell_type": "code",
      "metadata": {
        "id": "HkKXMR26NjbV",
        "colab_type": "code",
        "colab": {}
      },
      "source": [
        "x=7\n",
        "y=3"
      ],
      "execution_count": 0,
      "outputs": []
    },
    {
      "cell_type": "code",
      "metadata": {
        "id": "mqkAh636NpfK",
        "colab_type": "code",
        "outputId": "7e6d736e-adea-43c1-b234-2eaac1ce1737",
        "colab": {
          "base_uri": "https://localhost:8080/",
          "height": 34
        }
      },
      "source": [
        "x>y"
      ],
      "execution_count": 0,
      "outputs": [
        {
          "output_type": "execute_result",
          "data": {
            "text/plain": [
              "True"
            ]
          },
          "metadata": {
            "tags": []
          },
          "execution_count": 5
        }
      ]
    },
    {
      "cell_type": "code",
      "metadata": {
        "id": "sNNBh25HNxUK",
        "colab_type": "code",
        "outputId": "693e11f3-9a65-424a-b2b5-1717957074d3",
        "colab": {
          "base_uri": "https://localhost:8080/",
          "height": 34
        }
      },
      "source": [
        "x<y"
      ],
      "execution_count": 0,
      "outputs": [
        {
          "output_type": "execute_result",
          "data": {
            "text/plain": [
              "False"
            ]
          },
          "metadata": {
            "tags": []
          },
          "execution_count": 6
        }
      ]
    },
    {
      "cell_type": "code",
      "metadata": {
        "id": "G30wWIGpNxK7",
        "colab_type": "code",
        "outputId": "5bd3d8c7-4b59-4472-e029-e0aeb37e297e",
        "colab": {
          "base_uri": "https://localhost:8080/",
          "height": 34
        }
      },
      "source": [
        "x!=y"
      ],
      "execution_count": 0,
      "outputs": [
        {
          "output_type": "execute_result",
          "data": {
            "text/plain": [
              "True"
            ]
          },
          "metadata": {
            "tags": []
          },
          "execution_count": 7
        }
      ]
    },
    {
      "cell_type": "code",
      "metadata": {
        "id": "79rn4heSNw_C",
        "colab_type": "code",
        "outputId": "d5ba7673-a111-4ca6-af89-e2f820095f1e",
        "colab": {
          "base_uri": "https://localhost:8080/",
          "height": 34
        }
      },
      "source": [
        "x==y"
      ],
      "execution_count": 0,
      "outputs": [
        {
          "output_type": "execute_result",
          "data": {
            "text/plain": [
              "False"
            ]
          },
          "metadata": {
            "tags": []
          },
          "execution_count": 8
        }
      ]
    },
    {
      "cell_type": "code",
      "metadata": {
        "id": "dd8WXyxINw0a",
        "colab_type": "code",
        "outputId": "06141a4a-7b99-40ff-acc2-4d57e62e891a",
        "colab": {
          "base_uri": "https://localhost:8080/",
          "height": 34
        }
      },
      "source": [
        "x<=y"
      ],
      "execution_count": 0,
      "outputs": [
        {
          "output_type": "execute_result",
          "data": {
            "text/plain": [
              "False"
            ]
          },
          "metadata": {
            "tags": []
          },
          "execution_count": 9
        }
      ]
    },
    {
      "cell_type": "code",
      "metadata": {
        "id": "WFI8IQ0JNwlq",
        "colab_type": "code",
        "outputId": "77412988-98e0-4764-bb4b-9c91357d65c7",
        "colab": {
          "base_uri": "https://localhost:8080/",
          "height": 34
        }
      },
      "source": [
        "x>=y"
      ],
      "execution_count": 0,
      "outputs": [
        {
          "output_type": "execute_result",
          "data": {
            "text/plain": [
              "True"
            ]
          },
          "metadata": {
            "tags": []
          },
          "execution_count": 10
        }
      ]
    },
    {
      "cell_type": "markdown",
      "metadata": {
        "id": "r_NyL0LvNyDy",
        "colab_type": "text"
      },
      "source": [
        "### Q06. money=2000일 때, money가 1000보다 크거나 같으면 '구매한다'가 출력되게 하세요.\n",
        "### 그렇지 않으면 '구매하지 않는다.'가 출력되게 하세요."
      ]
    },
    {
      "cell_type": "code",
      "metadata": {
        "id": "xv136BoGOU_V",
        "colab_type": "code",
        "outputId": "8f018943-ad41-4e14-8bc9-0a4cfb2687ff",
        "colab": {
          "base_uri": "https://localhost:8080/",
          "height": 34
        }
      },
      "source": [
        "money=2000\n",
        "if money >= 1000:\n",
        "  print(\"구매한다\")\n",
        "  \n",
        "else:\n",
        "  print('구매하지 않는다')\n"
      ],
      "execution_count": 0,
      "outputs": [
        {
          "output_type": "stream",
          "text": [
            "구매한다\n"
          ],
          "name": "stdout"
        }
      ]
    },
    {
      "cell_type": "markdown",
      "metadata": {
        "id": "VplroMTqOdpb",
        "colab_type": "text"
      },
      "source": [
        "### Q07. a가 3일 때, a가 3보다 크면 '3보다 큽니다.'가 출력되게 하세요.\n",
        "### 3보다 작거나 같으면 '3이하 입니다.'가 출력되게 하세요."
      ]
    },
    {
      "cell_type": "code",
      "metadata": {
        "id": "GxvaOatkPb5C",
        "colab_type": "code",
        "outputId": "2ed90fa0-0add-4347-8558-952608dad178",
        "colab": {
          "base_uri": "https://localhost:8080/",
          "height": 34
        }
      },
      "source": [
        "a=3\n",
        "if a>3:\n",
        "  print(\"3보다 크다\")\n",
        "else:\n",
        "  print(\"3이하입니다.\")"
      ],
      "execution_count": 0,
      "outputs": [
        {
          "output_type": "stream",
          "text": [
            "3이하입니다.\n"
          ],
          "name": "stdout"
        }
      ]
    },
    {
      "cell_type": "markdown",
      "metadata": {
        "id": "VCOvkztmPDYn",
        "colab_type": "text"
      },
      "source": [
        "### Q08. money가 2000이고 card는 True입니다.\n",
        "### money가 1000000 이상이고 card가 True일 때에만 '구매한다'가 출력되게 하세요.\n",
        "### 그렇지 않은 경우는 '구경만 한다'가 출력되게 하세요."
      ]
    },
    {
      "cell_type": "code",
      "metadata": {
        "id": "igfeCZdQQppM",
        "colab_type": "code",
        "outputId": "6c27b869-0c7a-4e97-90b4-6935e2bafcce",
        "colab": {
          "base_uri": "https://localhost:8080/",
          "height": 34
        }
      },
      "source": [
        "money = 2000\n",
        "card = True\n",
        "\n",
        "if money>=1000000 and card:\n",
        "  print(\"구매한다\")\n",
        "else:\n",
        "  print('구경만한다')"
      ],
      "execution_count": 0,
      "outputs": [
        {
          "output_type": "stream",
          "text": [
            "구경만한다\n"
          ],
          "name": "stdout"
        }
      ]
    },
    {
      "cell_type": "markdown",
      "metadata": {
        "id": "CtmMpqAQQyqj",
        "colab_type": "text"
      },
      "source": [
        "### 09.다음과 같이 변수가 주어질 때\n",
        "### x가 아니면 '민수를 찾는다.'가 출력되게 하세요.\n",
        "### 그렇지 않으면 '민수와 밥을 먹는다.'가 출력되게 하세요."
      ]
    },
    {
      "cell_type": "code",
      "metadata": {
        "id": "RoHMNx2fUOnM",
        "colab_type": "code",
        "outputId": "339a76cf-9b53-47cf-858a-d02b01d40f05",
        "colab": {
          "base_uri": "https://localhost:8080/",
          "height": 34
        }
      },
      "source": [
        "x='민수'\n",
        "\n",
        "if x:\n",
        "  print(\"민수를 찾는다\")\n",
        "else:\n",
        "  print('민수와밥먹는다')"
      ],
      "execution_count": 0,
      "outputs": [
        {
          "output_type": "stream",
          "text": [
            "민수를 찾는다\n"
          ],
          "name": "stdout"
        }
      ]
    },
    {
      "cell_type": "markdown",
      "metadata": {
        "id": "atBzQz8HRly9",
        "colab_type": "text"
      },
      "source": [
        "### Q10. 변수들이 다음과 같이 주어질 때,\n",
        "### money가 500000 보다 크거나 같고 card가 True 일 때 '아이폰을 산다'가 출력되게 하세요.\n",
        "### 아니면 '아이폰을 사지 않는다'가 출력되게 하세요."
      ]
    },
    {
      "cell_type": "code",
      "metadata": {
        "id": "B7GItVSWp0hZ",
        "colab_type": "code",
        "outputId": "4203992a-9d75-43de-e78a-7ca843a68c9b",
        "colab": {
          "base_uri": "https://localhost:8080/",
          "height": 34
        }
      },
      "source": [
        "money =10000\n",
        "card = True\n",
        "if money>=500000 and card :\n",
        "  print(\"아이폰산다\")\n",
        "else:\n",
        "  print('아이폰은 무슨 나는 거지야')"
      ],
      "execution_count": 0,
      "outputs": [
        {
          "output_type": "stream",
          "text": [
            "아이폰은 무슨 나는 거지야\n"
          ],
          "name": "stdout"
        }
      ]
    },
    {
      "cell_type": "markdown",
      "metadata": {
        "id": "MofOtQdxU6Es",
        "colab_type": "text"
      },
      "source": [
        "### Q11. 주어진 리스트에서 7이 있는지 확인 하세요."
      ]
    },
    {
      "cell_type": "code",
      "metadata": {
        "id": "IXsZOUb_U65P",
        "colab_type": "code",
        "outputId": "9f6b3c7b-88ab-4d3c-a47a-2182584dd91f",
        "colab": {
          "base_uri": "https://localhost:8080/",
          "height": 34
        }
      },
      "source": [
        "a = [1,2,4,6,8,9]\n",
        "\n",
        "7 in a"
      ],
      "execution_count": 0,
      "outputs": [
        {
          "output_type": "execute_result",
          "data": {
            "text/plain": [
              "False"
            ]
          },
          "metadata": {
            "tags": []
          },
          "execution_count": 16
        }
      ]
    },
    {
      "cell_type": "markdown",
      "metadata": {
        "id": "_6KYK3zoU7eR",
        "colab_type": "text"
      },
      "source": [
        "### Q12. 주어진 튜플에서 10이 없는지 확인하세요"
      ]
    },
    {
      "cell_type": "code",
      "metadata": {
        "id": "lsbvMa_LU73B",
        "colab_type": "code",
        "outputId": "c92801cb-7a0b-4a89-9f33-5aef3a9731fc",
        "colab": {
          "base_uri": "https://localhost:8080/",
          "height": 34
        }
      },
      "source": [
        "a = (1,3,5,7,9)\n",
        "\n",
        "10 not in a"
      ],
      "execution_count": 0,
      "outputs": [
        {
          "output_type": "execute_result",
          "data": {
            "text/plain": [
              "True"
            ]
          },
          "metadata": {
            "tags": []
          },
          "execution_count": 17
        }
      ]
    },
    {
      "cell_type": "markdown",
      "metadata": {
        "id": "tg_nifjsU789",
        "colab_type": "text"
      },
      "source": [
        "### Q13.주어진 리스트에서 Abante가 있으면 '구매한다'가 출력되게 하세요.\n",
        "### 그렇지 않으면 '구매를 보류한다'가 출력되게 하세요."
      ]
    },
    {
      "cell_type": "code",
      "metadata": {
        "id": "gR7jB-40U8AY",
        "colab_type": "code",
        "outputId": "0ed11c44-b976-44e1-b183-7c92cc070dbb",
        "colab": {
          "base_uri": "https://localhost:8080/",
          "height": 34
        }
      },
      "source": [
        "car_lists = ['Avante', 'Sonata', 'spark']\n",
        "if 'Avante' in car_lists:\n",
        "  print('Buy')\n",
        "else:\n",
        "  print('later')"
      ],
      "execution_count": 0,
      "outputs": [
        {
          "output_type": "stream",
          "text": [
            "Buy\n"
          ],
          "name": "stdout"
        }
      ]
    },
    {
      "cell_type": "markdown",
      "metadata": {
        "id": "5yTnkMMGU8Dm",
        "colab_type": "text"
      },
      "source": [
        "### Q14. 위 car_lists에서 'morning'이 없으면 pass를\n",
        "### 그렇지 않으면 '다른 매장에 가본다'가 출력되게 하세요."
      ]
    },
    {
      "cell_type": "code",
      "metadata": {
        "id": "F9aTf9yZX6xe",
        "colab_type": "code",
        "colab": {}
      },
      "source": [
        "if 'morning' not in car_lists:\n",
        "  pass\n",
        "else:\n",
        "  print('buy')"
      ],
      "execution_count": 0,
      "outputs": []
    },
    {
      "cell_type": "markdown",
      "metadata": {
        "id": "ZLWSGBh0U8Gz",
        "colab_type": "text"
      },
      "source": [
        "### Q15.다음과 같은 store라는 리스트가 있습니다.\n",
        "### store에 '색연필'이 있으면 '색연필을 구매한다'가 출력되게 하세요.\n",
        "### '물감'이 있으면 '물감을 구매한다'가 출력되게 하세요.\n",
        "### 그렇지 않으면 '매장을 나온다'가 출력되게 하세요."
      ]
    },
    {
      "cell_type": "code",
      "metadata": {
        "id": "a0rQfZ32U8KH",
        "colab_type": "code",
        "outputId": "8519af4d-7219-4c8d-f226-f15d8714ea3d",
        "colab": {
          "base_uri": "https://localhost:8080/",
          "height": 34
        }
      },
      "source": [
        "store = ['지우개', '연필', '물감', '호루라기']\n",
        "\n",
        "if '색연필' in store:\n",
        "  print('buy color pen')\n",
        "elif '물감' in store:\n",
        "  print('buy 물감')\n",
        "  \n",
        "else:\n",
        "  print('매장나감')"
      ],
      "execution_count": 0,
      "outputs": [
        {
          "output_type": "stream",
          "text": [
            "buy 물감\n"
          ],
          "name": "stdout"
        }
      ]
    },
    {
      "cell_type": "markdown",
      "metadata": {
        "id": "jX1SGHNRU8Nc",
        "colab_type": "text"
      },
      "source": [
        "### Q16. 15번의 store 리스트에서 '고무찰흙'이 없으면 pass\n",
        "### 그렇지 않으면 '고무찰흙을 산다'가 출력되게 하세요."
      ]
    },
    {
      "cell_type": "code",
      "metadata": {
        "id": "GKG1I3T8Y2LN",
        "colab_type": "code",
        "colab": {}
      },
      "source": [
        "if '고무찰흙'  not in store:\n",
        "  pass\n",
        "else:\n",
        "  print('고무찰흙 산다')"
      ],
      "execution_count": 0,
      "outputs": []
    },
    {
      "cell_type": "markdown",
      "metadata": {
        "id": "v7JovrtuU8Qd",
        "colab_type": "text"
      },
      "source": [
        "### Q17. 다음 코드를 조건부 표현식으로 나타내세요."
      ]
    },
    {
      "cell_type": "code",
      "metadata": {
        "id": "tYEOOFLzY1gB",
        "colab_type": "code",
        "colab": {}
      },
      "source": [
        "paper =10\n",
        "if paper >= 20:\n",
        "  my_score = 'pass'\n",
        "else:\n",
        "  my_score = 'fail'"
      ],
      "execution_count": 0,
      "outputs": []
    },
    {
      "cell_type": "code",
      "metadata": {
        "id": "ebfI7SvDphBz",
        "colab_type": "code",
        "colab": {}
      },
      "source": [
        "my_score = 'pass' if paper>=20 else 'fail'"
      ],
      "execution_count": 0,
      "outputs": []
    },
    {
      "cell_type": "code",
      "metadata": {
        "id": "wl8rRw8pppvE",
        "colab_type": "code",
        "outputId": "e1dbee5e-b704-450f-c6b2-ad9a6557d204",
        "colab": {
          "base_uri": "https://localhost:8080/",
          "height": 34
        }
      },
      "source": [
        "my_score"
      ],
      "execution_count": 0,
      "outputs": [
        {
          "output_type": "execute_result",
          "data": {
            "text/plain": [
              "'fail'"
            ]
          },
          "metadata": {
            "tags": []
          },
          "execution_count": 26
        }
      ]
    },
    {
      "cell_type": "code",
      "metadata": {
        "id": "BRlwL42CpqsO",
        "colab_type": "code",
        "colab": {}
      },
      "source": [
        ""
      ],
      "execution_count": 0,
      "outputs": []
    }
  ]
}