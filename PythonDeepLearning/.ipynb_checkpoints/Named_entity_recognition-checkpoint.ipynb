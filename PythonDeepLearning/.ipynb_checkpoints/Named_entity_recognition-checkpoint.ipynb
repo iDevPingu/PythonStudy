{
 "cells": [
  {
   "cell_type": "markdown",
   "metadata": {
    "colab_type": "text",
    "id": "ftzuUQsskJcY"
   },
   "source": [
    "# NER with Bidirectional-LSTM-CNNs"
   ]
  },
  {
   "cell_type": "markdown",
   "metadata": {
    "colab_type": "text",
    "id": "kHe0Q87MkJcZ"
   },
   "source": [
    "The original paper can be found at https://arxiv.org/abs/1511.08308"
   ]
  },
  {
   "cell_type": "code",
   "execution_count": 1,
   "metadata": {
    "colab": {
     "base_uri": "https://localhost:8080/",
     "height": 34
    },
    "colab_type": "code",
    "executionInfo": {
     "elapsed": 2712,
     "status": "ok",
     "timestamp": 1571285623878,
     "user": {
      "displayName": "황재익",
      "photoUrl": "",
      "userId": "04432755077897078229"
     },
     "user_tz": -540
    },
    "id": "0qK2rqiFkJca",
    "outputId": "c2ce33d3-0844-4682-c4d2-c81d6ee6aff2"
   },
   "outputs": [
    {
     "name": "stdout",
     "output_type": "stream",
     "text": [
      "TensorFlow 2.x selected.\n"
     ]
    }
   ],
   "source": [
    "try:\n",
    "  # Colab only\n",
    "  %tensorflow_version 2.x\n",
    "except Exception:\n",
    "  pass"
   ]
  },
  {
   "cell_type": "code",
   "execution_count": 2,
   "metadata": {
    "colab": {
     "base_uri": "https://localhost:8080/",
     "height": 158
    },
    "colab_type": "code",
    "executionInfo": {
     "elapsed": 11180,
     "status": "ok",
     "timestamp": 1571285632352,
     "user": {
      "displayName": "황재익",
      "photoUrl": "",
      "userId": "04432755077897078229"
     },
     "user_tz": -540
    },
    "id": "Ot12JfRZkJcc",
    "outputId": "2f1fde00-48a8-4d9b-8a1b-d9504ad43fe6"
   },
   "outputs": [
    {
     "name": "stdout",
     "output_type": "stream",
     "text": [
      "Collecting konlpy\n",
      "\u001b[?25l  Downloading https://files.pythonhosted.org/packages/e5/3d/4e983cd98d87b50b2ab0387d73fa946f745aa8164e8888a714d5129f9765/konlpy-0.5.1-py2.py3-none-any.whl (19.4MB)\n",
      "\u001b[K     |████████████████████████████████| 19.4MB 81.1MB/s \n",
      "\u001b[?25hCollecting JPype1>=0.5.7 (from konlpy)\n",
      "\u001b[?25l  Downloading https://files.pythonhosted.org/packages/07/09/e19ce27d41d4f66d73ac5b6c6a188c51b506f56c7bfbe6c1491db2d15995/JPype1-0.7.0-cp36-cp36m-manylinux2010_x86_64.whl (2.7MB)\n",
      "\u001b[K     |████████████████████████████████| 2.7MB 43.1MB/s \n",
      "\u001b[?25hInstalling collected packages: JPype1, konlpy\n",
      "Successfully installed JPype1-0.7.0 konlpy-0.5.1\n"
     ]
    }
   ],
   "source": [
    "!pip install konlpy"
   ]
  },
  {
   "cell_type": "code",
   "execution_count": 3,
   "metadata": {
    "colab": {
     "base_uri": "https://localhost:8080/",
     "height": 336
    },
    "colab_type": "code",
    "executionInfo": {
     "elapsed": 14965,
     "status": "ok",
     "timestamp": 1571285636140,
     "user": {
      "displayName": "황재익",
      "photoUrl": "",
      "userId": "04432755077897078229"
     },
     "user_tz": -540
    },
    "id": "MSTiDKrkkJcf",
    "outputId": "db741e5b-73ea-45f2-c0e5-2c90e201165f"
   },
   "outputs": [
    {
     "name": "stdout",
     "output_type": "stream",
     "text": [
      "Requirement already satisfied: gensim in /usr/local/lib/python3.6/dist-packages (3.6.0)\n",
      "Requirement already satisfied: numpy>=1.11.3 in /tensorflow-2.0.0/python3.6 (from gensim) (1.17.2)\n",
      "Requirement already satisfied: scipy>=0.18.1 in /usr/local/lib/python3.6/dist-packages (from gensim) (1.3.1)\n",
      "Requirement already satisfied: six>=1.5.0 in /tensorflow-2.0.0/python3.6 (from gensim) (1.12.0)\n",
      "Requirement already satisfied: smart-open>=1.2.1 in /usr/local/lib/python3.6/dist-packages (from gensim) (1.8.4)\n",
      "Requirement already satisfied: requests in /usr/local/lib/python3.6/dist-packages (from smart-open>=1.2.1->gensim) (2.21.0)\n",
      "Requirement already satisfied: boto3 in /usr/local/lib/python3.6/dist-packages (from smart-open>=1.2.1->gensim) (1.9.243)\n",
      "Requirement already satisfied: boto>=2.32 in /usr/local/lib/python3.6/dist-packages (from smart-open>=1.2.1->gensim) (2.49.0)\n",
      "Requirement already satisfied: chardet<3.1.0,>=3.0.2 in /usr/local/lib/python3.6/dist-packages (from requests->smart-open>=1.2.1->gensim) (3.0.4)\n",
      "Requirement already satisfied: idna<2.9,>=2.5 in /usr/local/lib/python3.6/dist-packages (from requests->smart-open>=1.2.1->gensim) (2.8)\n",
      "Requirement already satisfied: certifi>=2017.4.17 in /usr/local/lib/python3.6/dist-packages (from requests->smart-open>=1.2.1->gensim) (2019.9.11)\n",
      "Requirement already satisfied: urllib3<1.25,>=1.21.1 in /usr/local/lib/python3.6/dist-packages (from requests->smart-open>=1.2.1->gensim) (1.24.3)\n",
      "Requirement already satisfied: botocore<1.13.0,>=1.12.243 in /usr/local/lib/python3.6/dist-packages (from boto3->smart-open>=1.2.1->gensim) (1.12.243)\n",
      "Requirement already satisfied: jmespath<1.0.0,>=0.7.1 in /usr/local/lib/python3.6/dist-packages (from boto3->smart-open>=1.2.1->gensim) (0.9.4)\n",
      "Requirement already satisfied: s3transfer<0.3.0,>=0.2.0 in /usr/local/lib/python3.6/dist-packages (from boto3->smart-open>=1.2.1->gensim) (0.2.1)\n",
      "Requirement already satisfied: python-dateutil<3.0.0,>=2.1; python_version >= \"2.7\" in /usr/local/lib/python3.6/dist-packages (from botocore<1.13.0,>=1.12.243->boto3->smart-open>=1.2.1->gensim) (2.5.3)\n",
      "Requirement already satisfied: docutils<0.16,>=0.10 in /usr/local/lib/python3.6/dist-packages (from botocore<1.13.0,>=1.12.243->boto3->smart-open>=1.2.1->gensim) (0.15.2)\n"
     ]
    }
   ],
   "source": [
    "!pip install gensim"
   ]
  },
  {
   "cell_type": "code",
   "execution_count": 6,
   "metadata": {
    "colab": {
     "base_uri": "https://localhost:8080/",
     "height": 34
    },
    "colab_type": "code",
    "executionInfo": {
     "elapsed": 1109,
     "status": "ok",
     "timestamp": 1571285746749,
     "user": {
      "displayName": "황재익",
      "photoUrl": "",
      "userId": "04432755077897078229"
     },
     "user_tz": -540
    },
    "id": "rAeRURTWkJcg",
    "outputId": "73899f79-045e-4861-9253-2bb8ea9e907f"
   },
   "outputs": [
    {
     "name": "stdout",
     "output_type": "stream",
     "text": [
      "1.16.5\n"
     ]
    }
   ],
   "source": [
    "#!pip install numpy==1.16.2\n",
    "import numpy as np\n",
    "print(np.__version__)"
   ]
  },
  {
   "cell_type": "code",
   "execution_count": 7,
   "metadata": {
    "colab": {
     "base_uri": "https://localhost:8080/",
     "height": 122
    },
    "colab_type": "code",
    "executionInfo": {
     "elapsed": 11385,
     "status": "ok",
     "timestamp": 1571285761677,
     "user": {
      "displayName": "황재익",
      "photoUrl": "",
      "userId": "04432755077897078229"
     },
     "user_tz": -540
    },
    "id": "Cud_HrclkJci",
    "outputId": "2f868ffb-e43c-4145-c85f-1d4f0a0b27d7"
   },
   "outputs": [
    {
     "name": "stdout",
     "output_type": "stream",
     "text": [
      "Cloning into 'comment_classifier'...\n",
      "remote: Enumerating objects: 62, done.\u001b[K\n",
      "remote: Counting objects:   1% (1/62)\u001b[K\r",
      "remote: Counting objects:   3% (2/62)\u001b[K\r",
      "remote: Counting objects:   4% (3/62)\u001b[K\r",
      "remote: Counting objects:   6% (4/62)\u001b[K\r",
      "remote: Counting objects:   8% (5/62)\u001b[K\r",
      "remote: Counting objects:   9% (6/62)\u001b[K\r",
      "remote: Counting objects:  11% (7/62)\u001b[K\r",
      "remote: Counting objects:  12% (8/62)\u001b[K\r",
      "remote: Counting objects:  14% (9/62)\u001b[K\r",
      "remote: Counting objects:  16% (10/62)\u001b[K\r",
      "remote: Counting objects:  17% (11/62)\u001b[K\r",
      "remote: Counting objects:  19% (12/62)\u001b[K\r",
      "remote: Counting objects:  20% (13/62)\u001b[K\r",
      "remote: Counting objects:  22% (14/62)\u001b[K\r",
      "remote: Counting objects:  24% (15/62)\u001b[K\r",
      "remote: Counting objects:  25% (16/62)\u001b[K\r",
      "remote: Counting objects:  27% (17/62)\u001b[K\r",
      "remote: Counting objects:  29% (18/62)\u001b[K\r",
      "remote: Counting objects:  30% (19/62)\u001b[K\r",
      "remote: Counting objects:  32% (20/62)\u001b[K\r",
      "remote: Counting objects:  33% (21/62)\u001b[K\r",
      "remote: Counting objects:  35% (22/62)\u001b[K\r",
      "remote: Counting objects:  37% (23/62)\u001b[K\r",
      "remote: Counting objects:  38% (24/62)\u001b[K\r",
      "remote: Counting objects:  40% (25/62)\u001b[K\r",
      "remote: Counting objects:  41% (26/62)\u001b[K\r",
      "remote: Counting objects:  43% (27/62)\u001b[K\r",
      "remote: Counting objects:  45% (28/62)\u001b[K\r",
      "remote: Counting objects:  46% (29/62)\u001b[K\r",
      "remote: Counting objects:  48% (30/62)\u001b[K\r",
      "remote: Counting objects:  50% (31/62)\u001b[K\r",
      "remote: Counting objects:  51% (32/62)\u001b[K\r",
      "remote: Counting objects:  53% (33/62)\u001b[K\r",
      "remote: Counting objects:  54% (34/62)\u001b[K\r",
      "remote: Counting objects:  56% (35/62)\u001b[K\r",
      "remote: Counting objects:  58% (36/62)\u001b[K\r",
      "remote: Counting objects:  59% (37/62)\u001b[K\r",
      "remote: Counting objects:  61% (38/62)\u001b[K\r",
      "remote: Counting objects:  62% (39/62)\u001b[K\r",
      "remote: Counting objects:  64% (40/62)\u001b[K\r",
      "remote: Counting objects:  66% (41/62)\u001b[K\r",
      "remote: Counting objects:  67% (42/62)\u001b[K\r",
      "remote: Counting objects:  69% (43/62)\u001b[K\r",
      "remote: Counting objects:  70% (44/62)\u001b[K\r",
      "remote: Counting objects:  72% (45/62)\u001b[K\r",
      "remote: Counting objects:  74% (46/62)\u001b[K\r",
      "remote: Counting objects:  75% (47/62)\u001b[K\r",
      "remote: Counting objects:  77% (48/62)\u001b[K\r",
      "remote: Counting objects:  79% (49/62)\u001b[K\r",
      "remote: Counting objects:  80% (50/62)\u001b[K\r",
      "remote: Counting objects:  82% (51/62)\u001b[K\r",
      "remote: Counting objects:  83% (52/62)\u001b[K\r",
      "remote: Counting objects:  85% (53/62)\u001b[K\r",
      "remote: Counting objects:  87% (54/62)\u001b[K\r",
      "remote: Counting objects:  88% (55/62)\u001b[K\r",
      "remote: Counting objects:  90% (56/62)\u001b[K\r",
      "remote: Counting objects:  91% (57/62)\u001b[K\r",
      "remote: Counting objects:  93% (58/62)\u001b[K\r",
      "remote: Counting objects:  95% (59/62)\u001b[K\r",
      "remote: Counting objects:  96% (60/62)\u001b[K\r",
      "remote: Counting objects:  98% (61/62)\u001b[K\r",
      "remote: Counting objects: 100% (62/62)\u001b[K\r",
      "remote: Counting objects: 100% (62/62), done.\u001b[K\n",
      "remote: Compressing objects: 100% (54/54), done.\u001b[K\n",
      "remote: Total 62 (delta 15), reused 55 (delta 8), pack-reused 0\u001b[K\n",
      "Unpacking objects: 100% (62/62), done.\n"
     ]
    }
   ],
   "source": [
    "#colab에서 실행 중이라면...\n",
    "!git clone https://github.com/hukim1112/comment_classifier.git\n",
    "import os\n",
    "os.chdir('/content/comment_classifier')"
   ]
  },
  {
   "cell_type": "code",
   "execution_count": 8,
   "metadata": {
    "colab": {
     "base_uri": "https://localhost:8080/",
     "height": 228
    },
    "colab_type": "code",
    "executionInfo": {
     "elapsed": 8239,
     "status": "ok",
     "timestamp": 1571285869084,
     "user": {
      "displayName": "황재익",
      "photoUrl": "",
      "userId": "04432755077897078229"
     },
     "user_tz": -540
    },
    "id": "6wpUpxuukJck",
    "outputId": "a5632259-432e-4585-f91f-0f60c02f88ac"
   },
   "outputs": [
    {
     "name": "stderr",
     "output_type": "stream",
     "text": [
      "/usr/local/lib/python3.6/dist-packages/konlpy/tag/_okt.py:16: UserWarning: \"Twitter\" has changed to \"Okt\" since KoNLPy v0.4.5.\n",
      "  warn('\"Twitter\" has changed to \"Okt\" since KoNLPy v0.4.5.')\n",
      "/usr/local/lib/python3.6/dist-packages/jpype/_core.py:210: UserWarning: \n",
      "-------------------------------------------------------------------------------\n",
      "Deprecated: convertStrings was not specified when starting the JVM. The default\n",
      "behavior in JPype will be False starting in JPype 0.8. The recommended setting\n",
      "for new code is convertStrings=False.  The legacy value of True was assumed for\n",
      "this session. If you are a user of an application that reported this warning,\n",
      "please file a ticket with the developer.\n",
      "-------------------------------------------------------------------------------\n",
      "\n",
      "  \"\"\")\n"
     ]
    }
   ],
   "source": [
    "import tensorflow as tf\n",
    "from konlpy.tag import Twitter\n",
    "from collections import Counter\n",
    "import pandas as pd\n",
    "import numpy as np\n",
    "import gensim\n",
    "from matplotlib import pyplot as plt\n",
    "from data_utils import createBatches, iterate_minibatches\n",
    "import ner\n",
    "keras = tf.keras\n",
    "t = Twitter()"
   ]
  },
  {
   "cell_type": "markdown",
   "metadata": {
    "colab_type": "text",
    "id": "b_cf0cP3kJcm"
   },
   "source": [
    "# 1. read train dataset"
   ]
  },
  {
   "cell_type": "code",
   "execution_count": 0,
   "metadata": {
    "colab": {},
    "colab_type": "code",
    "id": "tK4PsoqMkJcn"
   },
   "outputs": [],
   "source": [
    "file_path = 'train_entity.csv'"
   ]
  },
  {
   "cell_type": "code",
   "execution_count": 0,
   "metadata": {
    "colab": {},
    "colab_type": "code",
    "id": "Q2XV88bIkJcp"
   },
   "outputs": [],
   "source": [
    "with open(file_path, encoding='euc-kr') as f:\n",
    "    tokenized_sentences, labels = [], []\n",
    "    tokenized_sentence, label = [], []\n",
    "    for line in f:\n",
    "        line = line.strip()\n",
    "        if (len(line) == 0 or line.startswith(\"-DOCSTART-\")):\n",
    "            if not len(tokenized_sentence) == 0:\n",
    "                tokenized_sentences.append(tokenized_sentence)\n",
    "                labels.append(label)\n",
    "                tokenized_sentence, label = [], [] #초기화\n",
    "        else:\n",
    "            word, tag = line.split(' ')\n",
    "            tokenized_sentence.append(word)\n",
    "            label.append(tag)"
   ]
  },
  {
   "cell_type": "code",
   "execution_count": 28,
   "metadata": {
    "colab": {
     "base_uri": "https://localhost:8080/",
     "height": 369
    },
    "colab_type": "code",
    "executionInfo": {
     "elapsed": 660,
     "status": "ok",
     "timestamp": 1571287066285,
     "user": {
      "displayName": "황재익",
      "photoUrl": "",
      "userId": "04432755077897078229"
     },
     "user_tz": -540
    },
    "id": "SR-k_dlSkJcr",
    "outputId": "b7f006bd-7bde-45ec-be4d-b7c125ad9c07"
   },
   "outputs": [
    {
     "data": {
      "text/plain": [
       "[['다음', '주', '전주', '비', '오려나'],\n",
       " ['이번', '주', '서울', '눈', '오니'],\n",
       " ['이번', '주', '대구', '날씨', '비', '오는지', '알려줘'],\n",
       " ['부산', '이번', '주', '날씨', '맑은지', '알려줄래'],\n",
       " ['광주', '이번', '주', '눈', '오려나'],\n",
       " ['울산', '이번', '주', '비', '오니'],\n",
       " ['이번', '주', '인천', '날씨', '눈', '오니'],\n",
       " ['이번', '주', '전주', '비', '오는지', '알려줄래'],\n",
       " ['이번', '주', '강릉', '맑아'],\n",
       " ['이번', '주', '속초', '날씨', '맑니'],\n",
       " ['이번', '주', '과천', '눈', '오니'],\n",
       " ['이번', '주', '군산', '비', '오니'],\n",
       " ['다음', '주', '전주', '날씨', '알려줘'],\n",
       " ['이번', '주', '서울', '날씨', '알려줘'],\n",
       " ['이번', '주', '대구', '날씨', '알려줘'],\n",
       " ['이번', '주', '부산', '날씨', '알려줘'],\n",
       " ['이번', '주', '광주', '날씨', '알려줘'],\n",
       " ['이번', '주', '울산', '날씨', '알려줘'],\n",
       " ['이번', '주', '인천', '날씨', '알려줘'],\n",
       " ['이번', '주', '전주', '날씨', '알려줘']]"
      ]
     },
     "execution_count": 28,
     "metadata": {
      "tags": []
     },
     "output_type": "execute_result"
    }
   ],
   "source": [
    "tokenized_sentences[:20]"
   ]
  },
  {
   "cell_type": "markdown",
   "metadata": {
    "colab_type": "text",
    "id": "5cNgKA3wkJcs"
   },
   "source": [
    "# 2. Get vectorizer and fix some data error"
   ]
  },
  {
   "cell_type": "code",
   "execution_count": 0,
   "metadata": {
    "colab": {},
    "colab_type": "code",
    "id": "urn5LJJ1kJct"
   },
   "outputs": [],
   "source": [
    "from vectorizer import BaseVectorizer\n",
    "vectorizer = BaseVectorizer(t.morphs)"
   ]
  },
  {
   "cell_type": "code",
   "execution_count": 30,
   "metadata": {
    "colab": {
     "base_uri": "https://localhost:8080/",
     "height": 52
    },
    "colab_type": "code",
    "executionInfo": {
     "elapsed": 1136,
     "status": "ok",
     "timestamp": 1571287069480,
     "user": {
      "displayName": "황재익",
      "photoUrl": "",
      "userId": "04432755077897078229"
     },
     "user_tz": -540
    },
    "id": "fJLByZ_0kJcv",
    "outputId": "f76abdd8-1292-471a-c94e-2ba7806cf63c"
   },
   "outputs": [
    {
     "name": "stdout",
     "output_type": "stream",
     "text": [
      "tokenized sentence :  ['충남', '논산', '날씨', '말해줄래'] \n",
      " labels :  ['LOCATION', 'LOCATION', 'O', 'O']\n"
     ]
    }
   ],
   "source": [
    "print(\"tokenized sentence : \", tokenized_sentences[1804], '\\n',\n",
    "      \"labels : \", labels[1804])"
   ]
  },
  {
   "cell_type": "code",
   "execution_count": 31,
   "metadata": {
    "colab": {
     "base_uri": "https://localhost:8080/",
     "height": 34
    },
    "colab_type": "code",
    "executionInfo": {
     "elapsed": 857,
     "status": "ok",
     "timestamp": 1571287074381,
     "user": {
      "displayName": "황재익",
      "photoUrl": "",
      "userId": "04432755077897078229"
     },
     "user_tz": -540
    },
    "id": "sS8n3KV3kJcw",
    "outputId": "ffe2c6c8-70c0-4906-f822-7f8b4f8dd2a1"
   },
   "outputs": [
    {
     "data": {
      "text/plain": [
       "['말', '해줄래']"
      ]
     },
     "execution_count": 31,
     "metadata": {
      "tags": []
     },
     "output_type": "execute_result"
    }
   ],
   "source": [
    "vectorizer.tokenizer('말해줄래') #우리 tokenizer와 다른 형태소 분석 형태로 데이터가 구성되어 있음."
   ]
  },
  {
   "cell_type": "code",
   "execution_count": 0,
   "metadata": {
    "colab": {},
    "colab_type": "code",
    "id": "sy7bPY_9kJcy"
   },
   "outputs": [],
   "source": [
    "for ts, label in zip(tokenized_sentences, labels):\n",
    "    for idx, word in enumerate(ts):\n",
    "        if len(vectorizer.tokenizer(word))>1:\n",
    "            tokenized_word = vectorizer.tokenizer(word)\n",
    "            ts.pop(idx)\n",
    "            tag = label.pop(idx)\n",
    "            for i in tokenized_word[::-1]:\n",
    "                ts.insert(idx, i)\n",
    "                label.insert(idx, tag)"
   ]
  },
  {
   "cell_type": "code",
   "execution_count": 33,
   "metadata": {
    "colab": {
     "base_uri": "https://localhost:8080/",
     "height": 34
    },
    "colab_type": "code",
    "executionInfo": {
     "elapsed": 1756,
     "status": "ok",
     "timestamp": 1571287080167,
     "user": {
      "displayName": "황재익",
      "photoUrl": "",
      "userId": "04432755077897078229"
     },
     "user_tz": -540
    },
    "id": "lz_YKX9-kJc1",
    "outputId": "8fcd91a5-eade-4770-8b69-520bf33a6b92"
   },
   "outputs": [
    {
     "data": {
      "text/plain": [
       "['충남', '논산', '날씨', '말', '해줄래']"
      ]
     },
     "execution_count": 33,
     "metadata": {
      "tags": []
     },
     "output_type": "execute_result"
    }
   ],
   "source": [
    "tokenized_sentences[1804]"
   ]
  },
  {
   "cell_type": "code",
   "execution_count": 34,
   "metadata": {
    "colab": {
     "base_uri": "https://localhost:8080/",
     "height": 34
    },
    "colab_type": "code",
    "executionInfo": {
     "elapsed": 857,
     "status": "ok",
     "timestamp": 1571287082527,
     "user": {
      "displayName": "황재익",
      "photoUrl": "",
      "userId": "04432755077897078229"
     },
     "user_tz": -540
    },
    "id": "B4jcSnNPkJc4",
    "outputId": "08c34f2b-20f6-44b8-92e2-f4b8e1450cb2"
   },
   "outputs": [
    {
     "data": {
      "text/plain": [
       "['LOCATION', 'LOCATION', 'O', 'O', 'O']"
      ]
     },
     "execution_count": 34,
     "metadata": {
      "tags": []
     },
     "output_type": "execute_result"
    }
   ],
   "source": [
    "labels[1804]"
   ]
  },
  {
   "cell_type": "code",
   "execution_count": 0,
   "metadata": {
    "colab": {},
    "colab_type": "code",
    "id": "YZrAsn-mkJc6"
   },
   "outputs": [],
   "source": []
  },
  {
   "cell_type": "markdown",
   "metadata": {
    "colab_type": "text",
    "id": "NUZz8IDxkJc7"
   },
   "source": [
    "# 3. Create word vocabulary and char vocabulary"
   ]
  },
  {
   "cell_type": "code",
   "execution_count": 0,
   "metadata": {
    "colab": {},
    "colab_type": "code",
    "id": "pHk_q-MHkJc8"
   },
   "outputs": [],
   "source": [
    "sentences = []\n",
    "for ts in tokenized_sentences:\n",
    "    sentence = ' '.join(ts)\n",
    "    sentences.append(sentence)"
   ]
  },
  {
   "cell_type": "code",
   "execution_count": 36,
   "metadata": {
    "colab": {
     "base_uri": "https://localhost:8080/",
     "height": 70
    },
    "colab_type": "code",
    "executionInfo": {
     "elapsed": 3327,
     "status": "ok",
     "timestamp": 1571287145296,
     "user": {
      "displayName": "황재익",
      "photoUrl": "",
      "userId": "04432755077897078229"
     },
     "user_tz": -540
    },
    "id": "vMEKuEljkJc9",
    "outputId": "c6b2e944-31f0-41cd-89ca-8d559e64440a"
   },
   "outputs": [
    {
     "name": "stdout",
     "output_type": "stream",
     "text": [
      "scanning was done                                        \n",
      "535 terms are recognized\n"
     ]
    },
    {
     "data": {
      "text/plain": [
       "<vectorizer.BaseVectorizer at 0x7f28d47cbef0>"
      ]
     },
     "execution_count": 36,
     "metadata": {
      "tags": []
     },
     "output_type": "execute_result"
    }
   ],
   "source": [
    "vectorizer.fit(sentences) #create word vocabulary from docs"
   ]
  },
  {
   "cell_type": "code",
   "execution_count": 0,
   "metadata": {
    "colab": {},
    "colab_type": "code",
    "id": "243yWBhtkJc_"
   },
   "outputs": [],
   "source": [
    "vectorizer.get_char2idx() \n",
    "#create dictionary for converting char into index"
   ]
  },
  {
   "cell_type": "code",
   "execution_count": 38,
   "metadata": {
    "colab": {
     "base_uri": "https://localhost:8080/",
     "height": 54
    },
    "colab_type": "code",
    "executionInfo": {
     "elapsed": 873,
     "status": "ok",
     "timestamp": 1571287157330,
     "user": {
      "displayName": "황재익",
      "photoUrl": "",
      "userId": "04432755077897078229"
     },
     "user_tz": -540
    },
    "id": "OM-fq3kIkJdC",
    "outputId": "288a34aa-7c10-48dc-c585-d37e4ba1e14d"
   },
   "outputs": [
    {
     "name": "stdout",
     "output_type": "stream",
     "text": [
      "{'_PAD_': 0, '_UNK_': 1, '_': 2, 'P': 3, 'A': 4, 'D': 5, 'U': 6, 'N': 7, 'K': 8, 'S': 9, 'T': 10, 'E': 11, 'O': 12, '날': 13, '씨': 14, '우': 15, '산': 16, '하': 17, '니': 18, '내': 19, '일': 20, '오': 21, '늘': 22, '써': 23, '야': 24, '주': 25, '알': 26, '려': 27, '줘': 28, '이': 29, '번': 30, '모': 31, '레': 32, '말': 33, '줄': 34, '래': 35, '마': 36, '스': 37, '크': 38, '비': 39, '챙': 40, '길': 41, '까': 42, '해': 43, '세': 44, '요': 45, '울': 46, '옷': 47, '입': 48, '을': 49, '어': 50, '상': 51, '태': 52, '전': 53, '서': 54, '쓸': 55, '부': 56, '광': 57, '떠': 58, '뭐': 59, '공': 60, '기': 61, '눈': 62, '북': 63, '지': 64, '좀': 65, '인': 66, '천': 67, '군': 68, '좋': 69, '쓰': 70, '고': 71, '민': 72, '다': 73, '음': 74, '돼': 75, '겨': 76, '때': 77, '나': 78, '뭔': 79, '맑': 80, '있': 81, '양': 82, '대': 83, '구': 84, '라': 85, '바': 86, '람': 87, '강': 88, '릉': 89, '경': 90, '도': 91, '원': 92, '포': 93, '싫': 94, '은': 95, '데': 96, '는': 97, '수': 98, '아': 99, '남': 100, '시': 101, '충': 102, '청': 103, '떤': 104, '미': 105, '먼': 106, '속': 107, '초': 108, '과': 109, '안': 110, '완': 111, '불': 112, '삼': 113, '례': 114, '동': 115, '신': 116, '촌': 117, '종': 118, '로': 119, '여': 120, '의': 121, '창': 122, '암': 123, '리': 124, '진': 125, '횡': 126, '성': 127, '척': 128, '령': 129, '제': 130, '많': 131, '평': 132, '택': 133, '중': 134, '무': 135, '1': 136, '2': 137, '월': 138, '금': 139, '룡': 140, '김': 141, '노': 142, '당': 143, '예': 144, '홍': 145, '정': 146, '짜': 147, '역': 148, '옥': 149, '면': 150, '장': 151, '순': 152, '9': 153, '관': 154, '악': 155, '두': 156, '흥': 157, '화': 158, '용': 159, '영': 160, '등': 161, '송': 162, '파': 163, '봉': 164, '단': 165, '임': 166, '실': 167, '항': 168, '문': 169, '사': 170, '녕': 171, '농': 172, '8': 173, '3': 174, '괴': 175, '되': 176, '네': 177, '달': 178, '춘': 179, '특': 180, '별': 181, '명': 182, '왕': 183, '작': 184, '백': 185, '선': 186, '보': 187, '증': 188, '읍': 189, '논': 190, '계': 191, '익': 192, '곡': 193, '함': 194, '목': 195, '담': 196, '위': 197, '덕': 198, '거': 199, '0': 200, '통': 201, '합': 202, '밀': 203, '한': 204, '림': 205, '애': 206, '좌': 207, '5': 208, '7': 209, '6': 210, '반': 211, '조': 212, '운': 213, '가': 214, '분': 215, '겠': 216, '철': 217, '칠': 218, '4': 219, '귀': 220, '표': 221, '류': 222, '황': 223, '연': 224, '희': 225, '검': 226, '효': 227, '앙': 228, '복': 229, '유': 230, '자': 231, '치': 232, '십': 233, '퍼': 234}\n"
     ]
    }
   ],
   "source": [
    "print(vectorizer.char2idx)"
   ]
  },
  {
   "cell_type": "code",
   "execution_count": 0,
   "metadata": {
    "colab": {},
    "colab_type": "code",
    "id": "JJV01T-4kJdE"
   },
   "outputs": [],
   "source": [
    "label2idx = {}\n",
    "idx2label = []\n",
    "for label in labels:\n",
    "    for l in label:\n",
    "        if l not in label2idx:\n",
    "            label2idx[l] = len(label2idx)\n",
    "            idx2label.append(l)"
   ]
  },
  {
   "cell_type": "code",
   "execution_count": 40,
   "metadata": {
    "colab": {
     "base_uri": "https://localhost:8080/",
     "height": 34
    },
    "colab_type": "code",
    "executionInfo": {
     "elapsed": 1147,
     "status": "ok",
     "timestamp": 1571287223542,
     "user": {
      "displayName": "황재익",
      "photoUrl": "",
      "userId": "04432755077897078229"
     },
     "user_tz": -540
    },
    "id": "8k5wHCvLkJdJ",
    "outputId": "8315e254-b08f-4f4e-8085-410ec481fdc5"
   },
   "outputs": [
    {
     "name": "stdout",
     "output_type": "stream",
     "text": [
      "{'DATE': 0, 'LOCATION': 1, 'O': 2} ['DATE', 'LOCATION', 'O']\n"
     ]
    }
   ],
   "source": [
    "print(label2idx, idx2label)"
   ]
  },
  {
   "cell_type": "markdown",
   "metadata": {
    "colab_type": "text",
    "id": "Laf-2TI1kJdL"
   },
   "source": [
    "# 4. Prepare dataset for training"
   ]
  },
  {
   "cell_type": "code",
   "execution_count": 0,
   "metadata": {
    "colab": {},
    "colab_type": "code",
    "id": "E1s8I8WOkJdM"
   },
   "outputs": [],
   "source": [
    "MAX_LENGTH = 15\n",
    "\n",
    "def padding_char_indice(char_indice, MAX_LENGTH):\n",
    "    return tf.keras.preprocessing.sequence.pad_sequences(\n",
    "      char_indice, maxlen=MAX_LENGTH, padding='post', \n",
    "      value = vectorizer.char2idx['_PAD_'])\n",
    "    \n",
    "\n",
    "def integer_coding(tokenized_sentences, labels):\n",
    "    dataset = []\n",
    "    for ts, label in zip(tokenized_sentences, labels):\n",
    "        word_indice = [vectorizer.vocabulary_[t] for t in ts]\n",
    "        char_indice = [[vectorizer.char2idx[char] for char in t]  \n",
    "                                                     for t in ts]\n",
    "        char_indice = padding_char_indice(char_indice, MAX_LENGTH)\n",
    "        label_indice = [label2idx[l] for l in label]\n",
    "    \n",
    "        for chars_of_token in char_indice:\n",
    "            if len(chars_of_token)>MAX_LENGTH:\n",
    "                print(\"최대 단어 길이 초과!\")\n",
    "                continue\n",
    "        dataset.append([word_indice, char_indice, label_indice])\n",
    "    return dataset"
   ]
  },
  {
   "cell_type": "code",
   "execution_count": 0,
   "metadata": {
    "colab": {},
    "colab_type": "code",
    "id": "jJRUWtG3kJdN"
   },
   "outputs": [],
   "source": [
    "dataset = integer_coding(tokenized_sentences, labels)"
   ]
  },
  {
   "cell_type": "code",
   "execution_count": 0,
   "metadata": {
    "colab": {},
    "colab_type": "code",
    "id": "wC-J8jSqkJdQ"
   },
   "outputs": [],
   "source": [
    "word_indice, char_indice, label_indice = dataset[0]"
   ]
  },
  {
   "cell_type": "code",
   "execution_count": 44,
   "metadata": {
    "colab": {
     "base_uri": "https://localhost:8080/",
     "height": 34
    },
    "colab_type": "code",
    "executionInfo": {
     "elapsed": 569,
     "status": "ok",
     "timestamp": 1571287433609,
     "user": {
      "displayName": "황재익",
      "photoUrl": "",
      "userId": "04432755077897078229"
     },
     "user_tz": -540
    },
    "id": "1GfUK2IjkJdR",
    "outputId": "114afe2f-f9d1-4be7-f75c-64130b72ac66"
   },
   "outputs": [
    {
     "data": {
      "text/plain": [
       "[49, 10, 27, 17, 55]"
      ]
     },
     "execution_count": 44,
     "metadata": {
      "tags": []
     },
     "output_type": "execute_result"
    }
   ],
   "source": [
    "word_indice"
   ]
  },
  {
   "cell_type": "code",
   "execution_count": 45,
   "metadata": {
    "colab": {
     "base_uri": "https://localhost:8080/",
     "height": 34
    },
    "colab_type": "code",
    "executionInfo": {
     "elapsed": 1044,
     "status": "ok",
     "timestamp": 1571287439364,
     "user": {
      "displayName": "황재익",
      "photoUrl": "",
      "userId": "04432755077897078229"
     },
     "user_tz": -540
    },
    "id": "3jumpmc8kJdT",
    "outputId": "e4fed5cc-d2be-4585-d176-7569fa7c2824"
   },
   "outputs": [
    {
     "data": {
      "text/plain": [
       "['다음', '주', '전주', '비', '오려나']"
      ]
     },
     "execution_count": 45,
     "metadata": {
      "tags": []
     },
     "output_type": "execute_result"
    }
   ],
   "source": [
    "vectorizer.decode_from_list(word_indice)"
   ]
  },
  {
   "cell_type": "code",
   "execution_count": 46,
   "metadata": {
    "colab": {
     "base_uri": "https://localhost:8080/",
     "height": 34
    },
    "colab_type": "code",
    "executionInfo": {
     "elapsed": 840,
     "status": "ok",
     "timestamp": 1571287439365,
     "user": {
      "displayName": "황재익",
      "photoUrl": "",
      "userId": "04432755077897078229"
     },
     "user_tz": -540
    },
    "id": "JUgKM6M4kJdU",
    "outputId": "430b19c2-3b6a-4303-b6c1-9b0ea7a0bb48"
   },
   "outputs": [
    {
     "data": {
      "text/plain": [
       "[0, 0, 1, 2, 2]"
      ]
     },
     "execution_count": 46,
     "metadata": {
      "tags": []
     },
     "output_type": "execute_result"
    }
   ],
   "source": [
    "label_indice"
   ]
  },
  {
   "cell_type": "code",
   "execution_count": 47,
   "metadata": {
    "colab": {
     "base_uri": "https://localhost:8080/",
     "height": 34
    },
    "colab_type": "code",
    "executionInfo": {
     "elapsed": 943,
     "status": "ok",
     "timestamp": 1571287441674,
     "user": {
      "displayName": "황재익",
      "photoUrl": "",
      "userId": "04432755077897078229"
     },
     "user_tz": -540
    },
    "id": "q5QqD1QhkJdX",
    "outputId": "8616f225-9232-49bb-825a-9ce6d12d079b"
   },
   "outputs": [
    {
     "data": {
      "text/plain": [
       "['DATE', 'DATE', 'LOCATION', 'O', 'O']"
      ]
     },
     "execution_count": 47,
     "metadata": {
      "tags": []
     },
     "output_type": "execute_result"
    }
   ],
   "source": [
    "[idx2label[l] for l in label_indice]"
   ]
  },
  {
   "cell_type": "code",
   "execution_count": 48,
   "metadata": {
    "colab": {
     "base_uri": "https://localhost:8080/",
     "height": 122
    },
    "colab_type": "code",
    "executionInfo": {
     "elapsed": 542,
     "status": "ok",
     "timestamp": 1571287442741,
     "user": {
      "displayName": "황재익",
      "photoUrl": "",
      "userId": "04432755077897078229"
     },
     "user_tz": -540
    },
    "id": "G_oh5gyokJda",
    "outputId": "a68cd783-d63a-4d5e-b387-41a4a8c45f44"
   },
   "outputs": [
    {
     "data": {
      "text/plain": [
       "array([[73, 74,  0,  0,  0,  0,  0,  0,  0,  0,  0,  0,  0,  0,  0],\n",
       "       [25,  0,  0,  0,  0,  0,  0,  0,  0,  0,  0,  0,  0,  0,  0],\n",
       "       [53, 25,  0,  0,  0,  0,  0,  0,  0,  0,  0,  0,  0,  0,  0],\n",
       "       [39,  0,  0,  0,  0,  0,  0,  0,  0,  0,  0,  0,  0,  0,  0],\n",
       "       [21, 27, 78,  0,  0,  0,  0,  0,  0,  0,  0,  0,  0,  0,  0]],\n",
       "      dtype=int32)"
      ]
     },
     "execution_count": 48,
     "metadata": {
      "tags": []
     },
     "output_type": "execute_result"
    }
   ],
   "source": [
    "char_indice"
   ]
  },
  {
   "cell_type": "markdown",
   "metadata": {
    "colab_type": "text",
    "id": "cCf0BCGUkJde"
   },
   "source": [
    "### save vocabularies"
   ]
  },
  {
   "cell_type": "code",
   "execution_count": 0,
   "metadata": {
    "colab": {},
    "colab_type": "code",
    "id": "IPqgD6hykJdf"
   },
   "outputs": [],
   "source": [
    "import os\n",
    "os.makedirs(\"./models\", exist_ok=True)\n",
    "np.save(\"models/idx2Label.npy\",idx2label)\n",
    "np.save(\"models/word2Idx.npy\",vectorizer.vocabulary_)\n",
    "np.save(\"models/char2Idx.npy\",vectorizer.char2idx)"
   ]
  },
  {
   "cell_type": "markdown",
   "metadata": {
    "colab_type": "text",
    "id": "jflO3ZdfkJdj"
   },
   "source": [
    "# 5. Training"
   ]
  },
  {
   "cell_type": "code",
   "execution_count": 0,
   "metadata": {
    "colab": {},
    "colab_type": "code",
    "id": "Gvegf_zDkJdk"
   },
   "outputs": [],
   "source": [
    "train_batch,train_batch_len = createBatches(dataset)"
   ]
  },
  {
   "cell_type": "code",
   "execution_count": 51,
   "metadata": {
    "colab": {
     "base_uri": "https://localhost:8080/",
     "height": 175
    },
    "colab_type": "code",
    "executionInfo": {
     "elapsed": 619,
     "status": "ok",
     "timestamp": 1571287660152,
     "user": {
      "displayName": "황재익",
      "photoUrl": "",
      "userId": "04432755077897078229"
     },
     "user_tz": -540
    },
    "id": "qijVRv74kJdm",
    "outputId": "f9f32e57-5c39-49f7-fc89-e8b86e8bee7d"
   },
   "outputs": [
    {
     "name": "stdout",
     "output_type": "stream",
     "text": [
      "(86, 2)\n",
      "(637, 3)\n",
      "(1043, 4)\n",
      "(1509, 5)\n",
      "(399, 6)\n",
      "(157, 7)\n",
      "(14, 8)\n",
      "(4, 9)\n",
      "(2, 24)\n"
     ]
    }
   ],
   "source": [
    "for i,batch in enumerate(iterate_minibatches(train_batch,train_batch_len)):\n",
    "        labels, tokens ,char = batch\n",
    "        print(tokens.shape)"
   ]
  },
  {
   "cell_type": "code",
   "execution_count": 0,
   "metadata": {
    "colab": {},
    "colab_type": "code",
    "id": "Kg31ODCrkJdo"
   },
   "outputs": [],
   "source": [
    "from tensorflow.keras.layers import Embedding, TimeDistributed, Dropout, concatenate, Bidirectional, LSTM, Conv1D, Dense, MaxPooling1D, Flatten\n",
    "from tensorflow.keras import Input, Model\n",
    "from tensorflow.keras.initializers import RandomUniform\n",
    "from tensorflow.keras.utils import Progbar"
   ]
  },
  {
   "cell_type": "code",
   "execution_count": 53,
   "metadata": {
    "colab": {
     "base_uri": "https://localhost:8080/",
     "height": 598
    },
    "colab_type": "code",
    "executionInfo": {
     "elapsed": 2030,
     "status": "ok",
     "timestamp": 1571287662018,
     "user": {
      "displayName": "황재익",
      "photoUrl": "",
      "userId": "04432755077897078229"
     },
     "user_tz": -540
    },
    "id": "CMw9hvd2kJdq",
    "outputId": "f22ca234-0740-4608-a129-35a6865be32b"
   },
   "outputs": [
    {
     "name": "stdout",
     "output_type": "stream",
     "text": [
      "Model: \"model\"\n",
      "__________________________________________________________________________________________________\n",
      "Layer (type)                    Output Shape         Param #     Connected to                     \n",
      "==================================================================================================\n",
      "char_input (InputLayer)         [(None, None, 15)]   0                                            \n",
      "__________________________________________________________________________________________________\n",
      "char_embedding (TimeDistributed (None, None, 15, 30) 7050        char_input[0][0]                 \n",
      "__________________________________________________________________________________________________\n",
      "dropout (Dropout)               (None, None, 15, 30) 0           char_embedding[0][0]             \n",
      "__________________________________________________________________________________________________\n",
      "time_distributed (TimeDistribut (None, None, 15, 30) 2730        dropout[0][0]                    \n",
      "__________________________________________________________________________________________________\n",
      "time_distributed_1 (TimeDistrib (None, None, 1, 30)  0           time_distributed[0][0]           \n",
      "__________________________________________________________________________________________________\n",
      "words_input (InputLayer)        [(None, None)]       0                                            \n",
      "__________________________________________________________________________________________________\n",
      "time_distributed_2 (TimeDistrib (None, None, 30)     0           time_distributed_1[0][0]         \n",
      "__________________________________________________________________________________________________\n",
      "embedding (Embedding)           (None, None, 64)     34240       words_input[0][0]                \n",
      "__________________________________________________________________________________________________\n",
      "dropout_1 (Dropout)             (None, None, 30)     0           time_distributed_2[0][0]         \n",
      "__________________________________________________________________________________________________\n",
      "concatenate (Concatenate)       (None, None, 94)     0           embedding[0][0]                  \n",
      "                                                                 dropout_1[0][0]                  \n",
      "__________________________________________________________________________________________________\n",
      "bidirectional (Bidirectional)   (None, None, 400)    472000      concatenate[0][0]                \n",
      "__________________________________________________________________________________________________\n",
      "time_distributed_3 (TimeDistrib (None, None, 3)      1203        bidirectional[0][0]              \n",
      "==================================================================================================\n",
      "Total params: 517,223\n",
      "Trainable params: 517,223\n",
      "Non-trainable params: 0\n",
      "__________________________________________________________________________________________________\n"
     ]
    }
   ],
   "source": [
    "words_input = Input(shape=(None,),dtype='int32',name='words_input')\n",
    "words = Embedding(input_dim=len(vectorizer.vocabulary_), output_dim=64)(words_input)\n",
    "character_input=Input(shape=(None,MAX_LENGTH,),name='char_input')\n",
    "embed_char_out=TimeDistributed(Embedding(len(vectorizer.char2idx),30,embeddings_initializer=RandomUniform(minval=-0.5, maxval=0.5)), name='char_embedding')(character_input)\n",
    "dropout= Dropout(0.5)(embed_char_out)\n",
    "conv1d_out= TimeDistributed(Conv1D(kernel_size=3, filters=30, padding='same',activation='tanh', strides=1))(dropout)\n",
    "maxpool_out=TimeDistributed(MaxPooling1D(MAX_LENGTH))(conv1d_out)\n",
    "char = TimeDistributed(Flatten())(maxpool_out)\n",
    "char = Dropout(0.5)(char)\n",
    "output = concatenate([words, char])\n",
    "output = Bidirectional(LSTM(200, return_sequences=True, dropout=0.50, recurrent_dropout=0.25))(output)\n",
    "output = TimeDistributed(Dense(len(label2idx), activation='softmax'))(output)\n",
    "model = Model(inputs=[words_input,character_input], outputs=[output])\n",
    "model.compile(loss='sparse_categorical_crossentropy', optimizer='nadam')\n",
    "model.summary()"
   ]
  },
  {
   "cell_type": "code",
   "execution_count": 0,
   "metadata": {
    "colab": {},
    "colab_type": "code",
    "id": "xv4AtU1WkJdt"
   },
   "outputs": [],
   "source": [
    "#tf.keras.utils.plot_model(model, 'model.png')"
   ]
  },
  {
   "cell_type": "code",
   "execution_count": 0,
   "metadata": {
    "colab": {},
    "colab_type": "code",
    "id": "JXeSpeRZkJdu"
   },
   "outputs": [],
   "source": [
    "epochs = 20\n",
    "\n",
    "for epoch in range(epochs):    \n",
    "    print(\"Epoch %d/%d\"%(epoch,epochs))\n",
    "    a = Progbar(len(train_batch_len))\n",
    "    for i,batch in enumerate(iterate_minibatches(train_batch,train_batch_len)):\n",
    "        labels, tokens, char = batch       \n",
    "        model.train_on_batch([tokens, char], labels)\n",
    "        a.update(i)\n",
    "    a.update(i+1)\n",
    "    print(' ')"
   ]
  },
  {
   "cell_type": "code",
   "execution_count": 0,
   "metadata": {
    "colab": {},
    "colab_type": "code",
    "id": "gT_0vaK5kJdw"
   },
   "outputs": [],
   "source": [
    "model.save(\"models/model.h5\")"
   ]
  },
  {
   "cell_type": "markdown",
   "metadata": {
    "colab_type": "text",
    "id": "T8Up1TgskJdx"
   },
   "source": [
    "# 6. Prediction"
   ]
  },
  {
   "cell_type": "code",
   "execution_count": 57,
   "metadata": {
    "colab": {
     "base_uri": "https://localhost:8080/",
     "height": 334
    },
    "colab_type": "code",
    "executionInfo": {
     "elapsed": 3702,
     "status": "error",
     "timestamp": 1571288006184,
     "user": {
      "displayName": "황재익",
      "photoUrl": "",
      "userId": "04432755077897078229"
     },
     "user_tz": -540
    },
    "id": "nDAvnLr9kJdy",
    "outputId": "07d5e9c2-1fc5-4df8-8840-88dea38779b6"
   },
   "outputs": [
    {
     "ename": "ValueError",
     "evalue": "ignored",
     "output_type": "error",
     "traceback": [
      "\u001b[0;31m---------------------------------------------------------------------------\u001b[0m",
      "\u001b[0;31mValueError\u001b[0m                                Traceback (most recent call last)",
      "\u001b[0;32m<ipython-input-57-d718c805425b>\u001b[0m in \u001b[0;36m<module>\u001b[0;34m()\u001b[0m\n\u001b[1;32m      1\u001b[0m \u001b[0mner_parser\u001b[0m \u001b[0;34m=\u001b[0m \u001b[0mner\u001b[0m\u001b[0;34m.\u001b[0m\u001b[0mParser\u001b[0m\u001b[0;34m(\u001b[0m\u001b[0mt\u001b[0m\u001b[0;34m.\u001b[0m\u001b[0mmorphs\u001b[0m\u001b[0;34m)\u001b[0m\u001b[0;34m\u001b[0m\u001b[0;34m\u001b[0m\u001b[0m\n\u001b[0;32m----> 2\u001b[0;31m \u001b[0mner_parser\u001b[0m\u001b[0;34m.\u001b[0m\u001b[0mload_models\u001b[0m\u001b[0;34m(\u001b[0m\u001b[0;34m)\u001b[0m\u001b[0;34m\u001b[0m\u001b[0;34m\u001b[0m\u001b[0m\n\u001b[0m",
      "\u001b[0;32m/content/comment_classifier/ner.py\u001b[0m in \u001b[0;36mload_models\u001b[0;34m(self, loc)\u001b[0m\n\u001b[1;32m     16\u001b[0m             \u001b[0mself\u001b[0m\u001b[0;34m.\u001b[0m\u001b[0mmodel\u001b[0m \u001b[0;34m=\u001b[0m \u001b[0mload_model\u001b[0m\u001b[0;34m(\u001b[0m\u001b[0;34m\"models/model.h5\"\u001b[0m\u001b[0;34m)\u001b[0m\u001b[0;34m\u001b[0m\u001b[0;34m\u001b[0m\u001b[0m\n\u001b[1;32m     17\u001b[0m             \u001b[0;31m# loading word2Idx\u001b[0m\u001b[0;34m\u001b[0m\u001b[0;34m\u001b[0m\u001b[0;34m\u001b[0m\u001b[0m\n\u001b[0;32m---> 18\u001b[0;31m             \u001b[0mself\u001b[0m\u001b[0;34m.\u001b[0m\u001b[0mword2Idx\u001b[0m \u001b[0;34m=\u001b[0m \u001b[0mnp\u001b[0m\u001b[0;34m.\u001b[0m\u001b[0mload\u001b[0m\u001b[0;34m(\u001b[0m\u001b[0;34m\"models/word2Idx.npy\"\u001b[0m\u001b[0;34m)\u001b[0m\u001b[0;34m.\u001b[0m\u001b[0mitem\u001b[0m\u001b[0;34m(\u001b[0m\u001b[0;34m)\u001b[0m\u001b[0;34m\u001b[0m\u001b[0;34m\u001b[0m\u001b[0m\n\u001b[0m\u001b[1;32m     19\u001b[0m             \u001b[0;31m# loading idx2Label\u001b[0m\u001b[0;34m\u001b[0m\u001b[0;34m\u001b[0m\u001b[0;34m\u001b[0m\u001b[0m\n\u001b[1;32m     20\u001b[0m             \u001b[0mself\u001b[0m\u001b[0;34m.\u001b[0m\u001b[0midx2Label\u001b[0m \u001b[0;34m=\u001b[0m \u001b[0mnp\u001b[0m\u001b[0;34m.\u001b[0m\u001b[0mload\u001b[0m\u001b[0;34m(\u001b[0m\u001b[0;34m\"models/idx2Label.npy\"\u001b[0m\u001b[0;34m)\u001b[0m\u001b[0;34m\u001b[0m\u001b[0;34m\u001b[0m\u001b[0m\n",
      "\u001b[0;32m/usr/local/lib/python3.6/dist-packages/numpy/lib/npyio.py\u001b[0m in \u001b[0;36mload\u001b[0;34m(file, mmap_mode, allow_pickle, fix_imports, encoding)\u001b[0m\n\u001b[1;32m    445\u001b[0m                                  \"when allow_pickle=False\")\n\u001b[1;32m    446\u001b[0m             \u001b[0;32mtry\u001b[0m\u001b[0;34m:\u001b[0m\u001b[0;34m\u001b[0m\u001b[0;34m\u001b[0m\u001b[0m\n\u001b[0;32m--> 447\u001b[0;31m                 \u001b[0;32mreturn\u001b[0m \u001b[0mpickle\u001b[0m\u001b[0;34m.\u001b[0m\u001b[0mload\u001b[0m\u001b[0;34m(\u001b[0m\u001b[0mfid\u001b[0m\u001b[0;34m,\u001b[0m \u001b[0;34m**\u001b[0m\u001b[0mpickle_kwargs\u001b[0m\u001b[0;34m)\u001b[0m\u001b[0;34m\u001b[0m\u001b[0;34m\u001b[0m\u001b[0m\n\u001b[0m\u001b[1;32m    448\u001b[0m             \u001b[0;32mexcept\u001b[0m \u001b[0mException\u001b[0m\u001b[0;34m:\u001b[0m\u001b[0;34m\u001b[0m\u001b[0;34m\u001b[0m\u001b[0m\n\u001b[1;32m    449\u001b[0m                 raise IOError(\n",
      "\u001b[0;32m/usr/local/lib/python3.6/dist-packages/numpy/lib/format.py\u001b[0m in \u001b[0;36mread_array\u001b[0;34m(fp, allow_pickle, pickle_kwargs)\u001b[0m\n\u001b[1;32m    694\u001b[0m         \u001b[0;32mexcept\u001b[0m \u001b[0mUnicodeError\u001b[0m \u001b[0;32mas\u001b[0m \u001b[0merr\u001b[0m\u001b[0;34m:\u001b[0m\u001b[0;34m\u001b[0m\u001b[0;34m\u001b[0m\u001b[0m\n\u001b[1;32m    695\u001b[0m             \u001b[0;32mif\u001b[0m \u001b[0msys\u001b[0m\u001b[0;34m.\u001b[0m\u001b[0mversion_info\u001b[0m\u001b[0;34m[\u001b[0m\u001b[0;36m0\u001b[0m\u001b[0;34m]\u001b[0m \u001b[0;34m>=\u001b[0m \u001b[0;36m3\u001b[0m\u001b[0;34m:\u001b[0m\u001b[0;34m\u001b[0m\u001b[0;34m\u001b[0m\u001b[0m\n\u001b[0;32m--> 696\u001b[0;31m                 \u001b[0;31m# Friendlier error message\u001b[0m\u001b[0;34m\u001b[0m\u001b[0;34m\u001b[0m\u001b[0;34m\u001b[0m\u001b[0m\n\u001b[0m\u001b[1;32m    697\u001b[0m                 raise UnicodeError(\"Unpickling a python object failed: %r\\n\"\n\u001b[1;32m    698\u001b[0m                                    \u001b[0;34m\"You may need to pass the encoding= option \"\u001b[0m\u001b[0;34m\u001b[0m\u001b[0;34m\u001b[0m\u001b[0m\n",
      "\u001b[0;31mValueError\u001b[0m: Object arrays cannot be loaded when allow_pickle=False"
     ]
    }
   ],
   "source": [
    "ner_parser = ner.Parser(t.morphs)\n",
    "ner_parser.load_models()"
   ]
  },
  {
   "cell_type": "code",
   "execution_count": 0,
   "metadata": {
    "colab": {},
    "colab_type": "code",
    "id": "fRDaqva7kJdz"
   },
   "outputs": [],
   "source": [
    "ner_parser.predict('내일 부산 날씨는?')"
   ]
  },
  {
   "cell_type": "code",
   "execution_count": 0,
   "metadata": {
    "colab": {},
    "colab_type": "code",
    "id": "xZDyCXipkJd0"
   },
   "outputs": [],
   "source": [
    "ner_parser.predict('오늘 서울 날씨 어때?')"
   ]
  },
  {
   "cell_type": "code",
   "execution_count": 0,
   "metadata": {
    "colab": {},
    "colab_type": "code",
    "id": "Ldksr8LUkJd2"
   },
   "outputs": [],
   "source": [
    "ner_parser.predict('9월 15일 수유동 날씨 궁금해')"
   ]
  },
  {
   "cell_type": "code",
   "execution_count": 0,
   "metadata": {
    "colab": {},
    "colab_type": "code",
    "id": "xgpCGRyyEDGB"
   },
   "outputs": [],
   "source": []
  }
 ],
 "metadata": {
  "colab": {
   "name": "Named_entity_recognition.ipynb의 사본",
   "provenance": [
    {
     "file_id": "https://github.com/hukim1112/comment_classifier/blob/master/Named_entity_recognition.ipynb",
     "timestamp": 1571279643533
    }
   ]
  },
  "kernelspec": {
   "display_name": "Python 3",
   "language": "python",
   "name": "python3"
  },
  "language_info": {
   "codemirror_mode": {
    "name": "ipython",
    "version": 3
   },
   "file_extension": ".py",
   "mimetype": "text/x-python",
   "name": "python",
   "nbconvert_exporter": "python",
   "pygments_lexer": "ipython3",
   "version": "3.7.0"
  }
 },
 "nbformat": 4,
 "nbformat_minor": 1
}
