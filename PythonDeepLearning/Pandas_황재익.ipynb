{
 "cells": [
  {
   "cell_type": "markdown",
   "metadata": {
    "colab_type": "text",
    "id": "XRt4mU-aBMfT"
   },
   "source": [
    "# Pandas\n",
    "파이썬 데이터 분석의 3대 라이브러리: \n",
    "* Numpy : 배열, 행열을 다룸\n",
    "* Pandas : 엑셀과 같은 데이터프레임을 다룸\n",
    "* Matplotlib : 시각화"
   ]
  },
  {
   "cell_type": "code",
   "execution_count": 0,
   "metadata": {
    "colab": {},
    "colab_type": "code",
    "id": "lMX-vsIuBjEW"
   },
   "outputs": [],
   "source": [
    "# pandas 사용하기\n",
    "import numpy as np\n",
    "import pandas as pd\n"
   ]
  },
  {
   "cell_type": "code",
   "execution_count": 0,
   "metadata": {
    "colab": {},
    "colab_type": "code",
    "id": "oYSidP0HB1fl"
   },
   "outputs": [],
   "source": [
    "# 2. Pandas 자료구조\n",
    "# Pandas 에서는 기본적으로 정의되는 자료구조인 Series와 Data Frame을 사용한다.\n",
    "# 이 자료구조들은 빅 데이터 분석에 있어서 높은 수준의 성능을 보여준다."
   ]
  },
  {
   "cell_type": "code",
   "execution_count": 0,
   "metadata": {
    "colab": {},
    "colab_type": "code",
    "id": "JuOjbYnYCCsa"
   },
   "outputs": [],
   "source": [
    "# 2-1. Series"
   ]
  },
  {
   "cell_type": "code",
   "execution_count": 0,
   "metadata": {
    "colab": {
     "base_uri": "https://localhost:8080/",
     "height": 105
    },
    "colab_type": "code",
    "executionInfo": {
     "elapsed": 1427,
     "status": "ok",
     "timestamp": 1568162354211,
     "user": {
      "displayName": "황재익",
      "photoUrl": "",
      "userId": "04432755077897078229"
     },
     "user_tz": -540
    },
    "id": "2tWcOtJ1CFgc",
    "outputId": "43947725-93e8-40c6-aafa-af77c09ca3b3"
   },
   "outputs": [
    {
     "data": {
      "text/plain": [
       "0    4\n",
       "1    7\n",
       "2   -5\n",
       "3    3\n",
       "dtype: int64"
      ]
     },
     "execution_count": 4,
     "metadata": {
      "tags": []
     },
     "output_type": "execute_result"
    }
   ],
   "source": [
    "# Series 정의하기\n",
    "obj = pd.Series([4,7,-5,3])\n",
    "obj"
   ]
  },
  {
   "cell_type": "code",
   "execution_count": 0,
   "metadata": {
    "colab": {
     "base_uri": "https://localhost:8080/",
     "height": 34
    },
    "colab_type": "code",
    "executionInfo": {
     "elapsed": 1980,
     "status": "ok",
     "timestamp": 1568162355315,
     "user": {
      "displayName": "황재익",
      "photoUrl": "",
      "userId": "04432755077897078229"
     },
     "user_tz": -540
    },
    "id": "I0dtIwCKCLnq",
    "outputId": "f545ac89-3950-4963-c5a9-2f0f945c3eba"
   },
   "outputs": [
    {
     "data": {
      "text/plain": [
       "array([ 4,  7, -5,  3])"
      ]
     },
     "execution_count": 5,
     "metadata": {
      "tags": []
     },
     "output_type": "execute_result"
    }
   ],
   "source": [
    "# Series의 값만 확인하기\n",
    "obj.values"
   ]
  },
  {
   "cell_type": "code",
   "execution_count": 0,
   "metadata": {
    "colab": {
     "base_uri": "https://localhost:8080/",
     "height": 34
    },
    "colab_type": "code",
    "executionInfo": {
     "elapsed": 1907,
     "status": "ok",
     "timestamp": 1568162356291,
     "user": {
      "displayName": "황재익",
      "photoUrl": "",
      "userId": "04432755077897078229"
     },
     "user_tz": -540
    },
    "id": "SgwaQhTyCP_4",
    "outputId": "bc7d7160-9369-45da-d170-a592570f7737"
   },
   "outputs": [
    {
     "data": {
      "text/plain": [
       "RangeIndex(start=0, stop=4, step=1)"
      ]
     },
     "execution_count": 6,
     "metadata": {
      "tags": []
     },
     "output_type": "execute_result"
    }
   ],
   "source": [
    "# Series의 인덱스만 확인하기\n",
    "obj.index"
   ]
  },
  {
   "cell_type": "code",
   "execution_count": 0,
   "metadata": {
    "colab": {
     "base_uri": "https://localhost:8080/",
     "height": 34
    },
    "colab_type": "code",
    "executionInfo": {
     "elapsed": 2178,
     "status": "ok",
     "timestamp": 1568162357266,
     "user": {
      "displayName": "황재익",
      "photoUrl": "",
      "userId": "04432755077897078229"
     },
     "user_tz": -540
    },
    "id": "GI2IGBOYCT8y",
    "outputId": "b426cf45-cd80-408a-ba54-790ac5d96f75"
   },
   "outputs": [
    {
     "data": {
      "text/plain": [
       "dtype('int64')"
      ]
     },
     "execution_count": 7,
     "metadata": {
      "tags": []
     },
     "output_type": "execute_result"
    }
   ],
   "source": [
    "# Series의 자료형 확인하기\n",
    "obj.dtypes"
   ]
  },
  {
   "cell_type": "code",
   "execution_count": 0,
   "metadata": {
    "colab": {
     "base_uri": "https://localhost:8080/",
     "height": 34
    },
    "colab_type": "code",
    "executionInfo": {
     "elapsed": 1691,
     "status": "ok",
     "timestamp": 1568162357269,
     "user": {
      "displayName": "황재익",
      "photoUrl": "",
      "userId": "04432755077897078229"
     },
     "user_tz": -540
    },
    "id": "LUMUNW_cCYcI",
    "outputId": "69d8bade-839f-41cb-d3f6-9aab3af0ab5c"
   },
   "outputs": [
    {
     "data": {
      "text/plain": [
       "Index(['d', 's', 'e', 'f'], dtype='object')"
      ]
     },
     "execution_count": 8,
     "metadata": {
      "tags": []
     },
     "output_type": "execute_result"
    }
   ],
   "source": [
    "# 인덱스를 바꿀 수 있다\n",
    "obj2 = pd.Series([4,7,-5,3],index=['d','s','e','f'])\n",
    "obj2.index"
   ]
  },
  {
   "cell_type": "code",
   "execution_count": 0,
   "metadata": {
    "colab": {
     "base_uri": "https://localhost:8080/",
     "height": 105
    },
    "colab_type": "code",
    "executionInfo": {
     "elapsed": 2326,
     "status": "ok",
     "timestamp": 1568162358355,
     "user": {
      "displayName": "황재익",
      "photoUrl": "",
      "userId": "04432755077897078229"
     },
     "user_tz": -540
    },
    "id": "ivu-aoN9CkLv",
    "outputId": "2de2ca95-697d-4aac-e305-a358e88b18cd"
   },
   "outputs": [
    {
     "data": {
      "text/plain": [
       "kim     35000\n",
       "park    67000\n",
       "john    12000\n",
       "choi     4000\n",
       "dtype: int64"
      ]
     },
     "execution_count": 9,
     "metadata": {
      "tags": []
     },
     "output_type": "execute_result"
    }
   ],
   "source": [
    "# python의 dictionary 자료형을 Series data로 만들 수 있다.\n",
    "# dictionary의 key가 Series의 index가 된다\n",
    "sdata = {'kim':35000, 'park':67000, 'john':12000, 'choi':4000}\n",
    "obj3 = pd.Series(sdata)\n",
    "obj3"
   ]
  },
  {
   "cell_type": "code",
   "execution_count": 0,
   "metadata": {
    "colab": {
     "base_uri": "https://localhost:8080/",
     "height": 34
    },
    "colab_type": "code",
    "executionInfo": {
     "elapsed": 1719,
     "status": "ok",
     "timestamp": 1568162358356,
     "user": {
      "displayName": "황재익",
      "photoUrl": "",
      "userId": "04432755077897078229"
     },
     "user_tz": -540
    },
    "id": "YX3GKi4iDGZw",
    "outputId": "93554f88-375b-46a6-956d-d1a80786fd58"
   },
   "outputs": [
    {
     "data": {
      "text/plain": [
       "Index(['갤럭시S10', 'IPhone', 'NoteX', 'IPad'], dtype='object')"
      ]
     },
     "execution_count": 10,
     "metadata": {
      "tags": []
     },
     "output_type": "execute_result"
    }
   ],
   "source": [
    "# index 변경\n",
    "obj3.index = ['갤럭시S10','IPhone','NoteX','IPad']\n",
    "obj3.index"
   ]
  },
  {
   "cell_type": "code",
   "execution_count": 0,
   "metadata": {
    "colab": {},
    "colab_type": "code",
    "id": "AO4CViXJDNHn"
   },
   "outputs": [],
   "source": [
    "# 2-2. Data Frame"
   ]
  },
  {
   "cell_type": "code",
   "execution_count": 0,
   "metadata": {
    "colab": {
     "base_uri": "https://localhost:8080/",
     "height": 195
    },
    "colab_type": "code",
    "executionInfo": {
     "elapsed": 2037,
     "status": "ok",
     "timestamp": 1568162359581,
     "user": {
      "displayName": "황재익",
      "photoUrl": "",
      "userId": "04432755077897078229"
     },
     "user_tz": -540
    },
    "id": "n9T32EjlDQEo",
    "outputId": "2707c808-3876-4d6e-fc78-3073c530ef4d"
   },
   "outputs": [
    {
     "data": {
      "text/html": [
       "<div>\n",
       "<style scoped>\n",
       "    .dataframe tbody tr th:only-of-type {\n",
       "        vertical-align: middle;\n",
       "    }\n",
       "\n",
       "    .dataframe tbody tr th {\n",
       "        vertical-align: top;\n",
       "    }\n",
       "\n",
       "    .dataframe thead th {\n",
       "        text-align: right;\n",
       "    }\n",
       "</style>\n",
       "<table border=\"1\" class=\"dataframe\">\n",
       "  <thead>\n",
       "    <tr style=\"text-align: right;\">\n",
       "      <th></th>\n",
       "      <th>year</th>\n",
       "      <th>name</th>\n",
       "      <th>points</th>\n",
       "      <th>penalty</th>\n",
       "    </tr>\n",
       "  </thead>\n",
       "  <tbody>\n",
       "    <tr>\n",
       "      <th>one</th>\n",
       "      <td>2013</td>\n",
       "      <td>lee</td>\n",
       "      <td>1.5</td>\n",
       "      <td>NaN</td>\n",
       "    </tr>\n",
       "    <tr>\n",
       "      <th>twp</th>\n",
       "      <td>2014</td>\n",
       "      <td>lee</td>\n",
       "      <td>1.7</td>\n",
       "      <td>NaN</td>\n",
       "    </tr>\n",
       "    <tr>\n",
       "      <th>three</th>\n",
       "      <td>2015</td>\n",
       "      <td>lee</td>\n",
       "      <td>3.6</td>\n",
       "      <td>NaN</td>\n",
       "    </tr>\n",
       "    <tr>\n",
       "      <th>four</th>\n",
       "      <td>2016</td>\n",
       "      <td>kim</td>\n",
       "      <td>2.4</td>\n",
       "      <td>NaN</td>\n",
       "    </tr>\n",
       "    <tr>\n",
       "      <th>five</th>\n",
       "      <td>2015</td>\n",
       "      <td>park</td>\n",
       "      <td>2.9</td>\n",
       "      <td>NaN</td>\n",
       "    </tr>\n",
       "  </tbody>\n",
       "</table>\n",
       "</div>"
      ],
      "text/plain": [
       "       year  name  points penalty\n",
       "one    2013   lee     1.5     NaN\n",
       "twp    2014   lee     1.7     NaN\n",
       "three  2015   lee     3.6     NaN\n",
       "four   2016   kim     2.4     NaN\n",
       "five   2015  park     2.9     NaN"
      ]
     },
     "execution_count": 12,
     "metadata": {
      "tags": []
     },
     "output_type": "execute_result"
    }
   ],
   "source": [
    "# Data Frame 정의하기\n",
    "# 이전에 DataFrame에 들어갈 데이터를 정의해주어야 하는데,\n",
    "# 이는 python의 dictionary 또는 numpy의 array로 정의할 수 있다.\n",
    "\n",
    "data = {'name':['lee', 'lee', 'lee', 'kim', 'park'],\n",
    "       'year':[2013, 2014, 2015, 2016, 2015],\n",
    "       'points':[1.5, 1.7, 3.6, 2.4, 2.9]}\n",
    "df2 = pd.DataFrame(data,columns=['year','name','points','penalty'],\n",
    "                  index = ['one','twp','three','four','five'])\n",
    "df2"
   ]
  },
  {
   "cell_type": "code",
   "execution_count": 0,
   "metadata": {
    "colab": {
     "base_uri": "https://localhost:8080/",
     "height": 169
    },
    "colab_type": "code",
    "executionInfo": {
     "elapsed": 1693,
     "status": "error",
     "timestamp": 1568162359581,
     "user": {
      "displayName": "황재익",
      "photoUrl": "",
      "userId": "04432755077897078229"
     },
     "user_tz": -540
    },
    "id": "-ZStffWtFdTI",
    "outputId": "4658391f-59c4-4a52-a234-6dfade451533"
   },
   "outputs": [
    {
     "ename": "NameError",
     "evalue": "ignored",
     "output_type": "error",
     "traceback": [
      "\u001b[0;31m---------------------------------------------------------------------------\u001b[0m",
      "\u001b[0;31mNameError\u001b[0m                                 Traceback (most recent call last)",
      "\u001b[0;32m<ipython-input-13-00cf07b74dcd>\u001b[0m in \u001b[0;36m<module>\u001b[0;34m()\u001b[0m\n\u001b[0;32m----> 1\u001b[0;31m \u001b[0mdf\u001b[0m\u001b[0;34m\u001b[0m\u001b[0;34m\u001b[0m\u001b[0m\n\u001b[0m",
      "\u001b[0;31mNameError\u001b[0m: name 'df' is not defined"
     ]
    }
   ],
   "source": [
    "# 행과 열의 구조를 가진 데이터가 생긴다.\n",
    "df"
   ]
  },
  {
   "cell_type": "code",
   "execution_count": 0,
   "metadata": {
    "colab": {
     "base_uri": "https://localhost:8080/",
     "height": 169
    },
    "colab_type": "code",
    "executionInfo": {
     "elapsed": 2529,
     "status": "error",
     "timestamp": 1568162360826,
     "user": {
      "displayName": "황재익",
      "photoUrl": "",
      "userId": "04432755077897078229"
     },
     "user_tz": -540
    },
    "id": "VWqeZT1GFhAI",
    "outputId": "bdf9f895-ad7d-42db-c07e-3a6683ba3f67"
   },
   "outputs": [
    {
     "ename": "NameError",
     "evalue": "ignored",
     "output_type": "error",
     "traceback": [
      "\u001b[0;31m---------------------------------------------------------------------------\u001b[0m",
      "\u001b[0;31mNameError\u001b[0m                                 Traceback (most recent call last)",
      "\u001b[0;32m<ipython-input-14-b666bf274d0a>\u001b[0m in \u001b[0;36m<module>\u001b[0;34m()\u001b[0m\n\u001b[0;32m----> 1\u001b[0;31m \u001b[0mdf\u001b[0m\u001b[0;34m.\u001b[0m\u001b[0mcolumns\u001b[0m\u001b[0;34m\u001b[0m\u001b[0;34m\u001b[0m\u001b[0m\n\u001b[0m",
      "\u001b[0;31mNameError\u001b[0m: name 'df' is not defined"
     ]
    }
   ],
   "source": [
    "# 행 번호\n",
    "df.columns"
   ]
  },
  {
   "cell_type": "code",
   "execution_count": 0,
   "metadata": {
    "colab": {},
    "colab_type": "code",
    "id": "ox0oyh0LFjz_"
   },
   "outputs": [],
   "source": [
    "# 열 이름\n",
    "print(df.index)\n",
    "#맨 앞에서부터 2개 tail은 맨 뒤에서부터\n",
    "df.head(2)"
   ]
  },
  {
   "cell_type": "code",
   "execution_count": 0,
   "metadata": {
    "colab": {},
    "colab_type": "code",
    "id": "K6JbWgfaFoLa"
   },
   "outputs": [],
   "source": [
    "# 값 얻기\n",
    "df"
   ]
  },
  {
   "cell_type": "code",
   "execution_count": 0,
   "metadata": {
    "colab": {},
    "colab_type": "code",
    "id": "St6yILe2FyzG"
   },
   "outputs": [],
   "source": [
    "# DataFrame을 만들면서 columns와 index를 설정할 수 있다.\n",
    "df2 = pd.DataFrame(data,columns = ['Name','Year','Points'],index = ['one','two','three','four'])\n",
    "print(df2)\n"
   ]
  },
  {
   "cell_type": "code",
   "execution_count": 0,
   "metadata": {
    "colab": {},
    "colab_type": "code",
    "id": "xxFSqVNwGDkH"
   },
   "outputs": [],
   "source": [
    "# DataFrame을 정의하면서, data로 들어가는 python dictionary와 columns의\n",
    "# 순서가 달라도 알아서 맞춰서 정의된다.\n",
    "# 하지만 data에 포함되어 있지 않은 값은\n",
    "# Nan(Not a Number)으로 나타나게 된다.\n",
    "# 이는 null과 같은 개념이다.\n",
    "# Nan 값은 추후에 어떠한 방법으로도 처리가 되지 않는 데이터이다.\n",
    "# 따라서 올바른 데이터 처리를 위해 추가적으로 값을 넣어줘야 한다."
   ]
  },
  {
   "cell_type": "code",
   "execution_count": 0,
   "metadata": {
    "colab": {},
    "colab_type": "code",
    "id": "Q2kNQazpGdaB"
   },
   "outputs": [],
   "source": [
    "# describe() 함수는 DataFrame의 계산 가능한 값들에 대한\n",
    "# 요약통계 값을 보여준다.\n"
   ]
  },
  {
   "cell_type": "code",
   "execution_count": 0,
   "metadata": {
    "colab": {},
    "colab_type": "code",
    "id": "TQ8qwSlfGlRL"
   },
   "outputs": [],
   "source": [
    "# 3. DataFrame Indexing"
   ]
  },
  {
   "cell_type": "code",
   "execution_count": 0,
   "metadata": {
    "colab": {},
    "colab_type": "code",
    "id": "_uHrcFbWGrFI"
   },
   "outputs": [],
   "source": [
    "data = {'names':['lee', 'lee', 'lee', 'park', 'park'],\n",
    "       'year': [2014, 2015, 2016, 2015, 2016],\n",
    "       'points':[1.5, 1.7, 3.6, 2.4, 2.9]}\n",
    "\n"
   ]
  },
  {
   "cell_type": "code",
   "execution_count": 0,
   "metadata": {
    "colab": {},
    "colab_type": "code",
    "id": "MohoN8aTHLaO"
   },
   "outputs": [],
   "source": [
    "# 3-1. DataFrame 에서 열을 선택하고 조작하기"
   ]
  },
  {
   "cell_type": "code",
   "execution_count": 0,
   "metadata": {
    "colab": {
     "base_uri": "https://localhost:8080/",
     "height": 195
    },
    "colab_type": "code",
    "executionInfo": {
     "elapsed": 1106,
     "status": "ok",
     "timestamp": 1568162361640,
     "user": {
      "displayName": "황재익",
      "photoUrl": "",
      "userId": "04432755077897078229"
     },
     "user_tz": -540
    },
    "id": "B51WOZdrHXvb",
    "outputId": "87d71ac9-a14f-423c-deb0-aaef3e48ebbd"
   },
   "outputs": [
    {
     "data": {
      "text/html": [
       "<div>\n",
       "<style scoped>\n",
       "    .dataframe tbody tr th:only-of-type {\n",
       "        vertical-align: middle;\n",
       "    }\n",
       "\n",
       "    .dataframe tbody tr th {\n",
       "        vertical-align: top;\n",
       "    }\n",
       "\n",
       "    .dataframe thead th {\n",
       "        text-align: right;\n",
       "    }\n",
       "</style>\n",
       "<table border=\"1\" class=\"dataframe\">\n",
       "  <thead>\n",
       "    <tr style=\"text-align: right;\">\n",
       "      <th></th>\n",
       "      <th>names</th>\n",
       "      <th>year</th>\n",
       "      <th>points</th>\n",
       "      <th>hello</th>\n",
       "    </tr>\n",
       "  </thead>\n",
       "  <tbody>\n",
       "    <tr>\n",
       "      <th>one</th>\n",
       "      <td>lee</td>\n",
       "      <td>2014</td>\n",
       "      <td>1.5</td>\n",
       "      <td>NaN</td>\n",
       "    </tr>\n",
       "    <tr>\n",
       "      <th>two</th>\n",
       "      <td>lee</td>\n",
       "      <td>2015</td>\n",
       "      <td>1.7</td>\n",
       "      <td>NaN</td>\n",
       "    </tr>\n",
       "    <tr>\n",
       "      <th>three</th>\n",
       "      <td>lee</td>\n",
       "      <td>2016</td>\n",
       "      <td>3.6</td>\n",
       "      <td>NaN</td>\n",
       "    </tr>\n",
       "    <tr>\n",
       "      <th>four</th>\n",
       "      <td>park</td>\n",
       "      <td>2015</td>\n",
       "      <td>2.4</td>\n",
       "      <td>NaN</td>\n",
       "    </tr>\n",
       "    <tr>\n",
       "      <th>five</th>\n",
       "      <td>park</td>\n",
       "      <td>2016</td>\n",
       "      <td>2.9</td>\n",
       "      <td>NaN</td>\n",
       "    </tr>\n",
       "  </tbody>\n",
       "</table>\n",
       "</div>"
      ],
      "text/plain": [
       "      names  year  points hello\n",
       "one     lee  2014     1.5   NaN\n",
       "two     lee  2015     1.7   NaN\n",
       "three   lee  2016     3.6   NaN\n",
       "four   park  2015     2.4   NaN\n",
       "five   park  2016     2.9   NaN"
      ]
     },
     "execution_count": 19,
     "metadata": {
      "tags": []
     },
     "output_type": "execute_result"
    }
   ],
   "source": [
    "# 특정 열에 대해 위와 같이 선택하고, 우리가 원하는 값을 대입할 수 있다.\n",
    "# 또는\n",
    "# python의 List나 numpy의 array\n",
    "df2 = pd.DataFrame(data,columns = ['names','year','points','hello'],index = ['one','two','three','four','five'])\n",
    "#df2['Year'][2]=1\n",
    "#df2.Year =1\n",
    "#df2.hello = [3,4,5,None]\n",
    "df2"
   ]
  },
  {
   "cell_type": "code",
   "execution_count": 0,
   "metadata": {
    "colab": {
     "base_uri": "https://localhost:8080/",
     "height": 122
    },
    "colab_type": "code",
    "executionInfo": {
     "elapsed": 907,
     "status": "ok",
     "timestamp": 1568162361643,
     "user": {
      "displayName": "황재익",
      "photoUrl": "",
      "userId": "04432755077897078229"
     },
     "user_tz": -540
    },
    "id": "rpAUPB3-HP3N",
    "outputId": "1f6a92e2-5159-4d3c-9a5a-37391de596ac"
   },
   "outputs": [
    {
     "data": {
      "text/plain": [
       "0     lee\n",
       "1     lee\n",
       "2     lee\n",
       "3    park\n",
       "4    park\n",
       "Name: names, dtype: object"
      ]
     },
     "execution_count": 20,
     "metadata": {
      "tags": []
     },
     "output_type": "execute_result"
    }
   ],
   "source": [
    "df = pd.DataFrame(data)\n",
    "df['names']"
   ]
  },
  {
   "cell_type": "code",
   "execution_count": 0,
   "metadata": {
    "colab": {
     "base_uri": "https://localhost:8080/",
     "height": 122
    },
    "colab_type": "code",
    "executionInfo": {
     "elapsed": 1104,
     "status": "ok",
     "timestamp": 1568162362090,
     "user": {
      "displayName": "황재익",
      "photoUrl": "",
      "userId": "04432755077897078229"
     },
     "user_tz": -540
    },
    "id": "VZAT-gyDHRQB",
    "outputId": "dc134c63-100d-4e55-93af-c275ba4b960d"
   },
   "outputs": [
    {
     "data": {
      "text/plain": [
       "0    2014\n",
       "1    2015\n",
       "2    2016\n",
       "3    2015\n",
       "4    2016\n",
       "Name: year, dtype: int64"
      ]
     },
     "execution_count": 21,
     "metadata": {
      "tags": []
     },
     "output_type": "execute_result"
    }
   ],
   "source": [
    "# 동일한 의미를 갖는, 다른 방법\n",
    "df.year"
   ]
  },
  {
   "cell_type": "code",
   "execution_count": 0,
   "metadata": {
    "colab": {
     "base_uri": "https://localhost:8080/",
     "height": 195
    },
    "colab_type": "code",
    "executionInfo": {
     "elapsed": 895,
     "status": "ok",
     "timestamp": 1568162362091,
     "user": {
      "displayName": "황재익",
      "photoUrl": "",
      "userId": "04432755077897078229"
     },
     "user_tz": -540
    },
    "id": "m5o47o-cHUeT",
    "outputId": "0571c97e-7e5b-4020-f3ca-c3d2b69b3e33"
   },
   "outputs": [
    {
     "data": {
      "text/html": [
       "<div>\n",
       "<style scoped>\n",
       "    .dataframe tbody tr th:only-of-type {\n",
       "        vertical-align: middle;\n",
       "    }\n",
       "\n",
       "    .dataframe tbody tr th {\n",
       "        vertical-align: top;\n",
       "    }\n",
       "\n",
       "    .dataframe thead th {\n",
       "        text-align: right;\n",
       "    }\n",
       "</style>\n",
       "<table border=\"1\" class=\"dataframe\">\n",
       "  <thead>\n",
       "    <tr style=\"text-align: right;\">\n",
       "      <th></th>\n",
       "      <th>year</th>\n",
       "      <th>points</th>\n",
       "    </tr>\n",
       "  </thead>\n",
       "  <tbody>\n",
       "    <tr>\n",
       "      <th>0</th>\n",
       "      <td>2014</td>\n",
       "      <td>1.5</td>\n",
       "    </tr>\n",
       "    <tr>\n",
       "      <th>1</th>\n",
       "      <td>2015</td>\n",
       "      <td>1.7</td>\n",
       "    </tr>\n",
       "    <tr>\n",
       "      <th>2</th>\n",
       "      <td>2016</td>\n",
       "      <td>3.6</td>\n",
       "    </tr>\n",
       "    <tr>\n",
       "      <th>3</th>\n",
       "      <td>2015</td>\n",
       "      <td>2.4</td>\n",
       "    </tr>\n",
       "    <tr>\n",
       "      <th>4</th>\n",
       "      <td>2016</td>\n",
       "      <td>2.9</td>\n",
       "    </tr>\n",
       "  </tbody>\n",
       "</table>\n",
       "</div>"
      ],
      "text/plain": [
       "   year  points\n",
       "0  2014     1.5\n",
       "1  2015     1.7\n",
       "2  2016     3.6\n",
       "3  2015     2.4\n",
       "4  2016     2.9"
      ]
     },
     "execution_count": 22,
     "metadata": {
      "tags": []
     },
     "output_type": "execute_result"
    }
   ],
   "source": [
    "df[['year','points']]"
   ]
  },
  {
   "cell_type": "code",
   "execution_count": 0,
   "metadata": {
    "colab": {
     "base_uri": "https://localhost:8080/",
     "height": 195
    },
    "colab_type": "code",
    "executionInfo": {
     "elapsed": 673,
     "status": "ok",
     "timestamp": 1568162362092,
     "user": {
      "displayName": "황재익",
      "photoUrl": "",
      "userId": "04432755077897078229"
     },
     "user_tz": -540
    },
    "id": "L8ErqTGMHewu",
    "outputId": "bfb130c0-250b-4dd6-f3e2-1b0469759cb8"
   },
   "outputs": [
    {
     "data": {
      "text/html": [
       "<div>\n",
       "<style scoped>\n",
       "    .dataframe tbody tr th:only-of-type {\n",
       "        vertical-align: middle;\n",
       "    }\n",
       "\n",
       "    .dataframe tbody tr th {\n",
       "        vertical-align: top;\n",
       "    }\n",
       "\n",
       "    .dataframe thead th {\n",
       "        text-align: right;\n",
       "    }\n",
       "</style>\n",
       "<table border=\"1\" class=\"dataframe\">\n",
       "  <thead>\n",
       "    <tr style=\"text-align: right;\">\n",
       "      <th></th>\n",
       "      <th>names</th>\n",
       "      <th>year</th>\n",
       "      <th>points</th>\n",
       "      <th>hello</th>\n",
       "      <th>zeros</th>\n",
       "    </tr>\n",
       "  </thead>\n",
       "  <tbody>\n",
       "    <tr>\n",
       "      <th>one</th>\n",
       "      <td>lee</td>\n",
       "      <td>2014</td>\n",
       "      <td>1.5</td>\n",
       "      <td>NaN</td>\n",
       "      <td>0</td>\n",
       "    </tr>\n",
       "    <tr>\n",
       "      <th>two</th>\n",
       "      <td>lee</td>\n",
       "      <td>2015</td>\n",
       "      <td>1.7</td>\n",
       "      <td>NaN</td>\n",
       "      <td>1</td>\n",
       "    </tr>\n",
       "    <tr>\n",
       "      <th>three</th>\n",
       "      <td>lee</td>\n",
       "      <td>2016</td>\n",
       "      <td>3.6</td>\n",
       "      <td>NaN</td>\n",
       "      <td>2</td>\n",
       "    </tr>\n",
       "    <tr>\n",
       "      <th>four</th>\n",
       "      <td>park</td>\n",
       "      <td>2015</td>\n",
       "      <td>2.4</td>\n",
       "      <td>NaN</td>\n",
       "      <td>3</td>\n",
       "    </tr>\n",
       "    <tr>\n",
       "      <th>five</th>\n",
       "      <td>park</td>\n",
       "      <td>2016</td>\n",
       "      <td>2.9</td>\n",
       "      <td>NaN</td>\n",
       "      <td>4</td>\n",
       "    </tr>\n",
       "  </tbody>\n",
       "</table>\n",
       "</div>"
      ],
      "text/plain": [
       "      names  year  points hello  zeros\n",
       "one     lee  2014     1.5   NaN      0\n",
       "two     lee  2015     1.7   NaN      1\n",
       "three   lee  2016     3.6   NaN      2\n",
       "four   park  2015     2.4   NaN      3\n",
       "five   park  2016     2.9   NaN      4"
      ]
     },
     "execution_count": 23,
     "metadata": {
      "tags": []
     },
     "output_type": "execute_result"
    }
   ],
   "source": [
    "# 새로운 열을 추가하기\n",
    "df2['zeros']=np.arange(5)\n",
    "df2"
   ]
  },
  {
   "cell_type": "code",
   "execution_count": 0,
   "metadata": {
    "colab": {},
    "colab_type": "code",
    "id": "C5tOn4gnHw5s"
   },
   "outputs": [],
   "source": [
    "# Series를 추가할 수도 있다.\n",
    "val = pd.Series([-1.2,-1.4,3.0],index = ['two','four','five'])\n",
    "df2['debt'] = val"
   ]
  },
  {
   "cell_type": "code",
   "execution_count": 0,
   "metadata": {
    "colab": {
     "base_uri": "https://localhost:8080/",
     "height": 195
    },
    "colab_type": "code",
    "executionInfo": {
     "elapsed": 897,
     "status": "ok",
     "timestamp": 1568162362849,
     "user": {
      "displayName": "황재익",
      "photoUrl": "",
      "userId": "04432755077897078229"
     },
     "user_tz": -540
    },
    "id": "dM2lJPcTH7_U",
    "outputId": "197e2d72-59e4-4150-9c31-9b569b58b04d"
   },
   "outputs": [
    {
     "data": {
      "text/html": [
       "<div>\n",
       "<style scoped>\n",
       "    .dataframe tbody tr th:only-of-type {\n",
       "        vertical-align: middle;\n",
       "    }\n",
       "\n",
       "    .dataframe tbody tr th {\n",
       "        vertical-align: top;\n",
       "    }\n",
       "\n",
       "    .dataframe thead th {\n",
       "        text-align: right;\n",
       "    }\n",
       "</style>\n",
       "<table border=\"1\" class=\"dataframe\">\n",
       "  <thead>\n",
       "    <tr style=\"text-align: right;\">\n",
       "      <th></th>\n",
       "      <th>names</th>\n",
       "      <th>year</th>\n",
       "      <th>points</th>\n",
       "      <th>hello</th>\n",
       "      <th>zeros</th>\n",
       "      <th>debt</th>\n",
       "    </tr>\n",
       "  </thead>\n",
       "  <tbody>\n",
       "    <tr>\n",
       "      <th>one</th>\n",
       "      <td>lee</td>\n",
       "      <td>2014</td>\n",
       "      <td>1.5</td>\n",
       "      <td>NaN</td>\n",
       "      <td>0</td>\n",
       "      <td>NaN</td>\n",
       "    </tr>\n",
       "    <tr>\n",
       "      <th>two</th>\n",
       "      <td>lee</td>\n",
       "      <td>2015</td>\n",
       "      <td>1.7</td>\n",
       "      <td>NaN</td>\n",
       "      <td>1</td>\n",
       "      <td>-1.2</td>\n",
       "    </tr>\n",
       "    <tr>\n",
       "      <th>three</th>\n",
       "      <td>lee</td>\n",
       "      <td>2016</td>\n",
       "      <td>3.6</td>\n",
       "      <td>NaN</td>\n",
       "      <td>2</td>\n",
       "      <td>NaN</td>\n",
       "    </tr>\n",
       "    <tr>\n",
       "      <th>four</th>\n",
       "      <td>park</td>\n",
       "      <td>2015</td>\n",
       "      <td>2.4</td>\n",
       "      <td>NaN</td>\n",
       "      <td>3</td>\n",
       "      <td>-1.4</td>\n",
       "    </tr>\n",
       "    <tr>\n",
       "      <th>five</th>\n",
       "      <td>park</td>\n",
       "      <td>2016</td>\n",
       "      <td>2.9</td>\n",
       "      <td>NaN</td>\n",
       "      <td>4</td>\n",
       "      <td>3.0</td>\n",
       "    </tr>\n",
       "  </tbody>\n",
       "</table>\n",
       "</div>"
      ],
      "text/plain": [
       "      names  year  points hello  zeros  debt\n",
       "one     lee  2014     1.5   NaN      0   NaN\n",
       "two     lee  2015     1.7   NaN      1  -1.2\n",
       "three   lee  2016     3.6   NaN      2   NaN\n",
       "four   park  2015     2.4   NaN      3  -1.4\n",
       "five   park  2016     2.9   NaN      4   3.0"
      ]
     },
     "execution_count": 25,
     "metadata": {
      "tags": []
     },
     "output_type": "execute_result"
    }
   ],
   "source": [
    "df2"
   ]
  },
  {
   "cell_type": "code",
   "execution_count": 0,
   "metadata": {
    "colab": {
     "base_uri": "https://localhost:8080/",
     "height": 195
    },
    "colab_type": "code",
    "executionInfo": {
     "elapsed": 671,
     "status": "ok",
     "timestamp": 1568162362850,
     "user": {
      "displayName": "황재익",
      "photoUrl": "",
      "userId": "04432755077897078229"
     },
     "user_tz": -540
    },
    "id": "KnOzIMmBH-ST",
    "outputId": "752e3690-672e-467c-c8c4-051875da2285"
   },
   "outputs": [
    {
     "data": {
      "text/html": [
       "<div>\n",
       "<style scoped>\n",
       "    .dataframe tbody tr th:only-of-type {\n",
       "        vertical-align: middle;\n",
       "    }\n",
       "\n",
       "    .dataframe tbody tr th {\n",
       "        vertical-align: top;\n",
       "    }\n",
       "\n",
       "    .dataframe thead th {\n",
       "        text-align: right;\n",
       "    }\n",
       "</style>\n",
       "<table border=\"1\" class=\"dataframe\">\n",
       "  <thead>\n",
       "    <tr style=\"text-align: right;\">\n",
       "      <th></th>\n",
       "      <th>names</th>\n",
       "      <th>year</th>\n",
       "      <th>points</th>\n",
       "      <th>hello</th>\n",
       "      <th>zeros</th>\n",
       "      <th>debt</th>\n",
       "      <th>net_points</th>\n",
       "      <th>high_points</th>\n",
       "    </tr>\n",
       "  </thead>\n",
       "  <tbody>\n",
       "    <tr>\n",
       "      <th>one</th>\n",
       "      <td>lee</td>\n",
       "      <td>2014</td>\n",
       "      <td>1.5</td>\n",
       "      <td>NaN</td>\n",
       "      <td>0</td>\n",
       "      <td>NaN</td>\n",
       "      <td>NaN</td>\n",
       "      <td>False</td>\n",
       "    </tr>\n",
       "    <tr>\n",
       "      <th>two</th>\n",
       "      <td>lee</td>\n",
       "      <td>2015</td>\n",
       "      <td>1.7</td>\n",
       "      <td>NaN</td>\n",
       "      <td>1</td>\n",
       "      <td>-1.2</td>\n",
       "      <td>NaN</td>\n",
       "      <td>False</td>\n",
       "    </tr>\n",
       "    <tr>\n",
       "      <th>three</th>\n",
       "      <td>lee</td>\n",
       "      <td>2016</td>\n",
       "      <td>3.6</td>\n",
       "      <td>NaN</td>\n",
       "      <td>2</td>\n",
       "      <td>NaN</td>\n",
       "      <td>NaN</td>\n",
       "      <td>False</td>\n",
       "    </tr>\n",
       "    <tr>\n",
       "      <th>four</th>\n",
       "      <td>park</td>\n",
       "      <td>2015</td>\n",
       "      <td>2.4</td>\n",
       "      <td>NaN</td>\n",
       "      <td>3</td>\n",
       "      <td>-1.4</td>\n",
       "      <td>NaN</td>\n",
       "      <td>True</td>\n",
       "    </tr>\n",
       "    <tr>\n",
       "      <th>five</th>\n",
       "      <td>park</td>\n",
       "      <td>2016</td>\n",
       "      <td>2.9</td>\n",
       "      <td>NaN</td>\n",
       "      <td>4</td>\n",
       "      <td>3.0</td>\n",
       "      <td>NaN</td>\n",
       "      <td>True</td>\n",
       "    </tr>\n",
       "  </tbody>\n",
       "</table>\n",
       "</div>"
      ],
      "text/plain": [
       "      names  year  points hello  zeros  debt net_points  high_points\n",
       "one     lee  2014     1.5   NaN      0   NaN        NaN        False\n",
       "two     lee  2015     1.7   NaN      1  -1.2        NaN        False\n",
       "three   lee  2016     3.6   NaN      2   NaN        NaN        False\n",
       "four   park  2015     2.4   NaN      3  -1.4        NaN         True\n",
       "five   park  2016     2.9   NaN      4   3.0        NaN         True"
      ]
     },
     "execution_count": 26,
     "metadata": {
      "tags": []
     },
     "output_type": "execute_result"
    }
   ],
   "source": [
    "df2['net_points'] = df2['hello'] - df2['year']\n",
    "df2['high_points'] = df2.zeros>2\n",
    "df2"
   ]
  },
  {
   "cell_type": "code",
   "execution_count": 0,
   "metadata": {
    "colab": {},
    "colab_type": "code",
    "id": "dHXF4uiWIDR1"
   },
   "outputs": [],
   "source": [
    "# 하지만 Series로 넣을 때는 val와 같이 넣으려는 data의 index에 맞춰서 \n",
    "# 데이터가 들어간다.\n",
    "# 이점이 python list나 numpy array로 데이터를 넣을 때와 가장 큰 차이점이다."
   ]
  },
  {
   "cell_type": "code",
   "execution_count": 0,
   "metadata": {
    "colab": {
     "base_uri": "https://localhost:8080/",
     "height": 195
    },
    "colab_type": "code",
    "executionInfo": {
     "elapsed": 948,
     "status": "ok",
     "timestamp": 1568162363687,
     "user": {
      "displayName": "황재익",
      "photoUrl": "",
      "userId": "04432755077897078229"
     },
     "user_tz": -540
    },
    "id": "tKPPePE5IoH4",
    "outputId": "3da59988-7d4b-4512-c5d4-7f8043d5953d"
   },
   "outputs": [
    {
     "data": {
      "text/html": [
       "<div>\n",
       "<style scoped>\n",
       "    .dataframe tbody tr th:only-of-type {\n",
       "        vertical-align: middle;\n",
       "    }\n",
       "\n",
       "    .dataframe tbody tr th {\n",
       "        vertical-align: top;\n",
       "    }\n",
       "\n",
       "    .dataframe thead th {\n",
       "        text-align: right;\n",
       "    }\n",
       "</style>\n",
       "<table border=\"1\" class=\"dataframe\">\n",
       "  <thead>\n",
       "    <tr style=\"text-align: right;\">\n",
       "      <th></th>\n",
       "      <th>names</th>\n",
       "      <th>year</th>\n",
       "      <th>points</th>\n",
       "      <th>hello</th>\n",
       "      <th>zeros</th>\n",
       "      <th>debt</th>\n",
       "      <th>high_points</th>\n",
       "    </tr>\n",
       "  </thead>\n",
       "  <tbody>\n",
       "    <tr>\n",
       "      <th>one</th>\n",
       "      <td>lee</td>\n",
       "      <td>2014</td>\n",
       "      <td>1.5</td>\n",
       "      <td>NaN</td>\n",
       "      <td>0</td>\n",
       "      <td>NaN</td>\n",
       "      <td>False</td>\n",
       "    </tr>\n",
       "    <tr>\n",
       "      <th>two</th>\n",
       "      <td>lee</td>\n",
       "      <td>2015</td>\n",
       "      <td>1.7</td>\n",
       "      <td>NaN</td>\n",
       "      <td>1</td>\n",
       "      <td>-1.2</td>\n",
       "      <td>False</td>\n",
       "    </tr>\n",
       "    <tr>\n",
       "      <th>three</th>\n",
       "      <td>lee</td>\n",
       "      <td>2016</td>\n",
       "      <td>3.6</td>\n",
       "      <td>NaN</td>\n",
       "      <td>2</td>\n",
       "      <td>NaN</td>\n",
       "      <td>False</td>\n",
       "    </tr>\n",
       "    <tr>\n",
       "      <th>four</th>\n",
       "      <td>park</td>\n",
       "      <td>2015</td>\n",
       "      <td>2.4</td>\n",
       "      <td>NaN</td>\n",
       "      <td>3</td>\n",
       "      <td>-1.4</td>\n",
       "      <td>True</td>\n",
       "    </tr>\n",
       "    <tr>\n",
       "      <th>five</th>\n",
       "      <td>park</td>\n",
       "      <td>2016</td>\n",
       "      <td>2.9</td>\n",
       "      <td>NaN</td>\n",
       "      <td>4</td>\n",
       "      <td>3.0</td>\n",
       "      <td>True</td>\n",
       "    </tr>\n",
       "  </tbody>\n",
       "</table>\n",
       "</div>"
      ],
      "text/plain": [
       "      names  year  points hello  zeros  debt  high_points\n",
       "one     lee  2014     1.5   NaN      0   NaN        False\n",
       "two     lee  2015     1.7   NaN      1  -1.2        False\n",
       "three   lee  2016     3.6   NaN      2   NaN        False\n",
       "four   park  2015     2.4   NaN      3  -1.4         True\n",
       "five   park  2016     2.9   NaN      4   3.0         True"
      ]
     },
     "execution_count": 28,
     "metadata": {
      "tags": []
     },
     "output_type": "execute_result"
    }
   ],
   "source": [
    "# 열 삭제하기\n",
    "del df2['net_points']\n",
    "df2"
   ]
  },
  {
   "cell_type": "code",
   "execution_count": 0,
   "metadata": {
    "colab": {
     "base_uri": "https://localhost:8080/",
     "height": 136
    },
    "colab_type": "code",
    "executionInfo": {
     "elapsed": 669,
     "status": "ok",
     "timestamp": 1568162363690,
     "user": {
      "displayName": "황재익",
      "photoUrl": "",
      "userId": "04432755077897078229"
     },
     "user_tz": -540
    },
    "id": "vxSOtW4zI3Kg",
    "outputId": "ddd32ddb-d5a4-4e08-9ce0-50722134c23e"
   },
   "outputs": [
    {
     "data": {
      "text/html": [
       "<div>\n",
       "<style scoped>\n",
       "    .dataframe tbody tr th:only-of-type {\n",
       "        vertical-align: middle;\n",
       "    }\n",
       "\n",
       "    .dataframe tbody tr th {\n",
       "        vertical-align: top;\n",
       "    }\n",
       "\n",
       "    .dataframe thead th {\n",
       "        text-align: right;\n",
       "    }\n",
       "</style>\n",
       "<table border=\"1\" class=\"dataframe\">\n",
       "  <thead>\n",
       "    <tr style=\"text-align: right;\">\n",
       "      <th></th>\n",
       "      <th>names</th>\n",
       "      <th>year</th>\n",
       "      <th>points</th>\n",
       "      <th>hello</th>\n",
       "      <th>zeros</th>\n",
       "      <th>debt</th>\n",
       "      <th>high_points</th>\n",
       "    </tr>\n",
       "  </thead>\n",
       "  <tbody>\n",
       "    <tr>\n",
       "      <th>one</th>\n",
       "      <td>lee</td>\n",
       "      <td>2014</td>\n",
       "      <td>1.5</td>\n",
       "      <td>NaN</td>\n",
       "      <td>0</td>\n",
       "      <td>NaN</td>\n",
       "      <td>False</td>\n",
       "    </tr>\n",
       "    <tr>\n",
       "      <th>two</th>\n",
       "      <td>lee</td>\n",
       "      <td>2015</td>\n",
       "      <td>1.7</td>\n",
       "      <td>NaN</td>\n",
       "      <td>1</td>\n",
       "      <td>-1.2</td>\n",
       "      <td>False</td>\n",
       "    </tr>\n",
       "    <tr>\n",
       "      <th>three</th>\n",
       "      <td>lee</td>\n",
       "      <td>2016</td>\n",
       "      <td>3.6</td>\n",
       "      <td>NaN</td>\n",
       "      <td>2</td>\n",
       "      <td>NaN</td>\n",
       "      <td>False</td>\n",
       "    </tr>\n",
       "  </tbody>\n",
       "</table>\n",
       "</div>"
      ],
      "text/plain": [
       "      names  year  points hello  zeros  debt  high_points\n",
       "one     lee  2014     1.5   NaN      0   NaN        False\n",
       "two     lee  2015     1.7   NaN      1  -1.2        False\n",
       "three   lee  2016     3.6   NaN      2   NaN        False"
      ]
     },
     "execution_count": 29,
     "metadata": {
      "tags": []
     },
     "output_type": "execute_result"
    }
   ],
   "source": [
    "# 3-2. DataFrame에서 행을 선택하고 조작하기\n",
    "# Pandas에서는 DataFrame에서 행을 인덱싱하는 방법이 무수히 많다.\n",
    "# 물론 위에서 소개했던 열을 선택하는 방법도 수많은 방법 중에 하나에 불과하다.\n",
    "df2[:3]"
   ]
  },
  {
   "cell_type": "code",
   "execution_count": 0,
   "metadata": {
    "colab": {
     "base_uri": "https://localhost:8080/",
     "height": 136
    },
    "colab_type": "code",
    "executionInfo": {
     "elapsed": 591,
     "status": "ok",
     "timestamp": 1568162364075,
     "user": {
      "displayName": "황재익",
      "photoUrl": "",
      "userId": "04432755077897078229"
     },
     "user_tz": -540
    },
    "id": "trhft0DwAIJZ",
    "outputId": "b6fe8940-cf53-4d0e-8274-34e9edd92e55"
   },
   "outputs": [
    {
     "data": {
      "text/html": [
       "<div>\n",
       "<style scoped>\n",
       "    .dataframe tbody tr th:only-of-type {\n",
       "        vertical-align: middle;\n",
       "    }\n",
       "\n",
       "    .dataframe tbody tr th {\n",
       "        vertical-align: top;\n",
       "    }\n",
       "\n",
       "    .dataframe thead th {\n",
       "        text-align: right;\n",
       "    }\n",
       "</style>\n",
       "<table border=\"1\" class=\"dataframe\">\n",
       "  <thead>\n",
       "    <tr style=\"text-align: right;\">\n",
       "      <th></th>\n",
       "      <th>names</th>\n",
       "      <th>year</th>\n",
       "      <th>points</th>\n",
       "      <th>hello</th>\n",
       "      <th>zeros</th>\n",
       "      <th>debt</th>\n",
       "      <th>high_points</th>\n",
       "    </tr>\n",
       "  </thead>\n",
       "  <tbody>\n",
       "    <tr>\n",
       "      <th>one</th>\n",
       "      <td>lee</td>\n",
       "      <td>2014</td>\n",
       "      <td>1.5</td>\n",
       "      <td>NaN</td>\n",
       "      <td>0</td>\n",
       "      <td>NaN</td>\n",
       "      <td>False</td>\n",
       "    </tr>\n",
       "    <tr>\n",
       "      <th>three</th>\n",
       "      <td>lee</td>\n",
       "      <td>2016</td>\n",
       "      <td>3.6</td>\n",
       "      <td>NaN</td>\n",
       "      <td>2</td>\n",
       "      <td>NaN</td>\n",
       "      <td>False</td>\n",
       "    </tr>\n",
       "    <tr>\n",
       "      <th>five</th>\n",
       "      <td>park</td>\n",
       "      <td>2016</td>\n",
       "      <td>2.9</td>\n",
       "      <td>NaN</td>\n",
       "      <td>4</td>\n",
       "      <td>3.0</td>\n",
       "      <td>True</td>\n",
       "    </tr>\n",
       "  </tbody>\n",
       "</table>\n",
       "</div>"
      ],
      "text/plain": [
       "      names  year  points hello  zeros  debt  high_points\n",
       "one     lee  2014     1.5   NaN      0   NaN        False\n",
       "three   lee  2016     3.6   NaN      2   NaN        False\n",
       "five   park  2016     2.9   NaN      4   3.0         True"
      ]
     },
     "execution_count": 30,
     "metadata": {
      "tags": []
     },
     "output_type": "execute_result"
    }
   ],
   "source": [
    "df2[::2]"
   ]
  },
  {
   "cell_type": "code",
   "execution_count": 0,
   "metadata": {
    "colab": {
     "base_uri": "https://localhost:8080/",
     "height": 106
    },
    "colab_type": "code",
    "executionInfo": {
     "elapsed": 937,
     "status": "ok",
     "timestamp": 1568162364866,
     "user": {
      "displayName": "황재익",
      "photoUrl": "",
      "userId": "04432755077897078229"
     },
     "user_tz": -540
    },
    "id": "r5VxuvyaJGwm",
    "outputId": "c255d554-4464-4dfd-86f3-317d9fe834f5"
   },
   "outputs": [
    {
     "data": {
      "text/html": [
       "<div>\n",
       "<style scoped>\n",
       "    .dataframe tbody tr th:only-of-type {\n",
       "        vertical-align: middle;\n",
       "    }\n",
       "\n",
       "    .dataframe tbody tr th {\n",
       "        vertical-align: top;\n",
       "    }\n",
       "\n",
       "    .dataframe thead th {\n",
       "        text-align: right;\n",
       "    }\n",
       "</style>\n",
       "<table border=\"1\" class=\"dataframe\">\n",
       "  <thead>\n",
       "    <tr style=\"text-align: right;\">\n",
       "      <th></th>\n",
       "      <th>names</th>\n",
       "      <th>year</th>\n",
       "      <th>points</th>\n",
       "      <th>hello</th>\n",
       "      <th>zeros</th>\n",
       "      <th>debt</th>\n",
       "      <th>high_points</th>\n",
       "    </tr>\n",
       "  </thead>\n",
       "  <tbody>\n",
       "    <tr>\n",
       "      <th>one</th>\n",
       "      <td>lee</td>\n",
       "      <td>2014</td>\n",
       "      <td>1.5</td>\n",
       "      <td>NaN</td>\n",
       "      <td>0</td>\n",
       "      <td>NaN</td>\n",
       "      <td>False</td>\n",
       "    </tr>\n",
       "    <tr>\n",
       "      <th>two</th>\n",
       "      <td>lee</td>\n",
       "      <td>2015</td>\n",
       "      <td>1.7</td>\n",
       "      <td>NaN</td>\n",
       "      <td>1</td>\n",
       "      <td>-1.2</td>\n",
       "      <td>False</td>\n",
       "    </tr>\n",
       "  </tbody>\n",
       "</table>\n",
       "</div>"
      ],
      "text/plain": [
       "    names  year  points hello  zeros  debt  high_points\n",
       "one   lee  2014     1.5   NaN      0   NaN        False\n",
       "two   lee  2015     1.7   NaN      1  -1.2        False"
      ]
     },
     "execution_count": 31,
     "metadata": {
      "tags": []
     },
     "output_type": "execute_result"
    }
   ],
   "source": [
    "# 0번째 부터 2(3-1)번째 까지 가져온다.\n",
    "# 뒤에 써준 숫자번째의 행은 뺀다.\n",
    "df2[0:2]"
   ]
  },
  {
   "cell_type": "code",
   "execution_count": 0,
   "metadata": {
    "colab": {
     "base_uri": "https://localhost:8080/",
     "height": 158
    },
    "colab_type": "code",
    "executionInfo": {
     "elapsed": 537,
     "status": "ok",
     "timestamp": 1568162364867,
     "user": {
      "displayName": "황재익",
      "photoUrl": "",
      "userId": "04432755077897078229"
     },
     "user_tz": -540
    },
    "id": "jSAp2vFqJUV5",
    "outputId": "b0e0bce6-ebb5-415f-b80c-cb7f34e38e55"
   },
   "outputs": [
    {
     "data": {
      "text/plain": [
       "names            lee\n",
       "year            2015\n",
       "points           1.7\n",
       "hello            NaN\n",
       "zeros              1\n",
       "debt            -1.2\n",
       "high_points    False\n",
       "Name: two, dtype: object"
      ]
     },
     "execution_count": 32,
     "metadata": {
      "tags": []
     },
     "output_type": "execute_result"
    }
   ],
   "source": [
    "# 아래 방법을 권장한다.\n",
    "# .loc 또는 .iloc 함수를 사용하는 방법\n",
    "df2.loc['two']"
   ]
  },
  {
   "cell_type": "code",
   "execution_count": 0,
   "metadata": {
    "colab": {
     "base_uri": "https://localhost:8080/",
     "height": 136
    },
    "colab_type": "code",
    "executionInfo": {
     "elapsed": 1033,
     "status": "ok",
     "timestamp": 1568162365840,
     "user": {
      "displayName": "황재익",
      "photoUrl": "",
      "userId": "04432755077897078229"
     },
     "user_tz": -540
    },
    "id": "gZODYM7VJdMq",
    "outputId": "ceb7c9e7-1859-4635-ca66-052db81b337e"
   },
   "outputs": [
    {
     "data": {
      "text/html": [
       "<div>\n",
       "<style scoped>\n",
       "    .dataframe tbody tr th:only-of-type {\n",
       "        vertical-align: middle;\n",
       "    }\n",
       "\n",
       "    .dataframe tbody tr th {\n",
       "        vertical-align: top;\n",
       "    }\n",
       "\n",
       "    .dataframe thead th {\n",
       "        text-align: right;\n",
       "    }\n",
       "</style>\n",
       "<table border=\"1\" class=\"dataframe\">\n",
       "  <thead>\n",
       "    <tr style=\"text-align: right;\">\n",
       "      <th></th>\n",
       "      <th>names</th>\n",
       "      <th>year</th>\n",
       "      <th>points</th>\n",
       "      <th>hello</th>\n",
       "      <th>zeros</th>\n",
       "      <th>debt</th>\n",
       "      <th>high_points</th>\n",
       "    </tr>\n",
       "  </thead>\n",
       "  <tbody>\n",
       "    <tr>\n",
       "      <th>two</th>\n",
       "      <td>lee</td>\n",
       "      <td>2015</td>\n",
       "      <td>1.7</td>\n",
       "      <td>NaN</td>\n",
       "      <td>1</td>\n",
       "      <td>-1.2</td>\n",
       "      <td>False</td>\n",
       "    </tr>\n",
       "    <tr>\n",
       "      <th>three</th>\n",
       "      <td>lee</td>\n",
       "      <td>2016</td>\n",
       "      <td>3.6</td>\n",
       "      <td>NaN</td>\n",
       "      <td>2</td>\n",
       "      <td>NaN</td>\n",
       "      <td>False</td>\n",
       "    </tr>\n",
       "    <tr>\n",
       "      <th>four</th>\n",
       "      <td>park</td>\n",
       "      <td>2015</td>\n",
       "      <td>2.4</td>\n",
       "      <td>NaN</td>\n",
       "      <td>3</td>\n",
       "      <td>-1.4</td>\n",
       "      <td>True</td>\n",
       "    </tr>\n",
       "  </tbody>\n",
       "</table>\n",
       "</div>"
      ],
      "text/plain": [
       "      names  year  points hello  zeros  debt  high_points\n",
       "two     lee  2015     1.7   NaN      1  -1.2        False\n",
       "three   lee  2016     3.6   NaN      2   NaN        False\n",
       "four   park  2015     2.4   NaN      3  -1.4         True"
      ]
     },
     "execution_count": 33,
     "metadata": {
      "tags": []
     },
     "output_type": "execute_result"
    }
   ],
   "source": [
    "df2.loc['two':'four']"
   ]
  },
  {
   "cell_type": "code",
   "execution_count": 0,
   "metadata": {
    "colab": {
     "base_uri": "https://localhost:8080/",
     "height": 122
    },
    "colab_type": "code",
    "executionInfo": {
     "elapsed": 659,
     "status": "ok",
     "timestamp": 1568162365844,
     "user": {
      "displayName": "황재익",
      "photoUrl": "",
      "userId": "04432755077897078229"
     },
     "user_tz": -540
    },
    "id": "38wXjPqe1Iwa",
    "outputId": "26944994-8f7a-471a-f166-eae665a73daa"
   },
   "outputs": [
    {
     "data": {
      "text/plain": [
       "one      2014\n",
       "two      2015\n",
       "three    2016\n",
       "four     2015\n",
       "five     2016\n",
       "Name: year, dtype: int64"
      ]
     },
     "execution_count": 34,
     "metadata": {
      "tags": []
     },
     "output_type": "execute_result"
    }
   ],
   "source": [
    "df2.loc[:,'year']"
   ]
  },
  {
   "cell_type": "code",
   "execution_count": 0,
   "metadata": {
    "colab": {
     "base_uri": "https://localhost:8080/",
     "height": 195
    },
    "colab_type": "code",
    "executionInfo": {
     "elapsed": 649,
     "status": "ok",
     "timestamp": 1568162366190,
     "user": {
      "displayName": "황재익",
      "photoUrl": "",
      "userId": "04432755077897078229"
     },
     "user_tz": -540
    },
    "id": "3yGb7Xd31rnb",
    "outputId": "0a1f671a-fd63-44c2-e62b-d162d17dcfeb"
   },
   "outputs": [
    {
     "data": {
      "text/html": [
       "<div>\n",
       "<style scoped>\n",
       "    .dataframe tbody tr th:only-of-type {\n",
       "        vertical-align: middle;\n",
       "    }\n",
       "\n",
       "    .dataframe tbody tr th {\n",
       "        vertical-align: top;\n",
       "    }\n",
       "\n",
       "    .dataframe thead th {\n",
       "        text-align: right;\n",
       "    }\n",
       "</style>\n",
       "<table border=\"1\" class=\"dataframe\">\n",
       "  <thead>\n",
       "    <tr style=\"text-align: right;\">\n",
       "      <th></th>\n",
       "      <th>names</th>\n",
       "      <th>year</th>\n",
       "      <th>points</th>\n",
       "      <th>hello</th>\n",
       "      <th>zeros</th>\n",
       "      <th>debt</th>\n",
       "      <th>high_points</th>\n",
       "    </tr>\n",
       "  </thead>\n",
       "  <tbody>\n",
       "    <tr>\n",
       "      <th>one</th>\n",
       "      <td>lee</td>\n",
       "      <td>2014</td>\n",
       "      <td>1.5</td>\n",
       "      <td>NaN</td>\n",
       "      <td>0</td>\n",
       "      <td>NaN</td>\n",
       "      <td>False</td>\n",
       "    </tr>\n",
       "    <tr>\n",
       "      <th>two</th>\n",
       "      <td>lee</td>\n",
       "      <td>2015</td>\n",
       "      <td>1.7</td>\n",
       "      <td>NaN</td>\n",
       "      <td>1</td>\n",
       "      <td>-1.2</td>\n",
       "      <td>False</td>\n",
       "    </tr>\n",
       "    <tr>\n",
       "      <th>three</th>\n",
       "      <td>lee</td>\n",
       "      <td>2016</td>\n",
       "      <td>3.6</td>\n",
       "      <td>NaN</td>\n",
       "      <td>2</td>\n",
       "      <td>NaN</td>\n",
       "      <td>False</td>\n",
       "    </tr>\n",
       "    <tr>\n",
       "      <th>four</th>\n",
       "      <td>park</td>\n",
       "      <td>2015</td>\n",
       "      <td>2.4</td>\n",
       "      <td>NaN</td>\n",
       "      <td>3</td>\n",
       "      <td>-1.4</td>\n",
       "      <td>True</td>\n",
       "    </tr>\n",
       "    <tr>\n",
       "      <th>five</th>\n",
       "      <td>park</td>\n",
       "      <td>2016</td>\n",
       "      <td>2.9</td>\n",
       "      <td>NaN</td>\n",
       "      <td>4</td>\n",
       "      <td>3.0</td>\n",
       "      <td>True</td>\n",
       "    </tr>\n",
       "  </tbody>\n",
       "</table>\n",
       "</div>"
      ],
      "text/plain": [
       "      names  year  points hello  zeros  debt  high_points\n",
       "one     lee  2014     1.5   NaN      0   NaN        False\n",
       "two     lee  2015     1.7   NaN      1  -1.2        False\n",
       "three   lee  2016     3.6   NaN      2   NaN        False\n",
       "four   park  2015     2.4   NaN      3  -1.4         True\n",
       "five   park  2016     2.9   NaN      4   3.0         True"
      ]
     },
     "execution_count": 35,
     "metadata": {
      "tags": []
     },
     "output_type": "execute_result"
    }
   ],
   "source": [
    "#복사할때 새로운 공간할당을 위해 copy\n",
    "df = df2.copy()\n",
    "df2\n",
    "df.Name = 1\n",
    "df"
   ]
  },
  {
   "cell_type": "code",
   "execution_count": 0,
   "metadata": {
    "colab": {},
    "colab_type": "code",
    "id": "sRVvsd6I1_ce"
   },
   "outputs": [],
   "source": [
    "# 새로운 행 삽입하기\n",
    "#df2.loc['six',:] = [2013,'june',4.0,2]\n",
    "df2.loc['six'] = ['june',2017,4.0,3,3,3,True]"
   ]
  },
  {
   "cell_type": "code",
   "execution_count": 0,
   "metadata": {
    "colab": {
     "base_uri": "https://localhost:8080/",
     "height": 225
    },
    "colab_type": "code",
    "executionInfo": {
     "elapsed": 657,
     "status": "ok",
     "timestamp": 1568162367153,
     "user": {
      "displayName": "황재익",
      "photoUrl": "",
      "userId": "04432755077897078229"
     },
     "user_tz": -540
    },
    "id": "JhZrnJSV2MYW",
    "outputId": "f4e50111-9acf-4ca6-c680-f0d7962e367f"
   },
   "outputs": [
    {
     "data": {
      "text/html": [
       "<div>\n",
       "<style scoped>\n",
       "    .dataframe tbody tr th:only-of-type {\n",
       "        vertical-align: middle;\n",
       "    }\n",
       "\n",
       "    .dataframe tbody tr th {\n",
       "        vertical-align: top;\n",
       "    }\n",
       "\n",
       "    .dataframe thead th {\n",
       "        text-align: right;\n",
       "    }\n",
       "</style>\n",
       "<table border=\"1\" class=\"dataframe\">\n",
       "  <thead>\n",
       "    <tr style=\"text-align: right;\">\n",
       "      <th></th>\n",
       "      <th>names</th>\n",
       "      <th>year</th>\n",
       "      <th>points</th>\n",
       "      <th>hello</th>\n",
       "      <th>zeros</th>\n",
       "      <th>debt</th>\n",
       "      <th>high_points</th>\n",
       "    </tr>\n",
       "  </thead>\n",
       "  <tbody>\n",
       "    <tr>\n",
       "      <th>one</th>\n",
       "      <td>lee</td>\n",
       "      <td>2014</td>\n",
       "      <td>1.5</td>\n",
       "      <td>NaN</td>\n",
       "      <td>0</td>\n",
       "      <td>NaN</td>\n",
       "      <td>False</td>\n",
       "    </tr>\n",
       "    <tr>\n",
       "      <th>two</th>\n",
       "      <td>lee</td>\n",
       "      <td>2015</td>\n",
       "      <td>1.7</td>\n",
       "      <td>NaN</td>\n",
       "      <td>1</td>\n",
       "      <td>-1.2</td>\n",
       "      <td>False</td>\n",
       "    </tr>\n",
       "    <tr>\n",
       "      <th>three</th>\n",
       "      <td>lee</td>\n",
       "      <td>2016</td>\n",
       "      <td>3.6</td>\n",
       "      <td>NaN</td>\n",
       "      <td>2</td>\n",
       "      <td>NaN</td>\n",
       "      <td>False</td>\n",
       "    </tr>\n",
       "    <tr>\n",
       "      <th>four</th>\n",
       "      <td>park</td>\n",
       "      <td>2015</td>\n",
       "      <td>2.4</td>\n",
       "      <td>NaN</td>\n",
       "      <td>3</td>\n",
       "      <td>-1.4</td>\n",
       "      <td>True</td>\n",
       "    </tr>\n",
       "    <tr>\n",
       "      <th>five</th>\n",
       "      <td>park</td>\n",
       "      <td>2016</td>\n",
       "      <td>2.9</td>\n",
       "      <td>NaN</td>\n",
       "      <td>4</td>\n",
       "      <td>3.0</td>\n",
       "      <td>True</td>\n",
       "    </tr>\n",
       "    <tr>\n",
       "      <th>six</th>\n",
       "      <td>june</td>\n",
       "      <td>2017</td>\n",
       "      <td>4.0</td>\n",
       "      <td>3</td>\n",
       "      <td>3</td>\n",
       "      <td>3.0</td>\n",
       "      <td>True</td>\n",
       "    </tr>\n",
       "  </tbody>\n",
       "</table>\n",
       "</div>"
      ],
      "text/plain": [
       "      names  year  points hello  zeros  debt  high_points\n",
       "one     lee  2014     1.5   NaN      0   NaN        False\n",
       "two     lee  2015     1.7   NaN      1  -1.2        False\n",
       "three   lee  2016     3.6   NaN      2   NaN        False\n",
       "four   park  2015     2.4   NaN      3  -1.4         True\n",
       "five   park  2016     2.9   NaN      4   3.0         True\n",
       "six    june  2017     4.0     3      3   3.0         True"
      ]
     },
     "execution_count": 37,
     "metadata": {
      "tags": []
     },
     "output_type": "execute_result"
    }
   ],
   "source": [
    "df2"
   ]
  },
  {
   "cell_type": "code",
   "execution_count": 0,
   "metadata": {
    "colab": {
     "base_uri": "https://localhost:8080/",
     "height": 225
    },
    "colab_type": "code",
    "executionInfo": {
     "elapsed": 719,
     "status": "ok",
     "timestamp": 1568163367128,
     "user": {
      "displayName": "황재익",
      "photoUrl": "",
      "userId": "04432755077897078229"
     },
     "user_tz": -540
    },
    "id": "hwLbM9-y2NA7",
    "outputId": "752d22e9-7182-4dac-81a8-583b5fd301b7"
   },
   "outputs": [
    {
     "data": {
      "text/html": [
       "<div>\n",
       "<style scoped>\n",
       "    .dataframe tbody tr th:only-of-type {\n",
       "        vertical-align: middle;\n",
       "    }\n",
       "\n",
       "    .dataframe tbody tr th {\n",
       "        vertical-align: top;\n",
       "    }\n",
       "\n",
       "    .dataframe thead th {\n",
       "        text-align: right;\n",
       "    }\n",
       "</style>\n",
       "<table border=\"1\" class=\"dataframe\">\n",
       "  <thead>\n",
       "    <tr style=\"text-align: right;\">\n",
       "      <th></th>\n",
       "      <th>hello</th>\n",
       "    </tr>\n",
       "  </thead>\n",
       "  <tbody>\n",
       "    <tr>\n",
       "      <th>one</th>\n",
       "      <td>NaN</td>\n",
       "    </tr>\n",
       "    <tr>\n",
       "      <th>two</th>\n",
       "      <td>NaN</td>\n",
       "    </tr>\n",
       "    <tr>\n",
       "      <th>three</th>\n",
       "      <td>NaN</td>\n",
       "    </tr>\n",
       "    <tr>\n",
       "      <th>four</th>\n",
       "      <td>NaN</td>\n",
       "    </tr>\n",
       "    <tr>\n",
       "      <th>five</th>\n",
       "      <td>NaN</td>\n",
       "    </tr>\n",
       "    <tr>\n",
       "      <th>six</th>\n",
       "      <td>3</td>\n",
       "    </tr>\n",
       "  </tbody>\n",
       "</table>\n",
       "</div>"
      ],
      "text/plain": [
       "      hello\n",
       "one     NaN\n",
       "two     NaN\n",
       "three   NaN\n",
       "four    NaN\n",
       "five    NaN\n",
       "six       3"
      ]
     },
     "execution_count": 54,
     "metadata": {
      "tags": []
     },
     "output_type": "execute_result"
    }
   ],
   "source": [
    "# .iloc 사용 :: index 번호를 사용한다.\n",
    "df2.iloc[3]"
   ]
  },
  {
   "cell_type": "code",
   "execution_count": 0,
   "metadata": {
    "colab": {
     "base_uri": "https://localhost:8080/",
     "height": 106
    },
    "colab_type": "code",
    "executionInfo": {
     "elapsed": 1044,
     "status": "ok",
     "timestamp": 1568162369495,
     "user": {
      "displayName": "황재익",
      "photoUrl": "",
      "userId": "04432755077897078229"
     },
     "user_tz": -540
    },
    "id": "BBEY-F_X2XDi",
    "outputId": "1cbe4f37-444f-48fc-bd79-983378d4e469"
   },
   "outputs": [
    {
     "data": {
      "text/html": [
       "<div>\n",
       "<style scoped>\n",
       "    .dataframe tbody tr th:only-of-type {\n",
       "        vertical-align: middle;\n",
       "    }\n",
       "\n",
       "    .dataframe tbody tr th {\n",
       "        vertical-align: top;\n",
       "    }\n",
       "\n",
       "    .dataframe thead th {\n",
       "        text-align: right;\n",
       "    }\n",
       "</style>\n",
       "<table border=\"1\" class=\"dataframe\">\n",
       "  <thead>\n",
       "    <tr style=\"text-align: right;\">\n",
       "      <th></th>\n",
       "      <th>names</th>\n",
       "      <th>year</th>\n",
       "    </tr>\n",
       "  </thead>\n",
       "  <tbody>\n",
       "    <tr>\n",
       "      <th>four</th>\n",
       "      <td>park</td>\n",
       "      <td>2015</td>\n",
       "    </tr>\n",
       "    <tr>\n",
       "      <th>five</th>\n",
       "      <td>park</td>\n",
       "      <td>2016</td>\n",
       "    </tr>\n",
       "  </tbody>\n",
       "</table>\n",
       "</div>"
      ],
      "text/plain": [
       "     names  year\n",
       "four  park  2015\n",
       "five  park  2016"
      ]
     },
     "execution_count": 39,
     "metadata": {
      "tags": []
     },
     "output_type": "execute_result"
    }
   ],
   "source": [
    "df2.iloc[3:5,0:2]"
   ]
  },
  {
   "cell_type": "code",
   "execution_count": 0,
   "metadata": {
    "colab": {
     "base_uri": "https://localhost:8080/",
     "height": 136
    },
    "colab_type": "code",
    "executionInfo": {
     "elapsed": 649,
     "status": "ok",
     "timestamp": 1568162369807,
     "user": {
      "displayName": "황재익",
      "photoUrl": "",
      "userId": "04432755077897078229"
     },
     "user_tz": -540
    },
    "id": "m33v48QV2nmz",
    "outputId": "b9984d18-91e3-4854-ddea-1139188cd611"
   },
   "outputs": [
    {
     "data": {
      "text/html": [
       "<div>\n",
       "<style scoped>\n",
       "    .dataframe tbody tr th:only-of-type {\n",
       "        vertical-align: middle;\n",
       "    }\n",
       "\n",
       "    .dataframe tbody tr th {\n",
       "        vertical-align: top;\n",
       "    }\n",
       "\n",
       "    .dataframe thead th {\n",
       "        text-align: right;\n",
       "    }\n",
       "</style>\n",
       "<table border=\"1\" class=\"dataframe\">\n",
       "  <thead>\n",
       "    <tr style=\"text-align: right;\">\n",
       "      <th></th>\n",
       "      <th>points</th>\n",
       "    </tr>\n",
       "  </thead>\n",
       "  <tbody>\n",
       "    <tr>\n",
       "      <th>two</th>\n",
       "      <td>1.7</td>\n",
       "    </tr>\n",
       "    <tr>\n",
       "      <th>four</th>\n",
       "      <td>2.4</td>\n",
       "    </tr>\n",
       "    <tr>\n",
       "      <th>five</th>\n",
       "      <td>2.9</td>\n",
       "    </tr>\n",
       "  </tbody>\n",
       "</table>\n",
       "</div>"
      ],
      "text/plain": [
       "      points\n",
       "two      1.7\n",
       "four     2.4\n",
       "five     2.9"
      ]
     },
     "execution_count": 40,
     "metadata": {
      "tags": []
     },
     "output_type": "execute_result"
    }
   ],
   "source": [
    "df2.iloc[[1,3,4],[2]]"
   ]
  },
  {
   "cell_type": "code",
   "execution_count": 0,
   "metadata": {
    "colab": {
     "base_uri": "https://localhost:8080/",
     "height": 225
    },
    "colab_type": "code",
    "executionInfo": {
     "elapsed": 752,
     "status": "ok",
     "timestamp": 1568162370462,
     "user": {
      "displayName": "황재익",
      "photoUrl": "",
      "userId": "04432755077897078229"
     },
     "user_tz": -540
    },
    "id": "QBAF-2G_2qVN",
    "outputId": "e43f7d9c-1bed-47fc-fb75-5f06c3c0e268"
   },
   "outputs": [
    {
     "data": {
      "text/html": [
       "<div>\n",
       "<style scoped>\n",
       "    .dataframe tbody tr th:only-of-type {\n",
       "        vertical-align: middle;\n",
       "    }\n",
       "\n",
       "    .dataframe tbody tr th {\n",
       "        vertical-align: top;\n",
       "    }\n",
       "\n",
       "    .dataframe thead th {\n",
       "        text-align: right;\n",
       "    }\n",
       "</style>\n",
       "<table border=\"1\" class=\"dataframe\">\n",
       "  <thead>\n",
       "    <tr style=\"text-align: right;\">\n",
       "      <th></th>\n",
       "      <th>names</th>\n",
       "      <th>year</th>\n",
       "      <th>points</th>\n",
       "      <th>hello</th>\n",
       "    </tr>\n",
       "  </thead>\n",
       "  <tbody>\n",
       "    <tr>\n",
       "      <th>one</th>\n",
       "      <td>lee</td>\n",
       "      <td>2014</td>\n",
       "      <td>1.5</td>\n",
       "      <td>NaN</td>\n",
       "    </tr>\n",
       "    <tr>\n",
       "      <th>two</th>\n",
       "      <td>lee</td>\n",
       "      <td>2015</td>\n",
       "      <td>1.7</td>\n",
       "      <td>NaN</td>\n",
       "    </tr>\n",
       "    <tr>\n",
       "      <th>three</th>\n",
       "      <td>lee</td>\n",
       "      <td>2016</td>\n",
       "      <td>3.6</td>\n",
       "      <td>NaN</td>\n",
       "    </tr>\n",
       "    <tr>\n",
       "      <th>four</th>\n",
       "      <td>park</td>\n",
       "      <td>2015</td>\n",
       "      <td>2.4</td>\n",
       "      <td>NaN</td>\n",
       "    </tr>\n",
       "    <tr>\n",
       "      <th>five</th>\n",
       "      <td>park</td>\n",
       "      <td>2016</td>\n",
       "      <td>2.9</td>\n",
       "      <td>NaN</td>\n",
       "    </tr>\n",
       "    <tr>\n",
       "      <th>six</th>\n",
       "      <td>june</td>\n",
       "      <td>2017</td>\n",
       "      <td>4.0</td>\n",
       "      <td>3</td>\n",
       "    </tr>\n",
       "  </tbody>\n",
       "</table>\n",
       "</div>"
      ],
      "text/plain": [
       "      names  year  points hello\n",
       "one     lee  2014     1.5   NaN\n",
       "two     lee  2015     1.7   NaN\n",
       "three   lee  2016     3.6   NaN\n",
       "four   park  2015     2.4   NaN\n",
       "five   park  2016     2.9   NaN\n",
       "six    june  2017     4.0     3"
      ]
     },
     "execution_count": 41,
     "metadata": {
      "tags": []
     },
     "output_type": "execute_result"
    }
   ],
   "source": [
    "df2.iloc[:,0:4]"
   ]
  },
  {
   "cell_type": "code",
   "execution_count": 0,
   "metadata": {
    "colab": {
     "base_uri": "https://localhost:8080/",
     "height": 34
    },
    "colab_type": "code",
    "executionInfo": {
     "elapsed": 546,
     "status": "ok",
     "timestamp": 1568162370887,
     "user": {
      "displayName": "황재익",
      "photoUrl": "",
      "userId": "04432755077897078229"
     },
     "user_tz": -540
    },
    "id": "oGsxtw4E2wkM",
    "outputId": "9043a133-1a04-498a-cf70-161917e46691"
   },
   "outputs": [
    {
     "data": {
      "text/plain": [
       "2016"
      ]
     },
     "execution_count": 42,
     "metadata": {
      "tags": []
     },
     "output_type": "execute_result"
    }
   ],
   "source": [
    "df2.iloc[4][1]"
   ]
  },
  {
   "cell_type": "code",
   "execution_count": 0,
   "metadata": {
    "colab": {
     "base_uri": "https://localhost:8080/",
     "height": 34
    },
    "colab_type": "code",
    "executionInfo": {
     "elapsed": 919,
     "status": "ok",
     "timestamp": 1568162371764,
     "user": {
      "displayName": "황재익",
      "photoUrl": "",
      "userId": "04432755077897078229"
     },
     "user_tz": -540
    },
    "id": "elC0aZrRINZh",
    "outputId": "a71d735c-8b16-4cbc-e695-a53c26d8d9ee"
   },
   "outputs": [
    {
     "data": {
      "text/plain": [
       "2016"
      ]
     },
     "execution_count": 43,
     "metadata": {
      "tags": []
     },
     "output_type": "execute_result"
    }
   ],
   "source": [
    "df2.iloc[4,1]"
   ]
  },
  {
   "cell_type": "code",
   "execution_count": 0,
   "metadata": {
    "colab": {
     "base_uri": "https://localhost:8080/",
     "height": 225
    },
    "colab_type": "code",
    "executionInfo": {
     "elapsed": 776,
     "status": "ok",
     "timestamp": 1568162372096,
     "user": {
      "displayName": "황재익",
      "photoUrl": "",
      "userId": "04432755077897078229"
     },
     "user_tz": -540
    },
    "id": "zlK2hmcI20CB",
    "outputId": "2ebb171e-728a-4fd2-f744-73c7674464c5"
   },
   "outputs": [
    {
     "data": {
      "text/html": [
       "<div>\n",
       "<style scoped>\n",
       "    .dataframe tbody tr th:only-of-type {\n",
       "        vertical-align: middle;\n",
       "    }\n",
       "\n",
       "    .dataframe tbody tr th {\n",
       "        vertical-align: top;\n",
       "    }\n",
       "\n",
       "    .dataframe thead th {\n",
       "        text-align: right;\n",
       "    }\n",
       "</style>\n",
       "<table border=\"1\" class=\"dataframe\">\n",
       "  <thead>\n",
       "    <tr style=\"text-align: right;\">\n",
       "      <th></th>\n",
       "      <th>names</th>\n",
       "      <th>year</th>\n",
       "      <th>points</th>\n",
       "      <th>hello</th>\n",
       "      <th>zeros</th>\n",
       "      <th>debt</th>\n",
       "      <th>high_points</th>\n",
       "    </tr>\n",
       "  </thead>\n",
       "  <tbody>\n",
       "    <tr>\n",
       "      <th>one</th>\n",
       "      <td>lee</td>\n",
       "      <td>2014</td>\n",
       "      <td>1.5</td>\n",
       "      <td>NaN</td>\n",
       "      <td>0</td>\n",
       "      <td>NaN</td>\n",
       "      <td>False</td>\n",
       "    </tr>\n",
       "    <tr>\n",
       "      <th>two</th>\n",
       "      <td>lee</td>\n",
       "      <td>2015</td>\n",
       "      <td>1.7</td>\n",
       "      <td>NaN</td>\n",
       "      <td>1</td>\n",
       "      <td>-1.2</td>\n",
       "      <td>False</td>\n",
       "    </tr>\n",
       "    <tr>\n",
       "      <th>three</th>\n",
       "      <td>lee</td>\n",
       "      <td>2016</td>\n",
       "      <td>3.6</td>\n",
       "      <td>NaN</td>\n",
       "      <td>2</td>\n",
       "      <td>NaN</td>\n",
       "      <td>False</td>\n",
       "    </tr>\n",
       "    <tr>\n",
       "      <th>four</th>\n",
       "      <td>park</td>\n",
       "      <td>2015</td>\n",
       "      <td>2.4</td>\n",
       "      <td>NaN</td>\n",
       "      <td>3</td>\n",
       "      <td>-1.4</td>\n",
       "      <td>True</td>\n",
       "    </tr>\n",
       "    <tr>\n",
       "      <th>five</th>\n",
       "      <td>park</td>\n",
       "      <td>2016</td>\n",
       "      <td>2.9</td>\n",
       "      <td>NaN</td>\n",
       "      <td>4</td>\n",
       "      <td>3.0</td>\n",
       "      <td>True</td>\n",
       "    </tr>\n",
       "    <tr>\n",
       "      <th>six</th>\n",
       "      <td>june</td>\n",
       "      <td>2017</td>\n",
       "      <td>4.0</td>\n",
       "      <td>3</td>\n",
       "      <td>3</td>\n",
       "      <td>3.0</td>\n",
       "      <td>True</td>\n",
       "    </tr>\n",
       "  </tbody>\n",
       "</table>\n",
       "</div>"
      ],
      "text/plain": [
       "      names  year  points hello  zeros  debt  high_points\n",
       "one     lee  2014     1.5   NaN      0   NaN        False\n",
       "two     lee  2015     1.7   NaN      1  -1.2        False\n",
       "three   lee  2016     3.6   NaN      2   NaN        False\n",
       "four   park  2015     2.4   NaN      3  -1.4         True\n",
       "five   park  2016     2.9   NaN      4   3.0         True\n",
       "six    june  2017     4.0     3      3   3.0         True"
      ]
     },
     "execution_count": 44,
     "metadata": {
      "tags": []
     },
     "output_type": "execute_result"
    }
   ],
   "source": [
    "df2"
   ]
  },
  {
   "cell_type": "code",
   "execution_count": 0,
   "metadata": {
    "colab": {
     "base_uri": "https://localhost:8080/",
     "height": 195
    },
    "colab_type": "code",
    "executionInfo": {
     "elapsed": 710,
     "status": "ok",
     "timestamp": 1568162384409,
     "user": {
      "displayName": "황재익",
      "photoUrl": "",
      "userId": "04432755077897078229"
     },
     "user_tz": -540
    },
    "id": "tC5LbcHZJGDy",
    "outputId": "66ff90a5-47cb-4ba3-d3cf-5b404540c393"
   },
   "outputs": [
    {
     "data": {
      "text/html": [
       "<div>\n",
       "<style scoped>\n",
       "    .dataframe tbody tr th:only-of-type {\n",
       "        vertical-align: middle;\n",
       "    }\n",
       "\n",
       "    .dataframe tbody tr th {\n",
       "        vertical-align: top;\n",
       "    }\n",
       "\n",
       "    .dataframe thead th {\n",
       "        text-align: right;\n",
       "    }\n",
       "</style>\n",
       "<table border=\"1\" class=\"dataframe\">\n",
       "  <thead>\n",
       "    <tr style=\"text-align: right;\">\n",
       "      <th></th>\n",
       "      <th>names</th>\n",
       "      <th>year</th>\n",
       "      <th>points</th>\n",
       "      <th>hello</th>\n",
       "      <th>zeros</th>\n",
       "      <th>debt</th>\n",
       "      <th>high_points</th>\n",
       "    </tr>\n",
       "  </thead>\n",
       "  <tbody>\n",
       "    <tr>\n",
       "      <th>two</th>\n",
       "      <td>lee</td>\n",
       "      <td>2015</td>\n",
       "      <td>1.7</td>\n",
       "      <td>NaN</td>\n",
       "      <td>1</td>\n",
       "      <td>-1.2</td>\n",
       "      <td>False</td>\n",
       "    </tr>\n",
       "    <tr>\n",
       "      <th>three</th>\n",
       "      <td>lee</td>\n",
       "      <td>2016</td>\n",
       "      <td>3.6</td>\n",
       "      <td>NaN</td>\n",
       "      <td>2</td>\n",
       "      <td>NaN</td>\n",
       "      <td>False</td>\n",
       "    </tr>\n",
       "    <tr>\n",
       "      <th>four</th>\n",
       "      <td>park</td>\n",
       "      <td>2015</td>\n",
       "      <td>2.4</td>\n",
       "      <td>NaN</td>\n",
       "      <td>3</td>\n",
       "      <td>-1.4</td>\n",
       "      <td>True</td>\n",
       "    </tr>\n",
       "    <tr>\n",
       "      <th>five</th>\n",
       "      <td>park</td>\n",
       "      <td>2016</td>\n",
       "      <td>2.9</td>\n",
       "      <td>NaN</td>\n",
       "      <td>4</td>\n",
       "      <td>3.0</td>\n",
       "      <td>True</td>\n",
       "    </tr>\n",
       "    <tr>\n",
       "      <th>six</th>\n",
       "      <td>june</td>\n",
       "      <td>2017</td>\n",
       "      <td>4.0</td>\n",
       "      <td>3</td>\n",
       "      <td>3</td>\n",
       "      <td>3.0</td>\n",
       "      <td>True</td>\n",
       "    </tr>\n",
       "  </tbody>\n",
       "</table>\n",
       "</div>"
      ],
      "text/plain": [
       "      names  year  points hello  zeros  debt  high_points\n",
       "two     lee  2015     1.7   NaN      1  -1.2        False\n",
       "three   lee  2016     3.6   NaN      2   NaN        False\n",
       "four   park  2015     2.4   NaN      3  -1.4         True\n",
       "five   park  2016     2.9   NaN      4   3.0         True\n",
       "six    june  2017     4.0     3      3   3.0         True"
      ]
     },
     "execution_count": 47,
     "metadata": {
      "tags": []
     },
     "output_type": "execute_result"
    }
   ],
   "source": [
    "#year가 2014보다 큰 모든 행의 값\n",
    "df2.loc[df2.year>2014,:]"
   ]
  },
  {
   "cell_type": "code",
   "execution_count": 0,
   "metadata": {
    "colab": {
     "base_uri": "https://localhost:8080/",
     "height": 136
    },
    "colab_type": "code",
    "executionInfo": {
     "elapsed": 717,
     "status": "ok",
     "timestamp": 1568162388686,
     "user": {
      "displayName": "황재익",
      "photoUrl": "",
      "userId": "04432755077897078229"
     },
     "user_tz": -540
    },
    "id": "kbhSfHR-KWYA",
    "outputId": "f68d1929-d3e4-42cb-a644-0f0030f335c8"
   },
   "outputs": [
    {
     "data": {
      "text/html": [
       "<div>\n",
       "<style scoped>\n",
       "    .dataframe tbody tr th:only-of-type {\n",
       "        vertical-align: middle;\n",
       "    }\n",
       "\n",
       "    .dataframe tbody tr th {\n",
       "        vertical-align: top;\n",
       "    }\n",
       "\n",
       "    .dataframe thead th {\n",
       "        text-align: right;\n",
       "    }\n",
       "</style>\n",
       "<table border=\"1\" class=\"dataframe\">\n",
       "  <thead>\n",
       "    <tr style=\"text-align: right;\">\n",
       "      <th></th>\n",
       "      <th>points</th>\n",
       "      <th>zeros</th>\n",
       "    </tr>\n",
       "  </thead>\n",
       "  <tbody>\n",
       "    <tr>\n",
       "      <th>one</th>\n",
       "      <td>1.5</td>\n",
       "      <td>0</td>\n",
       "    </tr>\n",
       "    <tr>\n",
       "      <th>two</th>\n",
       "      <td>1.7</td>\n",
       "      <td>1</td>\n",
       "    </tr>\n",
       "    <tr>\n",
       "      <th>three</th>\n",
       "      <td>3.6</td>\n",
       "      <td>2</td>\n",
       "    </tr>\n",
       "  </tbody>\n",
       "</table>\n",
       "</div>"
      ],
      "text/plain": [
       "       points  zeros\n",
       "one       1.5      0\n",
       "two       1.7      1\n",
       "three     3.6      2"
      ]
     },
     "execution_count": 48,
     "metadata": {
      "tags": []
     },
     "output_type": "execute_result"
    }
   ],
   "source": [
    "#name이 lee인 애들에서 points와 zeros를 가져오세요\n",
    "df2.loc[df2.names =='lee',['points','zeros']]\n",
    "\n",
    "df2.loc[df2['names']=='lee',['points','zeros']]"
   ]
  },
  {
   "cell_type": "code",
   "execution_count": 0,
   "metadata": {
    "colab": {
     "base_uri": "https://localhost:8080/",
     "height": 136
    },
    "colab_type": "code",
    "executionInfo": {
     "elapsed": 716,
     "status": "ok",
     "timestamp": 1568162392310,
     "user": {
      "displayName": "황재익",
      "photoUrl": "",
      "userId": "04432755077897078229"
     },
     "user_tz": -540
    },
    "id": "zZ69pXIGLqSW",
    "outputId": "21c07d08-51f0-4c95-c44f-38bd40f44ed3"
   },
   "outputs": [
    {
     "data": {
      "text/html": [
       "<div>\n",
       "<style scoped>\n",
       "    .dataframe tbody tr th:only-of-type {\n",
       "        vertical-align: middle;\n",
       "    }\n",
       "\n",
       "    .dataframe tbody tr th {\n",
       "        vertical-align: top;\n",
       "    }\n",
       "\n",
       "    .dataframe thead th {\n",
       "        text-align: right;\n",
       "    }\n",
       "</style>\n",
       "<table border=\"1\" class=\"dataframe\">\n",
       "  <thead>\n",
       "    <tr style=\"text-align: right;\">\n",
       "      <th></th>\n",
       "      <th>names</th>\n",
       "      <th>year</th>\n",
       "      <th>points</th>\n",
       "      <th>hello</th>\n",
       "      <th>zeros</th>\n",
       "      <th>debt</th>\n",
       "      <th>high_points</th>\n",
       "    </tr>\n",
       "  </thead>\n",
       "  <tbody>\n",
       "    <tr>\n",
       "      <th>one</th>\n",
       "      <td>lee</td>\n",
       "      <td>2014</td>\n",
       "      <td>1.5</td>\n",
       "      <td>NaN</td>\n",
       "      <td>0</td>\n",
       "      <td>NaN</td>\n",
       "      <td>False</td>\n",
       "    </tr>\n",
       "    <tr>\n",
       "      <th>three</th>\n",
       "      <td>lee</td>\n",
       "      <td>2016</td>\n",
       "      <td>3.6</td>\n",
       "      <td>NaN</td>\n",
       "      <td>2</td>\n",
       "      <td>NaN</td>\n",
       "      <td>False</td>\n",
       "    </tr>\n",
       "    <tr>\n",
       "      <th>six</th>\n",
       "      <td>june</td>\n",
       "      <td>2017</td>\n",
       "      <td>4.0</td>\n",
       "      <td>3</td>\n",
       "      <td>3</td>\n",
       "      <td>3.0</td>\n",
       "      <td>True</td>\n",
       "    </tr>\n",
       "  </tbody>\n",
       "</table>\n",
       "</div>"
      ],
      "text/plain": [
       "      names  year  points hello  zeros  debt  high_points\n",
       "one     lee  2014     1.5   NaN      0   NaN        False\n",
       "three   lee  2016     3.6   NaN      2   NaN        False\n",
       "six    june  2017     4.0     3      3   3.0         True"
      ]
     },
     "execution_count": 49,
     "metadata": {
      "tags": []
     },
     "output_type": "execute_result"
    }
   ],
   "source": [
    "#points가 1.7미만 or points>2.9\n",
    "df2.loc[((df2.points<1.7) | (df2.points>2.9)) , :]"
   ]
  },
  {
   "cell_type": "code",
   "execution_count": 0,
   "metadata": {
    "colab": {},
    "colab_type": "code",
    "id": "5cEj19P-22BK"
   },
   "outputs": [],
   "source": [
    "# 4.DataFrame에서의 boolean Indexing\n"
   ]
  },
  {
   "cell_type": "code",
   "execution_count": 0,
   "metadata": {
    "colab": {},
    "colab_type": "code",
    "id": "tslfvsc127Dn"
   },
   "outputs": [],
   "source": []
  },
  {
   "cell_type": "code",
   "execution_count": 0,
   "metadata": {
    "colab": {},
    "colab_type": "code",
    "id": "z6v4xUl927va"
   },
   "outputs": [],
   "source": [
    "# year가 2014보다 큰 boolean data\n"
   ]
  },
  {
   "cell_type": "code",
   "execution_count": 0,
   "metadata": {
    "colab": {},
    "colab_type": "code",
    "id": "uqzuXGkp3CcU"
   },
   "outputs": [],
   "source": [
    "# year가 2014보다 큰 모든 행의 값\n"
   ]
  },
  {
   "cell_type": "code",
   "execution_count": 0,
   "metadata": {
    "colab": {},
    "colab_type": "code",
    "id": "-eEqoexQ3LQa"
   },
   "outputs": [],
   "source": []
  },
  {
   "cell_type": "code",
   "execution_count": 0,
   "metadata": {
    "colab": {},
    "colab_type": "code",
    "id": "KWQh4Y3w3TUi"
   },
   "outputs": [],
   "source": [
    "# numpy에서와 같이 논리연산을 응용할 수 있다.\n"
   ]
  },
  {
   "cell_type": "code",
   "execution_count": 0,
   "metadata": {
    "colab": {},
    "colab_type": "code",
    "id": "ZKY96Gaf3iWE"
   },
   "outputs": [],
   "source": [
    "# 새로운 값을 대입할 수도 있다.\n"
   ]
  },
  {
   "cell_type": "code",
   "execution_count": 0,
   "metadata": {
    "colab": {},
    "colab_type": "code",
    "id": "jLzAOnEA3vG1"
   },
   "outputs": [],
   "source": []
  },
  {
   "cell_type": "code",
   "execution_count": 0,
   "metadata": {
    "colab": {},
    "colab_type": "code",
    "id": "scm4b7Bs3vlj"
   },
   "outputs": [],
   "source": [
    "# 5.Data"
   ]
  },
  {
   "cell_type": "code",
   "execution_count": 0,
   "metadata": {
    "colab": {
     "base_uri": "https://localhost:8080/",
     "height": 225
    },
    "colab_type": "code",
    "executionInfo": {
     "elapsed": 1517,
     "status": "ok",
     "timestamp": 1568164987664,
     "user": {
      "displayName": "황재익",
      "photoUrl": "",
      "userId": "04432755077897078229"
     },
     "user_tz": -540
    },
    "id": "Gq0ze94j30gK",
    "outputId": "85b81c07-2fda-43f8-855d-668a83150f09"
   },
   "outputs": [
    {
     "data": {
      "text/html": [
       "<div>\n",
       "<style scoped>\n",
       "    .dataframe tbody tr th:only-of-type {\n",
       "        vertical-align: middle;\n",
       "    }\n",
       "\n",
       "    .dataframe tbody tr th {\n",
       "        vertical-align: top;\n",
       "    }\n",
       "\n",
       "    .dataframe thead th {\n",
       "        text-align: right;\n",
       "    }\n",
       "</style>\n",
       "<table border=\"1\" class=\"dataframe\">\n",
       "  <thead>\n",
       "    <tr style=\"text-align: right;\">\n",
       "      <th></th>\n",
       "      <th>0</th>\n",
       "      <th>1</th>\n",
       "      <th>2</th>\n",
       "      <th>3</th>\n",
       "    </tr>\n",
       "  </thead>\n",
       "  <tbody>\n",
       "    <tr>\n",
       "      <th>0</th>\n",
       "      <td>0.715454</td>\n",
       "      <td>1.064547</td>\n",
       "      <td>1.526200</td>\n",
       "      <td>0.395077</td>\n",
       "    </tr>\n",
       "    <tr>\n",
       "      <th>1</th>\n",
       "      <td>-0.715198</td>\n",
       "      <td>0.782138</td>\n",
       "      <td>-1.806332</td>\n",
       "      <td>0.361159</td>\n",
       "    </tr>\n",
       "    <tr>\n",
       "      <th>2</th>\n",
       "      <td>2.594350</td>\n",
       "      <td>-2.007996</td>\n",
       "      <td>-0.342244</td>\n",
       "      <td>1.620392</td>\n",
       "    </tr>\n",
       "    <tr>\n",
       "      <th>3</th>\n",
       "      <td>0.253070</td>\n",
       "      <td>-0.836430</td>\n",
       "      <td>-0.923085</td>\n",
       "      <td>-0.162492</td>\n",
       "    </tr>\n",
       "    <tr>\n",
       "      <th>4</th>\n",
       "      <td>-0.460992</td>\n",
       "      <td>1.365307</td>\n",
       "      <td>-0.805626</td>\n",
       "      <td>0.059174</td>\n",
       "    </tr>\n",
       "    <tr>\n",
       "      <th>5</th>\n",
       "      <td>-0.478290</td>\n",
       "      <td>1.377063</td>\n",
       "      <td>0.358636</td>\n",
       "      <td>-0.624817</td>\n",
       "    </tr>\n",
       "  </tbody>\n",
       "</table>\n",
       "</div>"
      ],
      "text/plain": [
       "          0         1         2         3\n",
       "0  0.715454  1.064547  1.526200  0.395077\n",
       "1 -0.715198  0.782138 -1.806332  0.361159\n",
       "2  2.594350 -2.007996 -0.342244  1.620392\n",
       "3  0.253070 -0.836430 -0.923085 -0.162492\n",
       "4 -0.460992  1.365307 -0.805626  0.059174\n",
       "5 -0.478290  1.377063  0.358636 -0.624817"
      ]
     },
     "execution_count": 65,
     "metadata": {
      "tags": []
     },
     "output_type": "execute_result"
    }
   ],
   "source": [
    "# DataFrame을 만들 때 index, column을 설정하지 않으면 \n",
    "# 기본 값으로 0부터 시작하는 정수형 숫자로 입력된다.\n",
    "df = pd.DataFrame(np.random.randn(6,4))\n",
    "df"
   ]
  },
  {
   "cell_type": "code",
   "execution_count": 0,
   "metadata": {
    "colab": {
     "base_uri": "https://localhost:8080/",
     "height": 70
    },
    "colab_type": "code",
    "executionInfo": {
     "elapsed": 2319,
     "status": "ok",
     "timestamp": 1568164990382,
     "user": {
      "displayName": "황재익",
      "photoUrl": "",
      "userId": "04432755077897078229"
     },
     "user_tz": -540
    },
    "id": "NVop2Vb5bvlM",
    "outputId": "91e86528-bdb0-4a8f-e814-2a7a9732b0ed"
   },
   "outputs": [
    {
     "data": {
      "text/plain": [
       "DatetimeIndex(['2019-09-11', '2019-09-12', '2019-09-13', '2019-09-14',\n",
       "               '2019-09-15', '2019-09-16'],\n",
       "              dtype='datetime64[ns]', freq='D')"
      ]
     },
     "execution_count": 66,
     "metadata": {
      "tags": []
     },
     "output_type": "execute_result"
    }
   ],
   "source": [
    "# pandas에서 제공하는 date_range 함수는 datetime 자료형으로 구성된,\n",
    "# 날짜, 시각 등을 알 수 있는 자료형을 만드는 함수\n",
    "df.columns = ['A','B','C','D']\n",
    "df.index = pd.date_range('20190911',periods = 6)\n",
    "df.index"
   ]
  },
  {
   "cell_type": "code",
   "execution_count": 0,
   "metadata": {
    "colab": {
     "base_uri": "https://localhost:8080/",
     "height": 225
    },
    "colab_type": "code",
    "executionInfo": {
     "elapsed": 718,
     "status": "ok",
     "timestamp": 1568165027967,
     "user": {
      "displayName": "황재익",
      "photoUrl": "",
      "userId": "04432755077897078229"
     },
     "user_tz": -540
    },
    "id": "InV6qq0t4m5V",
    "outputId": "e7df61de-13f3-41a4-dca1-611b9265d2b5"
   },
   "outputs": [
    {
     "data": {
      "text/html": [
       "<div>\n",
       "<style scoped>\n",
       "    .dataframe tbody tr th:only-of-type {\n",
       "        vertical-align: middle;\n",
       "    }\n",
       "\n",
       "    .dataframe tbody tr th {\n",
       "        vertical-align: top;\n",
       "    }\n",
       "\n",
       "    .dataframe thead th {\n",
       "        text-align: right;\n",
       "    }\n",
       "</style>\n",
       "<table border=\"1\" class=\"dataframe\">\n",
       "  <thead>\n",
       "    <tr style=\"text-align: right;\">\n",
       "      <th></th>\n",
       "      <th>A</th>\n",
       "      <th>B</th>\n",
       "      <th>C</th>\n",
       "      <th>D</th>\n",
       "      <th>F</th>\n",
       "    </tr>\n",
       "  </thead>\n",
       "  <tbody>\n",
       "    <tr>\n",
       "      <th>2019-09-11</th>\n",
       "      <td>0.715454</td>\n",
       "      <td>1.064547</td>\n",
       "      <td>1.526200</td>\n",
       "      <td>0.395077</td>\n",
       "      <td>1.0</td>\n",
       "    </tr>\n",
       "    <tr>\n",
       "      <th>2019-09-12</th>\n",
       "      <td>-0.715198</td>\n",
       "      <td>0.782138</td>\n",
       "      <td>-1.806332</td>\n",
       "      <td>0.361159</td>\n",
       "      <td>NaN</td>\n",
       "    </tr>\n",
       "    <tr>\n",
       "      <th>2019-09-13</th>\n",
       "      <td>2.594350</td>\n",
       "      <td>-2.007996</td>\n",
       "      <td>-0.342244</td>\n",
       "      <td>1.620392</td>\n",
       "      <td>3.5</td>\n",
       "    </tr>\n",
       "    <tr>\n",
       "      <th>2019-09-14</th>\n",
       "      <td>0.253070</td>\n",
       "      <td>-0.836430</td>\n",
       "      <td>-0.923085</td>\n",
       "      <td>-0.162492</td>\n",
       "      <td>6.1</td>\n",
       "    </tr>\n",
       "    <tr>\n",
       "      <th>2019-09-15</th>\n",
       "      <td>-0.460992</td>\n",
       "      <td>1.365307</td>\n",
       "      <td>-0.805626</td>\n",
       "      <td>0.059174</td>\n",
       "      <td>NaN</td>\n",
       "    </tr>\n",
       "    <tr>\n",
       "      <th>2019-09-16</th>\n",
       "      <td>-0.478290</td>\n",
       "      <td>1.377063</td>\n",
       "      <td>0.358636</td>\n",
       "      <td>-0.624817</td>\n",
       "      <td>7.0</td>\n",
       "    </tr>\n",
       "  </tbody>\n",
       "</table>\n",
       "</div>"
      ],
      "text/plain": [
       "                   A         B         C         D    F\n",
       "2019-09-11  0.715454  1.064547  1.526200  0.395077  1.0\n",
       "2019-09-12 -0.715198  0.782138 -1.806332  0.361159  NaN\n",
       "2019-09-13  2.594350 -2.007996 -0.342244  1.620392  3.5\n",
       "2019-09-14  0.253070 -0.836430 -0.923085 -0.162492  6.1\n",
       "2019-09-15 -0.460992  1.365307 -0.805626  0.059174  NaN\n",
       "2019-09-16 -0.478290  1.377063  0.358636 -0.624817  7.0"
      ]
     },
     "execution_count": 68,
     "metadata": {
      "tags": []
     },
     "output_type": "execute_result"
    }
   ],
   "source": [
    "# np.nan은 NaN값을 의미한다.\n",
    "df['F'] =[1.0,np.nan,3.5,6.1,np.nan,7]\n",
    "df"
   ]
  },
  {
   "cell_type": "code",
   "execution_count": 0,
   "metadata": {
    "colab": {
     "base_uri": "https://localhost:8080/",
     "height": 225
    },
    "colab_type": "code",
    "executionInfo": {
     "elapsed": 932,
     "status": "ok",
     "timestamp": 1568165194900,
     "user": {
      "displayName": "황재익",
      "photoUrl": "",
      "userId": "04432755077897078229"
     },
     "user_tz": -540
    },
    "id": "98HrKxPu4xvu",
    "outputId": "573e0fe6-7d49-461e-b526-a1554c7f817e"
   },
   "outputs": [
    {
     "data": {
      "text/html": [
       "<div>\n",
       "<style scoped>\n",
       "    .dataframe tbody tr th:only-of-type {\n",
       "        vertical-align: middle;\n",
       "    }\n",
       "\n",
       "    .dataframe tbody tr th {\n",
       "        vertical-align: top;\n",
       "    }\n",
       "\n",
       "    .dataframe thead th {\n",
       "        text-align: right;\n",
       "    }\n",
       "</style>\n",
       "<table border=\"1\" class=\"dataframe\">\n",
       "  <thead>\n",
       "    <tr style=\"text-align: right;\">\n",
       "      <th></th>\n",
       "      <th>A</th>\n",
       "      <th>B</th>\n",
       "      <th>C</th>\n",
       "      <th>D</th>\n",
       "      <th>F</th>\n",
       "    </tr>\n",
       "  </thead>\n",
       "  <tbody>\n",
       "    <tr>\n",
       "      <th>2019-09-11</th>\n",
       "      <td>0.715454</td>\n",
       "      <td>1.064547</td>\n",
       "      <td>1.526200</td>\n",
       "      <td>0.395077</td>\n",
       "      <td>1.0</td>\n",
       "    </tr>\n",
       "    <tr>\n",
       "      <th>2019-09-12</th>\n",
       "      <td>-0.715198</td>\n",
       "      <td>0.782138</td>\n",
       "      <td>-1.806332</td>\n",
       "      <td>0.361159</td>\n",
       "      <td>NaN</td>\n",
       "    </tr>\n",
       "    <tr>\n",
       "      <th>2019-09-13</th>\n",
       "      <td>2.594350</td>\n",
       "      <td>-2.007996</td>\n",
       "      <td>-0.342244</td>\n",
       "      <td>1.620392</td>\n",
       "      <td>3.5</td>\n",
       "    </tr>\n",
       "    <tr>\n",
       "      <th>2019-09-14</th>\n",
       "      <td>0.253070</td>\n",
       "      <td>-0.836430</td>\n",
       "      <td>-0.923085</td>\n",
       "      <td>-0.162492</td>\n",
       "      <td>6.1</td>\n",
       "    </tr>\n",
       "    <tr>\n",
       "      <th>2019-09-15</th>\n",
       "      <td>-0.460992</td>\n",
       "      <td>1.365307</td>\n",
       "      <td>-0.805626</td>\n",
       "      <td>0.059174</td>\n",
       "      <td>NaN</td>\n",
       "    </tr>\n",
       "    <tr>\n",
       "      <th>2019-09-16</th>\n",
       "      <td>-0.478290</td>\n",
       "      <td>1.377063</td>\n",
       "      <td>0.358636</td>\n",
       "      <td>-0.624817</td>\n",
       "      <td>7.0</td>\n",
       "    </tr>\n",
       "  </tbody>\n",
       "</table>\n",
       "</div>"
      ],
      "text/plain": [
       "                   A         B         C         D    F\n",
       "2019-09-11  0.715454  1.064547  1.526200  0.395077  1.0\n",
       "2019-09-12 -0.715198  0.782138 -1.806332  0.361159  NaN\n",
       "2019-09-13  2.594350 -2.007996 -0.342244  1.620392  3.5\n",
       "2019-09-14  0.253070 -0.836430 -0.923085 -0.162492  6.1\n",
       "2019-09-15 -0.460992  1.365307 -0.805626  0.059174  NaN\n",
       "2019-09-16 -0.478290  1.377063  0.358636 -0.624817  7.0"
      ]
     },
     "execution_count": 70,
     "metadata": {
      "tags": []
     },
     "output_type": "execute_result"
    }
   ],
   "source": [
    "# NaN 없애기"
   ]
  },
  {
   "cell_type": "code",
   "execution_count": 0,
   "metadata": {
    "colab": {},
    "colab_type": "code",
    "id": "QvA5tYHO43Kz"
   },
   "outputs": [],
   "source": [
    "# 행의 값 중 하나라도 nan인 경우 그 행을 없앤다.\n",
    "df.dropna(how = 'any')"
   ]
  },
  {
   "cell_type": "code",
   "execution_count": 0,
   "metadata": {
    "colab": {
     "base_uri": "https://localhost:8080/",
     "height": 225
    },
    "colab_type": "code",
    "executionInfo": {
     "elapsed": 1535,
     "status": "ok",
     "timestamp": 1568165319768,
     "user": {
      "displayName": "황재익",
      "photoUrl": "",
      "userId": "04432755077897078229"
     },
     "user_tz": -540
    },
    "id": "_m6pLtbK49X9",
    "outputId": "c6f5f740-dbf6-4d5d-9ac4-8759050c5569"
   },
   "outputs": [
    {
     "data": {
      "text/html": [
       "<div>\n",
       "<style scoped>\n",
       "    .dataframe tbody tr th:only-of-type {\n",
       "        vertical-align: middle;\n",
       "    }\n",
       "\n",
       "    .dataframe tbody tr th {\n",
       "        vertical-align: top;\n",
       "    }\n",
       "\n",
       "    .dataframe thead th {\n",
       "        text-align: right;\n",
       "    }\n",
       "</style>\n",
       "<table border=\"1\" class=\"dataframe\">\n",
       "  <thead>\n",
       "    <tr style=\"text-align: right;\">\n",
       "      <th></th>\n",
       "      <th>A</th>\n",
       "      <th>B</th>\n",
       "      <th>C</th>\n",
       "      <th>D</th>\n",
       "      <th>F</th>\n",
       "    </tr>\n",
       "  </thead>\n",
       "  <tbody>\n",
       "    <tr>\n",
       "      <th>2019-09-11</th>\n",
       "      <td>0.715454</td>\n",
       "      <td>1.064547</td>\n",
       "      <td>1.526200</td>\n",
       "      <td>0.395077</td>\n",
       "      <td>1.0</td>\n",
       "    </tr>\n",
       "    <tr>\n",
       "      <th>2019-09-12</th>\n",
       "      <td>-0.715198</td>\n",
       "      <td>0.782138</td>\n",
       "      <td>-1.806332</td>\n",
       "      <td>0.361159</td>\n",
       "      <td>NaN</td>\n",
       "    </tr>\n",
       "    <tr>\n",
       "      <th>2019-09-13</th>\n",
       "      <td>2.594350</td>\n",
       "      <td>-2.007996</td>\n",
       "      <td>-0.342244</td>\n",
       "      <td>1.620392</td>\n",
       "      <td>3.5</td>\n",
       "    </tr>\n",
       "    <tr>\n",
       "      <th>2019-09-14</th>\n",
       "      <td>0.253070</td>\n",
       "      <td>-0.836430</td>\n",
       "      <td>-0.923085</td>\n",
       "      <td>-0.162492</td>\n",
       "      <td>6.1</td>\n",
       "    </tr>\n",
       "    <tr>\n",
       "      <th>2019-09-15</th>\n",
       "      <td>-0.460992</td>\n",
       "      <td>1.365307</td>\n",
       "      <td>-0.805626</td>\n",
       "      <td>0.059174</td>\n",
       "      <td>NaN</td>\n",
       "    </tr>\n",
       "    <tr>\n",
       "      <th>2019-09-16</th>\n",
       "      <td>-0.478290</td>\n",
       "      <td>1.377063</td>\n",
       "      <td>0.358636</td>\n",
       "      <td>-0.624817</td>\n",
       "      <td>7.0</td>\n",
       "    </tr>\n",
       "  </tbody>\n",
       "</table>\n",
       "</div>"
      ],
      "text/plain": [
       "                   A         B         C         D    F\n",
       "2019-09-11  0.715454  1.064547  1.526200  0.395077  1.0\n",
       "2019-09-12 -0.715198  0.782138 -1.806332  0.361159  NaN\n",
       "2019-09-13  2.594350 -2.007996 -0.342244  1.620392  3.5\n",
       "2019-09-14  0.253070 -0.836430 -0.923085 -0.162492  6.1\n",
       "2019-09-15 -0.460992  1.365307 -0.805626  0.059174  NaN\n",
       "2019-09-16 -0.478290  1.377063  0.358636 -0.624817  7.0"
      ]
     },
     "execution_count": 71,
     "metadata": {
      "tags": []
     },
     "output_type": "execute_result"
    }
   ],
   "source": [
    "# 행의 값이 모두 nan인 경우 그행을 없앤다.\n",
    "df.dropna(how = 'all')"
   ]
  },
  {
   "cell_type": "code",
   "execution_count": 0,
   "metadata": {
    "colab": {},
    "colab_type": "code",
    "id": "oAA2DeztCIbg"
   },
   "outputs": [],
   "source": [
    "# 주의 drop함수는 특정 행 또는 열을 drop하고 난 DataFrame을 반환한다.\n",
    "# 즉, 반환을 받지 않으면 기존의 DataFrame은 그대로이다.\n",
    "# 아니면, inplace = True 라는 인자를 추가하여, 반환을 받지 않고서도\n",
    "# 기존의 DataFrame이 변경되도록 한다."
   ]
  },
  {
   "cell_type": "code",
   "execution_count": 0,
   "metadata": {
    "colab": {
     "base_uri": "https://localhost:8080/",
     "height": 225
    },
    "colab_type": "code",
    "executionInfo": {
     "elapsed": 1511,
     "status": "ok",
     "timestamp": 1568165406235,
     "user": {
      "displayName": "황재익",
      "photoUrl": "",
      "userId": "04432755077897078229"
     },
     "user_tz": -540
    },
    "id": "WtiFmyH6Cr6z",
    "outputId": "fab49555-58c8-4910-dd95-c953ace5d3d0"
   },
   "outputs": [
    {
     "data": {
      "text/html": [
       "<div>\n",
       "<style scoped>\n",
       "    .dataframe tbody tr th:only-of-type {\n",
       "        vertical-align: middle;\n",
       "    }\n",
       "\n",
       "    .dataframe tbody tr th {\n",
       "        vertical-align: top;\n",
       "    }\n",
       "\n",
       "    .dataframe thead th {\n",
       "        text-align: right;\n",
       "    }\n",
       "</style>\n",
       "<table border=\"1\" class=\"dataframe\">\n",
       "  <thead>\n",
       "    <tr style=\"text-align: right;\">\n",
       "      <th></th>\n",
       "      <th>A</th>\n",
       "      <th>B</th>\n",
       "      <th>C</th>\n",
       "      <th>D</th>\n",
       "      <th>F</th>\n",
       "    </tr>\n",
       "  </thead>\n",
       "  <tbody>\n",
       "    <tr>\n",
       "      <th>2019-09-11</th>\n",
       "      <td>0.715454</td>\n",
       "      <td>1.064547</td>\n",
       "      <td>1.526200</td>\n",
       "      <td>0.395077</td>\n",
       "      <td>1.0</td>\n",
       "    </tr>\n",
       "    <tr>\n",
       "      <th>2019-09-12</th>\n",
       "      <td>-0.715198</td>\n",
       "      <td>0.782138</td>\n",
       "      <td>-1.806332</td>\n",
       "      <td>0.361159</td>\n",
       "      <td>0.5</td>\n",
       "    </tr>\n",
       "    <tr>\n",
       "      <th>2019-09-13</th>\n",
       "      <td>2.594350</td>\n",
       "      <td>-2.007996</td>\n",
       "      <td>-0.342244</td>\n",
       "      <td>1.620392</td>\n",
       "      <td>3.5</td>\n",
       "    </tr>\n",
       "    <tr>\n",
       "      <th>2019-09-14</th>\n",
       "      <td>0.253070</td>\n",
       "      <td>-0.836430</td>\n",
       "      <td>-0.923085</td>\n",
       "      <td>-0.162492</td>\n",
       "      <td>6.1</td>\n",
       "    </tr>\n",
       "    <tr>\n",
       "      <th>2019-09-15</th>\n",
       "      <td>-0.460992</td>\n",
       "      <td>1.365307</td>\n",
       "      <td>-0.805626</td>\n",
       "      <td>0.059174</td>\n",
       "      <td>0.5</td>\n",
       "    </tr>\n",
       "    <tr>\n",
       "      <th>2019-09-16</th>\n",
       "      <td>-0.478290</td>\n",
       "      <td>1.377063</td>\n",
       "      <td>0.358636</td>\n",
       "      <td>-0.624817</td>\n",
       "      <td>7.0</td>\n",
       "    </tr>\n",
       "  </tbody>\n",
       "</table>\n",
       "</div>"
      ],
      "text/plain": [
       "                   A         B         C         D    F\n",
       "2019-09-11  0.715454  1.064547  1.526200  0.395077  1.0\n",
       "2019-09-12 -0.715198  0.782138 -1.806332  0.361159  0.5\n",
       "2019-09-13  2.594350 -2.007996 -0.342244  1.620392  3.5\n",
       "2019-09-14  0.253070 -0.836430 -0.923085 -0.162492  6.1\n",
       "2019-09-15 -0.460992  1.365307 -0.805626  0.059174  0.5\n",
       "2019-09-16 -0.478290  1.377063  0.358636 -0.624817  7.0"
      ]
     },
     "execution_count": 73,
     "metadata": {
      "tags": []
     },
     "output_type": "execute_result"
    }
   ],
   "source": [
    "# nan 값에 값 넣기\n",
    "df.fillna(value = 0.5)"
   ]
  },
  {
   "cell_type": "code",
   "execution_count": 0,
   "metadata": {
    "colab": {
     "base_uri": "https://localhost:8080/",
     "height": 225
    },
    "colab_type": "code",
    "executionInfo": {
     "elapsed": 739,
     "status": "ok",
     "timestamp": 1568165703217,
     "user": {
      "displayName": "황재익",
      "photoUrl": "",
      "userId": "04432755077897078229"
     },
     "user_tz": -540
    },
    "id": "3gyRO6v1DCoN",
    "outputId": "ff0fd816-aea0-4adf-93ce-1935a5b75566"
   },
   "outputs": [
    {
     "data": {
      "text/html": [
       "<div>\n",
       "<style scoped>\n",
       "    .dataframe tbody tr th:only-of-type {\n",
       "        vertical-align: middle;\n",
       "    }\n",
       "\n",
       "    .dataframe tbody tr th {\n",
       "        vertical-align: top;\n",
       "    }\n",
       "\n",
       "    .dataframe thead th {\n",
       "        text-align: right;\n",
       "    }\n",
       "</style>\n",
       "<table border=\"1\" class=\"dataframe\">\n",
       "  <thead>\n",
       "    <tr style=\"text-align: right;\">\n",
       "      <th></th>\n",
       "      <th>A</th>\n",
       "      <th>B</th>\n",
       "      <th>C</th>\n",
       "      <th>D</th>\n",
       "      <th>F</th>\n",
       "    </tr>\n",
       "  </thead>\n",
       "  <tbody>\n",
       "    <tr>\n",
       "      <th>2019-09-11</th>\n",
       "      <td>False</td>\n",
       "      <td>False</td>\n",
       "      <td>False</td>\n",
       "      <td>False</td>\n",
       "      <td>False</td>\n",
       "    </tr>\n",
       "    <tr>\n",
       "      <th>2019-09-12</th>\n",
       "      <td>False</td>\n",
       "      <td>False</td>\n",
       "      <td>False</td>\n",
       "      <td>False</td>\n",
       "      <td>True</td>\n",
       "    </tr>\n",
       "    <tr>\n",
       "      <th>2019-09-13</th>\n",
       "      <td>False</td>\n",
       "      <td>False</td>\n",
       "      <td>False</td>\n",
       "      <td>False</td>\n",
       "      <td>False</td>\n",
       "    </tr>\n",
       "    <tr>\n",
       "      <th>2019-09-14</th>\n",
       "      <td>False</td>\n",
       "      <td>False</td>\n",
       "      <td>False</td>\n",
       "      <td>False</td>\n",
       "      <td>False</td>\n",
       "    </tr>\n",
       "    <tr>\n",
       "      <th>2019-09-15</th>\n",
       "      <td>False</td>\n",
       "      <td>False</td>\n",
       "      <td>False</td>\n",
       "      <td>False</td>\n",
       "      <td>True</td>\n",
       "    </tr>\n",
       "    <tr>\n",
       "      <th>2019-09-16</th>\n",
       "      <td>False</td>\n",
       "      <td>False</td>\n",
       "      <td>False</td>\n",
       "      <td>False</td>\n",
       "      <td>False</td>\n",
       "    </tr>\n",
       "  </tbody>\n",
       "</table>\n",
       "</div>"
      ],
      "text/plain": [
       "                A      B      C      D      F\n",
       "2019-09-11  False  False  False  False  False\n",
       "2019-09-12  False  False  False  False   True\n",
       "2019-09-13  False  False  False  False  False\n",
       "2019-09-14  False  False  False  False  False\n",
       "2019-09-15  False  False  False  False   True\n",
       "2019-09-16  False  False  False  False  False"
      ]
     },
     "execution_count": 74,
     "metadata": {
      "tags": []
     },
     "output_type": "execute_result"
    }
   ],
   "source": [
    "# nan 값인지 확인하기\n",
    "df.isnull()"
   ]
  },
  {
   "cell_type": "code",
   "execution_count": 0,
   "metadata": {
    "colab": {
     "base_uri": "https://localhost:8080/",
     "height": 106
    },
    "colab_type": "code",
    "executionInfo": {
     "elapsed": 734,
     "status": "ok",
     "timestamp": 1568165813622,
     "user": {
      "displayName": "황재익",
      "photoUrl": "",
      "userId": "04432755077897078229"
     },
     "user_tz": -540
    },
    "id": "RfwsIjr0DS7Y",
    "outputId": "6515616d-936d-448c-b7f3-a084fcb73482"
   },
   "outputs": [
    {
     "data": {
      "text/html": [
       "<div>\n",
       "<style scoped>\n",
       "    .dataframe tbody tr th:only-of-type {\n",
       "        vertical-align: middle;\n",
       "    }\n",
       "\n",
       "    .dataframe tbody tr th {\n",
       "        vertical-align: top;\n",
       "    }\n",
       "\n",
       "    .dataframe thead th {\n",
       "        text-align: right;\n",
       "    }\n",
       "</style>\n",
       "<table border=\"1\" class=\"dataframe\">\n",
       "  <thead>\n",
       "    <tr style=\"text-align: right;\">\n",
       "      <th></th>\n",
       "      <th>A</th>\n",
       "      <th>B</th>\n",
       "      <th>C</th>\n",
       "      <th>D</th>\n",
       "      <th>F</th>\n",
       "    </tr>\n",
       "  </thead>\n",
       "  <tbody>\n",
       "    <tr>\n",
       "      <th>2019-09-12</th>\n",
       "      <td>-0.715198</td>\n",
       "      <td>0.782138</td>\n",
       "      <td>-1.806332</td>\n",
       "      <td>0.361159</td>\n",
       "      <td>NaN</td>\n",
       "    </tr>\n",
       "    <tr>\n",
       "      <th>2019-09-15</th>\n",
       "      <td>-0.460992</td>\n",
       "      <td>1.365307</td>\n",
       "      <td>-0.805626</td>\n",
       "      <td>0.059174</td>\n",
       "      <td>NaN</td>\n",
       "    </tr>\n",
       "  </tbody>\n",
       "</table>\n",
       "</div>"
      ],
      "text/plain": [
       "                   A         B         C         D   F\n",
       "2019-09-12 -0.715198  0.782138 -1.806332  0.361159 NaN\n",
       "2019-09-15 -0.460992  1.365307 -0.805626  0.059174 NaN"
      ]
     },
     "execution_count": 76,
     "metadata": {
      "tags": []
     },
     "output_type": "execute_result"
    }
   ],
   "source": [
    "# F열에서 nan값을 포함하는 행만 추출하기\n",
    "df.loc[df.isnull()['F']]\n",
    "df.loc[df.isnull()['F'],:]"
   ]
  },
  {
   "cell_type": "code",
   "execution_count": 0,
   "metadata": {
    "colab": {
     "base_uri": "https://localhost:8080/",
     "height": 34
    },
    "colab_type": "code",
    "executionInfo": {
     "elapsed": 740,
     "status": "ok",
     "timestamp": 1568166012668,
     "user": {
      "displayName": "황재익",
      "photoUrl": "",
      "userId": "04432755077897078229"
     },
     "user_tz": -540
    },
    "id": "wo8YlPcn-ZzF",
    "outputId": "35d99f4c-52fc-4a3f-bf59-143d0e7da690"
   },
   "outputs": [
    {
     "data": {
      "text/plain": [
       "Timestamp('2019-09-11 00:00:00')"
      ]
     },
     "execution_count": 77,
     "metadata": {
      "tags": []
     },
     "output_type": "execute_result"
    }
   ],
   "source": [
    "pd.to_datetime('20190911')"
   ]
  },
  {
   "cell_type": "code",
   "execution_count": 0,
   "metadata": {
    "colab": {
     "base_uri": "https://localhost:8080/",
     "height": 195
    },
    "colab_type": "code",
    "executionInfo": {
     "elapsed": 713,
     "status": "ok",
     "timestamp": 1568166060331,
     "user": {
      "displayName": "황재익",
      "photoUrl": "",
      "userId": "04432755077897078229"
     },
     "user_tz": -540
    },
    "id": "6C3VBI_TDxpI",
    "outputId": "b968904c-0a39-4ffa-fd91-47562f26d45c"
   },
   "outputs": [
    {
     "data": {
      "text/html": [
       "<div>\n",
       "<style scoped>\n",
       "    .dataframe tbody tr th:only-of-type {\n",
       "        vertical-align: middle;\n",
       "    }\n",
       "\n",
       "    .dataframe tbody tr th {\n",
       "        vertical-align: top;\n",
       "    }\n",
       "\n",
       "    .dataframe thead th {\n",
       "        text-align: right;\n",
       "    }\n",
       "</style>\n",
       "<table border=\"1\" class=\"dataframe\">\n",
       "  <thead>\n",
       "    <tr style=\"text-align: right;\">\n",
       "      <th></th>\n",
       "      <th>A</th>\n",
       "      <th>B</th>\n",
       "      <th>C</th>\n",
       "      <th>D</th>\n",
       "      <th>F</th>\n",
       "    </tr>\n",
       "  </thead>\n",
       "  <tbody>\n",
       "    <tr>\n",
       "      <th>2019-09-11</th>\n",
       "      <td>0.715454</td>\n",
       "      <td>1.064547</td>\n",
       "      <td>1.526200</td>\n",
       "      <td>0.395077</td>\n",
       "      <td>1.0</td>\n",
       "    </tr>\n",
       "    <tr>\n",
       "      <th>2019-09-12</th>\n",
       "      <td>-0.715198</td>\n",
       "      <td>0.782138</td>\n",
       "      <td>-1.806332</td>\n",
       "      <td>0.361159</td>\n",
       "      <td>NaN</td>\n",
       "    </tr>\n",
       "    <tr>\n",
       "      <th>2019-09-14</th>\n",
       "      <td>0.253070</td>\n",
       "      <td>-0.836430</td>\n",
       "      <td>-0.923085</td>\n",
       "      <td>-0.162492</td>\n",
       "      <td>6.1</td>\n",
       "    </tr>\n",
       "    <tr>\n",
       "      <th>2019-09-15</th>\n",
       "      <td>-0.460992</td>\n",
       "      <td>1.365307</td>\n",
       "      <td>-0.805626</td>\n",
       "      <td>0.059174</td>\n",
       "      <td>NaN</td>\n",
       "    </tr>\n",
       "    <tr>\n",
       "      <th>2019-09-16</th>\n",
       "      <td>-0.478290</td>\n",
       "      <td>1.377063</td>\n",
       "      <td>0.358636</td>\n",
       "      <td>-0.624817</td>\n",
       "      <td>7.0</td>\n",
       "    </tr>\n",
       "  </tbody>\n",
       "</table>\n",
       "</div>"
      ],
      "text/plain": [
       "                   A         B         C         D    F\n",
       "2019-09-11  0.715454  1.064547  1.526200  0.395077  1.0\n",
       "2019-09-12 -0.715198  0.782138 -1.806332  0.361159  NaN\n",
       "2019-09-14  0.253070 -0.836430 -0.923085 -0.162492  6.1\n",
       "2019-09-15 -0.460992  1.365307 -0.805626  0.059174  NaN\n",
       "2019-09-16 -0.478290  1.377063  0.358636 -0.624817  7.0"
      ]
     },
     "execution_count": 81,
     "metadata": {
      "tags": []
     },
     "output_type": "execute_result"
    }
   ],
   "source": [
    "# 특정 행 drop 하기\n",
    "df.drop(pd.to_datetime('20190913'))"
   ]
  },
  {
   "cell_type": "code",
   "execution_count": 0,
   "metadata": {
    "colab": {},
    "colab_type": "code",
    "id": "QSk2hZFl_ZyG"
   },
   "outputs": [],
   "source": []
  },
  {
   "cell_type": "code",
   "execution_count": 0,
   "metadata": {
    "colab": {
     "base_uri": "https://localhost:8080/",
     "height": 166
    },
    "colab_type": "code",
    "executionInfo": {
     "elapsed": 753,
     "status": "ok",
     "timestamp": 1568166302444,
     "user": {
      "displayName": "황재익",
      "photoUrl": "",
      "userId": "04432755077897078229"
     },
     "user_tz": -540
    },
    "id": "9AsQdKDNEIau",
    "outputId": "d1e80552-8965-4867-a0f0-6e7a3627229f"
   },
   "outputs": [
    {
     "data": {
      "text/html": [
       "<div>\n",
       "<style scoped>\n",
       "    .dataframe tbody tr th:only-of-type {\n",
       "        vertical-align: middle;\n",
       "    }\n",
       "\n",
       "    .dataframe tbody tr th {\n",
       "        vertical-align: top;\n",
       "    }\n",
       "\n",
       "    .dataframe thead th {\n",
       "        text-align: right;\n",
       "    }\n",
       "</style>\n",
       "<table border=\"1\" class=\"dataframe\">\n",
       "  <thead>\n",
       "    <tr style=\"text-align: right;\">\n",
       "      <th></th>\n",
       "      <th>A</th>\n",
       "      <th>B</th>\n",
       "      <th>C</th>\n",
       "      <th>D</th>\n",
       "      <th>F</th>\n",
       "    </tr>\n",
       "  </thead>\n",
       "  <tbody>\n",
       "    <tr>\n",
       "      <th>2019-09-11</th>\n",
       "      <td>0.715454</td>\n",
       "      <td>1.064547</td>\n",
       "      <td>1.526200</td>\n",
       "      <td>0.395077</td>\n",
       "      <td>1.0</td>\n",
       "    </tr>\n",
       "    <tr>\n",
       "      <th>2019-09-13</th>\n",
       "      <td>2.594350</td>\n",
       "      <td>-2.007996</td>\n",
       "      <td>-0.342244</td>\n",
       "      <td>1.620392</td>\n",
       "      <td>3.5</td>\n",
       "    </tr>\n",
       "    <tr>\n",
       "      <th>2019-09-14</th>\n",
       "      <td>0.253070</td>\n",
       "      <td>-0.836430</td>\n",
       "      <td>-0.923085</td>\n",
       "      <td>-0.162492</td>\n",
       "      <td>6.1</td>\n",
       "    </tr>\n",
       "    <tr>\n",
       "      <th>2019-09-16</th>\n",
       "      <td>-0.478290</td>\n",
       "      <td>1.377063</td>\n",
       "      <td>0.358636</td>\n",
       "      <td>-0.624817</td>\n",
       "      <td>7.0</td>\n",
       "    </tr>\n",
       "  </tbody>\n",
       "</table>\n",
       "</div>"
      ],
      "text/plain": [
       "                   A         B         C         D    F\n",
       "2019-09-11  0.715454  1.064547  1.526200  0.395077  1.0\n",
       "2019-09-13  2.594350 -2.007996 -0.342244  1.620392  3.5\n",
       "2019-09-14  0.253070 -0.836430 -0.923085 -0.162492  6.1\n",
       "2019-09-16 -0.478290  1.377063  0.358636 -0.624817  7.0"
      ]
     },
     "execution_count": 82,
     "metadata": {
      "tags": []
     },
     "output_type": "execute_result"
    }
   ],
   "source": [
    "# 2개 이상도 가능\n",
    "df.drop([pd.to_datetime('20190912'),pd.to_datetime('20190915')])"
   ]
  },
  {
   "cell_type": "code",
   "execution_count": 0,
   "metadata": {
    "colab": {
     "base_uri": "https://localhost:8080/",
     "height": 225
    },
    "colab_type": "code",
    "executionInfo": {
     "elapsed": 732,
     "status": "ok",
     "timestamp": 1568166370409,
     "user": {
      "displayName": "황재익",
      "photoUrl": "",
      "userId": "04432755077897078229"
     },
     "user_tz": -540
    },
    "id": "J7RE6FddES8P",
    "outputId": "830f7c22-0e0a-4db6-ed31-ca1cafc71a91"
   },
   "outputs": [
    {
     "data": {
      "text/html": [
       "<div>\n",
       "<style scoped>\n",
       "    .dataframe tbody tr th:only-of-type {\n",
       "        vertical-align: middle;\n",
       "    }\n",
       "\n",
       "    .dataframe tbody tr th {\n",
       "        vertical-align: top;\n",
       "    }\n",
       "\n",
       "    .dataframe thead th {\n",
       "        text-align: right;\n",
       "    }\n",
       "</style>\n",
       "<table border=\"1\" class=\"dataframe\">\n",
       "  <thead>\n",
       "    <tr style=\"text-align: right;\">\n",
       "      <th></th>\n",
       "      <th>A</th>\n",
       "      <th>B</th>\n",
       "      <th>C</th>\n",
       "      <th>D</th>\n",
       "    </tr>\n",
       "  </thead>\n",
       "  <tbody>\n",
       "    <tr>\n",
       "      <th>2019-09-11</th>\n",
       "      <td>0.715454</td>\n",
       "      <td>1.064547</td>\n",
       "      <td>1.526200</td>\n",
       "      <td>0.395077</td>\n",
       "    </tr>\n",
       "    <tr>\n",
       "      <th>2019-09-12</th>\n",
       "      <td>-0.715198</td>\n",
       "      <td>0.782138</td>\n",
       "      <td>-1.806332</td>\n",
       "      <td>0.361159</td>\n",
       "    </tr>\n",
       "    <tr>\n",
       "      <th>2019-09-13</th>\n",
       "      <td>2.594350</td>\n",
       "      <td>-2.007996</td>\n",
       "      <td>-0.342244</td>\n",
       "      <td>1.620392</td>\n",
       "    </tr>\n",
       "    <tr>\n",
       "      <th>2019-09-14</th>\n",
       "      <td>0.253070</td>\n",
       "      <td>-0.836430</td>\n",
       "      <td>-0.923085</td>\n",
       "      <td>-0.162492</td>\n",
       "    </tr>\n",
       "    <tr>\n",
       "      <th>2019-09-15</th>\n",
       "      <td>-0.460992</td>\n",
       "      <td>1.365307</td>\n",
       "      <td>-0.805626</td>\n",
       "      <td>0.059174</td>\n",
       "    </tr>\n",
       "    <tr>\n",
       "      <th>2019-09-16</th>\n",
       "      <td>-0.478290</td>\n",
       "      <td>1.377063</td>\n",
       "      <td>0.358636</td>\n",
       "      <td>-0.624817</td>\n",
       "    </tr>\n",
       "  </tbody>\n",
       "</table>\n",
       "</div>"
      ],
      "text/plain": [
       "                   A         B         C         D\n",
       "2019-09-11  0.715454  1.064547  1.526200  0.395077\n",
       "2019-09-12 -0.715198  0.782138 -1.806332  0.361159\n",
       "2019-09-13  2.594350 -2.007996 -0.342244  1.620392\n",
       "2019-09-14  0.253070 -0.836430 -0.923085 -0.162492\n",
       "2019-09-15 -0.460992  1.365307 -0.805626  0.059174\n",
       "2019-09-16 -0.478290  1.377063  0.358636 -0.624817"
      ]
     },
     "execution_count": 83,
     "metadata": {
      "tags": []
     },
     "output_type": "execute_result"
    }
   ],
   "source": [
    "# 특정 열 삭제하기\n",
    "df.drop('F',axis=1)"
   ]
  },
  {
   "cell_type": "code",
   "execution_count": 0,
   "metadata": {
    "colab": {
     "base_uri": "https://localhost:8080/",
     "height": 225
    },
    "colab_type": "code",
    "executionInfo": {
     "elapsed": 743,
     "status": "ok",
     "timestamp": 1568166457143,
     "user": {
      "displayName": "황재익",
      "photoUrl": "",
      "userId": "04432755077897078229"
     },
     "user_tz": -540
    },
    "id": "UuD2XlnlEbS3",
    "outputId": "ce196ed9-3057-4f5a-d3d8-d71a0fa24dfe"
   },
   "outputs": [
    {
     "data": {
      "text/html": [
       "<div>\n",
       "<style scoped>\n",
       "    .dataframe tbody tr th:only-of-type {\n",
       "        vertical-align: middle;\n",
       "    }\n",
       "\n",
       "    .dataframe tbody tr th {\n",
       "        vertical-align: top;\n",
       "    }\n",
       "\n",
       "    .dataframe thead th {\n",
       "        text-align: right;\n",
       "    }\n",
       "</style>\n",
       "<table border=\"1\" class=\"dataframe\">\n",
       "  <thead>\n",
       "    <tr style=\"text-align: right;\">\n",
       "      <th></th>\n",
       "      <th>B</th>\n",
       "      <th>C</th>\n",
       "      <th>D</th>\n",
       "    </tr>\n",
       "  </thead>\n",
       "  <tbody>\n",
       "    <tr>\n",
       "      <th>2019-09-11</th>\n",
       "      <td>1.064547</td>\n",
       "      <td>1.526200</td>\n",
       "      <td>0.395077</td>\n",
       "    </tr>\n",
       "    <tr>\n",
       "      <th>2019-09-12</th>\n",
       "      <td>0.782138</td>\n",
       "      <td>-1.806332</td>\n",
       "      <td>0.361159</td>\n",
       "    </tr>\n",
       "    <tr>\n",
       "      <th>2019-09-13</th>\n",
       "      <td>-2.007996</td>\n",
       "      <td>-0.342244</td>\n",
       "      <td>1.620392</td>\n",
       "    </tr>\n",
       "    <tr>\n",
       "      <th>2019-09-14</th>\n",
       "      <td>-0.836430</td>\n",
       "      <td>-0.923085</td>\n",
       "      <td>-0.162492</td>\n",
       "    </tr>\n",
       "    <tr>\n",
       "      <th>2019-09-15</th>\n",
       "      <td>1.365307</td>\n",
       "      <td>-0.805626</td>\n",
       "      <td>0.059174</td>\n",
       "    </tr>\n",
       "    <tr>\n",
       "      <th>2019-09-16</th>\n",
       "      <td>1.377063</td>\n",
       "      <td>0.358636</td>\n",
       "      <td>-0.624817</td>\n",
       "    </tr>\n",
       "  </tbody>\n",
       "</table>\n",
       "</div>"
      ],
      "text/plain": [
       "                   B         C         D\n",
       "2019-09-11  1.064547  1.526200  0.395077\n",
       "2019-09-12  0.782138 -1.806332  0.361159\n",
       "2019-09-13 -2.007996 -0.342244  1.620392\n",
       "2019-09-14 -0.836430 -0.923085 -0.162492\n",
       "2019-09-15  1.365307 -0.805626  0.059174\n",
       "2019-09-16  1.377063  0.358636 -0.624817"
      ]
     },
     "execution_count": 85,
     "metadata": {
      "tags": []
     },
     "output_type": "execute_result"
    }
   ],
   "source": [
    "# 2개 이상의 열도 가능\n",
    "df.drop(['F','A'],axis=1)"
   ]
  },
  {
   "cell_type": "code",
   "execution_count": 0,
   "metadata": {
    "colab": {},
    "colab_type": "code",
    "id": "EyIxcAOhEr_n"
   },
   "outputs": [],
   "source": [
    "# 6.Data 분석용 함수들"
   ]
  },
  {
   "cell_type": "code",
   "execution_count": 0,
   "metadata": {
    "colab": {},
    "colab_type": "code",
    "id": "dWkWuPvwE6ne"
   },
   "outputs": [],
   "source": [
    "data = [[1.4, np.nan],\n",
    "       [7.1, -4.5],\n",
    "       [np.nan, np.nan],\n",
    "       [0.75, -1.3]]\n",
    "df = pd.DataFrame(data, columns = ['one','two'], index = ['a','b','c','d'])"
   ]
  },
  {
   "cell_type": "code",
   "execution_count": 0,
   "metadata": {
    "colab": {
     "base_uri": "https://localhost:8080/",
     "height": 166
    },
    "colab_type": "code",
    "executionInfo": {
     "elapsed": 722,
     "status": "ok",
     "timestamp": 1568167445735,
     "user": {
      "displayName": "황재익",
      "photoUrl": "",
      "userId": "04432755077897078229"
     },
     "user_tz": -540
    },
    "id": "GXCoY1E1Foa2",
    "outputId": "b8d31d97-441c-45dc-9d91-71d20bafa17e"
   },
   "outputs": [
    {
     "data": {
      "text/html": [
       "<div>\n",
       "<style scoped>\n",
       "    .dataframe tbody tr th:only-of-type {\n",
       "        vertical-align: middle;\n",
       "    }\n",
       "\n",
       "    .dataframe tbody tr th {\n",
       "        vertical-align: top;\n",
       "    }\n",
       "\n",
       "    .dataframe thead th {\n",
       "        text-align: right;\n",
       "    }\n",
       "</style>\n",
       "<table border=\"1\" class=\"dataframe\">\n",
       "  <thead>\n",
       "    <tr style=\"text-align: right;\">\n",
       "      <th></th>\n",
       "      <th>one</th>\n",
       "      <th>two</th>\n",
       "    </tr>\n",
       "  </thead>\n",
       "  <tbody>\n",
       "    <tr>\n",
       "      <th>a</th>\n",
       "      <td>1.40</td>\n",
       "      <td>NaN</td>\n",
       "    </tr>\n",
       "    <tr>\n",
       "      <th>b</th>\n",
       "      <td>7.10</td>\n",
       "      <td>-4.5</td>\n",
       "    </tr>\n",
       "    <tr>\n",
       "      <th>c</th>\n",
       "      <td>NaN</td>\n",
       "      <td>NaN</td>\n",
       "    </tr>\n",
       "    <tr>\n",
       "      <th>d</th>\n",
       "      <td>0.75</td>\n",
       "      <td>-1.3</td>\n",
       "    </tr>\n",
       "  </tbody>\n",
       "</table>\n",
       "</div>"
      ],
      "text/plain": [
       "    one  two\n",
       "a  1.40  NaN\n",
       "b  7.10 -4.5\n",
       "c   NaN  NaN\n",
       "d  0.75 -1.3"
      ]
     },
     "execution_count": 89,
     "metadata": {
      "tags": []
     },
     "output_type": "execute_result"
    }
   ],
   "source": [
    "df"
   ]
  },
  {
   "cell_type": "code",
   "execution_count": 0,
   "metadata": {
    "colab": {
     "base_uri": "https://localhost:8080/",
     "height": 70
    },
    "colab_type": "code",
    "executionInfo": {
     "elapsed": 722,
     "status": "ok",
     "timestamp": 1568167490675,
     "user": {
      "displayName": "황재익",
      "photoUrl": "",
      "userId": "04432755077897078229"
     },
     "user_tz": -540
    },
    "id": "IhRcRp_aFo3T",
    "outputId": "b460198c-09d3-499e-e2d2-1b6855d53f01"
   },
   "outputs": [
    {
     "data": {
      "text/plain": [
       "one    9.25\n",
       "two   -5.80\n",
       "dtype: float64"
      ]
     },
     "execution_count": 92,
     "metadata": {
      "tags": []
     },
     "output_type": "execute_result"
    }
   ],
   "source": [
    "#  각 열의 합\n",
    "df.sum(axis=0)"
   ]
  },
  {
   "cell_type": "code",
   "execution_count": 0,
   "metadata": {
    "colab": {
     "base_uri": "https://localhost:8080/",
     "height": 105
    },
    "colab_type": "code",
    "executionInfo": {
     "elapsed": 771,
     "status": "ok",
     "timestamp": 1568167533448,
     "user": {
      "displayName": "황재익",
      "photoUrl": "",
      "userId": "04432755077897078229"
     },
     "user_tz": -540
    },
    "id": "UO-_mu_mFv_6",
    "outputId": "45f84be5-5ba4-47e9-c3c1-1311e8c2f651"
   },
   "outputs": [
    {
     "data": {
      "text/plain": [
       "a    1.40\n",
       "b    2.60\n",
       "c    0.00\n",
       "d   -0.55\n",
       "dtype: float64"
      ]
     },
     "execution_count": 93,
     "metadata": {
      "tags": []
     },
     "output_type": "execute_result"
    }
   ],
   "source": [
    "# 각 행의 합\n",
    "df.sum(axis=1)"
   ]
  },
  {
   "cell_type": "code",
   "execution_count": 0,
   "metadata": {
    "colab": {},
    "colab_type": "code",
    "id": "rofpMHTKIHpW"
   },
   "outputs": [],
   "source": [
    "# 이 때, 위에서 볼 수 있듯이 NaN값은 배제하고 계산한다.\n",
    "# NaN 값을 배제하지 않고 계산하려면 아래와 같이 skipna에 대해 false를 지정해 준다."
   ]
  },
  {
   "cell_type": "code",
   "execution_count": 0,
   "metadata": {
    "colab": {
     "base_uri": "https://localhost:8080/",
     "height": 105
    },
    "colab_type": "code",
    "executionInfo": {
     "elapsed": 708,
     "status": "ok",
     "timestamp": 1568168056299,
     "user": {
      "displayName": "황재익",
      "photoUrl": "",
      "userId": "04432755077897078229"
     },
     "user_tz": -540
    },
    "id": "WgoXqVUTIk3P",
    "outputId": "c0f7218d-ad7e-4532-8b23-f702a12d3a67"
   },
   "outputs": [
    {
     "data": {
      "text/plain": [
       "a    1.40\n",
       "b    2.60\n",
       "c    0.00\n",
       "d   -0.55\n",
       "dtype: float64"
      ]
     },
     "execution_count": 95,
     "metadata": {
      "tags": []
     },
     "output_type": "execute_result"
    }
   ],
   "source": [
    "df.sum(axis =1 , skipna = True)"
   ]
  },
  {
   "cell_type": "code",
   "execution_count": 0,
   "metadata": {
    "colab": {
     "base_uri": "https://localhost:8080/",
     "height": 34
    },
    "colab_type": "code",
    "executionInfo": {
     "elapsed": 720,
     "status": "ok",
     "timestamp": 1568168119118,
     "user": {
      "displayName": "황재익",
      "photoUrl": "",
      "userId": "04432755077897078229"
     },
     "user_tz": -540
    },
    "id": "MxtlryWaNufE",
    "outputId": "e772b158-29fe-44c9-856c-d0466542e95e"
   },
   "outputs": [
    {
     "data": {
      "text/plain": [
       "9.25"
      ]
     },
     "execution_count": 96,
     "metadata": {
      "tags": []
     },
     "output_type": "execute_result"
    }
   ],
   "source": [
    "# 특정 행 또는 특정 열에서만 계산하기\n",
    "df['one'].sum()"
   ]
  },
  {
   "cell_type": "code",
   "execution_count": 0,
   "metadata": {
    "colab": {
     "base_uri": "https://localhost:8080/",
     "height": 34
    },
    "colab_type": "code",
    "executionInfo": {
     "elapsed": 599,
     "status": "ok",
     "timestamp": 1568168334587,
     "user": {
      "displayName": "황재익",
      "photoUrl": "",
      "userId": "04432755077897078229"
     },
     "user_tz": -540
    },
    "id": "6fHmql3fNzhj",
    "outputId": "e7a749f6-76a5-4cdf-9b50-b972ca16d7e5"
   },
   "outputs": [
    {
     "data": {
      "text/plain": [
       "9.25"
      ]
     },
     "execution_count": 98,
     "metadata": {
      "tags": []
     },
     "output_type": "execute_result"
    }
   ],
   "source": [
    "df.loc[:,'one'].sum()"
   ]
  },
  {
   "cell_type": "code",
   "execution_count": 0,
   "metadata": {
    "colab": {
     "base_uri": "https://localhost:8080/",
     "height": 34
    },
    "colab_type": "code",
    "executionInfo": {
     "elapsed": 787,
     "status": "ok",
     "timestamp": 1568168343781,
     "user": {
      "displayName": "황재익",
      "photoUrl": "",
      "userId": "04432755077897078229"
     },
     "user_tz": -540
    },
    "id": "0GmrCjvtHdIQ",
    "outputId": "e21df353-401d-48c1-9dab-e8aa5c3635b7"
   },
   "outputs": [
    {
     "data": {
      "text/plain": [
       "2.5999999999999996"
      ]
     },
     "execution_count": 99,
     "metadata": {
      "tags": []
     },
     "output_type": "execute_result"
    }
   ],
   "source": [
    "df.loc['b',:].sum()"
   ]
  },
  {
   "cell_type": "code",
   "execution_count": 0,
   "metadata": {
    "colab": {},
    "colab_type": "code",
    "id": "R1VJvidiN5XR"
   },
   "outputs": [],
   "source": [
    "# pandas에서 DataFrame에 적용되는 함수들\n",
    "# sum()함수 이외에도 pandas에서 DataFrame에 적용되는 함수는 다음의 것들이 있다.\n",
    "# count 전체 성분의(NaN이 아닌) 값의 갯수를 계산\n",
    "# min, max 전체 성분의 최솟, 최댓값을 계산\n",
    "# argmin, argmax 전체 성분의 최솟값, 최댓값이 위치한 (정수)인덱스를 반환\n",
    "# idxmin, idxmax 전체 인덱스 중 최솟값, 최댓값을 반환\n",
    "# quantile 전체 성분의 특정 사분위수에 해당하는 값을 반환 (0~1 사이)\n",
    "# sum 전체 성분의 합을 계산\n",
    "# mean 전체 성분의 평균을 계산\n",
    "# median 전체 성분의 중간값을 반환\n",
    "# mad 전체 성분의 평균값으로부터의 절대 편차(absolute deviation)의 평균을 계산\n",
    "# std, var 전체 성분의 표준편차, 분산을 계산\n",
    "# cumsum 맨 첫 번째 성분부터 각 성분까지의 누적합을 계산(0에서부터 계속 더해짐)\n",
    "# cumprod 맨 첫번째 성분부터 각 성분까지의 누적곱을 계산(1에서부터 계속 곱해짐)"
   ]
  },
  {
   "cell_type": "code",
   "execution_count": 0,
   "metadata": {
    "colab": {},
    "colab_type": "code",
    "id": "U56BAq0JO6Ti"
   },
   "outputs": [],
   "source": [
    "df2 = pd.DataFrame(np.random.randn(6,4),\n",
    "                  columns=['A', 'B', 'C', 'D'],\n",
    "                  index = pd.date_range('20160701', periods=6))\n"
   ]
  },
  {
   "cell_type": "code",
   "execution_count": 0,
   "metadata": {
    "colab": {
     "base_uri": "https://localhost:8080/",
     "height": 34
    },
    "colab_type": "code",
    "executionInfo": {
     "elapsed": 2243,
     "status": "ok",
     "timestamp": 1568170200391,
     "user": {
      "displayName": "황재익",
      "photoUrl": "",
      "userId": "04432755077897078229"
     },
     "user_tz": -540
    },
    "id": "3G2nQQUhPJb3",
    "outputId": "fa470869-581f-4c07-c543-c8f88f21fc91"
   },
   "outputs": [
    {
     "data": {
      "text/plain": [
       "0.2979640059825435"
      ]
     },
     "execution_count": 134,
     "metadata": {
      "tags": []
     },
     "output_type": "execute_result"
    }
   ],
   "source": [
    "# A열과 B열의 상관계수 구하기\n",
    "df2['A'].corr(df2['B'])"
   ]
  },
  {
   "cell_type": "code",
   "execution_count": 0,
   "metadata": {
    "colab": {},
    "colab_type": "code",
    "id": "a7EcR3sFPaOL"
   },
   "outputs": [],
   "source": [
    "# 정렬함수 및 기타함수\n"
   ]
  },
  {
   "cell_type": "code",
   "execution_count": 0,
   "metadata": {
    "colab": {
     "base_uri": "https://localhost:8080/",
     "height": 225
    },
    "colab_type": "code",
    "executionInfo": {
     "elapsed": 1661,
     "status": "ok",
     "timestamp": 1568170200392,
     "user": {
      "displayName": "황재익",
      "photoUrl": "",
      "userId": "04432755077897078229"
     },
     "user_tz": -540
    },
    "id": "XcekbfrRPcwp",
    "outputId": "87215f1c-906e-4ce4-ee5b-4518daa29930"
   },
   "outputs": [
    {
     "data": {
      "text/html": [
       "<div>\n",
       "<style scoped>\n",
       "    .dataframe tbody tr th:only-of-type {\n",
       "        vertical-align: middle;\n",
       "    }\n",
       "\n",
       "    .dataframe tbody tr th {\n",
       "        vertical-align: top;\n",
       "    }\n",
       "\n",
       "    .dataframe thead th {\n",
       "        text-align: right;\n",
       "    }\n",
       "</style>\n",
       "<table border=\"1\" class=\"dataframe\">\n",
       "  <thead>\n",
       "    <tr style=\"text-align: right;\">\n",
       "      <th></th>\n",
       "      <th>D</th>\n",
       "      <th>B</th>\n",
       "      <th>C</th>\n",
       "      <th>A</th>\n",
       "    </tr>\n",
       "  </thead>\n",
       "  <tbody>\n",
       "    <tr>\n",
       "      <th>2016-07-02</th>\n",
       "      <td>0.353058</td>\n",
       "      <td>0.795795</td>\n",
       "      <td>-1.511252</td>\n",
       "      <td>0.191501</td>\n",
       "    </tr>\n",
       "    <tr>\n",
       "      <th>2016-07-04</th>\n",
       "      <td>-1.030252</td>\n",
       "      <td>1.893435</td>\n",
       "      <td>-0.208564</td>\n",
       "      <td>-0.388515</td>\n",
       "    </tr>\n",
       "    <tr>\n",
       "      <th>2016-07-03</th>\n",
       "      <td>-0.743018</td>\n",
       "      <td>-0.403722</td>\n",
       "      <td>-0.732960</td>\n",
       "      <td>-1.237530</td>\n",
       "    </tr>\n",
       "    <tr>\n",
       "      <th>2016-07-05</th>\n",
       "      <td>-1.158493</td>\n",
       "      <td>0.627869</td>\n",
       "      <td>-0.313282</td>\n",
       "      <td>0.983126</td>\n",
       "    </tr>\n",
       "    <tr>\n",
       "      <th>2016-07-06</th>\n",
       "      <td>-0.015010</td>\n",
       "      <td>-0.373579</td>\n",
       "      <td>-0.275117</td>\n",
       "      <td>-0.095722</td>\n",
       "    </tr>\n",
       "    <tr>\n",
       "      <th>2016-07-01</th>\n",
       "      <td>-0.111633</td>\n",
       "      <td>0.249234</td>\n",
       "      <td>-0.700656</td>\n",
       "      <td>-0.774007</td>\n",
       "    </tr>\n",
       "  </tbody>\n",
       "</table>\n",
       "</div>"
      ],
      "text/plain": [
       "                   D         B         C         A\n",
       "2016-07-02  0.353058  0.795795 -1.511252  0.191501\n",
       "2016-07-04 -1.030252  1.893435 -0.208564 -0.388515\n",
       "2016-07-03 -0.743018 -0.403722 -0.732960 -1.237530\n",
       "2016-07-05 -1.158493  0.627869 -0.313282  0.983126\n",
       "2016-07-06 -0.015010 -0.373579 -0.275117 -0.095722\n",
       "2016-07-01 -0.111633  0.249234 -0.700656 -0.774007"
      ]
     },
     "execution_count": 135,
     "metadata": {
      "tags": []
     },
     "output_type": "execute_result"
    }
   ],
   "source": [
    "dates = df2.index\n",
    "random_dates = np.random.permutation(dates)\n",
    "df2 = df2.reindex(index=random_dates, columns = ['D', 'B', 'C', 'A'])\n",
    "df2"
   ]
  },
  {
   "cell_type": "code",
   "execution_count": 0,
   "metadata": {
    "colab": {
     "base_uri": "https://localhost:8080/",
     "height": 225
    },
    "colab_type": "code",
    "executionInfo": {
     "elapsed": 1337,
     "status": "ok",
     "timestamp": 1568170200393,
     "user": {
      "displayName": "황재익",
      "photoUrl": "",
      "userId": "04432755077897078229"
     },
     "user_tz": -540
    },
    "id": "oQ5O1W_2TRxp",
    "outputId": "6283ee81-d72f-4f8b-9594-2815fbc3dcac"
   },
   "outputs": [
    {
     "data": {
      "text/html": [
       "<div>\n",
       "<style scoped>\n",
       "    .dataframe tbody tr th:only-of-type {\n",
       "        vertical-align: middle;\n",
       "    }\n",
       "\n",
       "    .dataframe tbody tr th {\n",
       "        vertical-align: top;\n",
       "    }\n",
       "\n",
       "    .dataframe thead th {\n",
       "        text-align: right;\n",
       "    }\n",
       "</style>\n",
       "<table border=\"1\" class=\"dataframe\">\n",
       "  <thead>\n",
       "    <tr style=\"text-align: right;\">\n",
       "      <th></th>\n",
       "      <th>D</th>\n",
       "      <th>B</th>\n",
       "      <th>C</th>\n",
       "      <th>A</th>\n",
       "    </tr>\n",
       "  </thead>\n",
       "  <tbody>\n",
       "    <tr>\n",
       "      <th>2016-07-01</th>\n",
       "      <td>-0.111633</td>\n",
       "      <td>0.249234</td>\n",
       "      <td>-0.700656</td>\n",
       "      <td>-0.774007</td>\n",
       "    </tr>\n",
       "    <tr>\n",
       "      <th>2016-07-02</th>\n",
       "      <td>0.353058</td>\n",
       "      <td>0.795795</td>\n",
       "      <td>-1.511252</td>\n",
       "      <td>0.191501</td>\n",
       "    </tr>\n",
       "    <tr>\n",
       "      <th>2016-07-03</th>\n",
       "      <td>-0.743018</td>\n",
       "      <td>-0.403722</td>\n",
       "      <td>-0.732960</td>\n",
       "      <td>-1.237530</td>\n",
       "    </tr>\n",
       "    <tr>\n",
       "      <th>2016-07-04</th>\n",
       "      <td>-1.030252</td>\n",
       "      <td>1.893435</td>\n",
       "      <td>-0.208564</td>\n",
       "      <td>-0.388515</td>\n",
       "    </tr>\n",
       "    <tr>\n",
       "      <th>2016-07-05</th>\n",
       "      <td>-1.158493</td>\n",
       "      <td>0.627869</td>\n",
       "      <td>-0.313282</td>\n",
       "      <td>0.983126</td>\n",
       "    </tr>\n",
       "    <tr>\n",
       "      <th>2016-07-06</th>\n",
       "      <td>-0.015010</td>\n",
       "      <td>-0.373579</td>\n",
       "      <td>-0.275117</td>\n",
       "      <td>-0.095722</td>\n",
       "    </tr>\n",
       "  </tbody>\n",
       "</table>\n",
       "</div>"
      ],
      "text/plain": [
       "                   D         B         C         A\n",
       "2016-07-01 -0.111633  0.249234 -0.700656 -0.774007\n",
       "2016-07-02  0.353058  0.795795 -1.511252  0.191501\n",
       "2016-07-03 -0.743018 -0.403722 -0.732960 -1.237530\n",
       "2016-07-04 -1.030252  1.893435 -0.208564 -0.388515\n",
       "2016-07-05 -1.158493  0.627869 -0.313282  0.983126\n",
       "2016-07-06 -0.015010 -0.373579 -0.275117 -0.095722"
      ]
     },
     "execution_count": 136,
     "metadata": {
      "tags": []
     },
     "output_type": "execute_result"
    }
   ],
   "source": [
    "# index와 column의 순서가 섞여있다.\n",
    "# 이 때 index가 오름차순이 되도록 정렬해보자\n",
    "df2.sort_index(axis = 0)"
   ]
  },
  {
   "cell_type": "code",
   "execution_count": 0,
   "metadata": {
    "colab": {
     "base_uri": "https://localhost:8080/",
     "height": 225
    },
    "colab_type": "code",
    "executionInfo": {
     "elapsed": 2266,
     "status": "ok",
     "timestamp": 1568170201658,
     "user": {
      "displayName": "황재익",
      "photoUrl": "",
      "userId": "04432755077897078229"
     },
     "user_tz": -540
    },
    "id": "M-pVL9eLUK5i",
    "outputId": "13595922-3a80-4d41-d87a-1187a490150c"
   },
   "outputs": [
    {
     "data": {
      "text/html": [
       "<div>\n",
       "<style scoped>\n",
       "    .dataframe tbody tr th:only-of-type {\n",
       "        vertical-align: middle;\n",
       "    }\n",
       "\n",
       "    .dataframe tbody tr th {\n",
       "        vertical-align: top;\n",
       "    }\n",
       "\n",
       "    .dataframe thead th {\n",
       "        text-align: right;\n",
       "    }\n",
       "</style>\n",
       "<table border=\"1\" class=\"dataframe\">\n",
       "  <thead>\n",
       "    <tr style=\"text-align: right;\">\n",
       "      <th></th>\n",
       "      <th>A</th>\n",
       "      <th>B</th>\n",
       "      <th>C</th>\n",
       "      <th>D</th>\n",
       "    </tr>\n",
       "  </thead>\n",
       "  <tbody>\n",
       "    <tr>\n",
       "      <th>2016-07-02</th>\n",
       "      <td>0.191501</td>\n",
       "      <td>0.795795</td>\n",
       "      <td>-1.511252</td>\n",
       "      <td>0.353058</td>\n",
       "    </tr>\n",
       "    <tr>\n",
       "      <th>2016-07-04</th>\n",
       "      <td>-0.388515</td>\n",
       "      <td>1.893435</td>\n",
       "      <td>-0.208564</td>\n",
       "      <td>-1.030252</td>\n",
       "    </tr>\n",
       "    <tr>\n",
       "      <th>2016-07-03</th>\n",
       "      <td>-1.237530</td>\n",
       "      <td>-0.403722</td>\n",
       "      <td>-0.732960</td>\n",
       "      <td>-0.743018</td>\n",
       "    </tr>\n",
       "    <tr>\n",
       "      <th>2016-07-05</th>\n",
       "      <td>0.983126</td>\n",
       "      <td>0.627869</td>\n",
       "      <td>-0.313282</td>\n",
       "      <td>-1.158493</td>\n",
       "    </tr>\n",
       "    <tr>\n",
       "      <th>2016-07-06</th>\n",
       "      <td>-0.095722</td>\n",
       "      <td>-0.373579</td>\n",
       "      <td>-0.275117</td>\n",
       "      <td>-0.015010</td>\n",
       "    </tr>\n",
       "    <tr>\n",
       "      <th>2016-07-01</th>\n",
       "      <td>-0.774007</td>\n",
       "      <td>0.249234</td>\n",
       "      <td>-0.700656</td>\n",
       "      <td>-0.111633</td>\n",
       "    </tr>\n",
       "  </tbody>\n",
       "</table>\n",
       "</div>"
      ],
      "text/plain": [
       "                   A         B         C         D\n",
       "2016-07-02  0.191501  0.795795 -1.511252  0.353058\n",
       "2016-07-04 -0.388515  1.893435 -0.208564 -1.030252\n",
       "2016-07-03 -1.237530 -0.403722 -0.732960 -0.743018\n",
       "2016-07-05  0.983126  0.627869 -0.313282 -1.158493\n",
       "2016-07-06 -0.095722 -0.373579 -0.275117 -0.015010\n",
       "2016-07-01 -0.774007  0.249234 -0.700656 -0.111633"
      ]
     },
     "execution_count": 137,
     "metadata": {
      "tags": []
     },
     "output_type": "execute_result"
    }
   ],
   "source": [
    "# column을 기준으로?\n",
    "df2.sort_index(axis = 1)"
   ]
  },
  {
   "cell_type": "code",
   "execution_count": 0,
   "metadata": {
    "colab": {
     "base_uri": "https://localhost:8080/",
     "height": 225
    },
    "colab_type": "code",
    "executionInfo": {
     "elapsed": 2005,
     "status": "ok",
     "timestamp": 1568170201659,
     "user": {
      "displayName": "황재익",
      "photoUrl": "",
      "userId": "04432755077897078229"
     },
     "user_tz": -540
    },
    "id": "-nCk0MKZUQt6",
    "outputId": "ac69ed75-671d-42d0-ade8-4704e7368df5"
   },
   "outputs": [
    {
     "data": {
      "text/html": [
       "<div>\n",
       "<style scoped>\n",
       "    .dataframe tbody tr th:only-of-type {\n",
       "        vertical-align: middle;\n",
       "    }\n",
       "\n",
       "    .dataframe tbody tr th {\n",
       "        vertical-align: top;\n",
       "    }\n",
       "\n",
       "    .dataframe thead th {\n",
       "        text-align: right;\n",
       "    }\n",
       "</style>\n",
       "<table border=\"1\" class=\"dataframe\">\n",
       "  <thead>\n",
       "    <tr style=\"text-align: right;\">\n",
       "      <th></th>\n",
       "      <th>D</th>\n",
       "      <th>B</th>\n",
       "      <th>C</th>\n",
       "      <th>A</th>\n",
       "    </tr>\n",
       "  </thead>\n",
       "  <tbody>\n",
       "    <tr>\n",
       "      <th>2016-07-06</th>\n",
       "      <td>-0.015010</td>\n",
       "      <td>-0.373579</td>\n",
       "      <td>-0.275117</td>\n",
       "      <td>-0.095722</td>\n",
       "    </tr>\n",
       "    <tr>\n",
       "      <th>2016-07-05</th>\n",
       "      <td>-1.158493</td>\n",
       "      <td>0.627869</td>\n",
       "      <td>-0.313282</td>\n",
       "      <td>0.983126</td>\n",
       "    </tr>\n",
       "    <tr>\n",
       "      <th>2016-07-04</th>\n",
       "      <td>-1.030252</td>\n",
       "      <td>1.893435</td>\n",
       "      <td>-0.208564</td>\n",
       "      <td>-0.388515</td>\n",
       "    </tr>\n",
       "    <tr>\n",
       "      <th>2016-07-03</th>\n",
       "      <td>-0.743018</td>\n",
       "      <td>-0.403722</td>\n",
       "      <td>-0.732960</td>\n",
       "      <td>-1.237530</td>\n",
       "    </tr>\n",
       "    <tr>\n",
       "      <th>2016-07-02</th>\n",
       "      <td>0.353058</td>\n",
       "      <td>0.795795</td>\n",
       "      <td>-1.511252</td>\n",
       "      <td>0.191501</td>\n",
       "    </tr>\n",
       "    <tr>\n",
       "      <th>2016-07-01</th>\n",
       "      <td>-0.111633</td>\n",
       "      <td>0.249234</td>\n",
       "      <td>-0.700656</td>\n",
       "      <td>-0.774007</td>\n",
       "    </tr>\n",
       "  </tbody>\n",
       "</table>\n",
       "</div>"
      ],
      "text/plain": [
       "                   D         B         C         A\n",
       "2016-07-06 -0.015010 -0.373579 -0.275117 -0.095722\n",
       "2016-07-05 -1.158493  0.627869 -0.313282  0.983126\n",
       "2016-07-04 -1.030252  1.893435 -0.208564 -0.388515\n",
       "2016-07-03 -0.743018 -0.403722 -0.732960 -1.237530\n",
       "2016-07-02  0.353058  0.795795 -1.511252  0.191501\n",
       "2016-07-01 -0.111633  0.249234 -0.700656 -0.774007"
      ]
     },
     "execution_count": 138,
     "metadata": {
      "tags": []
     },
     "output_type": "execute_result"
    }
   ],
   "source": [
    "# 내림차순으로는?\n",
    "df2.sort_index(axis = 0, ascending = False)"
   ]
  },
  {
   "cell_type": "code",
   "execution_count": 0,
   "metadata": {
    "colab": {
     "base_uri": "https://localhost:8080/",
     "height": 225
    },
    "colab_type": "code",
    "executionInfo": {
     "elapsed": 1712,
     "status": "ok",
     "timestamp": 1568170201660,
     "user": {
      "displayName": "황재익",
      "photoUrl": "",
      "userId": "04432755077897078229"
     },
     "user_tz": -540
    },
    "id": "1R_1CL7OUWfH",
    "outputId": "98f0649e-0bf9-466e-e886-8e089fd6fe2f"
   },
   "outputs": [
    {
     "data": {
      "text/html": [
       "<div>\n",
       "<style scoped>\n",
       "    .dataframe tbody tr th:only-of-type {\n",
       "        vertical-align: middle;\n",
       "    }\n",
       "\n",
       "    .dataframe tbody tr th {\n",
       "        vertical-align: top;\n",
       "    }\n",
       "\n",
       "    .dataframe thead th {\n",
       "        text-align: right;\n",
       "    }\n",
       "</style>\n",
       "<table border=\"1\" class=\"dataframe\">\n",
       "  <thead>\n",
       "    <tr style=\"text-align: right;\">\n",
       "      <th></th>\n",
       "      <th>D</th>\n",
       "      <th>B</th>\n",
       "      <th>C</th>\n",
       "      <th>A</th>\n",
       "    </tr>\n",
       "  </thead>\n",
       "  <tbody>\n",
       "    <tr>\n",
       "      <th>2016-07-05</th>\n",
       "      <td>-1.158493</td>\n",
       "      <td>0.627869</td>\n",
       "      <td>-0.313282</td>\n",
       "      <td>0.983126</td>\n",
       "    </tr>\n",
       "    <tr>\n",
       "      <th>2016-07-04</th>\n",
       "      <td>-1.030252</td>\n",
       "      <td>1.893435</td>\n",
       "      <td>-0.208564</td>\n",
       "      <td>-0.388515</td>\n",
       "    </tr>\n",
       "    <tr>\n",
       "      <th>2016-07-03</th>\n",
       "      <td>-0.743018</td>\n",
       "      <td>-0.403722</td>\n",
       "      <td>-0.732960</td>\n",
       "      <td>-1.237530</td>\n",
       "    </tr>\n",
       "    <tr>\n",
       "      <th>2016-07-01</th>\n",
       "      <td>-0.111633</td>\n",
       "      <td>0.249234</td>\n",
       "      <td>-0.700656</td>\n",
       "      <td>-0.774007</td>\n",
       "    </tr>\n",
       "    <tr>\n",
       "      <th>2016-07-06</th>\n",
       "      <td>-0.015010</td>\n",
       "      <td>-0.373579</td>\n",
       "      <td>-0.275117</td>\n",
       "      <td>-0.095722</td>\n",
       "    </tr>\n",
       "    <tr>\n",
       "      <th>2016-07-02</th>\n",
       "      <td>0.353058</td>\n",
       "      <td>0.795795</td>\n",
       "      <td>-1.511252</td>\n",
       "      <td>0.191501</td>\n",
       "    </tr>\n",
       "  </tbody>\n",
       "</table>\n",
       "</div>"
      ],
      "text/plain": [
       "                   D         B         C         A\n",
       "2016-07-05 -1.158493  0.627869 -0.313282  0.983126\n",
       "2016-07-04 -1.030252  1.893435 -0.208564 -0.388515\n",
       "2016-07-03 -0.743018 -0.403722 -0.732960 -1.237530\n",
       "2016-07-01 -0.111633  0.249234 -0.700656 -0.774007\n",
       "2016-07-06 -0.015010 -0.373579 -0.275117 -0.095722\n",
       "2016-07-02  0.353058  0.795795 -1.511252  0.191501"
      ]
     },
     "execution_count": 139,
     "metadata": {
      "tags": []
     },
     "output_type": "execute_result"
    }
   ],
   "source": [
    "# 값 기준 정렬하기\n",
    "# D열의 값이 오름차순이 되도록 정렬하기\n",
    "df2.sort_values(by='D')"
   ]
  },
  {
   "cell_type": "code",
   "execution_count": 0,
   "metadata": {
    "colab": {
     "base_uri": "https://localhost:8080/",
     "height": 225
    },
    "colab_type": "code",
    "executionInfo": {
     "elapsed": 1448,
     "status": "ok",
     "timestamp": 1568170201660,
     "user": {
      "displayName": "황재익",
      "photoUrl": "",
      "userId": "04432755077897078229"
     },
     "user_tz": -540
    },
    "id": "ggggvrMiUels",
    "outputId": "fc6fb9a3-2df9-4706-87c5-3b3e887a4e8b"
   },
   "outputs": [
    {
     "data": {
      "text/html": [
       "<div>\n",
       "<style scoped>\n",
       "    .dataframe tbody tr th:only-of-type {\n",
       "        vertical-align: middle;\n",
       "    }\n",
       "\n",
       "    .dataframe tbody tr th {\n",
       "        vertical-align: top;\n",
       "    }\n",
       "\n",
       "    .dataframe thead th {\n",
       "        text-align: right;\n",
       "    }\n",
       "</style>\n",
       "<table border=\"1\" class=\"dataframe\">\n",
       "  <thead>\n",
       "    <tr style=\"text-align: right;\">\n",
       "      <th></th>\n",
       "      <th>D</th>\n",
       "      <th>B</th>\n",
       "      <th>C</th>\n",
       "      <th>A</th>\n",
       "    </tr>\n",
       "  </thead>\n",
       "  <tbody>\n",
       "    <tr>\n",
       "      <th>2016-07-02</th>\n",
       "      <td>0.353058</td>\n",
       "      <td>0.795795</td>\n",
       "      <td>-1.511252</td>\n",
       "      <td>0.191501</td>\n",
       "    </tr>\n",
       "    <tr>\n",
       "      <th>2016-07-06</th>\n",
       "      <td>-0.015010</td>\n",
       "      <td>-0.373579</td>\n",
       "      <td>-0.275117</td>\n",
       "      <td>-0.095722</td>\n",
       "    </tr>\n",
       "    <tr>\n",
       "      <th>2016-07-01</th>\n",
       "      <td>-0.111633</td>\n",
       "      <td>0.249234</td>\n",
       "      <td>-0.700656</td>\n",
       "      <td>-0.774007</td>\n",
       "    </tr>\n",
       "    <tr>\n",
       "      <th>2016-07-03</th>\n",
       "      <td>-0.743018</td>\n",
       "      <td>-0.403722</td>\n",
       "      <td>-0.732960</td>\n",
       "      <td>-1.237530</td>\n",
       "    </tr>\n",
       "    <tr>\n",
       "      <th>2016-07-04</th>\n",
       "      <td>-1.030252</td>\n",
       "      <td>1.893435</td>\n",
       "      <td>-0.208564</td>\n",
       "      <td>-0.388515</td>\n",
       "    </tr>\n",
       "    <tr>\n",
       "      <th>2016-07-05</th>\n",
       "      <td>-1.158493</td>\n",
       "      <td>0.627869</td>\n",
       "      <td>-0.313282</td>\n",
       "      <td>0.983126</td>\n",
       "    </tr>\n",
       "  </tbody>\n",
       "</table>\n",
       "</div>"
      ],
      "text/plain": [
       "                   D         B         C         A\n",
       "2016-07-02  0.353058  0.795795 -1.511252  0.191501\n",
       "2016-07-06 -0.015010 -0.373579 -0.275117 -0.095722\n",
       "2016-07-01 -0.111633  0.249234 -0.700656 -0.774007\n",
       "2016-07-03 -0.743018 -0.403722 -0.732960 -1.237530\n",
       "2016-07-04 -1.030252  1.893435 -0.208564 -0.388515\n",
       "2016-07-05 -1.158493  0.627869 -0.313282  0.983126"
      ]
     },
     "execution_count": 140,
     "metadata": {
      "tags": []
     },
     "output_type": "execute_result"
    }
   ],
   "source": [
    "# B열의 값이 내림차순이 되도록 정렬하기\n",
    "df2.sort_values(by=['D','B'],ascending = False)"
   ]
  },
  {
   "cell_type": "code",
   "execution_count": 0,
   "metadata": {
    "colab": {},
    "colab_type": "code",
    "id": "fl0HbezNUmG4"
   },
   "outputs": [],
   "source": []
  },
  {
   "cell_type": "code",
   "execution_count": 0,
   "metadata": {
    "colab": {
     "base_uri": "https://localhost:8080/",
     "height": 225
    },
    "colab_type": "code",
    "executionInfo": {
     "elapsed": 3234,
     "status": "ok",
     "timestamp": 1568170204058,
     "user": {
      "displayName": "황재익",
      "photoUrl": "",
      "userId": "04432755077897078229"
     },
     "user_tz": -540
    },
    "id": "raqmNnTSU62f",
    "outputId": "1d76041a-7cb2-44b2-b791-c16d9b22dccd"
   },
   "outputs": [
    {
     "data": {
      "text/html": [
       "<div>\n",
       "<style scoped>\n",
       "    .dataframe tbody tr th:only-of-type {\n",
       "        vertical-align: middle;\n",
       "    }\n",
       "\n",
       "    .dataframe tbody tr th {\n",
       "        vertical-align: top;\n",
       "    }\n",
       "\n",
       "    .dataframe thead th {\n",
       "        text-align: right;\n",
       "    }\n",
       "</style>\n",
       "<table border=\"1\" class=\"dataframe\">\n",
       "  <thead>\n",
       "    <tr style=\"text-align: right;\">\n",
       "      <th></th>\n",
       "      <th>D</th>\n",
       "      <th>B</th>\n",
       "      <th>C</th>\n",
       "      <th>A</th>\n",
       "      <th>E</th>\n",
       "      <th>F</th>\n",
       "    </tr>\n",
       "  </thead>\n",
       "  <tbody>\n",
       "    <tr>\n",
       "      <th>2016-07-02</th>\n",
       "      <td>0.353058</td>\n",
       "      <td>0.795795</td>\n",
       "      <td>-1.511252</td>\n",
       "      <td>0.191501</td>\n",
       "      <td>3</td>\n",
       "      <td>a</td>\n",
       "    </tr>\n",
       "    <tr>\n",
       "      <th>2016-07-03</th>\n",
       "      <td>-0.743018</td>\n",
       "      <td>-0.403722</td>\n",
       "      <td>-0.732960</td>\n",
       "      <td>-1.237530</td>\n",
       "      <td>3</td>\n",
       "      <td>g</td>\n",
       "    </tr>\n",
       "    <tr>\n",
       "      <th>2016-07-06</th>\n",
       "      <td>-0.015010</td>\n",
       "      <td>-0.373579</td>\n",
       "      <td>-0.275117</td>\n",
       "      <td>-0.095722</td>\n",
       "      <td>2</td>\n",
       "      <td>a</td>\n",
       "    </tr>\n",
       "    <tr>\n",
       "      <th>2016-07-01</th>\n",
       "      <td>-0.111633</td>\n",
       "      <td>0.249234</td>\n",
       "      <td>-0.700656</td>\n",
       "      <td>-0.774007</td>\n",
       "      <td>1</td>\n",
       "      <td>g</td>\n",
       "    </tr>\n",
       "    <tr>\n",
       "      <th>2016-07-04</th>\n",
       "      <td>-1.030252</td>\n",
       "      <td>1.893435</td>\n",
       "      <td>-0.208564</td>\n",
       "      <td>-0.388515</td>\n",
       "      <td>1</td>\n",
       "      <td>b</td>\n",
       "    </tr>\n",
       "    <tr>\n",
       "      <th>2016-07-05</th>\n",
       "      <td>-1.158493</td>\n",
       "      <td>0.627869</td>\n",
       "      <td>-0.313282</td>\n",
       "      <td>0.983126</td>\n",
       "      <td>1</td>\n",
       "      <td>g</td>\n",
       "    </tr>\n",
       "  </tbody>\n",
       "</table>\n",
       "</div>"
      ],
      "text/plain": [
       "                   D         B         C         A  E  F\n",
       "2016-07-02  0.353058  0.795795 -1.511252  0.191501  3  a\n",
       "2016-07-03 -0.743018 -0.403722 -0.732960 -1.237530  3  g\n",
       "2016-07-06 -0.015010 -0.373579 -0.275117 -0.095722  2  a\n",
       "2016-07-01 -0.111633  0.249234 -0.700656 -0.774007  1  g\n",
       "2016-07-04 -1.030252  1.893435 -0.208564 -0.388515  1  b\n",
       "2016-07-05 -1.158493  0.627869 -0.313282  0.983126  1  g"
      ]
     },
     "execution_count": 141,
     "metadata": {
      "tags": []
     },
     "output_type": "execute_result"
    }
   ],
   "source": [
    "# E열과 F열을 동시에 고려하여, 오름차순으로 하려면?\n",
    "df2['E'] = np.random.randint(0,6,size=6)\n",
    "df2['F']='a','b','g','g','a','g'\n",
    "df2\n",
    "#두개 이상의 열을 넣으면 첫번째 리스트값이 우선순위\n",
    "df2.sort_values(by=['E','D'],ascending = False)"
   ]
  },
  {
   "cell_type": "code",
   "execution_count": 0,
   "metadata": {
    "colab": {
     "base_uri": "https://localhost:8080/",
     "height": 225
    },
    "colab_type": "code",
    "executionInfo": {
     "elapsed": 2581,
     "status": "ok",
     "timestamp": 1568170204059,
     "user": {
      "displayName": "황재익",
      "photoUrl": "",
      "userId": "04432755077897078229"
     },
     "user_tz": -540
    },
    "id": "xQOgLWREVE4X",
    "outputId": "5447e152-f265-4904-918d-fef0eb9db234"
   },
   "outputs": [
    {
     "data": {
      "text/html": [
       "<div>\n",
       "<style scoped>\n",
       "    .dataframe tbody tr th:only-of-type {\n",
       "        vertical-align: middle;\n",
       "    }\n",
       "\n",
       "    .dataframe tbody tr th {\n",
       "        vertical-align: top;\n",
       "    }\n",
       "\n",
       "    .dataframe thead th {\n",
       "        text-align: right;\n",
       "    }\n",
       "</style>\n",
       "<table border=\"1\" class=\"dataframe\">\n",
       "  <thead>\n",
       "    <tr style=\"text-align: right;\">\n",
       "      <th></th>\n",
       "      <th>D</th>\n",
       "      <th>B</th>\n",
       "      <th>C</th>\n",
       "      <th>A</th>\n",
       "      <th>E</th>\n",
       "      <th>F</th>\n",
       "    </tr>\n",
       "  </thead>\n",
       "  <tbody>\n",
       "    <tr>\n",
       "      <th>2016-07-02</th>\n",
       "      <td>0.353058</td>\n",
       "      <td>0.795795</td>\n",
       "      <td>-1.511252</td>\n",
       "      <td>0.191501</td>\n",
       "      <td>3</td>\n",
       "      <td>a</td>\n",
       "    </tr>\n",
       "    <tr>\n",
       "      <th>2016-07-03</th>\n",
       "      <td>-0.743018</td>\n",
       "      <td>-0.403722</td>\n",
       "      <td>-0.732960</td>\n",
       "      <td>-1.237530</td>\n",
       "      <td>3</td>\n",
       "      <td>g</td>\n",
       "    </tr>\n",
       "    <tr>\n",
       "      <th>2016-07-06</th>\n",
       "      <td>-0.015010</td>\n",
       "      <td>-0.373579</td>\n",
       "      <td>-0.275117</td>\n",
       "      <td>-0.095722</td>\n",
       "      <td>2</td>\n",
       "      <td>a</td>\n",
       "    </tr>\n",
       "    <tr>\n",
       "      <th>2016-07-01</th>\n",
       "      <td>-0.111633</td>\n",
       "      <td>0.249234</td>\n",
       "      <td>-0.700656</td>\n",
       "      <td>-0.774007</td>\n",
       "      <td>1</td>\n",
       "      <td>g</td>\n",
       "    </tr>\n",
       "    <tr>\n",
       "      <th>2016-07-04</th>\n",
       "      <td>-1.030252</td>\n",
       "      <td>1.893435</td>\n",
       "      <td>-0.208564</td>\n",
       "      <td>-0.388515</td>\n",
       "      <td>1</td>\n",
       "      <td>b</td>\n",
       "    </tr>\n",
       "    <tr>\n",
       "      <th>2016-07-05</th>\n",
       "      <td>-1.158493</td>\n",
       "      <td>0.627869</td>\n",
       "      <td>-0.313282</td>\n",
       "      <td>0.983126</td>\n",
       "      <td>1</td>\n",
       "      <td>g</td>\n",
       "    </tr>\n",
       "  </tbody>\n",
       "</table>\n",
       "</div>"
      ],
      "text/plain": [
       "                   D         B         C         A  E  F\n",
       "2016-07-02  0.353058  0.795795 -1.511252  0.191501  3  a\n",
       "2016-07-03 -0.743018 -0.403722 -0.732960 -1.237530  3  g\n",
       "2016-07-06 -0.015010 -0.373579 -0.275117 -0.095722  2  a\n",
       "2016-07-01 -0.111633  0.249234 -0.700656 -0.774007  1  g\n",
       "2016-07-04 -1.030252  1.893435 -0.208564 -0.388515  1  b\n",
       "2016-07-05 -1.158493  0.627869 -0.313282  0.983126  1  g"
      ]
     },
     "execution_count": 142,
     "metadata": {
      "tags": []
     },
     "output_type": "execute_result"
    }
   ],
   "source": [
    "# 지정한 행 또는 열에서 중복값을 제외한 유니크한 값만 얻기\n",
    "df2.sort_values(by=['E','D'],ascending = False)"
   ]
  },
  {
   "cell_type": "code",
   "execution_count": 0,
   "metadata": {
    "colab": {
     "base_uri": "https://localhost:8080/",
     "height": 34
    },
    "colab_type": "code",
    "executionInfo": {
     "elapsed": 2246,
     "status": "ok",
     "timestamp": 1568170204060,
     "user": {
      "displayName": "황재익",
      "photoUrl": "",
      "userId": "04432755077897078229"
     },
     "user_tz": -540
    },
    "id": "vkkqN7KuVROa",
    "outputId": "60c493c8-f583-47fc-890e-a6d177095373"
   },
   "outputs": [
    {
     "data": {
      "text/plain": [
       "array(['a', 'b', 'g'], dtype=object)"
      ]
     },
     "execution_count": 143,
     "metadata": {
      "tags": []
     },
     "output_type": "execute_result"
    }
   ],
   "source": [
    "# 지정한 행 또는 열에서 값에 따른 개수 얻기\n",
    "df2['F'].unique()"
   ]
  },
  {
   "cell_type": "code",
   "execution_count": 0,
   "metadata": {
    "colab": {
     "base_uri": "https://localhost:8080/",
     "height": 87
    },
    "colab_type": "code",
    "executionInfo": {
     "elapsed": 1826,
     "status": "ok",
     "timestamp": 1568170204061,
     "user": {
      "displayName": "황재익",
      "photoUrl": "",
      "userId": "04432755077897078229"
     },
     "user_tz": -540
    },
    "id": "IUhRmZHRVWM6",
    "outputId": "4b668703-163e-4b54-f6f8-64941ceeddfb"
   },
   "outputs": [
    {
     "data": {
      "text/plain": [
       "g    3\n",
       "a    2\n",
       "b    1\n",
       "Name: F, dtype: int64"
      ]
     },
     "execution_count": 144,
     "metadata": {
      "tags": []
     },
     "output_type": "execute_result"
    }
   ],
   "source": [
    "# 지정한 행 또는 열에서 입력한 값이 있는지 확인하기\n",
    "df2['F'].value_counts()"
   ]
  },
  {
   "cell_type": "code",
   "execution_count": 0,
   "metadata": {
    "colab": {
     "base_uri": "https://localhost:8080/",
     "height": 136
    },
    "colab_type": "code",
    "executionInfo": {
     "elapsed": 1405,
     "status": "ok",
     "timestamp": 1568170204061,
     "user": {
      "displayName": "황재익",
      "photoUrl": "",
      "userId": "04432755077897078229"
     },
     "user_tz": -540
    },
    "id": "hxARjK8YVhGa",
    "outputId": "38331976-5552-43b7-e263-bc398807cc9b"
   },
   "outputs": [
    {
     "data": {
      "text/html": [
       "<div>\n",
       "<style scoped>\n",
       "    .dataframe tbody tr th:only-of-type {\n",
       "        vertical-align: middle;\n",
       "    }\n",
       "\n",
       "    .dataframe tbody tr th {\n",
       "        vertical-align: top;\n",
       "    }\n",
       "\n",
       "    .dataframe thead th {\n",
       "        text-align: right;\n",
       "    }\n",
       "</style>\n",
       "<table border=\"1\" class=\"dataframe\">\n",
       "  <thead>\n",
       "    <tr style=\"text-align: right;\">\n",
       "      <th></th>\n",
       "      <th>D</th>\n",
       "      <th>B</th>\n",
       "      <th>C</th>\n",
       "      <th>A</th>\n",
       "      <th>E</th>\n",
       "      <th>F</th>\n",
       "    </tr>\n",
       "  </thead>\n",
       "  <tbody>\n",
       "    <tr>\n",
       "      <th>2016-07-02</th>\n",
       "      <td>0.353058</td>\n",
       "      <td>0.795795</td>\n",
       "      <td>-1.511252</td>\n",
       "      <td>0.191501</td>\n",
       "      <td>3</td>\n",
       "      <td>a</td>\n",
       "    </tr>\n",
       "    <tr>\n",
       "      <th>2016-07-04</th>\n",
       "      <td>-1.030252</td>\n",
       "      <td>1.893435</td>\n",
       "      <td>-0.208564</td>\n",
       "      <td>-0.388515</td>\n",
       "      <td>1</td>\n",
       "      <td>b</td>\n",
       "    </tr>\n",
       "    <tr>\n",
       "      <th>2016-07-06</th>\n",
       "      <td>-0.015010</td>\n",
       "      <td>-0.373579</td>\n",
       "      <td>-0.275117</td>\n",
       "      <td>-0.095722</td>\n",
       "      <td>2</td>\n",
       "      <td>a</td>\n",
       "    </tr>\n",
       "  </tbody>\n",
       "</table>\n",
       "</div>"
      ],
      "text/plain": [
       "                   D         B         C         A  E  F\n",
       "2016-07-02  0.353058  0.795795 -1.511252  0.191501  3  a\n",
       "2016-07-04 -1.030252  1.893435 -0.208564 -0.388515  1  b\n",
       "2016-07-06 -0.015010 -0.373579 -0.275117 -0.095722  2  a"
      ]
     },
     "execution_count": 145,
     "metadata": {
      "tags": []
     },
     "output_type": "execute_result"
    }
   ],
   "source": [
    "# F열의 값이 a나 b인 모든 행 구하기\n",
    "#df2['F'].isin(['a','b'])\n",
    "df2.loc[df2['F'].isin(['a','b']),:]"
   ]
  },
  {
   "cell_type": "code",
   "execution_count": 0,
   "metadata": {
    "colab": {
     "base_uri": "https://localhost:8080/",
     "height": 34
    },
    "colab_type": "code",
    "executionInfo": {
     "elapsed": 2154,
     "status": "ok",
     "timestamp": 1568170205313,
     "user": {
      "displayName": "황재익",
      "photoUrl": "",
      "userId": "04432755077897078229"
     },
     "user_tz": -540
    },
    "id": "aZCi9VJTVrRA",
    "outputId": "48d106a7-a23f-47af-b853-489c5b3e2448"
   },
   "outputs": [
    {
     "data": {
      "text/plain": [
       "'def func(x):\\n  r = x.max()-x.min()\\n  return r\\n'"
      ]
     },
     "execution_count": 146,
     "metadata": {
      "tags": []
     },
     "output_type": "execute_result"
    }
   ],
   "source": [
    "# 사용자가 직접 만든 함수를 적용하기\n",
    "func = lambda x:x.max() - x.min()\n",
    "\"\"\"def func(x):\n",
    "  r = x.max()-x.min()\n",
    "  return r\n",
    "\"\"\""
   ]
  },
  {
   "cell_type": "code",
   "execution_count": 0,
   "metadata": {
    "colab": {
     "base_uri": "https://localhost:8080/",
     "height": 122
    },
    "colab_type": "code",
    "executionInfo": {
     "elapsed": 2477,
     "status": "ok",
     "timestamp": 1568170212882,
     "user": {
      "displayName": "황재익",
      "photoUrl": "",
      "userId": "04432755077897078229"
     },
     "user_tz": -540
    },
    "id": "S8TH-3nnV-lM",
    "outputId": "06695a74-5b6b-420f-f4a4-5812c7f0ee5b"
   },
   "outputs": [
    {
     "data": {
      "text/plain": [
       "D    1.511551\n",
       "B    2.297157\n",
       "C    1.302687\n",
       "A    2.220656\n",
       "E    2.000000\n",
       "dtype: float64"
      ]
     },
     "execution_count": 148,
     "metadata": {
      "tags": []
     },
     "output_type": "execute_result"
    }
   ],
   "source": [
    "del df2['F']\n",
    "df2.apply(func,axis=0)"
   ]
  },
  {
   "cell_type": "code",
   "execution_count": 0,
   "metadata": {
    "colab": {},
    "colab_type": "code",
    "id": "MyKS858_WE0Y"
   },
   "outputs": [],
   "source": []
  }
 ],
 "metadata": {
  "colab": {
   "collapsed_sections": [],
   "name": "Pandas_황재익의 사본",
   "provenance": [
    {
     "file_id": "1By3PFf5mazeibDof4UPEw2RtQphrRNDC",
     "timestamp": 1568426910882
    }
   ],
   "version": "0.3.2"
  },
  "kernelspec": {
   "display_name": "Python 3",
   "language": "python",
   "name": "python3"
  },
  "language_info": {
   "codemirror_mode": {
    "name": "ipython",
    "version": 3
   },
   "file_extension": ".py",
   "mimetype": "text/x-python",
   "name": "python",
   "nbconvert_exporter": "python",
   "pygments_lexer": "ipython3",
   "version": "3.7.0"
  }
 },
 "nbformat": 4,
 "nbformat_minor": 1
}
