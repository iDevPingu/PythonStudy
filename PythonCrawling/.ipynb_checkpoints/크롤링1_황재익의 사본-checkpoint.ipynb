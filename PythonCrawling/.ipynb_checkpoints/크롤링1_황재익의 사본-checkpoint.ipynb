{
 "cells": [
  {
   "cell_type": "markdown",
   "metadata": {
    "colab_type": "text",
    "id": "EsOHXdlBPtLU"
   },
   "source": [
    "# 크롤링\n",
    "## 1. 필요 라이브러리 설치\n",
    "## 2. 원하는 사이트 주소 가져오기\n",
    "## 3. 라이브러리 내의 함수로 html Get\n",
    "## 4. html 분석 라이브러리로 분석가능한 데이터 형식으로 변환\n",
    "## 5. 필요로 하는 부분을 추출"
   ]
  },
  {
   "cell_type": "code",
   "execution_count": 1,
   "metadata": {
    "colab": {
     "base_uri": "https://localhost:8080/",
     "height": 143
    },
    "colab_type": "code",
    "executionInfo": {
     "elapsed": 9798,
     "status": "ok",
     "timestamp": 1567687376747,
     "user": {
      "displayName": "황재익",
      "photoUrl": "",
      "userId": "04432755077897078229"
     },
     "user_tz": -540
    },
    "id": "qjOPERtvROEu",
    "outputId": "d3c455fc-6183-487d-8dd6-06327a5a1b1c"
   },
   "outputs": [
    {
     "name": "stdout",
     "output_type": "stream",
     "text": [
      "Requirement already satisfied: requests in /usr/local/lib/python3.6/dist-packages (2.21.0)\n",
      "Requirement already satisfied: urllib3<1.25,>=1.21.1 in /usr/local/lib/python3.6/dist-packages (from requests) (1.24.3)\n",
      "Requirement already satisfied: chardet<3.1.0,>=3.0.2 in /usr/local/lib/python3.6/dist-packages (from requests) (3.0.4)\n",
      "Requirement already satisfied: idna<2.9,>=2.5 in /usr/local/lib/python3.6/dist-packages (from requests) (2.8)\n",
      "Requirement already satisfied: certifi>=2017.4.17 in /usr/local/lib/python3.6/dist-packages (from requests) (2019.6.16)\n",
      "Requirement already satisfied: bs4 in /usr/local/lib/python3.6/dist-packages (0.0.1)\n",
      "Requirement already satisfied: beautifulsoup4 in /usr/local/lib/python3.6/dist-packages (from bs4) (4.6.3)\n"
     ]
    }
   ],
   "source": [
    "#필요 라이브러리 설치\n",
    "#requests :  html 을 요청하는 함수를 가진 라이브러리\n",
    "#bs4 : html을 파이썬에서 분석 가능하게 만드는 라이브러리\n",
    "\n",
    "!pip install requests\n",
    "!pip install bs4"
   ]
  },
  {
   "cell_type": "code",
   "execution_count": 0,
   "metadata": {
    "colab": {},
    "colab_type": "code",
    "id": "u7V7ou23RkVD"
   },
   "outputs": [],
   "source": [
    "#라이브러리 불러오기\n",
    "import requests as req\n",
    "from bs4 import BeautifulSoup"
   ]
  },
  {
   "cell_type": "code",
   "execution_count": 0,
   "metadata": {
    "colab": {},
    "colab_type": "code",
    "id": "EYuWSOjVSQlo"
   },
   "outputs": [],
   "source": [
    "url = 'https://finance.naver.com/sise/'\n",
    "res = req.get(url)\n",
    "html = res.text\n",
    "\n",
    "soup = BeautifulSoup(html,'html.parser')"
   ]
  },
  {
   "cell_type": "code",
   "execution_count": 4,
   "metadata": {
    "colab": {
     "base_uri": "https://localhost:8080/",
     "height": 35
    },
    "colab_type": "code",
    "executionInfo": {
     "elapsed": 9046,
     "status": "ok",
     "timestamp": 1567687378676,
     "user": {
      "displayName": "황재익",
      "photoUrl": "",
      "userId": "04432755077897078229"
     },
     "user_tz": -540
    },
    "id": "ClngJVQzcGy0",
    "outputId": "c9168a83-0178-4cb6-c542-6b9bffc61b62"
   },
   "outputs": [
    {
     "data": {
      "text/plain": [
       "<title>국내증시 : 네이버 금융</title>"
      ]
     },
     "execution_count": 4,
     "metadata": {
      "tags": []
     },
     "output_type": "execute_result"
    }
   ],
   "source": [
    "soup.title\n"
   ]
  },
  {
   "cell_type": "code",
   "execution_count": 5,
   "metadata": {
    "colab": {
     "base_uri": "https://localhost:8080/",
     "height": 35
    },
    "colab_type": "code",
    "executionInfo": {
     "elapsed": 408,
     "status": "ok",
     "timestamp": 1567687379930,
     "user": {
      "displayName": "황재익",
      "photoUrl": "",
      "userId": "04432755077897078229"
     },
     "user_tz": -540
    },
    "id": "sZsHrIwPUQgH",
    "outputId": "f0784b11-5071-4627-a75a-471dec6544f1"
   },
   "outputs": [
    {
     "data": {
      "text/plain": [
       "bs4.BeautifulSoup"
      ]
     },
     "execution_count": 5,
     "metadata": {
      "tags": []
     },
     "output_type": "execute_result"
    }
   ],
   "source": [
    "type(soup)"
   ]
  },
  {
   "cell_type": "code",
   "execution_count": 0,
   "metadata": {
    "colab": {},
    "colab_type": "code",
    "id": "psLuAE63UX7L"
   },
   "outputs": [],
   "source": [
    "#s1 = soup.find({'div':{'class':'lg_link_find'}})\n",
    "s1 = soup.find('ul',{'id':'popularItemList'})"
   ]
  },
  {
   "cell_type": "code",
   "execution_count": 7,
   "metadata": {
    "colab": {
     "base_uri": "https://localhost:8080/",
     "height": 233
    },
    "colab_type": "code",
    "executionInfo": {
     "elapsed": 648,
     "status": "ok",
     "timestamp": 1567687381771,
     "user": {
      "displayName": "황재익",
      "photoUrl": "",
      "userId": "04432755077897078229"
     },
     "user_tz": -540
    },
    "id": "HI3L9qtWVTzv",
    "outputId": "e1a16693-1fbf-48bb-d6dc-ac7adb84e177"
   },
   "outputs": [
    {
     "name": "stdout",
     "output_type": "stream",
     "text": [
      "\n",
      "1.삼성전자45,700상승\n",
      "2.국일제지5,860상승\n",
      "3.삼성전기98,200상승\n",
      "4.케이엠더블유71,700하락\n",
      "5.고려산업4,340상한가\n",
      "6.화천기계5,900상승\n",
      "7.SK하이닉스83,000상승\n",
      "8.에이치엘비48,000보합\n",
      "9.삼부토건893상한가\n",
      "10.한국항공우주41,050하락\n",
      "\n"
     ]
    }
   ],
   "source": [
    "print(s1.get_text())"
   ]
  },
  {
   "cell_type": "code",
   "execution_count": 0,
   "metadata": {
    "colab": {},
    "colab_type": "code",
    "id": "Mn7NX9xIX5L0"
   },
   "outputs": [],
   "source": [
    "s2 = s1.find_all('li')"
   ]
  },
  {
   "cell_type": "code",
   "execution_count": 9,
   "metadata": {
    "colab": {
     "base_uri": "https://localhost:8080/",
     "height": 35
    },
    "colab_type": "code",
    "executionInfo": {
     "elapsed": 732,
     "status": "ok",
     "timestamp": 1567687384673,
     "user": {
      "displayName": "황재익",
      "photoUrl": "",
      "userId": "04432755077897078229"
     },
     "user_tz": -540
    },
    "id": "VLfGAi7JbPws",
    "outputId": "b149a857-8b7a-4c57-b4b7-48133900e157"
   },
   "outputs": [
    {
     "data": {
      "text/plain": [
       "10"
      ]
     },
     "execution_count": 9,
     "metadata": {
      "tags": []
     },
     "output_type": "execute_result"
    }
   ],
   "source": [
    "len(s2)"
   ]
  },
  {
   "cell_type": "code",
   "execution_count": 10,
   "metadata": {
    "colab": {
     "base_uri": "https://localhost:8080/",
     "height": 197
    },
    "colab_type": "code",
    "executionInfo": {
     "elapsed": 404,
     "status": "ok",
     "timestamp": 1567687385058,
     "user": {
      "displayName": "황재익",
      "photoUrl": "",
      "userId": "04432755077897078229"
     },
     "user_tz": -540
    },
    "id": "VLguK1hGbRmR",
    "outputId": "ad052558-ee95-4e0b-f971-6925d8db6fdc"
   },
   "outputs": [
    {
     "name": "stdout",
     "output_type": "stream",
     "text": [
      "삼성전자\n",
      "국일제지\n",
      "삼성전기\n",
      "케이엠더블유\n",
      "고려산업\n",
      "화천기계\n",
      "SK하이닉스\n",
      "에이치엘비\n",
      "삼부토건\n",
      "한국항공우주\n"
     ]
    }
   ],
   "source": [
    "for i in s2:\n",
    "    s3 = i.find('a').text\n",
    "    print(s3)"
   ]
  },
  {
   "cell_type": "code",
   "execution_count": 0,
   "metadata": {
    "colab": {},
    "colab_type": "code",
    "id": "5rocQrpTgBED"
   },
   "outputs": [],
   "source": [
    "url = 'https://www.naver.com'\n",
    "res = req.get(url)\n",
    "html = res.text\n",
    "\n",
    "soup = BeautifulSoup(html,'html.parser')\n",
    " "
   ]
  },
  {
   "cell_type": "code",
   "execution_count": 0,
   "metadata": {
    "colab": {},
    "colab_type": "code",
    "id": "ptwTVnyxiD1q"
   },
   "outputs": [],
   "source": [
    "PopSearchKeywords = soup.find_all('li',{'class':'ah_item'})"
   ]
  },
  {
   "cell_type": "code",
   "execution_count": 0,
   "metadata": {
    "colab": {},
    "colab_type": "code",
    "id": "lYFjqfX6i1RI"
   },
   "outputs": [],
   "source": [
    "for i in PopSearchKeywords:\n",
    "    Keywords = i.find('span',{'class':'ah_k'})\n",
    "    print(Keywords)"
   ]
  },
  {
   "cell_type": "code",
   "execution_count": 13,
   "metadata": {
    "colab": {
     "base_uri": "https://localhost:8080/",
     "height": 737
    },
    "colab_type": "code",
    "executionInfo": {
     "elapsed": 665,
     "status": "ok",
     "timestamp": 1567687409559,
     "user": {
      "displayName": "황재익",
      "photoUrl": "",
      "userId": "04432755077897078229"
     },
     "user_tz": -540
    },
    "id": "Z0JzIqXRi2SZ",
    "outputId": "2d62257b-1841-4e53-94bd-7fd7f5084c7c"
   },
   "outputs": [
    {
     "name": "stdout",
     "output_type": "stream",
     "text": [
      "한국 조지아\n",
      "대한민국 조지아\n",
      "축구\n",
      "베트남 태국 축구\n",
      "프로메테우스\n",
      "오늘 축구경기\n",
      "생호박즙\n",
      "태국 베트남 축구\n",
      "웨일스\n",
      "뮬라웨어 쓰리패스\n",
      "호모시스테인\n",
      "한국 국가대표 축구 일정\n",
      "마르판증후군\n",
      "조지아 한국\n",
      "축구 국가대표\n",
      "구혜선 안재현 문자\n",
      "어서와 한국은 처음이지\n",
      "최성해\n",
      "방정현 변호사\n",
      "악마는 프라다를 입는다\n",
      "한국 조지아\n",
      "대한민국 조지아\n",
      "축구\n",
      "베트남 태국 축구\n",
      "프로메테우스\n",
      "오늘 축구경기\n",
      "생호박즙\n",
      "태국 베트남 축구\n",
      "웨일스\n",
      "뮬라웨어 쓰리패스\n",
      "호모시스테인\n",
      "한국 국가대표 축구 일정\n",
      "마르판증후군\n",
      "조지아 한국\n",
      "축구 국가대표\n",
      "구혜선 안재현 문자\n",
      "어서와 한국은 처음이지\n",
      "최성해\n",
      "방정현 변호사\n",
      "악마는 프라다를 입는다\n"
     ]
    }
   ],
   "source": [
    "PopSearchKeywords = soup.find('div',{'class':'area_hotkeyword PM_CL_realtimeKeyword_base'})\n",
    "Pop = PopSearchKeywords.find_all('li')\n",
    "\n",
    "for i in Pop:\n",
    "\n",
    "    Keywords = i.find('span',{'class':'ah_k'}).text\n",
    "    print(Keywords)\n"
   ]
  },
  {
   "cell_type": "code",
   "execution_count": 14,
   "metadata": {
    "colab": {
     "base_uri": "https://localhost:8080/",
     "height": 35
    },
    "colab_type": "code",
    "executionInfo": {
     "elapsed": 650,
     "status": "ok",
     "timestamp": 1567687412229,
     "user": {
      "displayName": "황재익",
      "photoUrl": "",
      "userId": "04432755077897078229"
     },
     "user_tz": -540
    },
    "id": "E9SKjYivkXt4",
    "outputId": "ef381a6f-c56a-433a-b312-7c13c774afef"
   },
   "outputs": [
    {
     "data": {
      "text/plain": [
       "'한국 조지아'"
      ]
     },
     "execution_count": 14,
     "metadata": {
      "tags": []
     },
     "output_type": "execute_result"
    }
   ],
   "source": [
    "s1 = soup.find('ul',{'class':'ah_l'})\n",
    "s2 = s1.find_all('li')\n",
    "list1 = []\n",
    "\n",
    "for i in s2:\n",
    "    s3 = i.find('span',{'class':'ah_k'}).text\n",
    "    list1.append(s3)\n",
    "\n",
    "\n",
    "\n",
    "list1[0]"
   ]
  },
  {
   "cell_type": "code",
   "execution_count": 18,
   "metadata": {
    "colab": {
     "base_uri": "https://localhost:8080/",
     "height": 55
    },
    "colab_type": "code",
    "executionInfo": {
     "elapsed": 647,
     "status": "ok",
     "timestamp": 1567687436865,
     "user": {
      "displayName": "황재익",
      "photoUrl": "",
      "userId": "04432755077897078229"
     },
     "user_tz": -540
    },
    "id": "QcwXgCpglh5q",
    "outputId": "59483e58-92a1-46b6-fdd0-d9d79b19945a"
   },
   "outputs": [
    {
     "name": "stdout",
     "output_type": "stream",
     "text": [
      "['한국 조지아', '대한민국 조지아', '축구', '베트남 태국 축구', '프로메테우스', '오늘 축구경기', '생호박즙', '태국 베트남 축구', '웨일스', '뮬라웨어 쓰리패스', '호모시스테인', '한국 국가대표 축구 일정', '마르판증후군', '조지아 한국', '축구 국가대표', '구혜선 안재현 문자', '어서와 한국은 처음이지', '최성해', '방정현 변호사', '악마는 프라다를 입는다']\n"
     ]
    }
   ],
   "source": [
    "print(list1)"
   ]
  },
  {
   "cell_type": "code",
   "execution_count": 16,
   "metadata": {
    "colab": {
     "base_uri": "https://localhost:8080/",
     "height": 35
    },
    "colab_type": "code",
    "executionInfo": {
     "elapsed": 657,
     "status": "ok",
     "timestamp": 1567687418112,
     "user": {
      "displayName": "황재익",
      "photoUrl": "",
      "userId": "04432755077897078229"
     },
     "user_tz": -540
    },
    "id": "fMdkzuVOmVic",
    "outputId": "20a53dde-ba26-4b62-ccdf-3a3dd14605a6"
   },
   "outputs": [
    {
     "data": {
      "text/plain": [
       "'\\n\\n2\\n대한민국 조지아\\n\\n'"
      ]
     },
     "execution_count": 16,
     "metadata": {
      "tags": []
     },
     "output_type": "execute_result"
    }
   ],
   "source": [
    "Pop[1].text"
   ]
  },
  {
   "cell_type": "code",
   "execution_count": 17,
   "metadata": {
    "colab": {
     "base_uri": "https://localhost:8080/",
     "height": 35
    },
    "colab_type": "code",
    "executionInfo": {
     "elapsed": 411,
     "status": "ok",
     "timestamp": 1567687419065,
     "user": {
      "displayName": "황재익",
      "photoUrl": "",
      "userId": "04432755077897078229"
     },
     "user_tz": -540
    },
    "id": "y1UrgB8xrJmS",
    "outputId": "efd2d827-c0fe-487d-a88f-9a16c523deb5"
   },
   "outputs": [
    {
     "data": {
      "text/plain": [
       "1"
      ]
     },
     "execution_count": 17,
     "metadata": {
      "tags": []
     },
     "output_type": "execute_result"
    }
   ],
   "source": [
    "list3=[1,2]\n",
    "list3[0]"
   ]
  },
  {
   "cell_type": "code",
   "execution_count": 0,
   "metadata": {
    "colab": {},
    "colab_type": "code",
    "id": "qkAMymFqrRDu"
   },
   "outputs": [],
   "source": []
  }
 ],
 "metadata": {
  "colab": {
   "collapsed_sections": [],
   "name": "크롤링1_황재익의 사본",
   "provenance": [
    {
     "file_id": "1CwCgeY0P9ypSXCrJ1OnR-Eaj4BapV1cs",
     "timestamp": 1567675199756
    }
   ],
   "version": "0.3.2"
  },
  "kernelspec": {
   "display_name": "Python 3",
   "language": "python",
   "name": "python3"
  },
  "language_info": {
   "codemirror_mode": {
    "name": "ipython",
    "version": 3
   },
   "file_extension": ".py",
   "mimetype": "text/x-python",
   "name": "python",
   "nbconvert_exporter": "python",
   "pygments_lexer": "ipython3",
   "version": "3.7.0"
  }
 },
 "nbformat": 4,
 "nbformat_minor": 1
}
