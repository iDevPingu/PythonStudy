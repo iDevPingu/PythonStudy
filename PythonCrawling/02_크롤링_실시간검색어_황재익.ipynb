{
 "cells": [
  {
   "cell_type": "markdown",
   "metadata": {
    "colab_type": "text",
    "id": "ypGFEqNq3E3g"
   },
   "source": [
    "# 네이버 실시간 검색어 20개 크롤링\n",
    "http://naver.com"
   ]
  },
  {
   "cell_type": "markdown",
   "metadata": {
    "colab_type": "text",
    "id": "eiuSxdoixy_f"
   },
   "source": [
    "## 0.필요 라이브러리 설치\n",
    "requests : html을 요청하는 함수를 가진 라이브러리\n",
    "\n",
    "bs4: html을 파이썬에서 분석 가능하게 만드는 라이브러리"
   ]
  },
  {
   "cell_type": "code",
   "execution_count": 0,
   "metadata": {
    "colab": {},
    "colab_type": "code",
    "id": "lcQgjT6nx1Jc"
   },
   "outputs": [],
   "source": [
    "# requests 설치\n",
    "!pip install requests"
   ]
  },
  {
   "cell_type": "code",
   "execution_count": 0,
   "metadata": {
    "colab": {},
    "colab_type": "code",
    "id": "JUdu8O1Sx3VM"
   },
   "outputs": [],
   "source": [
    "# bs4 install\n",
    "!pip install bs4"
   ]
  },
  {
   "cell_type": "markdown",
   "metadata": {
    "colab_type": "text",
    "id": "Ouko_o7-Bo_N"
   },
   "source": [
    "## 1. 라이브러리 import(불러오기)\n",
    "<pre>\n",
    "requests : html을 요청하는 라이브러리\n",
    "\n",
    "bs4 : 파이썬에서 html을 사용(분석) 할 수 있게 하는 라이브러리\n",
    "\n"
   ]
  },
  {
   "cell_type": "code",
   "execution_count": 0,
   "metadata": {
    "colab": {},
    "colab_type": "code",
    "id": "BgPF0ZV9hApt"
   },
   "outputs": [],
   "source": [
    "# import\n",
    "import requests as req\n",
    "from bs4 import BeautifulSoup"
   ]
  },
  {
   "cell_type": "markdown",
   "metadata": {
    "colab_type": "text",
    "id": "b0hAMscJCPyy"
   },
   "source": [
    "## 2. html을 받아오기\n"
   ]
  },
  {
   "cell_type": "code",
   "execution_count": 0,
   "metadata": {
    "colab": {},
    "colab_type": "code",
    "id": "ZA6vy2ZWhdAl"
   },
   "outputs": [],
   "source": [
    "# url 저장\n",
    "url = 'https://www.naver.com'"
   ]
  },
  {
   "cell_type": "code",
   "execution_count": 0,
   "metadata": {
    "colab": {},
    "colab_type": "code",
    "id": "ON9521ViEAac"
   },
   "outputs": [],
   "source": [
    "# url로 서버에 html 요청하기 -> 요청 결과를 res에 저장\n",
    "res = req.get(url)"
   ]
  },
  {
   "cell_type": "code",
   "execution_count": 0,
   "metadata": {
    "colab": {},
    "colab_type": "code",
    "id": "jc1RWq3xGJrx"
   },
   "outputs": [],
   "source": [
    "# 받은 전체 결과에 text를 적용하면 html 완성\n",
    "html = res.text"
   ]
  },
  {
   "cell_type": "markdown",
   "metadata": {
    "colab_type": "text",
    "id": "57cr8Taupr2y"
   },
   "source": [
    "## 3. html 전체 영역에서부터 찾아 들어가기"
   ]
  },
  {
   "cell_type": "markdown",
   "metadata": {
    "colab_type": "text",
    "id": "5I7alRh2qyU_"
   },
   "source": [
    "* find()는 처음 발견된 하나를 가져온다.\n",
    "\n",
    "* find_all은 여러개 있으면 다 가져온다. -> 여러 개니까 리스트"
   ]
  },
  {
   "cell_type": "code",
   "execution_count": 0,
   "metadata": {
    "colab": {},
    "colab_type": "code",
    "id": "Hmic438pCn2f"
   },
   "outputs": [],
   "source": [
    "# 완성된 html을 BeautifulSoup에 넣으면 html을 파이썬에서 사용(분석) 가능해짐.\n",
    "# soup에 저장된건 분석가능한 전체 내용의 html입니다.\n",
    "soup = BeautifulSoup(html,'html.parser')"
   ]
  },
  {
   "cell_type": "code",
   "execution_count": 0,
   "metadata": {
    "colab": {},
    "colab_type": "code",
    "id": "n2xpW5Fir8kh"
   },
   "outputs": [],
   "source": [
    "# 잘 가져왔는지 보자.\n",
    "soup"
   ]
  },
  {
   "cell_type": "code",
   "execution_count": 0,
   "metadata": {
    "colab": {},
    "colab_type": "code",
    "id": "tGKGGKAPin19"
   },
   "outputs": [],
   "source": [
    "# 태그명이 span이고 class가 ah_k인 것이 우리가 찾는 부분이 었다.\n",
    "# 그들 모두를 가져오기 위해 find_all을 쓴다.\n",
    "test1 = soup.find_all('span',{'class':'ah_k'})"
   ]
  },
  {
   "cell_type": "code",
   "execution_count": 0,
   "metadata": {
    "colab": {},
    "colab_type": "code",
    "id": "MwlX_0KOtxpY"
   },
   "outputs": [],
   "source": [
    "# s1이 어떤지 확인해보자. [ ]로 알 수 있는 find_all을 쓰면 값이 여러개니까 리스트로 준다.\n",
    "test1"
   ]
  },
  {
   "cell_type": "code",
   "execution_count": 0,
   "metadata": {
    "colab": {},
    "colab_type": "code",
    "id": "Q0jCwJGKi-2V"
   },
   "outputs": [],
   "source": [
    "# for 문을 돌려 각각에 대해 처리를 해줄 차례.\n",
    "# .text를 하면 코드부분을 제외한 내용만 남게 된다.\n",
    "for i in test1:\n",
    "    print(i.text)"
   ]
  },
  {
   "cell_type": "markdown",
   "metadata": {
    "colab_type": "text",
    "id": "tQuOFW0MqJio"
   },
   "source": [
    "## 같은 일을 다르게 해보자. 대신 원하는 위치 보다 상위에서 가져와보자."
   ]
  },
  {
   "cell_type": "code",
   "execution_count": 0,
   "metadata": {
    "colab": {},
    "colab_type": "code",
    "id": "8yEL6_ggqOKQ"
   },
   "outputs": [],
   "source": [
    "# BeautifulSoup으로 파이썬에서 분석 가능한 html을 만든다.\n",
    "# 전체 내용 html이 soup에 저장된다.\n",
    "soup = BeautifulSoup(html,'html.parser')"
   ]
  },
  {
   "cell_type": "code",
   "execution_count": 0,
   "metadata": {
    "colab": {},
    "colab_type": "code",
    "id": "-T3g10Z4jF6b"
   },
   "outputs": [],
   "source": [
    "# 실시간 키워드들을 모두 담고 있는 ul을 먼저 가져온다.\n",
    "test2 = soup.find('ul',{'class':'ah_l'})"
   ]
  },
  {
   "cell_type": "code",
   "execution_count": 0,
   "metadata": {
    "colab": {},
    "colab_type": "code",
    "id": "0XAIftW2kZ0R"
   },
   "outputs": [],
   "source": [
    "# 출력해보자. [] 가 없다. find는 처음 발견한 하나만 가져온다.\n",
    "test2"
   ]
  },
  {
   "cell_type": "code",
   "execution_count": 0,
   "metadata": {
    "colab": {},
    "colab_type": "code",
    "id": "jsVPJ1Q1kffv"
   },
   "outputs": [],
   "source": [
    "# 가져온 ul 영역에서 span태그에 class이름이 ah_k인 것들만 모두 찾는다.\n",
    "test2_find = test2.find_all('span',{'class':'ah_k'})"
   ]
  },
  {
   "cell_type": "code",
   "execution_count": 0,
   "metadata": {
    "colab": {},
    "colab_type": "code",
    "id": "xGWZ6dqnlm_7"
   },
   "outputs": [],
   "source": [
    "# for문을 돌려서 태그를 없앤 내용만 가져온다.\n",
    "for i in test2_find:\n",
    "    print(i.text)"
   ]
  },
  {
   "cell_type": "markdown",
   "metadata": {
    "colab_type": "text",
    "id": "5KXx0LTsB7YK"
   },
   "source": [
    "## 4. 리스트로 저장 -> 파일로 저장하기"
   ]
  },
  {
   "cell_type": "markdown",
   "metadata": {
    "colab_type": "text",
    "id": "-ixHOsfPCTSd"
   },
   "source": [
    "### 빈 리스트를 만들어서 제목들 붙여넣기\n",
    "append() 함수 이용"
   ]
  },
  {
   "cell_type": "code",
   "execution_count": 0,
   "metadata": {
    "colab": {},
    "colab_type": "code",
    "id": "1HazPPhyCOiO"
   },
   "outputs": [],
   "source": [
    "Pop1to20 = []\n",
    "for i in test2_find:\n",
    "    Pop1to20.append(i.text)\n",
    "Pop1to20"
   ]
  },
  {
   "cell_type": "markdown",
   "metadata": {
    "colab_type": "text",
    "id": "6wiWLbHFCeDK"
   },
   "source": [
    "### txt형식 새 파일을 열어 내용 넣기"
   ]
  },
  {
   "cell_type": "code",
   "execution_count": 0,
   "metadata": {
    "colab": {},
    "colab_type": "code",
    "id": "XZSK0stfCe2N"
   },
   "outputs": [],
   "source": [
    "file = open('Pop1to20.txt','w')\n",
    "for i in Pop1to20:\n",
    "    file.write(i+'\\n')\n",
    "  \n",
    "file.close()\n",
    "# == file.writelines(Pop1to20)"
   ]
  },
  {
   "cell_type": "markdown",
   "metadata": {
    "colab_type": "text",
    "id": "YEX0kXFzCh_f"
   },
   "source": [
    "### 먼저 내용 하나만 저장해보기"
   ]
  },
  {
   "cell_type": "code",
   "execution_count": 0,
   "metadata": {
    "colab": {},
    "colab_type": "code",
    "id": "OWhl-4jlCimo"
   },
   "outputs": [],
   "source": []
  },
  {
   "cell_type": "markdown",
   "metadata": {
    "colab_type": "text",
    "id": "9BuH8mruClQg"
   },
   "source": [
    "### 파일 불러와서 잘 들어갔나 확인해보기"
   ]
  },
  {
   "cell_type": "code",
   "execution_count": 36,
   "metadata": {
    "colab": {
     "base_uri": "https://localhost:8080/",
     "height": 386
    },
    "colab_type": "code",
    "executionInfo": {
     "elapsed": 752,
     "status": "ok",
     "timestamp": 1567737442669,
     "user": {
      "displayName": "황재익",
      "photoUrl": "",
      "userId": "04432755077897078229"
     },
     "user_tz": -540
    },
    "id": "HxZW72dHClu0",
    "outputId": "a5d3ac87-f09d-47fe-e458-745367e301a0"
   },
   "outputs": [
    {
     "name": "stdout",
     "output_type": "stream",
     "text": [
      "여상규\n",
      "도미노취존허재\n",
      "와디즈펀딩\n",
      "표창원\n",
      "조국 청문회\n",
      "송기헌\n",
      "청문회\n",
      "김도읍\n",
      "태풍 링링 경로\n",
      "유청단백질가루\n",
      "진학사어플라이\n",
      "유웨이어플라이\n",
      "모두발언\n",
      "한국 조지아\n",
      "국일제지\n",
      "링링 경로\n",
      "ytn 실시간뉴스\n",
      "조국 인사청문회\n",
      "니키미나즈\n",
      "국회방송\n",
      "\n"
     ]
    }
   ],
   "source": [
    "file = open('Pop1to20.txt','r')\n",
    "\n",
    "line = file.read()\n",
    "file.close()\n",
    "print(line)"
   ]
  },
  {
   "cell_type": "markdown",
   "metadata": {
    "colab_type": "text",
    "id": "ey2v_6VvCoph"
   },
   "source": [
    "### 리스트 전체를 저장해보기"
   ]
  },
  {
   "cell_type": "code",
   "execution_count": 0,
   "metadata": {
    "colab": {},
    "colab_type": "code",
    "id": "sFQ_h_4YCpOV"
   },
   "outputs": [],
   "source": []
  },
  {
   "cell_type": "markdown",
   "metadata": {
    "colab_type": "text",
    "id": "jF6Ri7eQCr85"
   },
   "source": [
    "### 전체가 잘 들어갔나 파일 열어서 확인해보기"
   ]
  },
  {
   "cell_type": "code",
   "execution_count": 0,
   "metadata": {
    "colab": {},
    "colab_type": "code",
    "id": "LObeKucjCske"
   },
   "outputs": [],
   "source": []
  }
 ],
 "metadata": {
  "colab": {
   "collapsed_sections": [],
   "name": "크롤링_1_실시간검색어_황재익",
   "provenance": [],
   "version": "0.3.2"
  },
  "kernelspec": {
   "display_name": "Python 3",
   "language": "python",
   "name": "python3"
  },
  "language_info": {
   "codemirror_mode": {
    "name": "ipython",
    "version": 3
   },
   "file_extension": ".py",
   "mimetype": "text/x-python",
   "name": "python",
   "nbconvert_exporter": "python",
   "pygments_lexer": "ipython3",
   "version": "3.7.0"
  }
 },
 "nbformat": 4,
 "nbformat_minor": 1
}
