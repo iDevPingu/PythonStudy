{
 "cells": [
  {
   "cell_type": "markdown",
   "metadata": {
    "colab_type": "text",
    "id": "bQGCa2Gvx7N9"
   },
   "source": [
    "# 네이버 금융 - 국내 증시 - 인기검색 종목 10개 크롤링\n",
    "https://finance.naver.com/sise/"
   ]
  },
  {
   "cell_type": "markdown",
   "metadata": {
    "colab_type": "text",
    "id": "IM0_Bz3pPtyZ"
   },
   "source": [
    "## 0.필요 라이브러리 설치\n",
    "requests : html을 요청하는 함수를 가진 라이브러리\n",
    "\n",
    "bs4: html을 파이썬에서 분석 가능하게 만드는 라이브러리"
   ]
  },
  {
   "cell_type": "code",
   "execution_count": 0,
   "metadata": {
    "colab": {},
    "colab_type": "code",
    "id": "PNfzsfTNReDJ"
   },
   "outputs": [],
   "source": [
    "# requests 설치\n"
   ]
  },
  {
   "cell_type": "code",
   "execution_count": 0,
   "metadata": {
    "colab": {},
    "colab_type": "code",
    "id": "wQhytTuDRyb3"
   },
   "outputs": [],
   "source": [
    "# bs4 install\n"
   ]
  },
  {
   "cell_type": "markdown",
   "metadata": {
    "colab_type": "text",
    "id": "SprDfHRtSCSd"
   },
   "source": [
    "## 1.라이브러리 불러오기 \n",
    "## import 라이브러리명\n"
   ]
  },
  {
   "cell_type": "code",
   "execution_count": 0,
   "metadata": {
    "colab": {},
    "colab_type": "code",
    "id": "mR4T8X_ASWLm"
   },
   "outputs": [],
   "source": [
    "# import\n",
    "import requests as req\n",
    "from bs4 import BeautifulSoup\n"
   ]
  },
  {
   "cell_type": "markdown",
   "metadata": {
    "colab_type": "text",
    "id": "ETMAaPMLxYS9"
   },
   "source": [
    "## 2. html을 받아오기\n"
   ]
  },
  {
   "cell_type": "code",
   "execution_count": 0,
   "metadata": {
    "colab": {},
    "colab_type": "code",
    "id": "Zq7BCqcrTTxg"
   },
   "outputs": [],
   "source": [
    "# https://finance.naver.com/sise/\n",
    "res = req.get('https://finance.naver.com/sise/')\n",
    "html = res.text\n",
    "soup = BeautifulSoup(html,'html.parser')"
   ]
  },
  {
   "cell_type": "markdown",
   "metadata": {
    "colab_type": "text",
    "id": "e3YwRMGNxf_d"
   },
   "source": [
    "## 3. html 전체 영역에서부터 찾아 들어가기"
   ]
  },
  {
   "cell_type": "code",
   "execution_count": 35,
   "metadata": {
    "colab": {
     "base_uri": "https://localhost:8080/",
     "height": 248
    },
    "colab_type": "code",
    "executionInfo": {
     "elapsed": 746,
     "status": "ok",
     "timestamp": 1567743357090,
     "user": {
      "displayName": "황재익",
      "photoUrl": "",
      "userId": "04432755077897078229"
     },
     "user_tz": -540
    },
    "id": "Tsv1Rg-IwJSQ",
    "outputId": "3e70abb3-a0a7-48b6-df8e-8b3716429023"
   },
   "outputs": [
    {
     "data": {
      "text/plain": [
       "<ul class=\"lst_pop\" id=\"popularItemList\">\n",
       "<li><em>1.</em><a href=\"/item/main.nhn?code=078130\" onclick=\"clickcr(this,'boa.list','078130','1',event)\">국일제지</a><span class=\"up\">6,390</span><em class=\"bu_p bu_pup\"><span class=\"blind\">상승</span></em></li>\n",
       "<li><em>2.</em><a href=\"/item/main.nhn?code=032500\" onclick=\"clickcr(this,'boa.list','032500','2',event)\">케이엠더블유</a><span class=\"up\">75,200</span><em class=\"bu_p bu_pup\"><span class=\"blind\">상승</span></em></li>\n",
       "<li><em>3.</em><a href=\"/item/main.nhn?code=005930\" onclick=\"clickcr(this,'boa.list','005930','3',event)\">삼성전자</a><span class=\"up\">46,150</span><em class=\"bu_p bu_pup\"><span class=\"blind\">상승</span></em></li>\n",
       "<li><em>4.</em><a href=\"/item/main.nhn?code=001140\" onclick=\"clickcr(this,'boa.list','001140','4',event)\">카리스국보</a><span class=\"up\">6,280</span><em class=\"bu_p bu_pup\"><span class=\"blind\">상승</span></em></li>\n",
       "<li><em>5.</em><a href=\"/item/main.nhn?code=010660\" onclick=\"clickcr(this,'boa.list','010660','5',event)\">화천기계</a><span class=\"up\">6,010</span><em class=\"bu_p bu_pup\"><span class=\"blind\">상승</span></em></li>\n",
       "<li><em>6.</em><a href=\"/item/main.nhn?code=160600\" onclick=\"clickcr(this,'boa.list','160600','6',event)\">에스엔텍</a><span class=\"up\">4,130</span><em class=\"bu_p bu_pup\"><span class=\"blind\">상승</span></em></li>\n",
       "<li><em>7.</em><a href=\"/item/main.nhn?code=200230\" onclick=\"clickcr(this,'boa.list','200230','7',event)\">텔콘RF제약</a><span class=\"up\">5,570</span><em class=\"bu_p bu_pup\"><span class=\"blind\">상승</span></em></li>\n",
       "<li><em>8.</em><a href=\"/item/main.nhn?code=084990\" onclick=\"clickcr(this,'boa.list','084990','8',event)\">헬릭스미스</a><span class=\"dn\">181,200</span><em class=\"bu_p bu_pdn\"><span class=\"blind\">하락</span></em></li>\n",
       "<li><em>9.</em><a href=\"/item/main.nhn?code=101000\" onclick=\"clickcr(this,'boa.list','101000','9',event)\">상상인인더스트리</a><span class=\"dn\">3,290</span><em class=\"bu_p bu_pdn\"><span class=\"blind\">하락</span></em></li>\n",
       "<li><em>10.</em><a href=\"/item/main.nhn?code=009150\" onclick=\"clickcr(this,'boa.list','009150','10',event)\">삼성전기</a><span class=\"noc\">98,200</span><em class=\"bu_p bu_pn\"><span class=\"blind\">보합</span></em></li>\n",
       "</ul>"
      ]
     },
     "execution_count": 35,
     "metadata": {
      "tags": []
     },
     "output_type": "execute_result"
    }
   ],
   "source": [
    "PopItem = soup.find('ul',{'id':'popularItemList'})\n",
    "PopItem"
   ]
  },
  {
   "cell_type": "code",
   "execution_count": 33,
   "metadata": {
    "colab": {
     "base_uri": "https://localhost:8080/",
     "height": 54
    },
    "colab_type": "code",
    "executionInfo": {
     "elapsed": 748,
     "status": "ok",
     "timestamp": 1567743300363,
     "user": {
      "displayName": "황재익",
      "photoUrl": "",
      "userId": "04432755077897078229"
     },
     "user_tz": -540
    },
    "id": "mmY8OlrqUQeG",
    "outputId": "27b55b86-7054-465e-8c83-d3a7a1733af6"
   },
   "outputs": [
    {
     "name": "stdout",
     "output_type": "stream",
     "text": [
      "['\\n1.국일제지6,390상승\\n2.케이엠더블유75,200상승\\n3.삼성전자46,150상승\\n4.카리스국보6,280상승\\n5.화천기계6,010상승\\n6.에스엔텍4,130상승\\n7.텔콘RF제약5,570상승\\n8.헬릭스미스181,200하락\\n9.상상인인더스트리3,290하락\\n10.삼성전기98,200보합\\n']\n"
     ]
    }
   ],
   "source": [
    "PopItemList =[]\n",
    "for i in PopItem:\n",
    "    PopItemList.append(i.text)\n",
    "print(PopItemList)"
   ]
  },
  {
   "cell_type": "code",
   "execution_count": 37,
   "metadata": {
    "colab": {
     "base_uri": "https://localhost:8080/",
     "height": 34
    },
    "colab_type": "code",
    "executionInfo": {
     "elapsed": 738,
     "status": "ok",
     "timestamp": 1567743381754,
     "user": {
      "displayName": "황재익",
      "photoUrl": "",
      "userId": "04432755077897078229"
     },
     "user_tz": -540
    },
    "id": "WPwC4MHBxsbn",
    "outputId": "ac5e0d2d-1a71-4230-ffb1-cbfe5ba617c4"
   },
   "outputs": [
    {
     "name": "stdout",
     "output_type": "stream",
     "text": [
      "['국일제지', '케이엠더블유', '삼성전자', '카리스국보', '화천기계', '에스엔텍', '텔콘RF제약', '헬릭스미스', '상상인인더스트리', '삼성전기']\n"
     ]
    }
   ],
   "source": [
    "namehtml = PopItem.find_all('a')\n",
    "namelist = []\n",
    "for i in namehtml:\n",
    "    namelist.append(i.text)\n",
    "print(namelist)"
   ]
  },
  {
   "cell_type": "code",
   "execution_count": 30,
   "metadata": {
    "colab": {
     "base_uri": "https://localhost:8080/",
     "height": 34
    },
    "colab_type": "code",
    "executionInfo": {
     "elapsed": 921,
     "status": "ok",
     "timestamp": 1567743183789,
     "user": {
      "displayName": "황재익",
      "photoUrl": "",
      "userId": "04432755077897078229"
     },
     "user_tz": -540
    },
    "id": "miyUW7i0Xs20",
    "outputId": "20b06277-229d-4810-8e18-ea0def9489d2"
   },
   "outputs": [
    {
     "name": "stdout",
     "output_type": "stream",
     "text": [
      "국일제지 6,390\n"
     ]
    }
   ],
   "source": [
    "\n",
    "for i in PopItem:\n",
    "    name = i.find('a').text\n",
    "    price = i.find('span').text\n",
    "    print(name +' '+price)"
   ]
  },
  {
   "cell_type": "code",
   "execution_count": 0,
   "metadata": {
    "colab": {},
    "colab_type": "code",
    "id": "JnVINNUGe1CV"
   },
   "outputs": [],
   "source": [
    "PopItem"
   ]
  },
  {
   "cell_type": "code",
   "execution_count": 44,
   "metadata": {
    "colab": {
     "base_uri": "https://localhost:8080/",
     "height": 52
    },
    "colab_type": "code",
    "executionInfo": {
     "elapsed": 2199,
     "status": "ok",
     "timestamp": 1567744633454,
     "user": {
      "displayName": "황재익",
      "photoUrl": "",
      "userId": "04432755077897078229"
     },
     "user_tz": -540
    },
    "id": "Mk49lMNae2O-",
    "outputId": "02db9b3a-5885-4c06-bf71-705ece1a2323"
   },
   "outputs": [
    {
     "name": "stdout",
     "output_type": "stream",
     "text": [
      "['국일제지', '삼성전자', '케이엠더블유', '화천기계', '삼륭물산', '상상인인더스트리', '에스엔텍', '헬릭스미스', '엔씨소프트', '신라젠']\n",
      "['6,130', '46,250', '75,500', '5,870', '15,250', '3,540', '4,305', '184,300', '552,000', '11,900']\n"
     ]
    }
   ],
   "source": [
    "url = 'https://finance.naver.com/sise/'\n",
    "res = req.get(url)\n",
    "html = res.text\n",
    "soup = BeautifulSoup(html, 'html.parser')\n",
    "s1 = soup.find('ul', {'class':'lst_pop'})\n",
    "s2 = s1.find_all('li')\n",
    "title = []\n",
    "price = []\n",
    "for i in s2:\n",
    "    tit = i.find('a').text\n",
    "    pri = i.find('span').text\n",
    "    title.append(tit)\n",
    "    price.append(pri)\n",
    "print(title)\n",
    "print(price)"
   ]
  },
  {
   "cell_type": "code",
   "execution_count": 0,
   "metadata": {
    "colab": {},
    "colab_type": "code",
    "id": "cefAYgzVfs7G"
   },
   "outputs": [],
   "source": [
    "file = open('stuck.txt','w')\n",
    "file.writelines(title)\n",
    "file.close()"
   ]
  },
  {
   "cell_type": "markdown",
   "metadata": {
    "colab_type": "text",
    "id": "ofrnzCDyfjf1"
   },
   "source": [
    "#excel로 저장"
   ]
  },
  {
   "cell_type": "code",
   "execution_count": 0,
   "metadata": {
    "colab": {},
    "colab_type": "code",
    "id": "I0iUtXA_3wcV"
   },
   "outputs": [],
   "source": [
    "import pandas as pd"
   ]
  },
  {
   "cell_type": "code",
   "execution_count": 0,
   "metadata": {
    "colab": {},
    "colab_type": "code",
    "id": "egf4sVp63y0x"
   },
   "outputs": [],
   "source": [
    "dict1 = {'상품':title, '주가':price}\n",
    "df = pd.DataFrame(dict1)"
   ]
  },
  {
   "cell_type": "code",
   "execution_count": 0,
   "metadata": {
    "colab": {},
    "colab_type": "code",
    "id": "LI42Q0Ag390y"
   },
   "outputs": [],
   "source": [
    "df.to_excel('stuck.xlsx')"
   ]
  },
  {
   "cell_type": "code",
   "execution_count": 0,
   "metadata": {
    "colab": {},
    "colab_type": "code",
    "id": "qXqxHKsv5FpC"
   },
   "outputs": [],
   "source": [
    "df.to_csv('stuck.csv',sep = ',')"
   ]
  },
  {
   "cell_type": "markdown",
   "metadata": {
    "colab_type": "text",
    "id": "v2GT2D2ZDK5K"
   },
   "source": [
    "## 4. 리스트로 저장 -> 파일로 저장하기"
   ]
  },
  {
   "cell_type": "markdown",
   "metadata": {
    "colab_type": "text",
    "id": "L92-0wNQDLqh"
   },
   "source": [
    "### 빈 리스트를 만들어서 제목들 붙여넣기\n",
    "append() 함수 이용"
   ]
  },
  {
   "cell_type": "code",
   "execution_count": 0,
   "metadata": {
    "colab": {},
    "colab_type": "code",
    "id": "iUPAFTPJDOGo"
   },
   "outputs": [],
   "source": []
  },
  {
   "cell_type": "markdown",
   "metadata": {
    "colab_type": "text",
    "id": "Rd_SofN2DRW4"
   },
   "source": [
    "### txt형식 새 파일을 열어 내용 넣기"
   ]
  },
  {
   "cell_type": "code",
   "execution_count": 0,
   "metadata": {
    "colab": {},
    "colab_type": "code",
    "id": "6PYFVcDGDTeO"
   },
   "outputs": [],
   "source": []
  },
  {
   "cell_type": "markdown",
   "metadata": {
    "colab_type": "text",
    "id": "DN-Ll1UlDUJI"
   },
   "source": [
    "### 먼저 내용 하나만 저장해보기"
   ]
  },
  {
   "cell_type": "code",
   "execution_count": 0,
   "metadata": {
    "colab": {},
    "colab_type": "code",
    "id": "TEUTyNXaDWIO"
   },
   "outputs": [],
   "source": []
  },
  {
   "cell_type": "markdown",
   "metadata": {
    "colab_type": "text",
    "id": "ufYfH2XDDYGJ"
   },
   "source": [
    "### 파일 불러와서 잘 들어갔나 확인해보기"
   ]
  },
  {
   "cell_type": "code",
   "execution_count": 0,
   "metadata": {
    "colab": {},
    "colab_type": "code",
    "id": "ZpryJR_RDYiM"
   },
   "outputs": [],
   "source": []
  },
  {
   "cell_type": "markdown",
   "metadata": {
    "colab_type": "text",
    "id": "iKLm6jenDanZ"
   },
   "source": [
    "### 리스트 전체를 저장해보기"
   ]
  },
  {
   "cell_type": "code",
   "execution_count": 0,
   "metadata": {
    "colab": {},
    "colab_type": "code",
    "id": "WMp9vRTDDbCo"
   },
   "outputs": [],
   "source": []
  },
  {
   "cell_type": "markdown",
   "metadata": {
    "colab_type": "text",
    "id": "-1KtV4WDDdaN"
   },
   "source": [
    "### 전체가 잘 들어갔나 파일 열어서 확인해보기"
   ]
  },
  {
   "cell_type": "code",
   "execution_count": 0,
   "metadata": {
    "colab": {},
    "colab_type": "code",
    "id": "bkCTz96NDd1g"
   },
   "outputs": [],
   "source": []
  }
 ],
 "metadata": {
  "colab": {
   "collapsed_sections": [],
   "name": "크롤링_2_네이버금융_황재익",
   "provenance": [],
   "toc_visible": true,
   "version": "0.3.2"
  },
  "kernelspec": {
   "display_name": "Python 3",
   "language": "python",
   "name": "python3"
  },
  "language_info": {
   "codemirror_mode": {
    "name": "ipython",
    "version": 3
   },
   "file_extension": ".py",
   "mimetype": "text/x-python",
   "name": "python",
   "nbconvert_exporter": "python",
   "pygments_lexer": "ipython3",
   "version": "3.7.0"
  }
 },
 "nbformat": 4,
 "nbformat_minor": 1
}
