{
  "nbformat": 4,
  "nbformat_minor": 0,
  "metadata": {
    "colab": {
      "name": "1_2_단일변수예제_황재익.ipynb",
      "version": "0.3.2",
      "provenance": [],
      "collapsed_sections": [],
      "include_colab_link": true
    },
    "kernelspec": {
      "name": "python3",
      "display_name": "Python 3"
    }
  },
  "cells": [
    {
      "cell_type": "markdown",
      "metadata": {
        "id": "view-in-github",
        "colab_type": "text"
      },
      "source": [
        "<a href=\"https://colab.research.google.com/github/jaicoco/PythonStudy/blob/master/1_2_%EB%8B%A8%EC%9D%BC%EB%B3%80%EC%88%98%EC%98%88%EC%A0%9C_%ED%99%A9%EC%9E%AC%EC%9D%B5.ipynb\" target=\"_parent\"><img src=\"https://colab.research.google.com/assets/colab-badge.svg\" alt=\"Open In Colab\"/></a>"
      ]
    },
    {
      "cell_type": "markdown",
      "metadata": {
        "id": "j0ujfQVz2n0e",
        "colab_type": "text"
      },
      "source": [
        "### Q001. number 라는 이름의 변수에 1을 넣으세요."
      ]
    },
    {
      "cell_type": "code",
      "metadata": {
        "id": "GtkiXpxM28cy",
        "colab_type": "code",
        "colab": {}
      },
      "source": [
        "number = 1"
      ],
      "execution_count": 0,
      "outputs": []
    },
    {
      "cell_type": "markdown",
      "metadata": {
        "id": "JsVUe21129T5",
        "colab_type": "text"
      },
      "source": [
        "### Q002. 변수 a와 변수 b가 주어질 때, 그 합을 c에 넣으세요.\n",
        "### 출력도 해보세요."
      ]
    },
    {
      "cell_type": "code",
      "metadata": {
        "id": "beA_vw7e3Wdq",
        "colab_type": "code",
        "outputId": "f6c99ebf-e7c7-48ef-9b44-dbc51fd07576",
        "colab": {
          "base_uri": "https://localhost:8080/",
          "height": 34
        }
      },
      "source": [
        "a = 7\n",
        "b = 4\n",
        "c = a+b\n",
        "print(c)"
      ],
      "execution_count": 0,
      "outputs": [
        {
          "output_type": "stream",
          "text": [
            "11\n"
          ],
          "name": "stdout"
        }
      ]
    },
    {
      "cell_type": "markdown",
      "metadata": {
        "id": "4UbnX7Vg3aKJ",
        "colab_type": "text"
      },
      "source": [
        "### Q003. 3번 문제의 a를 b로 나눗셈 하여 d에 넣으세요.\n",
        "### 출력까지 해보세요."
      ]
    },
    {
      "cell_type": "code",
      "metadata": {
        "id": "67PiaAZgCNFq",
        "colab_type": "code",
        "outputId": "0fdeff38-911e-4428-802e-ceb3844bc0b1",
        "colab": {
          "base_uri": "https://localhost:8080/",
          "height": 34
        }
      },
      "source": [
        "d = a/b\n",
        "print(d)"
      ],
      "execution_count": 0,
      "outputs": [
        {
          "output_type": "stream",
          "text": [
            "1.75\n"
          ],
          "name": "stdout"
        }
      ]
    },
    {
      "cell_type": "markdown",
      "metadata": {
        "id": "uOyvxk2HBypO",
        "colab_type": "text"
      },
      "source": [
        "### Q004. 3번의 a를 b로 나눗셈의 몫 연산한 것을 출력하세요."
      ]
    },
    {
      "cell_type": "code",
      "metadata": {
        "id": "h8rtTT-zCLnL",
        "colab_type": "code",
        "outputId": "a7946e6d-8c5f-4f03-f5cf-cd90516d463e",
        "colab": {
          "base_uri": "https://localhost:8080/",
          "height": 34
        }
      },
      "source": [
        "print(a//b)"
      ],
      "execution_count": 0,
      "outputs": [
        {
          "output_type": "stream",
          "text": [
            "1\n"
          ],
          "name": "stdout"
        }
      ]
    },
    {
      "cell_type": "markdown",
      "metadata": {
        "id": "aLvNsP47CMtz",
        "colab_type": "text"
      },
      "source": [
        "### Q005. 3번의 a를 b로 나눗셈의 나머지 연산 한 것을 출력하세요."
      ]
    },
    {
      "cell_type": "code",
      "metadata": {
        "id": "ifjHs8zDCYNQ",
        "colab_type": "code",
        "outputId": "3a74512d-3245-4dcf-f532-b22450a78e3a",
        "colab": {
          "base_uri": "https://localhost:8080/",
          "height": 34
        }
      },
      "source": [
        "print(a%b)"
      ],
      "execution_count": 0,
      "outputs": [
        {
          "output_type": "stream",
          "text": [
            "3\n"
          ],
          "name": "stdout"
        }
      ]
    },
    {
      "cell_type": "markdown",
      "metadata": {
        "id": "cu9pxnWgDYi6",
        "colab_type": "text"
      },
      "source": [
        "### Q006. 3번의 a를 b제곱 한 결과를 출력하세요."
      ]
    },
    {
      "cell_type": "code",
      "metadata": {
        "id": "xh4ZNXOvDZbW",
        "colab_type": "code",
        "outputId": "37ba60ec-9533-4254-e3d5-f0ada1359330",
        "colab": {
          "base_uri": "https://localhost:8080/",
          "height": 34
        }
      },
      "source": [
        "print(a**b)"
      ],
      "execution_count": 0,
      "outputs": [
        {
          "output_type": "stream",
          "text": [
            "2401\n"
          ],
          "name": "stdout"
        }
      ]
    },
    {
      "cell_type": "markdown",
      "metadata": {
        "id": "JGhQmOjFDliy",
        "colab_type": "text"
      },
      "source": [
        "### Q007. 자신의 이름을 출력하세요."
      ]
    },
    {
      "cell_type": "code",
      "metadata": {
        "id": "JoF7vp3XDxnP",
        "colab_type": "code",
        "outputId": "32a17e1a-8ef8-4b22-acf1-f1b4b19cf2c6",
        "colab": {
          "base_uri": "https://localhost:8080/",
          "height": 34
        }
      },
      "source": [
        "print('황재익')"
      ],
      "execution_count": 0,
      "outputs": [
        {
          "output_type": "stream",
          "text": [
            "황재익\n"
          ],
          "name": "stdout"
        }
      ]
    },
    {
      "cell_type": "markdown",
      "metadata": {
        "id": "wU4JulsPDyM6",
        "colab_type": "text"
      },
      "source": [
        "### Q008. 자신의 이름을 a라는 변수에 넣으세요."
      ]
    },
    {
      "cell_type": "code",
      "metadata": {
        "id": "0ReKLMZqD5xA",
        "colab_type": "code",
        "colab": {}
      },
      "source": [
        "a = '황재익'"
      ],
      "execution_count": 0,
      "outputs": []
    },
    {
      "cell_type": "markdown",
      "metadata": {
        "id": "x1XeJ86REAhq",
        "colab_type": "text"
      },
      "source": [
        "### Q009. 아래 문장을 문자열 처리해서 b 라는 변수에 넣으세요. "
      ]
    },
    {
      "cell_type": "code",
      "metadata": {
        "id": "a2bjNri1EJ_o",
        "colab_type": "code",
        "colab": {}
      },
      "source": [
        "b='''화려한 도시를 그리며 찾아왔네.\n",
        "그곳은 춥고도 험한 곳.'''"
      ],
      "execution_count": 0,
      "outputs": []
    },
    {
      "cell_type": "markdown",
      "metadata": {
        "id": "wPGbVi55Eg7K",
        "colab_type": "text"
      },
      "source": [
        "### Q010. 아래 예시처럼 출력될 수 있도록 문자열로 만들어 보세요.\n",
        "<pre>\n",
        "내 동생은 말했다. \"걸그룹은 역시 AOA야.\""
      ]
    },
    {
      "cell_type": "code",
      "metadata": {
        "id": "D4QEGKZuFQVc",
        "colab_type": "code",
        "outputId": "6b31f92d-327a-460a-87a4-7e34f33f65a4",
        "colab": {
          "base_uri": "https://localhost:8080/",
          "height": 34
        }
      },
      "source": [
        "c = '내 동생은 말했다. \"걸그룹은 역시 AOA야.\"'\n",
        "print(c)"
      ],
      "execution_count": 0,
      "outputs": [
        {
          "output_type": "stream",
          "text": [
            "내 동생은 말했다. \"걸그룹은 역시 AOA야.\"\n"
          ],
          "name": "stdout"
        }
      ]
    },
    {
      "cell_type": "markdown",
      "metadata": {
        "id": "9Mni54WCFRwC",
        "colab_type": "text"
      },
      "source": [
        "### Q011. 아래 문장을 전체 주석처리 해보세요."
      ]
    },
    {
      "cell_type": "code",
      "metadata": {
        "id": "d3-khgmHFjnV",
        "colab_type": "code",
        "outputId": "9f1cc991-a8c4-4b1f-c398-360ef9bb855a",
        "colab": {
          "base_uri": "https://localhost:8080/",
          "height": 34
        }
      },
      "source": [
        "\"\"\"내 모습이 보이지 않아\n",
        "앞길도 보이지 않아\n",
        "나는 상처 많은 번데기\"\"\""
      ],
      "execution_count": 0,
      "outputs": [
        {
          "output_type": "execute_result",
          "data": {
            "text/plain": [
              "'내 모습이 보이지 않아\\n앞길도 보이지 않아\\n나는 상처 많은 번데기'"
            ]
          },
          "metadata": {
            "tags": []
          },
          "execution_count": 12
        }
      ]
    },
    {
      "cell_type": "markdown",
      "metadata": {
        "id": "dCEQb3mrFtri",
        "colab_type": "text"
      },
      "source": [
        "### Q012. 아래 변수에 * 2를 해서 출력하세요."
      ]
    },
    {
      "cell_type": "code",
      "metadata": {
        "id": "v-HBVIDDGB10",
        "colab_type": "code",
        "outputId": "c0e48488-2f10-4a24-fdd5-24f891108d67",
        "colab": {
          "base_uri": "https://localhost:8080/",
          "height": 34
        }
      },
      "source": [
        "a = '대한민국'\n",
        "print(a*2)\n"
      ],
      "execution_count": 0,
      "outputs": [
        {
          "output_type": "stream",
          "text": [
            "대한민국대한민국\n"
          ],
          "name": "stdout"
        }
      ]
    },
    {
      "cell_type": "markdown",
      "metadata": {
        "id": "rrsdkUScGOJy",
        "colab_type": "text"
      },
      "source": [
        "### Q013. 아래 예시와 같이 출력하세요. 횟수는 30으로 합니다.\n",
        "<pre>\n",
        "예시\n",
        "----------------------"
      ]
    },
    {
      "cell_type": "code",
      "metadata": {
        "id": "VxjsCPEyGuPw",
        "colab_type": "code",
        "outputId": "d2f2c10c-a200-4c4c-9874-a23777f4b1ae",
        "colab": {
          "base_uri": "https://localhost:8080/",
          "height": 52
        }
      },
      "source": [
        "print(\"예시\")\n",
        "print('-'*30)"
      ],
      "execution_count": 0,
      "outputs": [
        {
          "output_type": "stream",
          "text": [
            "예시\n",
            "------------------------------\n"
          ],
          "name": "stdout"
        }
      ]
    },
    {
      "cell_type": "markdown",
      "metadata": {
        "id": "FIxk7iwsGutj",
        "colab_type": "text"
      },
      "source": [
        "### Q014. 아래 변수의 길이를 구하세요."
      ]
    },
    {
      "cell_type": "code",
      "metadata": {
        "id": "QoCQBQ5EHG9P",
        "colab_type": "code",
        "outputId": "e4cbf480-c75b-480b-90ce-38b3302240e6",
        "colab": {
          "base_uri": "https://localhost:8080/",
          "height": 34
        }
      },
      "source": [
        "a = '오늘은 든든한 곰국을 먹어야 겠다.'\n",
        "len(a)\n"
      ],
      "execution_count": 0,
      "outputs": [
        {
          "output_type": "execute_result",
          "data": {
            "text/plain": [
              "19"
            ]
          },
          "metadata": {
            "tags": []
          },
          "execution_count": 15
        }
      ]
    },
    {
      "cell_type": "markdown",
      "metadata": {
        "id": "h0D7MgA_HjNj",
        "colab_type": "text"
      },
      "source": [
        "### Q015. 아래 변수에서 '장'만을 출력하세요."
      ]
    },
    {
      "cell_type": "code",
      "metadata": {
        "id": "NbkNnyeIH7UZ",
        "colab_type": "code",
        "outputId": "e55ed97d-b19a-4b31-9717-1e81ea899c7d",
        "colab": {
          "base_uri": "https://localhost:8080/",
          "height": 34
        }
      },
      "source": [
        "a = '이에 표창장을 수여합니다.'\n",
        "print(a[5])\n"
      ],
      "execution_count": 0,
      "outputs": [
        {
          "output_type": "stream",
          "text": [
            "장\n"
          ],
          "name": "stdout"
        }
      ]
    },
    {
      "cell_type": "markdown",
      "metadata": {
        "id": "vnPpdO_pIDCE",
        "colab_type": "text"
      },
      "source": [
        "### Q016. 아래 변수에서 '사랑은' 을 출력하세요."
      ]
    },
    {
      "cell_type": "code",
      "metadata": {
        "id": "-bEOBJhPIazG",
        "colab_type": "code",
        "outputId": "ea66fbf3-ff58-491a-9a2d-564631d1d44f",
        "colab": {
          "base_uri": "https://localhost:8080/",
          "height": 34
        }
      },
      "source": [
        "b = '사랑은 가슴이 시킨다.'\n",
        "print(b[:3])"
      ],
      "execution_count": 0,
      "outputs": [
        {
          "output_type": "stream",
          "text": [
            "사랑은\n"
          ],
          "name": "stdout"
        }
      ]
    },
    {
      "cell_type": "markdown",
      "metadata": {
        "id": "JWGovja9Ifwb",
        "colab_type": "text"
      },
      "source": [
        "### Q017. 아래 변수를 이용하여 예시와 같은 문자열을 출력하세요.\n",
        "<pre>\n",
        "예시:\n",
        "사람이 꽃보다 아름다워"
      ]
    },
    {
      "cell_type": "code",
      "metadata": {
        "id": "upE0f-VlIyhG",
        "colab_type": "code",
        "outputId": "12e9a0be-c979-46a7-abe0-f4d3f6b58130",
        "colab": {
          "base_uri": "https://localhost:8080/",
          "height": 34
        }
      },
      "source": [
        "a = '사람'\n",
        "print(\"{}이 꽃보다 아름다워\".format(a))\n"
      ],
      "execution_count": 0,
      "outputs": [
        {
          "output_type": "stream",
          "text": [
            "사람이 꽃보다 아름다워\n"
          ],
          "name": "stdout"
        }
      ]
    },
    {
      "cell_type": "markdown",
      "metadata": {
        "id": "59ZqEfTVI84b",
        "colab_type": "text"
      },
      "source": [
        "### Q018. 아래 변수들을 넣어서 예시와 같은 문자열을 출력하세요.\n",
        "<pre>\n",
        "예시:\n",
        "올해는 2019년 이니까 내년은 2020년이네."
      ]
    },
    {
      "cell_type": "code",
      "metadata": {
        "id": "DZ415OPnJgFY",
        "colab_type": "code",
        "outputId": "947c512f-001b-457b-a703-4efe4d2646f2",
        "colab": {
          "base_uri": "https://localhost:8080/",
          "height": 34
        }
      },
      "source": [
        "a = 2019\n",
        "b = 2020\n",
        "print(\"올해는 {}년 이니까 내년은 {}년이네.\".format(a,b))"
      ],
      "execution_count": 0,
      "outputs": [
        {
          "output_type": "stream",
          "text": [
            "올해는 2019년 이니까 내년은 2020년이네.\n"
          ],
          "name": "stdout"
        }
      ]
    },
    {
      "cell_type": "markdown",
      "metadata": {
        "id": "Fm4MJlUvJkQr",
        "colab_type": "text"
      },
      "source": [
        "### Q019. 아래 변수에서 '장'의 갯수를 출력하세요."
      ]
    },
    {
      "cell_type": "code",
      "metadata": {
        "id": "r1zTI0IWJzkI",
        "colab_type": "code",
        "outputId": "4acef142-e1dd-4b0d-e9e3-ae72f0044a1f",
        "colab": {
          "base_uri": "https://localhost:8080/",
          "height": 34
        }
      },
      "source": [
        "a = '간장공장공장장은 강공장장이다.'\n",
        "a.count('장')"
      ],
      "execution_count": 0,
      "outputs": [
        {
          "output_type": "execute_result",
          "data": {
            "text/plain": [
              "6"
            ]
          },
          "metadata": {
            "tags": []
          },
          "execution_count": 22
        }
      ]
    },
    {
      "cell_type": "markdown",
      "metadata": {
        "id": "u08dnAqyJ9rL",
        "colab_type": "text"
      },
      "source": [
        "### Q020. 아래 변수에서 '병수'를 '민수'로 바꾸어 출력하세요."
      ]
    },
    {
      "cell_type": "code",
      "metadata": {
        "id": "24FHYLLEKKtf",
        "colab_type": "code",
        "outputId": "d8f60737-0135-4215-d854-819eeb27c660",
        "colab": {
          "base_uri": "https://localhost:8080/",
          "height": 34
        }
      },
      "source": [
        "a = '병수는 우리반 반장이야.'\n",
        "print(a.replace('병수','민수'))"
      ],
      "execution_count": 0,
      "outputs": [
        {
          "output_type": "stream",
          "text": [
            "민수는 우리반 반장이야.\n"
          ],
          "name": "stdout"
        }
      ]
    },
    {
      "cell_type": "markdown",
      "metadata": {
        "id": "Ji-p0JQJKQ4L",
        "colab_type": "text"
      },
      "source": [
        "### Q021. 아래 변수를 공백 단위로 나누어 출력해 보세요."
      ]
    },
    {
      "cell_type": "code",
      "metadata": {
        "id": "wlmi6I9tKgsk",
        "colab_type": "code",
        "outputId": "f0f33776-e402-4b98-f214-e417b4e13bff",
        "colab": {
          "base_uri": "https://localhost:8080/",
          "height": 34
        }
      },
      "source": [
        "a = 'I am your father'\n",
        "a.split(\" \")"
      ],
      "execution_count": 0,
      "outputs": [
        {
          "output_type": "execute_result",
          "data": {
            "text/plain": [
              "['I', 'am', 'your', 'father']"
            ]
          },
          "metadata": {
            "tags": []
          },
          "execution_count": 25
        }
      ]
    }
  ]
}
