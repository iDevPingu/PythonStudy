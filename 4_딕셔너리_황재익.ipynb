{
  "nbformat": 4,
  "nbformat_minor": 0,
  "metadata": {
    "colab": {
      "name": "4_딕셔너리_황재익.ipynb",
      "version": "0.3.2",
      "provenance": [],
      "collapsed_sections": [],
      "include_colab_link": true
    },
    "kernelspec": {
      "name": "python3",
      "display_name": "Python 3"
    }
  },
  "cells": [
    {
      "cell_type": "markdown",
      "metadata": {
        "id": "view-in-github",
        "colab_type": "text"
      },
      "source": [
        "<a href=\"https://colab.research.google.com/github/jaicoco/PythonStudy/blob/master/4_%EB%94%95%EC%85%94%EB%84%88%EB%A6%AC_%ED%99%A9%EC%9E%AC%EC%9D%B5.ipynb\" target=\"_parent\"><img src=\"https://colab.research.google.com/assets/colab-badge.svg\" alt=\"Open In Colab\"/></a>"
      ]
    },
    {
      "cell_type": "markdown",
      "metadata": {
        "id": "u53AJoRxglju",
        "colab_type": "text"
      },
      "source": [
        "# 4.딕셔너리\n",
        "딕셔너리도 여러개의 값을 담는 변수입니다."
      ]
    },
    {
      "cell_type": "markdown",
      "metadata": {
        "id": "06uU7V3SgvSj",
        "colab_type": "text"
      },
      "source": [
        "## 4-1.딕셔너리 형식\n",
        "<pre>\n",
        "* 형식 :\n",
        "  딕셔너리이름 = {'key값1':'value값1', 'key값2':'value값2', 'key값3':'value값3', ...}\n",
        "  딕셔너리이름 = {}\n",
        "\n",
        "\n",
        "* 리스트 이름으로 안되는 것들 : \n",
        "  - if, def, class, while, for, else 등의 예약어\n",
        "  - 숫자로 시작하는 것\n",
        "  ex) 1a, 3name, ...\n",
        "\n",
        "\n",
        "* 딕셔너리의 특징\n",
        "  1.key값과 value값의 쌍 형태\n",
        "  2.인덱스(순번)을 가지지 않음\n",
        "  3.인덱스 대신 key값으로 value를 불러옴\n",
        "  4.수정 가능\n",
        "\n",
        "\n",
        "\n",
        "  \n",
        "  \n"
      ]
    },
    {
      "cell_type": "markdown",
      "metadata": {
        "id": "oOtdS835kEq8",
        "colab_type": "text"
      },
      "source": [
        "## 4-2.딕셔너리 사용법\n",
        "<pre>\n",
        "딕셔너리를 사용하면 이런 것을 할 수 있습니다.\n",
        "가령\n",
        "방탄 소년단 멤버와 그들의 나이가 있을 수 있지요.\n",
        "이를 한 번에 담아 둘 수 없을까요?\n",
        "이 때 유용한 것이 딕셔너리 입니다."
      ]
    },
    {
      "cell_type": "markdown",
      "metadata": {
        "id": "koQnBTFPw_-4",
        "colab_type": "text"
      },
      "source": [
        "#### 딕셔너리 만들기"
      ]
    },
    {
      "cell_type": "code",
      "metadata": {
        "id": "niFgTyu-NhxM",
        "colab_type": "code",
        "outputId": "49b3032a-e196-43ba-f62f-b8597e187611",
        "colab": {
          "base_uri": "https://localhost:8080/",
          "height": 34
        }
      },
      "source": [
        "# 빈 딕셔너리\n",
        "dict1 = {}\n",
        "print(dict1)"
      ],
      "execution_count": 0,
      "outputs": [
        {
          "output_type": "stream",
          "text": [
            "{}\n"
          ],
          "name": "stdout"
        }
      ]
    },
    {
      "cell_type": "code",
      "metadata": {
        "id": "6cVYee4OpymM",
        "colab_type": "code",
        "outputId": "68ec9440-afc1-4728-ea92-50d1f408d82b",
        "colab": {
          "base_uri": "https://localhost:8080/",
          "height": 52
        }
      },
      "source": [
        "colorpens={'red':3,'blue':2,'yellow':4}\n",
        "print(colorpens)\n",
        "colorpens.keys()"
      ],
      "execution_count": 0,
      "outputs": [
        {
          "output_type": "stream",
          "text": [
            "{'red': 3, 'blue': 2, 'yellow': 4}\n"
          ],
          "name": "stdout"
        },
        {
          "output_type": "execute_result",
          "data": {
            "text/plain": [
              "dict_keys(['red', 'blue', 'yellow'])"
            ]
          },
          "metadata": {
            "tags": []
          },
          "execution_count": 7
        }
      ]
    },
    {
      "cell_type": "code",
      "metadata": {
        "id": "FnD5RrtAx10E",
        "colab_type": "code",
        "colab": {}
      },
      "source": [
        "# BTS의 이름을 key로 나이를 value로 만든 딕셔너리\n",
        "a = {'진':'22', '슈가':'25','제이홉':'26'}\n"
      ],
      "execution_count": 0,
      "outputs": []
    },
    {
      "cell_type": "markdown",
      "metadata": {
        "id": "cv7DRFGs6-Y0",
        "colab_type": "text"
      },
      "source": [
        "#### key값으로 value 가져오기\n",
        "<pre>\n",
        "*사용법:\n",
        "딕셔너리명[key값]\n"
      ]
    },
    {
      "cell_type": "code",
      "metadata": {
        "id": "Rm0EWMTZ7Dba",
        "colab_type": "code",
        "outputId": "25df1684-7143-4a85-f93b-f78147999686",
        "colab": {
          "base_uri": "https://localhost:8080/",
          "height": 34
        }
      },
      "source": [
        "# key값 '진'으로 value값 가져오기\n",
        "print(a['진'])"
      ],
      "execution_count": 0,
      "outputs": [
        {
          "output_type": "stream",
          "text": [
            "22\n"
          ],
          "name": "stdout"
        }
      ]
    },
    {
      "cell_type": "code",
      "metadata": {
        "id": "j2n6rZ0XQZw2",
        "colab_type": "code",
        "outputId": "73505a9c-0815-40a5-e25f-eb656621dbdc",
        "colab": {
          "base_uri": "https://localhost:8080/",
          "height": 34
        }
      },
      "source": [
        "# key값 '슈가', '제이홉'으로 value값 가져오기\n",
        "print(a['슈가'],a['제이홉'])"
      ],
      "execution_count": 0,
      "outputs": [
        {
          "output_type": "stream",
          "text": [
            "25 26\n"
          ],
          "name": "stdout"
        }
      ]
    },
    {
      "cell_type": "code",
      "metadata": {
        "id": "9QctELzaE3HK",
        "colab_type": "code",
        "outputId": "fe77519d-5eb7-4bb1-925e-4b8ffaaed875",
        "colab": {
          "base_uri": "https://localhost:8080/",
          "height": 52
        }
      },
      "source": [
        "b = {'name':'John','age':'25','phone':'01045454454'}\n",
        "print(b['name'])\n",
        "print(b['phone'])"
      ],
      "execution_count": 0,
      "outputs": [
        {
          "output_type": "stream",
          "text": [
            "John\n",
            "01045454454\n"
          ],
          "name": "stdout"
        }
      ]
    },
    {
      "cell_type": "markdown",
      "metadata": {
        "id": "y8WQvw37PLMs",
        "colab_type": "text"
      },
      "source": [
        "### value 값으로 리스트 넣기/ value 값 가져오기"
      ]
    },
    {
      "cell_type": "code",
      "metadata": {
        "id": "Lh2FNgz4PZmb",
        "colab_type": "code",
        "outputId": "4efc7819-32fb-4bfa-a7b1-4bca0638cbc0",
        "colab": {
          "base_uri": "https://localhost:8080/",
          "height": 34
        }
      },
      "source": [
        "name = ['John','Amily','Tom']\n",
        "age  = ['25','12','41']\n",
        "home = ['LA','Seoul','Paris']\n",
        "\n",
        "contact={'name':name,'age':age,'home':home }\n",
        "print(contact)"
      ],
      "execution_count": 0,
      "outputs": [
        {
          "output_type": "stream",
          "text": [
            "{'name': ['John', 'Amily', 'Tom'], 'age': ['25', '12', '41'], 'home': ['LA', 'Seoul', 'Paris']}\n"
          ],
          "name": "stdout"
        }
      ]
    },
    {
      "cell_type": "code",
      "metadata": {
        "id": "9t11XOZyRggE",
        "colab_type": "code",
        "outputId": "9e0541a2-95cf-4861-86b7-2bb771ac475c",
        "colab": {
          "base_uri": "https://localhost:8080/",
          "height": 34
        }
      },
      "source": [
        "contact.keys()"
      ],
      "execution_count": 0,
      "outputs": [
        {
          "output_type": "execute_result",
          "data": {
            "text/plain": [
              "dict_keys(['name', 'age', 'home'])"
            ]
          },
          "metadata": {
            "tags": []
          },
          "execution_count": 24
        }
      ]
    },
    {
      "cell_type": "code",
      "metadata": {
        "id": "RKFlyl8jsFLD",
        "colab_type": "code",
        "outputId": "eb117079-881b-4288-ca8f-bc82555e0a98",
        "colab": {
          "base_uri": "https://localhost:8080/",
          "height": 34
        }
      },
      "source": [
        "print(contact['name'])"
      ],
      "execution_count": 0,
      "outputs": [
        {
          "output_type": "stream",
          "text": [
            "['John', 'Amily', 'Tom']\n"
          ],
          "name": "stdout"
        }
      ]
    },
    {
      "cell_type": "markdown",
      "metadata": {
        "id": "bWZozr0t8XqI",
        "colab_type": "text"
      },
      "source": [
        "### 딕셔너리 주의 사항\n",
        "* key값은 동일하면 안됨\n",
        "\n",
        "* key값으로 리스트가 올 수 없음. "
      ]
    },
    {
      "cell_type": "code",
      "metadata": {
        "id": "nCK7lIJdHfCw",
        "colab_type": "code",
        "outputId": "b44464e0-3011-4020-d6be-529ccdf6733b",
        "colab": {
          "base_uri": "https://localhost:8080/",
          "height": 34
        }
      },
      "source": [
        "a = {'이름':'kim', '이름':'lee'}\n",
        "a.keys()"
      ],
      "execution_count": 0,
      "outputs": [
        {
          "output_type": "execute_result",
          "data": {
            "text/plain": [
              "dict_keys(['이름'])"
            ]
          },
          "metadata": {
            "tags": []
          },
          "execution_count": 29
        }
      ]
    },
    {
      "cell_type": "code",
      "metadata": {
        "id": "f3SMGt-c8iot",
        "colab_type": "code",
        "outputId": "ddf5156e-33e4-4c5f-b785-0fb1123b1ca1",
        "colab": {
          "base_uri": "https://localhost:8080/",
          "height": 34
        }
      },
      "source": [
        "print(a['이름'])"
      ],
      "execution_count": 0,
      "outputs": [
        {
          "output_type": "stream",
          "text": [
            "lee\n"
          ],
          "name": "stdout"
        }
      ]
    },
    {
      "cell_type": "markdown",
      "metadata": {
        "id": "hw6dqK4w80vf",
        "colab_type": "text"
      },
      "source": [
        "### key값들을 리스트로 만들기(keys() 함수)\n",
        "key값들만 모아서 리스트처럼 만들 수 있습니다.\n",
        "\n",
        "<pre>\n",
        "*사용법:\n",
        "딕셔너리명.keys()"
      ]
    },
    {
      "cell_type": "code",
      "metadata": {
        "id": "EbyqJ3-eHWxj",
        "colab_type": "code",
        "outputId": "1edea7be-5498-4354-8026-3fc7a2e80cab",
        "colab": {
          "base_uri": "https://localhost:8080/",
          "height": 34
        }
      },
      "source": [
        "a = {'이름':'kim', '나이':24, '지역':'서울'}\n",
        "keykey = a.keys()\n",
        "print(keykey)"
      ],
      "execution_count": 0,
      "outputs": [
        {
          "output_type": "stream",
          "text": [
            "dict_keys(['이름', '나이', '지역'])\n"
          ],
          "name": "stdout"
        }
      ]
    },
    {
      "cell_type": "code",
      "metadata": {
        "id": "yq8Qc6Dg9ITf",
        "colab_type": "code",
        "outputId": "aef7b35a-4e78-4415-de2d-0e1dc8e6ea33",
        "colab": {
          "base_uri": "https://localhost:8080/",
          "height": 52
        }
      },
      "source": [
        "keycol = contact.keys()\n",
        "print(keycol)\n",
        "print(type(keycol))"
      ],
      "execution_count": 0,
      "outputs": [
        {
          "output_type": "stream",
          "text": [
            "dict_keys(['name', 'age', 'home'])\n",
            "<class 'dict_keys'>\n"
          ],
          "name": "stdout"
        }
      ]
    },
    {
      "cell_type": "markdown",
      "metadata": {
        "id": "R4oZI8pl9Zpv",
        "colab_type": "text"
      },
      "source": [
        "리스트 같지만 리스트의 함수들인 append, insert, remove 등은 사용할 수 없음."
      ]
    },
    {
      "cell_type": "markdown",
      "metadata": {
        "id": "4Kgbu0xt9y2I",
        "colab_type": "text"
      },
      "source": [
        "dict_keys를 리스트로 바꾸려면\n",
        "\n",
        "list를 만들어주는 list()함수를 사용하면 됩니다.\n",
        "\n",
        "리스트명 = list(값)"
      ]
    },
    {
      "cell_type": "code",
      "metadata": {
        "id": "Rl6XiEkVJMf6",
        "colab_type": "code",
        "colab": {}
      },
      "source": [
        "a = {'이름':'kim', '나이':24, '지역':'서울'}"
      ],
      "execution_count": 0,
      "outputs": []
    },
    {
      "cell_type": "code",
      "metadata": {
        "id": "27LU2l45-A_r",
        "colab_type": "code",
        "outputId": "4f3c3a60-16ae-4b1d-d049-7dc695fb6eaa",
        "colab": {
          "base_uri": "https://localhost:8080/",
          "height": 34
        }
      },
      "source": [
        "# list함수로 리스트로 만들어 list1에 저장\n",
        "list1 = list(a.keys())\n",
        "type(list1)"
      ],
      "execution_count": 0,
      "outputs": [
        {
          "output_type": "execute_result",
          "data": {
            "text/plain": [
              "list"
            ]
          },
          "metadata": {
            "tags": []
          },
          "execution_count": 35
        }
      ]
    },
    {
      "cell_type": "markdown",
      "metadata": {
        "id": "JCE6oUhA-fFb",
        "colab_type": "text"
      },
      "source": [
        "이제 append, insert, remove 등의 함수를 사용할 수 있습니다."
      ]
    },
    {
      "cell_type": "markdown",
      "metadata": {
        "id": "dbkEaqjz-lrb",
        "colab_type": "text"
      },
      "source": [
        "### value 값들을 리스트로 만들기(values() 함수)\n",
        "keys() 함수처럼 사용하면 됩니다.\n",
        "\n",
        "values()를 사용합시다."
      ]
    },
    {
      "cell_type": "code",
      "metadata": {
        "id": "piymW2sDIO3U",
        "colab_type": "code",
        "outputId": "5fa054c2-7948-4637-f396-ffa49afae327",
        "colab": {
          "base_uri": "https://localhost:8080/",
          "height": 34
        }
      },
      "source": [
        "a = {'이름':'kim', '나이':24, '지역':'서울'}\n",
        "a.values()"
      ],
      "execution_count": 0,
      "outputs": [
        {
          "output_type": "execute_result",
          "data": {
            "text/plain": [
              "dict_values(['kim', 24, '서울'])"
            ]
          },
          "metadata": {
            "tags": []
          },
          "execution_count": 39
        }
      ]
    },
    {
      "cell_type": "code",
      "metadata": {
        "id": "A6prdviZ_Ibb",
        "colab_type": "code",
        "outputId": "963d0449-2434-469e-b116-d02c73ec6612",
        "colab": {
          "base_uri": "https://localhost:8080/",
          "height": 34
        }
      },
      "source": [
        "type(a)"
      ],
      "execution_count": 0,
      "outputs": [
        {
          "output_type": "execute_result",
          "data": {
            "text/plain": [
              "dict"
            ]
          },
          "metadata": {
            "tags": []
          },
          "execution_count": 38
        }
      ]
    },
    {
      "cell_type": "markdown",
      "metadata": {
        "id": "tRW9A_Xg_PlW",
        "colab_type": "text"
      },
      "source": [
        "리스트 같지만 리스트 아닌 이것을\n",
        "\n",
        "list() 함수를 이용해서 바꿔줍시다."
      ]
    },
    {
      "cell_type": "code",
      "metadata": {
        "id": "pEIDnq0VJbLo",
        "colab_type": "code",
        "colab": {}
      },
      "source": [
        "a = {'이름':'kim', '나이':24, '지역':'서울'}"
      ],
      "execution_count": 0,
      "outputs": []
    },
    {
      "cell_type": "code",
      "metadata": {
        "id": "3kNwyzqs_Y_1",
        "colab_type": "code",
        "colab": {}
      },
      "source": [
        "# list() 함수를 적용하여 list로 만들어 list2라는 이름으로 저장\n",
        "list2 = list(a.values())\n",
        "list2"
      ],
      "execution_count": 0,
      "outputs": []
    },
    {
      "cell_type": "code",
      "metadata": {
        "id": "y8OZbDif_fji",
        "colab_type": "code",
        "colab": {}
      },
      "source": [
        ""
      ],
      "execution_count": 0,
      "outputs": []
    },
    {
      "cell_type": "markdown",
      "metadata": {
        "id": "y4-ffPfh_g9i",
        "colab_type": "text"
      },
      "source": [
        "### key, value 쌍 얻기(items() 함수)\n",
        "<pre>\n",
        "*사용법:\n",
        "딕셔너리명.items()"
      ]
    },
    {
      "cell_type": "code",
      "metadata": {
        "id": "WvX5_7aoJcj4",
        "colab_type": "code",
        "colab": {}
      },
      "source": [
        "a = {'이름':'kim', '나이':24, '지역':'서울'}"
      ],
      "execution_count": 0,
      "outputs": []
    },
    {
      "cell_type": "code",
      "metadata": {
        "id": "AIOgTyb8AFow",
        "colab_type": "code",
        "outputId": "07932048-e60f-44bb-f6d2-410574fef093",
        "colab": {
          "base_uri": "https://localhost:8080/",
          "height": 34
        }
      },
      "source": [
        "a.items()"
      ],
      "execution_count": 0,
      "outputs": [
        {
          "output_type": "execute_result",
          "data": {
            "text/plain": [
              "dict_items([('이름', 'kim'), ('나이', 24), ('지역', '서울')])"
            ]
          },
          "metadata": {
            "tags": []
          },
          "execution_count": 41
        }
      ]
    },
    {
      "cell_type": "markdown",
      "metadata": {
        "id": "DXEePYk7ASvb",
        "colab_type": "text"
      },
      "source": [
        "마찬가지로 list()함수를 이용해서 리스트로 만들 수 있습니다."
      ]
    },
    {
      "cell_type": "code",
      "metadata": {
        "id": "ZzLO5U95JeEK",
        "colab_type": "code",
        "colab": {}
      },
      "source": [
        "a = {'이름':'kim', '나이':24, '지역':'서울'}"
      ],
      "execution_count": 0,
      "outputs": []
    },
    {
      "cell_type": "code",
      "metadata": {
        "id": "YXAFqayEAIvI",
        "colab_type": "code",
        "outputId": "a214eed4-6ccd-4959-e1ba-23856f682258",
        "colab": {
          "base_uri": "https://localhost:8080/",
          "height": 52
        }
      },
      "source": [
        "list3 = list(a.items())\n",
        "print(list3)\n",
        "print(list3[0][1])"
      ],
      "execution_count": 0,
      "outputs": [
        {
          "output_type": "stream",
          "text": [
            "[('이름', 'kim'), ('나이', 24), ('지역', '서울')]\n",
            "kim\n"
          ],
          "name": "stdout"
        }
      ]
    },
    {
      "cell_type": "markdown",
      "metadata": {
        "id": "9xLSLW-vAPNS",
        "colab_type": "text"
      },
      "source": [
        "### key, value쌍 모두 지우기(clear() 함수)\n",
        "<pre>\n",
        "*사용법:\n",
        "딕셔너리명.clear()"
      ]
    },
    {
      "cell_type": "code",
      "metadata": {
        "id": "ZRBSc5r4JiSJ",
        "colab_type": "code",
        "colab": {}
      },
      "source": [
        "a = {'이름':'kim', '나이':24, '지역':'서울'}"
      ],
      "execution_count": 0,
      "outputs": []
    },
    {
      "cell_type": "code",
      "metadata": {
        "id": "p6nCpUS9AwAu",
        "colab_type": "code",
        "colab": {}
      },
      "source": [
        "a.clear()"
      ],
      "execution_count": 0,
      "outputs": []
    },
    {
      "cell_type": "code",
      "metadata": {
        "id": "4Xp3J_AaA49P",
        "colab_type": "code",
        "outputId": "0ee2d3d7-202d-4ff1-88de-45d1508fbb54",
        "colab": {
          "base_uri": "https://localhost:8080/",
          "height": 34
        }
      },
      "source": [
        "a"
      ],
      "execution_count": 0,
      "outputs": [
        {
          "output_type": "execute_result",
          "data": {
            "text/plain": [
              "{}"
            ]
          },
          "metadata": {
            "tags": []
          },
          "execution_count": 46
        }
      ]
    },
    {
      "cell_type": "markdown",
      "metadata": {
        "id": "rJzM4Fm0A7hV",
        "colab_type": "text"
      },
      "source": [
        "### 해당 key가 딕셔너리 안에 있는지 조사하기\n",
        "<pre>\n",
        "* 사용법:\n",
        "key값 in 딕셔너리"
      ]
    },
    {
      "cell_type": "code",
      "metadata": {
        "id": "aeqyS4ecCsse",
        "colab_type": "code",
        "colab": {}
      },
      "source": [
        "z = {'name':1, 'loc':2, 'age':3}"
      ],
      "execution_count": 0,
      "outputs": []
    },
    {
      "cell_type": "code",
      "metadata": {
        "id": "qfwtI9hOC4Tw",
        "colab_type": "code",
        "outputId": "152c2e18-42cd-464c-debb-95226b83afad",
        "colab": {
          "base_uri": "https://localhost:8080/",
          "height": 34
        }
      },
      "source": [
        "'name' in z"
      ],
      "execution_count": 0,
      "outputs": [
        {
          "output_type": "execute_result",
          "data": {
            "text/plain": [
              "True"
            ]
          },
          "metadata": {
            "tags": []
          },
          "execution_count": 49
        }
      ]
    },
    {
      "cell_type": "code",
      "metadata": {
        "id": "21m7fYfWC6yc",
        "colab_type": "code",
        "colab": {}
      },
      "source": [
        ""
      ],
      "execution_count": 0,
      "outputs": []
    },
    {
      "cell_type": "markdown",
      "metadata": {
        "id": "6yfqSEStDAV0",
        "colab_type": "text"
      },
      "source": [
        "True 는 있음\n",
        "\n",
        "False는 없음"
      ]
    },
    {
      "cell_type": "code",
      "metadata": {
        "id": "doNnhz6WGKqG",
        "colab_type": "code",
        "colab": {}
      },
      "source": [
        ""
      ],
      "execution_count": 0,
      "outputs": []
    }
  ]
}