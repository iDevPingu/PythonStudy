{
  "nbformat": 4,
  "nbformat_minor": 0,
  "metadata": {
    "colab": {
      "name": "TeamProject1_황재익.ipynb",
      "version": "0.3.2",
      "provenance": [],
      "collapsed_sections": [],
      "include_colab_link": true
    },
    "kernelspec": {
      "name": "python3",
      "display_name": "Python 3"
    }
  },
  "cells": [
    {
      "cell_type": "markdown",
      "metadata": {
        "id": "view-in-github",
        "colab_type": "text"
      },
      "source": [
        "<a href=\"https://colab.research.google.com/github/jaicoco/PythonStudy/blob/master/TeamProject1_%ED%99%A9%EC%9E%AC%EC%9D%B5.ipynb\" target=\"_parent\"><img src=\"https://colab.research.google.com/assets/colab-badge.svg\" alt=\"Open In Colab\"/></a>"
      ]
    },
    {
      "cell_type": "code",
      "metadata": {
        "id": "J865GOtte5Ba",
        "colab_type": "code",
        "colab": {}
      },
      "source": [
        "JapaneseShop = {'부타이':['서울 강남구 테헤란로88길 22', '02-544-8422'], \n",
        "                '후레시빌':['서울 강남구 테헤란로108길 19', '02-501-9797'], \n",
        "                '호천당':['서울특별시 강남구 대치동 611', '02-567-1244'], \n",
        "                '날으는돈까스':['서울 강남구 일원로5길 16', '02-2226-5333'], \n",
        "                '스시유':['서울 강남구 영동대로 407', '02-553-7870'], \n",
        "                '바르미샤브샤브':['서울 강남구 영동대로 417', '02-6235-2600']}\n",
        "KoreanShop = {'진지방순대국':['서울특별시 강남구 영동대로 221', '02-552-0059'],\n",
        "              '송탄부대찌개':['서울특별시 강남구 일원로9길 58', '02-2226-0374'],\n",
        "              '대모산칼국수':['서울특별시 강남구 일원로14길 25 푸른마을아파트 상가동 지하1호', '02-594-1800'],\n",
        "              '민박사봉평메밀촌':['서울 강남구 개포로 615', '02-451-5860'],\n",
        "              '일도씨닭갈비대치점':['서울특별시 강남구 남부순환로 2947 2층', '02-552-0709'],\n",
        "              '피플족발':['서울특별시 강남구 일원로5길 6', '02-445-7008']}\n",
        "ChineseShop = {'미래향' : ['서울 강남구 삼성로61길 11-2', '0504-109-9437'], \n",
        "            '치찌중화식당' : ['서울 강남구 영동대로86길 28','02-555-2584'], \n",
        "            '하이보' : ['서울 강남구 영동대로85길 13 대치동 999-1',  '02-501-7681'],\n",
        "            '왕재' : ['서울 강남구 영동대로57길 28 현대아파트', '02-563-1688'], \n",
        "            '희앤락' : ['서울 강남구 남부순환로 2936 윈플러스상가 지하1층', '02-558-6898'],\n",
        "            '홍운장' : ['서울 강남구 삼성로 341 인애빌딩', '02-558-3666'],\n",
        "            '몽훈헌대치점': ['서울 강남구 영동대로 325 해암빌딩1층',  '02-565-5757']}"
      ],
      "execution_count": 0,
      "outputs": []
    },
    {
      "cell_type": "code",
      "metadata": {
        "id": "LyGzNL8zffv6",
        "colab_type": "code",
        "colab": {}
      },
      "source": [
        "ShopMenu = {'부타이':[['마제소바',10000], ['가츠산도',12000], ['돈카츠정식',14000]], \n",
        "            '후레시빌':[['장미에 빠진 돈까스',9900], ['냉모밀에 빠진 돈까스',8900], ['회오리오무돈까스',8000], ['치즈앤치즈불돈까스',9900]], \n",
        "            '호천당':[['점보세트',11500], ['돈가스 카레 정식',10500], ['모짜렐라 치즈 돈가스',10000], ['수제 생 돈가스',8500]],\n",
        "            '날으는 돈까스':[['치즈돈까스',10000], ['로스까스',8000], ['돈우동 정식세트',12000], ['히레까스',8000],['사까나까스',8000]],\n",
        "            '스시유':[['런치메뉴-오마카세A',68000], ['런치메뉴-사시미정식',55000], ['런치메뉴-오마카세B',88000]],\n",
        "            '진지방순대국':[['순대국', 7000 ],['얼큰순대국', 7000], ['내장탕', 8000]], \n",
        "           '송탄부대찌개':[['부대찌개', 8000],['얼큰김치찌개', 8000],['닭볶음탕',28000]], \n",
        "           '대모산칼국수':[['전통김치만두',6000], ['대모산비빔밥', 7000 ]],\n",
        "           '민박사봉평메밀촌':[['메밀막국수(물,비빔)', 7000 ], ['메밀칼국수', 6000],['옹심이칼국수', 7000]], \n",
        "           '일도씨닭갈비대치점':[['치즈닭갈비', 15000 ], ['콩나물닭갈비', 13000 ]], \n",
        "           '피플족발':[ ['족발(대)', 35000 ], ['반반족발(대)', 37000]],\n",
        "           '미래향' : [['자장면',6500], ['짬뽕',7000], ['삼선볶음밥',8000], ['탕수육',21000], ['양장피',28000]],\n",
        "           '치찌중화식당' : [['자장면',7000], ['짬뽕',8000], ['해물볶음밥',9000], ['라조기',28000], ['깐쇼새우',31000]],\n",
        "           '하이보' : [['쟁반 자장면',10000], ['쟁반짬뽕',12000], ['볶음짬뽕',15000], ['오향장육',50000], ['송이전복',80000]],\n",
        "           '왕재' : [['자장면',5000], ['짬뽕',6000], ['해물짬뽕',8000], ['유산슬',23000], ['깐풍기',25000]],\n",
        "           '희앤락' : [['자장면',7000], ['짬뽕',7500], ['마파두부',8000], ['깐풍기',21000], ['해물누룽지탕',30000]],\n",
        "           '홍운장' : [['볶음자장면',8000], ['볶음짬뽕',9000], ['유린기',28000], ['유산슬',33000], ['깐풍새우',34000]],\n",
        "           '몽훈헌대치점' : [['자장면',7000], ['짬뽕',8000], ['쟁반짬뽕',12000], ['크림새우',31000], ['라조기',28000]]}\n",
        "\n",
        "\n"
      ],
      "execution_count": 0,
      "outputs": []
    },
    {
      "cell_type": "code",
      "metadata": {
        "id": "_sxNajBLWg32",
        "colab_type": "code",
        "colab": {}
      },
      "source": [
        "#음식점을 선택하면 그 음식점의 메뉴와 가격을 알려주는 코드\n",
        "def FindName(SearchName):\n",
        "  if SearchName in KoreanShop.keys():\n",
        "    print(ShopMenu[SearchName])\n",
        "  elif SearchName in ChineseShop.keys():\n",
        "    print(ShopMenu[SearchName])\n",
        "  elif SearchName in JapaneseShop.keys():\n",
        "    print(ShopMenu[SearchName])\n",
        "  else:\n",
        "    print('찾으시는 가게 명이 없습니다.')\n"
      ],
      "execution_count": 0,
      "outputs": []
    },
    {
      "cell_type": "code",
      "metadata": {
        "id": "G66bAboF-9Pa",
        "colab_type": "code",
        "colab": {}
      },
      "source": [
        "#모의주문\n",
        "def Order(ShopName):\n",
        "  More = 'a'                                   #더 주문할 것인지에 대한 변수\n",
        "  TempDic = {}                                 #2가지 이상 메뉴를 받기위해 임시로 저장할 딕셔너리\n",
        "  TotalPay = 0                                 #주문한 모든 가격을 담을 변수\n",
        "  ShopMenuTemp = ShopMenu[ShopName]            #가게이름에 따른 가게 메뉴를 임시로 저장할 곳\n",
        "  ShopMenuTemplen = (len(ShopMenuTemp))        #ShopMenuTemplen의 길이\n",
        "  NamePrice = {}                               #가격과 이름을 나누기위한 딕셔너리\n",
        "  for i in range(0,ShopMenuTemplen):\n",
        "    NamePrice[ShopMenuTemp[i][0]] = ShopMenuTemp[i][1]\n",
        "    \n",
        "  while(More != 'no'):\n",
        "    temp = 999                                 #메뉴이름이 몇번 인덱스에 있는지 임시 저장을 위한 변수 \n",
        "    while(temp ==999 ):\n",
        "      MenuName = input('원하시는 메뉴를 입력하세요' )\n",
        "      #메뉴이름이 메뉴 딕셔너리에 있는지 확인 및 몇인분 주문인지, 총 합계는 얼마인지 구하는 for문\n",
        "      for i in range(len(ShopMenu[ShopName])):\n",
        "        if ShopMenu[ShopName][i][0] == MenuName:\n",
        "          temp = i\n",
        "          #TempDic에 입력된 메뉴이름이 키값이고 가격이 value값인 딕셔너리 저장\n",
        "          TempDic[MenuName]=ShopMenu[ShopName][temp][1]\n",
        "          break\n",
        "          #모든 딕셔너리를 탐색해도 메뉴이름이 같지 않을경우\n",
        "        elif i == len(ShopMenu[ShopName])-1:\n",
        "          print('메뉴를 잘못 입력하셨어유')\n",
        "          break\n",
        "      continue\n",
        "      \n",
        "        \n",
        "    HowMany = int(input('몇 개 주문하시겠습니까? '))\n",
        "    #TempDic에 각 메뉴의 합계 저장\n",
        "    TempDic[MenuName]*=HowMany\n",
        "    #몇개인지 계산해서 합계를 임시 변수에 저장\n",
        "    TotalPay += (NamePrice[MenuName] * HowMany)\n",
        "    #여기서 yes가 나오면 while 문의 처음으로 돌아가 다시 실행\n",
        "    More = input('더 주문하시겠습니까? (yes/no)')\n",
        "    if More == 'yes':\n",
        "      continue\n",
        "  #TempDicKeyList에는 메뉴이름들이 임시로 저장됨\n",
        "  TempDicKeyList = list(TempDic.keys())\n",
        "  #TempDicKeyList = ['메뉴1','메뉴2']\n",
        "  #TempDic = {'메뉴1':'그메뉴총금액','메뉴2':'그메뉴총금액'}\n",
        "  #몇개를 주문했는지는 TempDic의 총금액에서 임시로 저장한 NamePrice딕셔너리의 1개의 값으로 나눠주면 됨\n",
        "  for i in range(len(TempDicKeyList)):\n",
        "    print('{} {}원 {}개 주문 '.format(TempDicKeyList[i],NamePrice[TempDicKeyList[i]], TempDic[TempDicKeyList[i]] / NamePrice[TempDicKeyList[i]] ))\n",
        "          \n",
        "  print('총합 : {}'.format(TotalPay))\n",
        "    \n"
      ],
      "execution_count": 0,
      "outputs": []
    },
    {
      "cell_type": "code",
      "metadata": {
        "id": "s5YauAUePlzE",
        "colab_type": "code",
        "outputId": "138f8dff-2a38-4e4f-b290-b452cdf612a3",
        "colab": {
          "base_uri": "https://localhost:8080/",
          "height": 422
        }
      },
      "source": [
        "#Main\n",
        "\n",
        "category = input('한식,중식,일식 중에 하나를 골라주세요 : ')\n",
        "if category == '한식':\n",
        "  for i in range(len(KoreanShop.keys())):\n",
        "    print(list(KoreanShop.keys())[i],'//  가게 위치 :',list(KoreanShop.values())[i][0], '// 전화번호 :',list(KoreanShop.values())[i][1])\n",
        "  print('\\n')\n",
        "  ShopName = input('원하시는 가게의 이름을 적어주세요 : ')\n",
        "  FindName(ShopName)\n",
        "  print('\\n')\n",
        "    \n",
        "  YesOrNo = input('모의주문을 해 보시겠습니까? : (yes/no)')\n",
        "  if YesOrNo == 'yes':\n",
        "    Order(ShopName)\n",
        "  else:\n",
        "    pass\n",
        "if category == '중식':\n",
        "  for i in range(len(ChineseShop.keys())):\n",
        "    print(list(ChineseShop.keys())[i],'//  가게 위치 :',list(ChineseShop.values())[i][0], '// 전화번호 :',list(ChineseShop.values())[i][1])\n",
        "  print('\\n')\n",
        "  ShopName = input('원하시는 가게의 이름을 적어주세요 : ')\n",
        "  FindName(ShopName)\n",
        "  print('\\n')\n",
        "  YesOrNo = input('모의주문을 해 보시겠습니까? : (yes/no)')\n",
        "  if YesOrNo == 'yes':\n",
        "    Order(ShopName)\n",
        "  else:\n",
        "    pass\n",
        "if category == '일식':\n",
        "  for i in range(len(JapaneseShop.keys())):\n",
        "    print(list(JapaneseShop.keys())[i],'//  가게 위치 :',list(JapaneseShop.values())[i][0], '// 전화번호 :',list(JapaneseShop.values())[i][1])\n",
        "  print('\\n')\n",
        "  ShopName = input('원하시는 가게의 이름을 적어주세요 : ')\n",
        "  FindName(ShopName)\n",
        "  print('\\n')\n",
        "  YesOrNo = input('모의주문을 해 보시겠습니까? : (yes/no)')\n",
        "  if YesOrNo == 'yes':\n",
        "    Order(ShopName)\n",
        "  else:\n",
        "    pass\n",
        "  \n",
        "\n",
        "  "
      ],
      "execution_count": 5,
      "outputs": [
        {
          "output_type": "stream",
          "text": [
            "한식,중식,일식 중에 하나를 골라주세요 : 한식\n",
            "진지방순대국 //  가게 위치 : 서울특별시 강남구 영동대로 221 // 전화번호 : 02-552-0059\n",
            "송탄부대찌개 //  가게 위치 : 서울특별시 강남구 일원로9길 58 // 전화번호 : 02-2226-0374\n",
            "대모산칼국수 //  가게 위치 : 서울특별시 강남구 일원로14길 25 푸른마을아파트 상가동 지하1호 // 전화번호 : 02-594-1800\n",
            "민박사봉평메밀촌 //  가게 위치 : 서울 강남구 개포로 615 // 전화번호 : 02-451-5860\n",
            "일도씨닭갈비대치점 //  가게 위치 : 서울특별시 강남구 남부순환로 2947 2층 // 전화번호 : 02-552-0709\n",
            "피플족발 //  가게 위치 : 서울특별시 강남구 일원로5길 6 // 전화번호 : 02-445-7008\n",
            "\n",
            "\n",
            "원하시는 가게의 이름을 적어주세요 : 진지방순대국\n",
            "[['순대국', 7000], ['얼큰순대국', 7000], ['내장탕', 8000]]\n",
            "\n",
            "\n",
            "모의주문을 해 보시겠습니까? : (yes/no)yes\n",
            "원하시는 메뉴를 입력하세요순대국\n",
            "몇 개 주문하시겠습니까? 4\n",
            "더 주문하시겠습니까? (yes/no)yes\n",
            "원하시는 메뉴를 입력하세요얼큰순대국\n",
            "몇 개 주문하시겠습니까? 3\n",
            "더 주문하시겠습니까? (yes/no)no\n",
            "순대국 7000원 4.0개 주문 \n",
            "얼큰순대국 7000원 3.0개 주문 \n",
            "총합 : 49000\n"
          ],
          "name": "stdout"
        }
      ]
    },
    {
      "cell_type": "code",
      "metadata": {
        "id": "9q8o6xFDM-qz",
        "colab_type": "code",
        "colab": {}
      },
      "source": [
        ""
      ],
      "execution_count": 0,
      "outputs": []
    }
  ]
}