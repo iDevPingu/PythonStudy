{
  "nbformat": 4,
  "nbformat_minor": 0,
  "metadata": {
    "colab": {
      "name": "2_리스트_황재익.ipynb",
      "version": "0.3.2",
      "provenance": [],
      "collapsed_sections": [],
      "include_colab_link": true
    },
    "kernelspec": {
      "name": "python3",
      "display_name": "Python 3"
    }
  },
  "cells": [
    {
      "cell_type": "markdown",
      "metadata": {
        "id": "view-in-github",
        "colab_type": "text"
      },
      "source": [
        "<a href=\"https://colab.research.google.com/github/jaicoco/PythonStudy/blob/master/2_%EB%A6%AC%EC%8A%A4%ED%8A%B8_%ED%99%A9%EC%9E%AC%EC%9D%B5.ipynb\" target=\"_parent\"><img src=\"https://colab.research.google.com/assets/colab-badge.svg\" alt=\"Open In Colab\"/></a>"
      ]
    },
    {
      "cell_type": "markdown",
      "metadata": {
        "id": "1I6mj-LbAMgF",
        "colab_type": "text"
      },
      "source": [
        "# 2.리스트\n",
        "여러개의 값을 담고 있는 변수."
      ]
    },
    {
      "cell_type": "markdown",
      "metadata": {
        "id": "QPfwUB3nAa1G",
        "colab_type": "text"
      },
      "source": [
        "## 2-1. 리스트 형식\n",
        "<pre>\n",
        "* 리스트 이름 = [값1, 값2, 값3,...]\n",
        "  리스트 이름 = []\n",
        "  \n",
        "\n",
        "* 리스트 이름으로 안되는 것들 : \n",
        "  - if, def, class, while, for, else 등의 예약어.\n",
        "  - 숫자로 시작하는 것\n",
        "  ex) 1a, 3name, ...\n",
        "  \n",
        "  \n",
        "* 리스트 특징\n",
        "  1. 순서가 존재\n",
        "  2. 값을 인덱스로 불러옴.\n",
        "  3. 값 수정 가능.\n",
        "\n",
        "\n"
      ]
    },
    {
      "cell_type": "code",
      "metadata": {
        "id": "g7m1y-kQCcjp",
        "colab_type": "code",
        "colab": {}
      },
      "source": [
        "a = [10,20,30]\n",
        "name = ['황재익','아이린','강동원']"
      ],
      "execution_count": 0,
      "outputs": []
    },
    {
      "cell_type": "markdown",
      "metadata": {
        "id": "3w1D7a4uEAht",
        "colab_type": "text"
      },
      "source": [
        "## 2-2. 리스트 인덱스\n",
        "<pre>\n",
        "* 형식 :\n",
        "  리스트명[인덱스]\n",
        "\n",
        "\n",
        "* 사용법 :\n",
        "  첫 번째 값: [0]\n",
        "  두 번째 값: [1]\n",
        "  마지막 값 : [끝 인덱스] or [-1]"
      ]
    },
    {
      "cell_type": "code",
      "metadata": {
        "id": "RafT_WMEEPiQ",
        "colab_type": "code",
        "outputId": "813f20ce-13e0-4e7a-9fe9-67797dce904f",
        "colab": {
          "base_uri": "https://localhost:8080/",
          "height": 70
        }
      },
      "source": [
        "print(type(a))\n",
        "print(name[0])\n",
        "print(name[1])"
      ],
      "execution_count": 0,
      "outputs": [
        {
          "output_type": "stream",
          "text": [
            "<class 'list'>\n",
            "황재익\n",
            "아이린\n"
          ],
          "name": "stdout"
        }
      ]
    },
    {
      "cell_type": "markdown",
      "metadata": {
        "id": "ETPEbbObI5zr",
        "colab_type": "text"
      },
      "source": [
        "### 리스트 내부 리스트의 인덱스"
      ]
    },
    {
      "cell_type": "code",
      "metadata": {
        "id": "fk-1Jt-DKXQb",
        "colab_type": "code",
        "outputId": "cc7b02e6-2e86-4617-b714-a73b182126a8",
        "colab": {
          "base_uri": "https://localhost:8080/",
          "height": 34
        }
      },
      "source": [
        "a = [3, 7, ['수박', '참외',['사과', '딸기']]]\n",
        "print(a[2][2][0])"
      ],
      "execution_count": 0,
      "outputs": [
        {
          "output_type": "stream",
          "text": [
            "사과\n"
          ],
          "name": "stdout"
        }
      ]
    },
    {
      "cell_type": "code",
      "metadata": {
        "id": "Ai3M3dQyW8nB",
        "colab_type": "code",
        "outputId": "7248c7e3-40fd-4e18-f12d-83fc55d1053a",
        "colab": {
          "base_uri": "https://localhost:8080/",
          "height": 70
        }
      },
      "source": [
        "z = [11,5,['a','b']]\n",
        "\n",
        "print(z[2])\n",
        "print(z[2][0])\n",
        "print(z[2][1])"
      ],
      "execution_count": 0,
      "outputs": [
        {
          "output_type": "stream",
          "text": [
            "['a', 'b']\n",
            "a\n",
            "b\n"
          ],
          "name": "stdout"
        }
      ]
    },
    {
      "cell_type": "markdown",
      "metadata": {
        "id": "1JS8VyCMKZKe",
        "colab_type": "text"
      },
      "source": [
        "## 2-3.리스트 슬라이스\n",
        "<pre>\n",
        "사용법 :\n",
        "\n",
        "리스트명[시작인덱스:원하는인덱스+1]"
      ]
    },
    {
      "cell_type": "code",
      "metadata": {
        "id": "nL7WdQ3VLsLK",
        "colab_type": "code",
        "colab": {}
      },
      "source": [
        "z=[1,2,3,4,5,6,7,8,9]"
      ],
      "execution_count": 0,
      "outputs": []
    },
    {
      "cell_type": "code",
      "metadata": {
        "id": "I2520GHKdxTn",
        "colab_type": "code",
        "outputId": "1e31293a-accb-4920-d628-fe28b58abe94",
        "colab": {
          "base_uri": "https://localhost:8080/",
          "height": 34
        }
      },
      "source": [
        "# 0번부터 1번 포함 슬라이스 하려면?\n",
        "print(z[:2])"
      ],
      "execution_count": 0,
      "outputs": [
        {
          "output_type": "stream",
          "text": [
            "[1, 2]\n"
          ],
          "name": "stdout"
        }
      ]
    },
    {
      "cell_type": "code",
      "metadata": {
        "id": "yo7ijDEzeUQ2",
        "colab_type": "code",
        "outputId": "3db2133c-b940-4975-d1af-0039746cfa22",
        "colab": {
          "base_uri": "https://localhost:8080/",
          "height": 34
        }
      },
      "source": [
        "# 시작인덱스가 0이라면 생략 가능\n",
        "print(z[:5])"
      ],
      "execution_count": 0,
      "outputs": [
        {
          "output_type": "stream",
          "text": [
            "[1, 2, 3, 4, 5]\n"
          ],
          "name": "stdout"
        }
      ]
    },
    {
      "cell_type": "code",
      "metadata": {
        "id": "wysoIyDTMRAF",
        "colab_type": "code",
        "outputId": "bd3256e3-738f-4202-82df-2b3e48bd8e31",
        "colab": {
          "base_uri": "https://localhost:8080/",
          "height": 34
        }
      },
      "source": [
        "# 2번부터 4번 포함 슬라이스 하려면?\n",
        "print(z[2:5])"
      ],
      "execution_count": 0,
      "outputs": [
        {
          "output_type": "stream",
          "text": [
            "[3, 4, 5]\n"
          ],
          "name": "stdout"
        }
      ]
    },
    {
      "cell_type": "code",
      "metadata": {
        "id": "QcBaeL2hNM13",
        "colab_type": "code",
        "outputId": "74f85f48-cfb2-4a9e-f786-f5f916b98c1d",
        "colab": {
          "base_uri": "https://localhost:8080/",
          "height": 34
        }
      },
      "source": [
        "# 마지막 인덱스까지 하려한다면 생략가능\n",
        "print(z[0:])"
      ],
      "execution_count": 0,
      "outputs": [
        {
          "output_type": "stream",
          "text": [
            "[1, 2, 3, 4, 5, 6, 7, 8, 9]\n"
          ],
          "name": "stdout"
        }
      ]
    },
    {
      "cell_type": "markdown",
      "metadata": {
        "id": "yKCCD2IzhEYa",
        "colab_type": "text"
      },
      "source": [
        "### 슬라이스로 나타낸 리스트\n",
        "<pre>\n",
        "사용법 :\n",
        "리스트명[:] "
      ]
    },
    {
      "cell_type": "code",
      "metadata": {
        "id": "ywwTIPFORqMj",
        "colab_type": "code",
        "colab": {}
      },
      "source": [
        "z=[1,2,3,4,5,6,7,8,9]"
      ],
      "execution_count": 0,
      "outputs": []
    },
    {
      "cell_type": "code",
      "metadata": {
        "id": "gmVmjO4-hkYx",
        "colab_type": "code",
        "outputId": "ab15210d-2146-48ef-8b12-7bc9d19389a1",
        "colab": {
          "base_uri": "https://localhost:8080/",
          "height": 34
        }
      },
      "source": [
        "z1 = z[0:4]\n",
        "print(z1)"
      ],
      "execution_count": 0,
      "outputs": [
        {
          "output_type": "stream",
          "text": [
            "[1, 2, 3, 4]\n"
          ],
          "name": "stdout"
        }
      ]
    },
    {
      "cell_type": "code",
      "metadata": {
        "id": "1ppNQZVOiEJm",
        "colab_type": "code",
        "outputId": "7c61390a-6576-40c4-8ee1-d81560d1d5cd",
        "colab": {
          "base_uri": "https://localhost:8080/",
          "height": 52
        }
      },
      "source": [
        "print(z[::])\n",
        "#마지막 매개변수는 몇개씩 걸러서 할것인지\n",
        "print(z[::2])"
      ],
      "execution_count": 0,
      "outputs": [
        {
          "output_type": "stream",
          "text": [
            "[1, 2, 3, 4, 5, 6, 7, 8, 9]\n",
            "[1, 3, 5, 7, 9]\n"
          ],
          "name": "stdout"
        }
      ]
    },
    {
      "cell_type": "markdown",
      "metadata": {
        "id": "htNRq2T0yYpe",
        "colab_type": "text"
      },
      "source": [
        "#### 슬라이스 증감폭 부여\n",
        "<pre>\n",
        "사용법:\n",
        "\n",
        "리스트명[::]\n",
        "\n",
        "리스트명[시작인덱스:원하는인덱스+1:증감폭]\n"
      ]
    },
    {
      "cell_type": "code",
      "metadata": {
        "id": "PLg9rZk3ysCG",
        "colab_type": "code",
        "outputId": "4f2fbd7d-fc63-4fe4-80a6-648ed8eea59b",
        "colab": {
          "base_uri": "https://localhost:8080/",
          "height": 34
        }
      },
      "source": [
        "z=[1,2,3,4,5,6,7,8,9]\n",
        "print(z[0:4])"
      ],
      "execution_count": 0,
      "outputs": [
        {
          "output_type": "stream",
          "text": [
            "[1, 2, 3, 4]\n"
          ],
          "name": "stdout"
        }
      ]
    },
    {
      "cell_type": "code",
      "metadata": {
        "id": "_Gl6i4wDgzuh",
        "colab_type": "code",
        "outputId": "4bcf93b4-14d8-4282-91a2-3338fc3d3ebb",
        "colab": {
          "base_uri": "https://localhost:8080/",
          "height": 34
        }
      },
      "source": [
        "# 증감폭 1 = 전체 다 가져오기\n",
        "print(z[::])"
      ],
      "execution_count": 0,
      "outputs": [
        {
          "output_type": "stream",
          "text": [
            "[1, 2, 3, 4, 5, 6, 7, 8, 9]\n"
          ],
          "name": "stdout"
        }
      ]
    },
    {
      "cell_type": "code",
      "metadata": {
        "id": "KS1zQvA1jVyw",
        "colab_type": "code",
        "outputId": "21a70e04-56d3-4be1-facd-0a2d950e3f03",
        "colab": {
          "base_uri": "https://localhost:8080/",
          "height": 34
        }
      },
      "source": [
        "# 같은 결과? 1생략되어 있음.\n",
        "print(z[::])"
      ],
      "execution_count": 0,
      "outputs": [
        {
          "output_type": "stream",
          "text": [
            "[1, 2, 3, 4, 5, 6, 7, 8, 9]\n"
          ],
          "name": "stdout"
        }
      ]
    },
    {
      "cell_type": "code",
      "metadata": {
        "id": "evLugoVzicet",
        "colab_type": "code",
        "outputId": "b15f682a-5680-47d0-a5c0-6632d6e2017b",
        "colab": {
          "base_uri": "https://localhost:8080/",
          "height": 34
        }
      },
      "source": [
        "# 한 개씩 건너 띄기\n",
        "print(z[::2])"
      ],
      "execution_count": 0,
      "outputs": [
        {
          "output_type": "stream",
          "text": [
            "[1, 3, 5, 7, 9]\n"
          ],
          "name": "stdout"
        }
      ]
    },
    {
      "cell_type": "code",
      "metadata": {
        "id": "Mq9H4vL3zw98",
        "colab_type": "code",
        "outputId": "78270e25-b6de-4597-83f2-2370621e425e",
        "colab": {
          "base_uri": "https://localhost:8080/",
          "height": 34
        }
      },
      "source": [
        "# 짝수만 가져오려면?\n",
        "print(z[1::2])"
      ],
      "execution_count": 0,
      "outputs": [
        {
          "output_type": "stream",
          "text": [
            "[2, 4, 6, 8]\n"
          ],
          "name": "stdout"
        }
      ]
    },
    {
      "cell_type": "code",
      "metadata": {
        "id": "BvMiSC-pz2GG",
        "colab_type": "code",
        "outputId": "22bd285f-0111-43b4-a46f-4dcfc3bf1f39",
        "colab": {
          "base_uri": "https://localhost:8080/",
          "height": 34
        }
      },
      "source": [
        "# 2개씩 건너띄기\n",
        "print(z[::3])"
      ],
      "execution_count": 0,
      "outputs": [
        {
          "output_type": "stream",
          "text": [
            "[1, 4, 7]\n"
          ],
          "name": "stdout"
        }
      ]
    },
    {
      "cell_type": "code",
      "metadata": {
        "id": "7oYR33Hw0iv8",
        "colab_type": "code",
        "outputId": "d182bfcf-8679-4152-b155-8fdd5c2c1216",
        "colab": {
          "base_uri": "https://localhost:8080/",
          "height": 34
        }
      },
      "source": [
        "# 인덱스 1번부터 3번까지 한 개씩 건너띄기\n",
        "print(z[1:7:2])"
      ],
      "execution_count": 0,
      "outputs": [
        {
          "output_type": "stream",
          "text": [
            "[2, 4, 6]\n"
          ],
          "name": "stdout"
        }
      ]
    },
    {
      "cell_type": "markdown",
      "metadata": {
        "id": "X14m-esINwOX",
        "colab_type": "text"
      },
      "source": [
        "## 2-4.리스트 연산\n"
      ]
    },
    {
      "cell_type": "markdown",
      "metadata": {
        "id": "9ckHCAHeSgXV",
        "colab_type": "text"
      },
      "source": [
        "### 리스트 더하기\n",
        "'+' 연산자 사용"
      ]
    },
    {
      "cell_type": "code",
      "metadata": {
        "id": "el2_Kv8zSNvK",
        "colab_type": "code",
        "colab": {}
      },
      "source": [
        "a= ['철수', '영희']\n",
        "b= ['민수', '영수']"
      ],
      "execution_count": 0,
      "outputs": []
    },
    {
      "cell_type": "code",
      "metadata": {
        "id": "yM-awlS8kR0U",
        "colab_type": "code",
        "outputId": "be6b68b0-8660-4beb-f33d-e28a6c69ffc5",
        "colab": {
          "base_uri": "https://localhost:8080/",
          "height": 34
        }
      },
      "source": [
        "# 리스트 a와 리스트 b를 더해서 리스트 c 만들기\n",
        "c = a+b\n",
        "print(c)"
      ],
      "execution_count": 0,
      "outputs": [
        {
          "output_type": "stream",
          "text": [
            "['철수', '영희', '민수', '영수']\n"
          ],
          "name": "stdout"
        }
      ]
    },
    {
      "cell_type": "markdown",
      "metadata": {
        "id": "dynxiMB6SsA5",
        "colab_type": "text"
      },
      "source": [
        "### 리스트 반복하기\n",
        "'*' 연산자 사용"
      ]
    },
    {
      "cell_type": "code",
      "metadata": {
        "id": "DxGJJJU1S4hc",
        "colab_type": "code",
        "outputId": "31339af4-cff0-4305-cbf9-61b5ee319b39",
        "colab": {
          "base_uri": "https://localhost:8080/",
          "height": 34
        }
      },
      "source": [
        "# 리스트 a의 값 3번 반복\n",
        "print(a*3)"
      ],
      "execution_count": 0,
      "outputs": [
        {
          "output_type": "stream",
          "text": [
            "['철수', '영희', '철수', '영희', '철수', '영희']\n"
          ],
          "name": "stdout"
        }
      ]
    },
    {
      "cell_type": "markdown",
      "metadata": {
        "id": "81u5VbxzS7UT",
        "colab_type": "text"
      },
      "source": [
        "### 리스트 길이 구하기(len() 함수)\n",
        "<pre>\n",
        "사용법:\n",
        "len(리스트명)"
      ]
    },
    {
      "cell_type": "code",
      "metadata": {
        "id": "dtK247SoTEkH",
        "colab_type": "code",
        "outputId": "54bf0611-4603-4d94-ecf5-ff2cb00da123",
        "colab": {
          "base_uri": "https://localhost:8080/",
          "height": 52
        }
      },
      "source": [
        "# 리스트 a의 길이\n",
        "print(len(a))\n",
        "print(len(c))"
      ],
      "execution_count": 0,
      "outputs": [
        {
          "output_type": "stream",
          "text": [
            "2\n",
            "4\n"
          ],
          "name": "stdout"
        }
      ]
    },
    {
      "cell_type": "markdown",
      "metadata": {
        "id": "acZ3MOdwTGjK",
        "colab_type": "text"
      },
      "source": [
        "## 2-5.리스트 수정하기\n"
      ]
    },
    {
      "cell_type": "markdown",
      "metadata": {
        "id": "vEaeDI2aThLk",
        "colab_type": "text"
      },
      "source": [
        "### 리스트에 값 추가하기(append 함수)\n",
        "<pre>\n",
        "* 사용법:\n",
        "  리스트명.append(값)\n",
        "  \n",
        "* 결과:\n",
        "  값이 마지막 인덱스로 들어감."
      ]
    },
    {
      "cell_type": "code",
      "metadata": {
        "id": "Sehdzi7CWiml",
        "colab_type": "code",
        "colab": {}
      },
      "source": [
        "a = ['철수', '영희', '민지']"
      ],
      "execution_count": 0,
      "outputs": []
    },
    {
      "cell_type": "code",
      "metadata": {
        "id": "ASH7353ZldNd",
        "colab_type": "code",
        "outputId": "aae081b2-2bc9-4089-c789-b261d48f6d5a",
        "colab": {
          "base_uri": "https://localhost:8080/",
          "height": 34
        }
      },
      "source": [
        "# '남준' 추가\n",
        "a.append('남준')\n",
        "print(a)"
      ],
      "execution_count": 0,
      "outputs": [
        {
          "output_type": "stream",
          "text": [
            "['철수', '영희', '민지', '남준']\n"
          ],
          "name": "stdout"
        }
      ]
    },
    {
      "cell_type": "code",
      "metadata": {
        "id": "DS3rFaX1W_xG",
        "colab_type": "code",
        "outputId": "a7161c6a-dd1f-43e3-ea09-7bf50a19cca9",
        "colab": {
          "base_uri": "https://localhost:8080/",
          "height": 52
        }
      },
      "source": [
        "# 리스트를 넣는 경우\n",
        "b= ['경수', '희철']\n",
        "a.append(b)\n",
        "print(a)\n",
        "print(len(a))"
      ],
      "execution_count": 0,
      "outputs": [
        {
          "output_type": "stream",
          "text": [
            "['철수', '영희', '민지', '남준', ['경수', '희철'], ['경수', '희철']]\n",
            "6\n"
          ],
          "name": "stdout"
        }
      ]
    },
    {
      "cell_type": "markdown",
      "metadata": {
        "id": "hrWm9rLNXOkF",
        "colab_type": "text"
      },
      "source": [
        "### 리스트에 여러 값들만 추가(extend 함수)\n",
        "<pre>\n",
        "* 사용법\n",
        "리스트명.extend(다른 리스트)"
      ]
    },
    {
      "cell_type": "code",
      "metadata": {
        "id": "ko1nMeO-XWP4",
        "colab_type": "code",
        "colab": {}
      },
      "source": [
        "b = ['경수', '희철']\n",
        "c = ['대희', '수민']"
      ],
      "execution_count": 0,
      "outputs": []
    },
    {
      "cell_type": "code",
      "metadata": {
        "id": "V1m8XpOzmLWF",
        "colab_type": "code",
        "outputId": "c2055237-ff8f-44e6-8781-dc2ca7eb67df",
        "colab": {
          "base_uri": "https://localhost:8080/",
          "height": 52
        }
      },
      "source": [
        "# 리스트 b에 리스트 c의 값들만 추가\n",
        "b.extend(c)\n",
        "print(b)\n",
        "print(len(b))"
      ],
      "execution_count": 0,
      "outputs": [
        {
          "output_type": "stream",
          "text": [
            "['경수', '희철', '대희', '수민']\n",
            "4\n"
          ],
          "name": "stdout"
        }
      ]
    },
    {
      "cell_type": "code",
      "metadata": {
        "id": "SkuQI8PRX263",
        "colab_type": "code",
        "colab": {}
      },
      "source": [
        ""
      ],
      "execution_count": 0,
      "outputs": []
    },
    {
      "cell_type": "markdown",
      "metadata": {
        "id": "6oO8coyxX4b4",
        "colab_type": "text"
      },
      "source": [
        "### 원하는 인덱스(순번)에 값 넣기(insert 함수)\n",
        "<pre>\n",
        "사용법:\n",
        "리스트명.insert(원하는 인덱스, 값)"
      ]
    },
    {
      "cell_type": "code",
      "metadata": {
        "id": "R-xEU3j_YYE9",
        "colab_type": "code",
        "colab": {}
      },
      "source": [
        "z=[1, 2, 3, 4]"
      ],
      "execution_count": 0,
      "outputs": []
    },
    {
      "cell_type": "code",
      "metadata": {
        "id": "fg0k2OPOmyQB",
        "colab_type": "code",
        "colab": {}
      },
      "source": [
        "# 2번째 인덱스에 7넣기\n",
        "z.insert(2,7)"
      ],
      "execution_count": 0,
      "outputs": []
    },
    {
      "cell_type": "code",
      "metadata": {
        "id": "-SANKNu7Yair",
        "colab_type": "code",
        "outputId": "fb5b1809-2a24-4682-bef4-52b3d50815a6",
        "colab": {
          "base_uri": "https://localhost:8080/",
          "height": 34
        }
      },
      "source": [
        "z"
      ],
      "execution_count": 0,
      "outputs": [
        {
          "output_type": "execute_result",
          "data": {
            "text/plain": [
              "[1, 2, 7, 3, 4]"
            ]
          },
          "metadata": {
            "tags": []
          },
          "execution_count": 59
        }
      ]
    },
    {
      "cell_type": "markdown",
      "metadata": {
        "id": "se3wZBwLYbwP",
        "colab_type": "text"
      },
      "source": [
        "### 리스트 값 제거(remove 함수)\n",
        "<pre>\n",
        "* 사용법:\n",
        "  리스트명.remove(값)\n",
        "\n",
        "* 결과:\n",
        "  선행 인덱스의 값을 제거"
      ]
    },
    {
      "cell_type": "code",
      "metadata": {
        "id": "cdtmWL5TY0AW",
        "colab_type": "code",
        "colab": {}
      },
      "source": [
        "q = [1,2,3,3]"
      ],
      "execution_count": 0,
      "outputs": []
    },
    {
      "cell_type": "code",
      "metadata": {
        "id": "gRrQwaDLnTd3",
        "colab_type": "code",
        "colab": {}
      },
      "source": [
        "# 3을 제거\n",
        "q.remove(1)"
      ],
      "execution_count": 0,
      "outputs": []
    },
    {
      "cell_type": "code",
      "metadata": {
        "id": "qLzEtIwvddUS",
        "colab_type": "code",
        "outputId": "968619cf-3df9-4aac-86c2-93da4163df59",
        "colab": {
          "base_uri": "https://localhost:8080/",
          "height": 34
        }
      },
      "source": [
        "q.pop()\n",
        "q"
      ],
      "execution_count": 0,
      "outputs": [
        {
          "output_type": "execute_result",
          "data": {
            "text/plain": [
              "[2, 3]"
            ]
          },
          "metadata": {
            "tags": []
          },
          "execution_count": 105
        }
      ]
    },
    {
      "cell_type": "code",
      "metadata": {
        "id": "8UR-kqSyY_nr",
        "colab_type": "code",
        "outputId": "5c3ef92e-3c96-4d7f-ac08-a9e5222183dc",
        "colab": {
          "base_uri": "https://localhost:8080/",
          "height": 70
        }
      },
      "source": [
        "del q[0]\n",
        "print(q)\n",
        "del q[0]\n",
        "print(q)\n",
        "del q[0]\n",
        "print(q)"
      ],
      "execution_count": 0,
      "outputs": [
        {
          "output_type": "stream",
          "text": [
            "[3, 3]\n",
            "[3]\n",
            "[]\n"
          ],
          "name": "stdout"
        }
      ]
    },
    {
      "cell_type": "markdown",
      "metadata": {
        "id": "1TZC7FXoZAcT",
        "colab_type": "text"
      },
      "source": [
        "### 리스트 값 바꾸기\n",
        "<pre>\n",
        "* 사용법:.\n",
        "리스트명[인덱스] = 바꾸고자 하는 값"
      ]
    },
    {
      "cell_type": "code",
      "metadata": {
        "id": "SObM-ltpZa8j",
        "colab_type": "code",
        "colab": {}
      },
      "source": [
        "a=['철수', '영희', '남희']"
      ],
      "execution_count": 0,
      "outputs": []
    },
    {
      "cell_type": "code",
      "metadata": {
        "id": "S-d3D_85njDN",
        "colab_type": "code",
        "colab": {}
      },
      "source": [
        "# 0번 인덱스 값 '민수'로 바꾸기\n",
        "a[0]='민수'"
      ],
      "execution_count": 0,
      "outputs": []
    },
    {
      "cell_type": "code",
      "metadata": {
        "id": "6v1NqgVeZk-z",
        "colab_type": "code",
        "outputId": "b56b15d2-3789-4018-e254-f7716bf3e8bd",
        "colab": {
          "base_uri": "https://localhost:8080/",
          "height": 34
        }
      },
      "source": [
        "a"
      ],
      "execution_count": 0,
      "outputs": [
        {
          "output_type": "execute_result",
          "data": {
            "text/plain": [
              "['민수', '영희', '남희']"
            ]
          },
          "metadata": {
            "tags": []
          },
          "execution_count": 77
        }
      ]
    },
    {
      "cell_type": "markdown",
      "metadata": {
        "id": "1dEkwxqkZrzv",
        "colab_type": "text"
      },
      "source": [
        "### 리스트 값의 인덱스(순번) 찾기(index 함수)\n",
        "<pre>\n",
        "* 사용법:\n",
        "리스트명.index(값)"
      ]
    },
    {
      "cell_type": "code",
      "metadata": {
        "id": "RIO8exdcaI_o",
        "colab_type": "code",
        "outputId": "a5a13736-b7b2-45a4-d62b-ace3039970f9",
        "colab": {
          "base_uri": "https://localhost:8080/",
          "height": 34
        }
      },
      "source": [
        "a=['철수', '남희','영희']\n",
        "a.index('철수')"
      ],
      "execution_count": 0,
      "outputs": [
        {
          "output_type": "execute_result",
          "data": {
            "text/plain": [
              "0"
            ]
          },
          "metadata": {
            "tags": []
          },
          "execution_count": 88
        }
      ]
    },
    {
      "cell_type": "code",
      "metadata": {
        "id": "-he_5b8qoGXf",
        "colab_type": "code",
        "outputId": "12ca4108-5dc7-48d9-c9a1-f1739b8d3928",
        "colab": {
          "base_uri": "https://localhost:8080/",
          "height": 52
        }
      },
      "source": [
        "# '영희'의 인덱스 찾기\n",
        "print(a.index('영희'))\n",
        "# '영희'의 인덱스 찾기\n",
        "print(a.index('영희'))\n"
      ],
      "execution_count": 0,
      "outputs": [
        {
          "output_type": "stream",
          "text": [
            "2\n",
            "2\n"
          ],
          "name": "stdout"
        }
      ]
    },
    {
      "cell_type": "markdown",
      "metadata": {
        "id": "5lwUkJhlaL3a",
        "colab_type": "text"
      },
      "source": [
        "### 특정 값의 개수 세기(count 함수)\n",
        "<pre>\n",
        "* 사용법:\n",
        "리스트명.count(값)"
      ]
    },
    {
      "cell_type": "code",
      "metadata": {
        "id": "NWNgcDorafcB",
        "colab_type": "code",
        "colab": {}
      },
      "source": [
        "a=[1,3,3,7,9]"
      ],
      "execution_count": 0,
      "outputs": []
    },
    {
      "cell_type": "code",
      "metadata": {
        "id": "UQENLJRCog_s",
        "colab_type": "code",
        "outputId": "450e6f6f-2772-46fb-ae9a-26d55879a773",
        "colab": {
          "base_uri": "https://localhost:8080/",
          "height": 34
        }
      },
      "source": [
        "a.count(3)"
      ],
      "execution_count": 0,
      "outputs": [
        {
          "output_type": "execute_result",
          "data": {
            "text/plain": [
              "2"
            ]
          },
          "metadata": {
            "tags": []
          },
          "execution_count": 86
        }
      ]
    },
    {
      "cell_type": "code",
      "metadata": {
        "id": "ScCHQMSYcpkM",
        "colab_type": "code",
        "colab": {}
      },
      "source": [
        ""
      ],
      "execution_count": 0,
      "outputs": []
    }
  ]
}
