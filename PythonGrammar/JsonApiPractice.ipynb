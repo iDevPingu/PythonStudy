{
 "cells": [
  {
   "cell_type": "code",
   "execution_count": 0,
   "metadata": {
    "colab": {},
    "colab_type": "code",
    "id": "2KOlAfRPgEA9"
   },
   "outputs": [],
   "source": [
    "import requests\n",
    "import json\n"
   ]
  },
  {
   "cell_type": "code",
   "execution_count": 0,
   "metadata": {
    "colab": {},
    "colab_type": "code",
    "id": "NX8MbsUigi1k"
   },
   "outputs": [],
   "source": [
    "API_KEY = 'YourKey'\n",
    "Coad_Search_Url = 'http://www.kobis.or.kr/kobisopenapi/webservice/rest/movie/searchMovieList.json'\n",
    "#dd\n",
    "info_search_url ='http://www.kobis.or.kr/kobisopenapi/webservice/rest/movie/searchMovieInfo.json'\n",
    "\n"
   ]
  },
  {
   "cell_type": "code",
   "execution_count": 0,
   "metadata": {
    "colab": {},
    "colab_type": "code",
    "id": "VNvjOkmUgql2"
   },
   "outputs": [],
   "source": [
    "def Movie_Code_Search (movie_name):\n",
    "    params = {'key':API_KEY, 'movieNm':movie_name}\n",
    "    response = requests.get(Coad_Search_Url,params)\n",
    "    movie_info = json.loads(response.text)\n",
    "\n",
    "    with open('movie_code.json','w',encoding='UTF-8') as f:\n",
    "    json.dump(movie_info, f, indent =4, ensure_ascii=False)\n",
    "\n",
    "    return movie_info['movieListResult']['movieList'][3]['movieCd']"
   ]
  },
  {
   "cell_type": "code",
   "execution_count": 0,
   "metadata": {
    "colab": {
     "base_uri": "https://localhost:8080/",
     "height": 34
    },
    "colab_type": "code",
    "executionInfo": {
     "elapsed": 1892,
     "status": "ok",
     "timestamp": 1568008344908,
     "user": {
      "displayName": "황재익",
      "photoUrl": "",
      "userId": "04432755077897078229"
     },
     "user_tz": -540
    },
    "id": "nLWHwkfjiK35",
    "outputId": "aef9ba35-e80b-47f4-ce3b-5f21a8f2537e"
   },
   "outputs": [
    {
     "data": {
      "text/plain": [
       "'20183867'"
      ]
     },
     "execution_count": 22,
     "metadata": {
      "tags": []
     },
     "output_type": "execute_result"
    }
   ],
   "source": [
    "Movie_Code_Search('알라딘')"
   ]
  },
  {
   "cell_type": "code",
   "execution_count": 0,
   "metadata": {
    "colab": {},
    "colab_type": "code",
    "id": "hauhbG2oiQP5"
   },
   "outputs": [],
   "source": [
    "def movie_info_search(movie_code):\n",
    "    params = {'key':API_KEY, 'movieCd':movie_code}\n",
    "    response = requests.get(info_search_url,params)\n",
    "    movie_info = json.loads(response.text)\n",
    "\n",
    "    with open('movie_info.json','w',encoding = 'UTF-8') as f:\n",
    "    json.dump(movie_info, f, indent=4, ensure_ascii =False)\n",
    "\n",
    "    return movie_info['movieInfoResult']['movieInfo']['actors']"
   ]
  },
  {
   "cell_type": "code",
   "execution_count": 0,
   "metadata": {
    "colab": {
     "base_uri": "https://localhost:8080/",
     "height": 122
    },
    "colab_type": "code",
    "executionInfo": {
     "elapsed": 2462,
     "status": "ok",
     "timestamp": 1568008495626,
     "user": {
      "displayName": "황재익",
      "photoUrl": "",
      "userId": "04432755077897078229"
     },
     "user_tz": -540
    },
    "id": "UQwlg8Ujk21d",
    "outputId": "3b0b6889-1a8f-4d1a-b45d-cb1628549d4c"
   },
   "outputs": [
    {
     "data": {
      "text/plain": [
       "[{'cast': '',\n",
       "  'castEn': '',\n",
       "  'peopleNm': '메나 마수드',\n",
       "  'peopleNmEn': 'Mena Massoud'},\n",
       " {'cast': '', 'castEn': '', 'peopleNm': '윌 스미스', 'peopleNmEn': 'Will Smith'},\n",
       " {'cast': '', 'castEn': '', 'peopleNm': '나오미 스콧', 'peopleNmEn': 'Naomi Scott'}]"
      ]
     },
     "execution_count": 27,
     "metadata": {
      "tags": []
     },
     "output_type": "execute_result"
    }
   ],
   "source": [
    "\n",
    "movie_info_search(Movie_Code_Search('알라딘'))"
   ]
  },
  {
   "cell_type": "code",
   "execution_count": 0,
   "metadata": {
    "colab": {},
    "colab_type": "code",
    "id": "b6AasYlhk7Yk"
   },
   "outputs": [],
   "source": []
  }
 ],
 "metadata": {
  "colab": {
   "collapsed_sections": [],
   "name": "JsonApiPractice.ipynb",
   "provenance": [],
   "version": "0.3.2"
  },
  "kernelspec": {
   "display_name": "Python 3",
   "language": "python",
   "name": "python3"
  },
  "language_info": {
   "codemirror_mode": {
    "name": "ipython",
    "version": 3
   },
   "file_extension": ".py",
   "mimetype": "text/x-python",
   "name": "python",
   "nbconvert_exporter": "python",
   "pygments_lexer": "ipython3",
   "version": "3.7.0"
  }
 },
 "nbformat": 4,
 "nbformat_minor": 1
}
