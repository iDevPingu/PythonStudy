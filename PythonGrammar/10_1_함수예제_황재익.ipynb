{
  "nbformat": 4,
  "nbformat_minor": 0,
  "metadata": {
    "colab": {
      "name": "10_1_함수예제_황재익.ipynb",
      "version": "0.3.2",
      "provenance": [],
      "collapsed_sections": [],
      "include_colab_link": true
    },
    "kernelspec": {
      "name": "python3",
      "display_name": "Python 3"
    }
  },
  "cells": [
    {
      "cell_type": "markdown",
      "metadata": {
        "id": "view-in-github",
        "colab_type": "text"
      },
      "source": [
        "<a href=\"https://colab.research.google.com/github/jaicoco/PythonStudy/blob/master/10_1_%ED%95%A8%EC%88%98%EC%98%88%EC%A0%9C_%ED%99%A9%EC%9E%AC%EC%9D%B5.ipynb\" target=\"_parent\"><img src=\"https://colab.research.google.com/assets/colab-badge.svg\" alt=\"Open In Colab\"/></a>"
      ]
    },
    {
      "cell_type": "markdown",
      "metadata": {
        "id": "10YRDhQskquc",
        "colab_type": "text"
      },
      "source": [
        "### 01. 1을 return하는 one이라는 함수를 만드세요."
      ]
    },
    {
      "cell_type": "code",
      "metadata": {
        "id": "pED_uo-s547z",
        "colab_type": "code",
        "colab": {}
      },
      "source": [
        "def one():\n",
        "  return 1"
      ],
      "execution_count": 0,
      "outputs": []
    },
    {
      "cell_type": "markdown",
      "metadata": {
        "id": "hK0974D856H_",
        "colab_type": "text"
      },
      "source": [
        "### 02. one함수의 결과값을 출력하세요."
      ]
    },
    {
      "cell_type": "code",
      "metadata": {
        "id": "Dwqaj4Et56Fp",
        "colab_type": "code",
        "outputId": "1d651e94-69d7-4b95-c102-55de0d6778cd",
        "colab": {
          "base_uri": "https://localhost:8080/",
          "height": 34
        }
      },
      "source": [
        "one()"
      ],
      "execution_count": 0,
      "outputs": [
        {
          "output_type": "execute_result",
          "data": {
            "text/plain": [
              "1"
            ]
          },
          "metadata": {
            "tags": []
          },
          "execution_count": 2
        }
      ]
    },
    {
      "cell_type": "markdown",
      "metadata": {
        "id": "re5Px75556DW",
        "colab_type": "text"
      },
      "source": [
        "### 03. one 함수의 결과값을 z라는 변수에 저장하세요."
      ]
    },
    {
      "cell_type": "code",
      "metadata": {
        "id": "NIRUCHtX56AZ",
        "colab_type": "code",
        "outputId": "e20119ee-92c2-4c57-be6b-8491602dfff9",
        "colab": {
          "base_uri": "https://localhost:8080/",
          "height": 34
        }
      },
      "source": [
        "z = one()\n",
        "print(z)"
      ],
      "execution_count": 0,
      "outputs": [
        {
          "output_type": "stream",
          "text": [
            "1\n"
          ],
          "name": "stdout"
        }
      ]
    },
    {
      "cell_type": "markdown",
      "metadata": {
        "id": "KFXVZtbL55-X",
        "colab_type": "text"
      },
      "source": [
        "### 04.문제 3의 변수 z의 값의 타입을 확인하세요."
      ]
    },
    {
      "cell_type": "code",
      "metadata": {
        "id": "6C9CTkAc557J",
        "colab_type": "code",
        "outputId": "b6e6411b-e92a-4b55-a42e-64fd2b5d848d",
        "colab": {
          "base_uri": "https://localhost:8080/",
          "height": 34
        }
      },
      "source": [
        "print(type(z))"
      ],
      "execution_count": 0,
      "outputs": [
        {
          "output_type": "stream",
          "text": [
            "<class 'int'>\n"
          ],
          "name": "stdout"
        }
      ]
    },
    {
      "cell_type": "markdown",
      "metadata": {
        "id": "Sth1dbYK555B",
        "colab_type": "text"
      },
      "source": [
        "### 05. 다음 함수의 이름을 mul로 바꾸고 결과 곱을 출력하도록 만드세요.\n"
      ]
    },
    {
      "cell_type": "code",
      "metadata": {
        "id": "hHCUsIfO5523",
        "colab_type": "code",
        "colab": {}
      },
      "source": [
        "def sumAB(a,b):\n",
        "  print('{} + {} = {}'.format(a,b,a+b))\n",
        "def mul(a,b):\n",
        "  print('{} * {} = {}'.format(a,b,a*b))"
      ],
      "execution_count": 0,
      "outputs": []
    },
    {
      "cell_type": "markdown",
      "metadata": {
        "id": "jkCyjB4s5508",
        "colab_type": "text"
      },
      "source": [
        "### 06. 5번에서 만든 mul 함수를 출력하세요."
      ]
    },
    {
      "cell_type": "code",
      "metadata": {
        "id": "tWbGYdki55zB",
        "colab_type": "code",
        "outputId": "6fb5450f-6bdd-47d4-9c08-fbf8d9ad2eab",
        "colab": {
          "base_uri": "https://localhost:8080/",
          "height": 34
        }
      },
      "source": [
        "print(mul(1,2))\n",
        "mul(2,3)"
      ],
      "execution_count": 0,
      "outputs": [
        {
          "output_type": "stream",
          "text": [
            "2 * 3 = 6\n"
          ],
          "name": "stdout"
        }
      ]
    },
    {
      "cell_type": "markdown",
      "metadata": {
        "id": "gPUrD9se55wH",
        "colab_type": "text"
      },
      "source": [
        "### 07. 0을 출력하는 zero라는 함수를 만드세요."
      ]
    },
    {
      "cell_type": "code",
      "metadata": {
        "id": "3LMDbTMl55tw",
        "colab_type": "code",
        "colab": {}
      },
      "source": [
        "def zero():\n",
        "  return 0"
      ],
      "execution_count": 0,
      "outputs": []
    },
    {
      "cell_type": "markdown",
      "metadata": {
        "id": "DmP_u5fR55ry",
        "colab_type": "text"
      },
      "source": [
        "### 08. zero라는 함수를 호출(사용)하세요."
      ]
    },
    {
      "cell_type": "code",
      "metadata": {
        "id": "KWG_SH2255pn",
        "colab_type": "code",
        "outputId": "e589e332-0bd4-4ccd-8801-8c836464cbf3",
        "colab": {
          "base_uri": "https://localhost:8080/",
          "height": 34
        }
      },
      "source": [
        "zero()"
      ],
      "execution_count": 0,
      "outputs": [
        {
          "output_type": "execute_result",
          "data": {
            "text/plain": [
              "0"
            ]
          },
          "metadata": {
            "tags": []
          },
          "execution_count": 11
        }
      ]
    },
    {
      "cell_type": "markdown",
      "metadata": {
        "id": "ntXeGpOH9e2T",
        "colab_type": "text"
      },
      "source": [
        "### 09. 매개변수로 x,y를 사용하고 그 곱을 return하는 mul2라는 함수를 만드세요."
      ]
    },
    {
      "cell_type": "code",
      "metadata": {
        "id": "5AOgUxdQ9ezS",
        "colab_type": "code",
        "colab": {}
      },
      "source": [
        "def mul2(x,y):\n",
        "  return x*y"
      ],
      "execution_count": 0,
      "outputs": []
    },
    {
      "cell_type": "markdown",
      "metadata": {
        "id": "njbe05wo9exC",
        "colab_type": "text"
      },
      "source": [
        "### 10.mul2(2,5)의 결과값을 출력하세요."
      ]
    },
    {
      "cell_type": "code",
      "metadata": {
        "id": "pKYKe2zQ9euo",
        "colab_type": "code",
        "outputId": "4ae37529-093d-43c9-8322-c981b4a04aa9",
        "colab": {
          "base_uri": "https://localhost:8080/",
          "height": 34
        }
      },
      "source": [
        "mul2(2,5)"
      ],
      "execution_count": 0,
      "outputs": [
        {
          "output_type": "execute_result",
          "data": {
            "text/plain": [
              "10"
            ]
          },
          "metadata": {
            "tags": []
          },
          "execution_count": 13
        }
      ]
    },
    {
      "cell_type": "markdown",
      "metadata": {
        "id": "cU7dW0K09esg",
        "colab_type": "text"
      },
      "source": [
        "### 11. 갯수가 미정인 입력값을 받고 그 값들을 곱해서 return하는 facto라는 함수를 만드세요."
      ]
    },
    {
      "cell_type": "code",
      "metadata": {
        "id": "03k2S8Av-DLD",
        "colab_type": "code",
        "outputId": "2c40c03b-ffd3-4d4e-edf9-3aa64970baa1",
        "colab": {
          "base_uri": "https://localhost:8080/",
          "height": 34
        }
      },
      "source": [
        "def facto(*nums):\n",
        "  s = 1\n",
        "  for i in nums:\n",
        "    s *= i\n",
        "  return s\n",
        "print(facto(1,2,3))\n"
      ],
      "execution_count": 0,
      "outputs": [
        {
          "output_type": "stream",
          "text": [
            "6\n"
          ],
          "name": "stdout"
        }
      ]
    },
    {
      "cell_type": "markdown",
      "metadata": {
        "id": "FT0fkw0J-DEP",
        "colab_type": "text"
      },
      "source": [
        "### 12. facto 함수에 1~10까지를 넣은 결과값을 출력하세요."
      ]
    },
    {
      "cell_type": "code",
      "metadata": {
        "id": "da_0XEGz-DA_",
        "colab_type": "code",
        "outputId": "dac25836-dd49-4fae-c686-dd4f41818b19",
        "colab": {
          "base_uri": "https://localhost:8080/",
          "height": 34
        }
      },
      "source": [
        "print(facto(1,2,3,4,5,6,7,8,9,10))"
      ],
      "execution_count": 0,
      "outputs": [
        {
          "output_type": "stream",
          "text": [
            "3628800\n"
          ],
          "name": "stdout"
        }
      ]
    },
    {
      "cell_type": "markdown",
      "metadata": {
        "id": "B04HfX9k-C9n",
        "colab_type": "text"
      },
      "source": [
        "### 13. 함수의 계산 방식을 합/곱 중 선택할 수 있는 add_mul함수를 만드세요. "
      ]
    },
    {
      "cell_type": "code",
      "metadata": {
        "id": "sScGpwCj-C6R",
        "colab_type": "code",
        "outputId": "4df534b0-c374-4d9a-bee5-708b5640c6d2",
        "colab": {
          "base_uri": "https://localhost:8080/",
          "height": 52
        }
      },
      "source": [
        "def add_mul(a,list1):\n",
        "  if a == '+':\n",
        "    result = 0\n",
        "    for i in list1:\n",
        "      result += i\n",
        "  elif a == '*':\n",
        "    result = 1\n",
        "    for i in list1:\n",
        "      result *= i\n",
        "  return result\n",
        "print(add_mul('+',[1,2,3,4]))\n",
        "print(add_mul('*',[1,2,3,4]))"
      ],
      "execution_count": 0,
      "outputs": [
        {
          "output_type": "stream",
          "text": [
            "10\n",
            "24\n"
          ],
          "name": "stdout"
        }
      ]
    },
    {
      "cell_type": "markdown",
      "metadata": {
        "id": "nw84XRxd-C4J",
        "colab_type": "text"
      },
      "source": [
        "### 14. add_mul 함수를 합으로 이용하여 1~10까지 더한 결과를 출력하세요."
      ]
    },
    {
      "cell_type": "code",
      "metadata": {
        "id": "TbVjGAvr-C17",
        "colab_type": "code",
        "outputId": "abda6439-66de-46b8-d5b9-7a83b0cf7aa5",
        "colab": {
          "base_uri": "https://localhost:8080/",
          "height": 34
        }
      },
      "source": [
        "print(add_mul('+',[1,2,3,4,5,6,7,8,9,10]))"
      ],
      "execution_count": 0,
      "outputs": [
        {
          "output_type": "stream",
          "text": [
            "55\n"
          ],
          "name": "stdout"
        }
      ]
    },
    {
      "cell_type": "markdown",
      "metadata": {
        "id": "u3T-G3_D-CzD",
        "colab_type": "text"
      },
      "source": [
        "### 15. 주어진 함수를 lambda를 이용하여 mul4라는 이름의 함수로 다시 만들어 보세요."
      ]
    },
    {
      "cell_type": "code",
      "metadata": {
        "id": "iMmOtQ96LfZ7",
        "colab_type": "code",
        "colab": {}
      },
      "source": [
        "def mul(a,b):\n",
        "  return a*b"
      ],
      "execution_count": 0,
      "outputs": []
    },
    {
      "cell_type": "markdown",
      "metadata": {
        "id": "SAKOPsDmLfVU",
        "colab_type": "text"
      },
      "source": [
        "### 16. 500미만의 숫자 중 2와 7의 배수의 합을 구하세요."
      ]
    },
    {
      "cell_type": "code",
      "metadata": {
        "id": "18NrKYS3LfRP",
        "colab_type": "code",
        "outputId": "626384e0-b0ca-4aa8-9049-5b99d8cfb7d4",
        "colab": {
          "base_uri": "https://localhost:8080/",
          "height": 34
        }
      },
      "source": [
        "list1 = range(500)\n",
        "sums = 0\n",
        "for i in list1:\n",
        "  if i % 14 == 0:\n",
        "    sums += i\n",
        "  elif i % 2 == 0:\n",
        "    sums += i\n",
        "  elif i % 7 == 0:\n",
        "    sums += i\n",
        "print(sums)"
      ],
      "execution_count": 0,
      "outputs": [
        {
          "output_type": "stream",
          "text": [
            "71322\n"
          ],
          "name": "stdout"
        }
      ]
    }
  ]
}
