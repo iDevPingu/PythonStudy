{
  "nbformat": 4,
  "nbformat_minor": 0,
  "metadata": {
    "colab": {
      "name": "8_While_황재익.ipynb",
      "version": "0.3.2",
      "provenance": [],
      "collapsed_sections": [],
      "include_colab_link": true
    },
    "kernelspec": {
      "name": "python3",
      "display_name": "Python 3"
    }
  },
  "cells": [
    {
      "cell_type": "markdown",
      "metadata": {
        "id": "view-in-github",
        "colab_type": "text"
      },
      "source": [
        "<a href=\"https://colab.research.google.com/github/jaicoco/PythonStudy/blob/master/8_While_%ED%99%A9%EC%9E%AC%EC%9D%B5.ipynb\" target=\"_parent\"><img src=\"https://colab.research.google.com/assets/colab-badge.svg\" alt=\"Open In Colab\"/></a>"
      ]
    },
    {
      "cell_type": "markdown",
      "metadata": {
        "id": "4AAD8nbLQUWm",
        "colab_type": "text"
      },
      "source": [
        "# 2.While문\n",
        "조건문이 성립하는 동안 실행문을 반복 실행"
      ]
    },
    {
      "cell_type": "markdown",
      "metadata": {
        "id": "RnYAj9gIQoWm",
        "colab_type": "text"
      },
      "source": [
        "## 2-1.while문 구조\n",
        "<pre>\n",
        "while <조건문>:\n",
        "  <실행문1>\n",
        "  <실행문2>\n",
        "  .."
      ]
    },
    {
      "cell_type": "code",
      "metadata": {
        "id": "pIZmlWkpRGyc",
        "colab_type": "code",
        "outputId": "932ac0c4-ef21-40b0-b697-cb703af9586d",
        "colab": {
          "base_uri": "https://localhost:8080/",
          "height": 193
        }
      },
      "source": [
        "#'python'을 열번 출력하는 프로그램 만들기\n",
        "a = 1\n",
        "while(a<11):\n",
        "  print('python{}'.format(a))\n",
        "  a+=1\n"
      ],
      "execution_count": 0,
      "outputs": [
        {
          "output_type": "stream",
          "text": [
            "python1\n",
            "python2\n",
            "python3\n",
            "python4\n",
            "python5\n",
            "python6\n",
            "python7\n",
            "python8\n",
            "python9\n",
            "python10\n"
          ],
          "name": "stdout"
        }
      ]
    },
    {
      "cell_type": "code",
      "metadata": {
        "id": "oSDVt_xmwhgR",
        "colab_type": "code",
        "outputId": "fa1a9eb4-644d-4bd6-e63c-18b2448580cc",
        "colab": {
          "base_uri": "https://localhost:8080/",
          "height": 193
        }
      },
      "source": [
        "#'*'를 열 번 출력하는 프로그램 만들기\n",
        "star = 0\n",
        "#개행없이\n",
        "while(star<10):\n",
        "  print('*',end='')\n",
        "  star+=1\n",
        "#개행있이\n",
        "star = 0\n",
        "while(star<10):\n",
        "  print('*')\n",
        "  star += 1"
      ],
      "execution_count": 0,
      "outputs": [
        {
          "output_type": "stream",
          "text": [
            "***********\n",
            "*\n",
            "*\n",
            "*\n",
            "*\n",
            "*\n",
            "*\n",
            "*\n",
            "*\n",
            "*\n"
          ],
          "name": "stdout"
        }
      ]
    },
    {
      "cell_type": "code",
      "metadata": {
        "id": "QxjMO183whjg",
        "colab_type": "code",
        "outputId": "2a7d9c67-a4df-46e1-804f-eef4a775071a",
        "colab": {
          "base_uri": "https://localhost:8080/",
          "height": 105
        }
      },
      "source": [
        "i = 5\n",
        "while i>0:\n",
        "  print(\"*\")\n",
        "  i-=1"
      ],
      "execution_count": 0,
      "outputs": [
        {
          "output_type": "stream",
          "text": [
            "*\n",
            "*\n",
            "*\n",
            "*\n",
            "*\n"
          ],
          "name": "stdout"
        }
      ]
    },
    {
      "cell_type": "code",
      "metadata": {
        "id": "XXm6kcd8whpA",
        "colab_type": "code",
        "outputId": "a18250cf-b37a-49ad-ab36-fb87308e29bd",
        "colab": {
          "base_uri": "https://localhost:8080/",
          "height": 210
        }
      },
      "source": [
        "#열 번 찍 어 안 넘 어 가 는 나 무 없 다\n",
        "hit = 0\n",
        "while hit < 10:\n",
        "  print(\"더 찍어보세요 언젠간 넘어갑니다\")\n",
        "  hit+=1\n",
        "  if hit==10:\n",
        "    print(\"축하합니다 넘어갔어요\")"
      ],
      "execution_count": 0,
      "outputs": [
        {
          "output_type": "stream",
          "text": [
            "더 찍어보세요 언젠간 넘어갑니다\n",
            "더 찍어보세요 언젠간 넘어갑니다\n",
            "더 찍어보세요 언젠간 넘어갑니다\n",
            "더 찍어보세요 언젠간 넘어갑니다\n",
            "더 찍어보세요 언젠간 넘어갑니다\n",
            "더 찍어보세요 언젠간 넘어갑니다\n",
            "더 찍어보세요 언젠간 넘어갑니다\n",
            "더 찍어보세요 언젠간 넘어갑니다\n",
            "더 찍어보세요 언젠간 넘어갑니다\n",
            "더 찍어보세요 언젠간 넘어갑니다\n",
            "축하합니다 넘어갔어요\n"
          ],
          "name": "stdout"
        }
      ]
    },
    {
      "cell_type": "code",
      "metadata": {
        "id": "KJ8mAxy4RnxI",
        "colab_type": "code",
        "outputId": "91af2b80-37a5-42a8-8be4-cab90e180ead",
        "colab": {
          "base_uri": "https://localhost:8080/",
          "height": 105
        }
      },
      "source": [
        "#'*'를 한개씩 증가시키면서 출력하라\n",
        "num = 1\n",
        "while num<6:\n",
        "  print('*'*num)\n",
        "  num+=1"
      ],
      "execution_count": 0,
      "outputs": [
        {
          "output_type": "stream",
          "text": [
            "*\n",
            "**\n",
            "***\n",
            "****\n",
            "*****\n"
          ],
          "name": "stdout"
        }
      ]
    },
    {
      "cell_type": "markdown",
      "metadata": {
        "id": "fK1y8ycWR7ko",
        "colab_type": "text"
      },
      "source": [
        "### 사용자 입력 받기\n",
        "input()"
      ]
    },
    {
      "cell_type": "code",
      "metadata": {
        "id": "gHMYYyEWSx0r",
        "colab_type": "code",
        "outputId": "8efa8a6f-cca3-4e10-9893-31b8adac9ebf",
        "colab": {
          "base_uri": "https://localhost:8080/",
          "height": 34
        }
      },
      "source": [
        "a = input('이름을 입력하세요.>')"
      ],
      "execution_count": 0,
      "outputs": [
        {
          "output_type": "stream",
          "text": [
            "이름을 입력하세요.>황재익\n"
          ],
          "name": "stdout"
        }
      ]
    },
    {
      "cell_type": "code",
      "metadata": {
        "id": "nfVzOxqOTAeR",
        "colab_type": "code",
        "outputId": "2b50bb92-8b38-4b9d-aea0-39a28b5f35a0",
        "colab": {
          "base_uri": "https://localhost:8080/",
          "height": 34
        }
      },
      "source": [
        "print(a)"
      ],
      "execution_count": 0,
      "outputs": [
        {
          "output_type": "stream",
          "text": [
            "황재익\n"
          ],
          "name": "stdout"
        }
      ]
    },
    {
      "cell_type": "code",
      "metadata": {
        "id": "LRxlz0oYTEZZ",
        "colab_type": "code",
        "outputId": "6989de03-eceb-4fc1-83ab-ac322b1f85e2",
        "colab": {
          "base_uri": "https://localhost:8080/",
          "height": 34
        }
      },
      "source": [
        "type(a)"
      ],
      "execution_count": 0,
      "outputs": [
        {
          "output_type": "execute_result",
          "data": {
            "text/plain": [
              "str"
            ]
          },
          "metadata": {
            "tags": []
          },
          "execution_count": 23
        }
      ]
    },
    {
      "cell_type": "code",
      "metadata": {
        "id": "Xww-yoi4TFxW",
        "colab_type": "code",
        "outputId": "4805845b-ac21-4216-f163-779607b58300",
        "colab": {
          "base_uri": "https://localhost:8080/",
          "height": 34
        }
      },
      "source": [
        "a = int(input('숫자를 입력하세요.>'))"
      ],
      "execution_count": 0,
      "outputs": [
        {
          "output_type": "stream",
          "text": [
            "숫자를 입력하세요.>777\n"
          ],
          "name": "stdout"
        }
      ]
    },
    {
      "cell_type": "code",
      "metadata": {
        "id": "u6WcrDBCidO9",
        "colab_type": "code",
        "outputId": "fed8b427-6e58-4776-8baf-9412a4d671bb",
        "colab": {
          "base_uri": "https://localhost:8080/",
          "height": 34
        }
      },
      "source": [
        "print(a)"
      ],
      "execution_count": 0,
      "outputs": [
        {
          "output_type": "stream",
          "text": [
            "777\n"
          ],
          "name": "stdout"
        }
      ]
    },
    {
      "cell_type": "markdown",
      "metadata": {
        "id": "MZx8G67UuOb0",
        "colab_type": "text"
      },
      "source": [
        "### while문 만들기1\n",
        "스위치 만들기"
      ]
    },
    {
      "cell_type": "code",
      "metadata": {
        "id": "n2B7ztreuPgK",
        "colab_type": "code",
        "outputId": "051230aa-cd1f-493f-f44f-c0956491ff7e",
        "colab": {
          "base_uri": "https://localhost:8080/",
          "height": 105
        }
      },
      "source": [
        "\n",
        "while True:\n",
        "  switch = input('on/off select')\n",
        "  if switch == 'on':\n",
        "    print(\"switch on! WoW\")\n",
        "  elif switch == 'off':\n",
        "    print(\"switch off! \")\n",
        "  else:\n",
        "    break"
      ],
      "execution_count": 0,
      "outputs": [
        {
          "output_type": "stream",
          "text": [
            "on/off selecton\n",
            "switch on! WoW\n",
            "on/off selectoff\n",
            "switch off! \n",
            "on/off selectd\n"
          ],
          "name": "stdout"
        }
      ]
    },
    {
      "cell_type": "markdown",
      "metadata": {
        "id": "BebBUOjiifxi",
        "colab_type": "text"
      },
      "source": [
        "### while문 만들기2\n",
        "여러가지 선택지 중 하나를 선택 입력 받는 예제 만들기"
      ]
    },
    {
      "cell_type": "code",
      "metadata": {
        "id": "7l45PzuKiudp",
        "colab_type": "code",
        "colab": {}
      },
      "source": [
        "select = '''\n",
        "1.점검\n",
        "2.문의\n",
        "3.시작\n",
        "4.종료\n",
        "'''"
      ],
      "execution_count": 0,
      "outputs": []
    },
    {
      "cell_type": "code",
      "metadata": {
        "id": "45PPhBwdjZut",
        "colab_type": "code",
        "outputId": "58338eb1-d1f9-437b-d418-5bd8354d39ac",
        "colab": {
          "base_uri": "https://localhost:8080/",
          "height": 263
        }
      },
      "source": [
        "num = 0\n",
        "while num != 4 :\n",
        "  print(select)\n",
        "  num = int(input('원하시는 번호를 골라 입력하세요 : '))\n",
        "  \n",
        "  "
      ],
      "execution_count": 0,
      "outputs": [
        {
          "output_type": "stream",
          "text": [
            "\n",
            "1.점검\n",
            "2.문의\n",
            "3.시작\n",
            "4.종료\n",
            "\n",
            "원하시는 번호를 골라 입력하세요 : 3\n",
            "\n",
            "1.점검\n",
            "2.문의\n",
            "3.시작\n",
            "4.종료\n",
            "\n",
            "원하시는 번호를 골라 입력하세요 : 4\n"
          ],
          "name": "stdout"
        }
      ]
    },
    {
      "cell_type": "markdown",
      "metadata": {
        "id": "q3SBZ41ZjvqW",
        "colab_type": "text"
      },
      "source": [
        "### while문 강제 종료\n",
        "break 사용\n",
        "<pre>\n",
        "자판기 커피가 다 떨어졌을 때\n",
        "판매 중지 메세지 주고\n",
        "강제 종료"
      ]
    },
    {
      "cell_type": "code",
      "metadata": {
        "id": "k0Ahbc_ckTtT",
        "colab_type": "code",
        "outputId": "eb1a180e-cb91-4b8b-fdbf-4e30e5b531fd",
        "colab": {
          "base_uri": "https://localhost:8080/",
          "height": 492
        }
      },
      "source": [
        "cup = 5\n",
        "while True:\n",
        "  print(\"커피를 마시겠습니까? yes/no\")\n",
        "  answer = input()\n",
        "  if(answer == 'yes'):\n",
        "    cup-=1\n",
        "    print(\"커피가 나오는 중입니다 \\n남은 커피는 {}잔입니다\".format(cup))\n",
        "  elif answer == 'no':\n",
        "    print(\"감사합니다 또 이용해주세요\")\n",
        "  else:\n",
        "    print('잘못된 명령입니다')\n",
        "  if(cup == 0):\n",
        "    print('매진입니다. 판매를 중지합니다')\n",
        "    break\n"
      ],
      "execution_count": 0,
      "outputs": [
        {
          "output_type": "stream",
          "text": [
            "커피를 마시겠습니까? yes/no\n",
            "yes\n",
            "커피가 나오는 중입니다 \n",
            "남은 커피는 4잔입니다\n",
            "커피를 마시겠습니까? yes/no\n",
            "e\n",
            "잘못된 명령입니다\n",
            "커피를 마시겠습니까? yes/no\n",
            "no\n",
            "감사합니다 또 이용해주세요\n",
            "커피를 마시겠습니까? yes/no\n",
            "yes\n",
            "커피가 나오는 중입니다 \n",
            "남은 커피는 3잔입니다\n",
            "커피를 마시겠습니까? yes/no\n",
            "yes\n",
            "커피가 나오는 중입니다 \n",
            "남은 커피는 2잔입니다\n",
            "커피를 마시겠습니까? yes/no\n",
            "yes\n",
            "커피가 나오는 중입니다 \n",
            "남은 커피는 1잔입니다\n",
            "커피를 마시겠습니까? yes/no\n",
            "yes\n",
            "커피가 나오는 중입니다 \n",
            "남은 커피는 0잔입니다\n",
            "매진입니다. 판매를 중지합니다\n"
          ],
          "name": "stdout"
        }
      ]
    },
    {
      "cell_type": "markdown",
      "metadata": {
        "id": "xUPqvVSClg8n",
        "colab_type": "text"
      },
      "source": [
        "### 자판기 만들기"
      ]
    },
    {
      "cell_type": "code",
      "metadata": {
        "id": "pSTfc0J3mNR7",
        "colab_type": "code",
        "outputId": "bedd9ffd-7191-46cd-e786-7aefb8205100",
        "colab": {
          "base_uri": "https://localhost:8080/",
          "height": 140
        }
      },
      "source": [
        "cola = 3\n",
        "while True:\n",
        "  money = int(input('돈을 넣으세요>'))\n",
        "  if money == 1000:\n",
        "    print('콜라를 준비 중입니다.')\n",
        "    cola = cola -1\n",
        "  elif money > 1000:\n",
        "    print('콜라를 준비중입니다. 거스름돈 {} 을 드립니다.'.format(money-1000))\n",
        "    cola = cola -1\n",
        "  else:\n",
        "    print('돈이 부족합니다. 돈을 돌려 드립니다.')\n",
        "  if cola == 0:\n",
        "    print('콜라가 다 떨어졌습니다. 판매를 중지합니다.')\n",
        "    break"
      ],
      "execution_count": 0,
      "outputs": [
        {
          "output_type": "stream",
          "text": [
            "돈을 넣으세요>11111\n",
            "콜라를 준비중입니다. 거스름돈 10111 을 드립니다.\n",
            "돈을 넣으세요>1111111\n",
            "콜라를 준비중입니다. 거스름돈 1110111 을 드립니다.\n",
            "돈을 넣으세요>1111\n",
            "콜라를 준비중입니다. 거스름돈 111 을 드립니다.\n",
            "콜라가 다 떨어졌습니다. 판매를 중지합니다.\n"
          ],
          "name": "stdout"
        }
      ]
    },
    {
      "cell_type": "markdown",
      "metadata": {
        "id": "OK70QIEGmNOU",
        "colab_type": "text"
      },
      "source": [
        "### break의 반대 : continue\n",
        "break로 while 문을 끝 냈음.\n",
        "\n",
        "continue는 처음으로 다시 돌아감.\n"
      ]
    },
    {
      "cell_type": "code",
      "metadata": {
        "id": "o_E920vnmNLq",
        "colab_type": "code",
        "outputId": "fa2a69a8-6514-4666-97bf-af2b706ec060",
        "colab": {
          "base_uri": "https://localhost:8080/",
          "height": 105
        }
      },
      "source": [
        "#홀수만 출력\n",
        "a = 0\n",
        "while(a<10):\n",
        "  a+=1\n",
        "  if(a%2 == 0):\n",
        "    continue\n",
        "  print(a)\n"
      ],
      "execution_count": 0,
      "outputs": [
        {
          "output_type": "stream",
          "text": [
            "1\n",
            "3\n",
            "5\n",
            "7\n",
            "9\n"
          ],
          "name": "stdout"
        }
      ]
    },
    {
      "cell_type": "markdown",
      "metadata": {
        "id": "3jaJXEItlhnk",
        "colab_type": "text"
      },
      "source": [
        "### 무한 루프\n",
        "무한히 반복됨.\n",
        "\n",
        "일반 프로그램에서는 거의 대부분 사용.\n",
        "\n",
        "ctrl+c로 종료하지만\n",
        "\n",
        "colab에서는 중지 버튼을 눌러 종료"
      ]
    },
    {
      "cell_type": "code",
      "metadata": {
        "id": "YkBdETvolDx4",
        "colab_type": "code",
        "colab": {}
      },
      "source": [
        "while True:\n",
        "  print('ctrl+c를 눌러야 종료됩니다.')"
      ],
      "execution_count": 0,
      "outputs": []
    },
    {
      "cell_type": "code",
      "metadata": {
        "id": "pk_ulTOfFFOr",
        "colab_type": "code",
        "colab": {}
      },
      "source": [
        ""
      ],
      "execution_count": 0,
      "outputs": []
    }
  ]
}
