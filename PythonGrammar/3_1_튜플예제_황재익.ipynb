{
  "nbformat": 4,
  "nbformat_minor": 0,
  "metadata": {
    "colab": {
      "name": "3_1_튜플예제_황재익.ipynb",
      "version": "0.3.2",
      "provenance": [],
      "collapsed_sections": [],
      "include_colab_link": true
    },
    "kernelspec": {
      "name": "python3",
      "display_name": "Python 3"
    }
  },
  "cells": [
    {
      "cell_type": "markdown",
      "metadata": {
        "id": "view-in-github",
        "colab_type": "text"
      },
      "source": [
        "<a href=\"https://colab.research.google.com/github/jaicoco/PythonStudy/blob/master/3_1_%ED%8A%9C%ED%94%8C%EC%98%88%EC%A0%9C_%ED%99%A9%EC%9E%AC%EC%9D%B5.ipynb\" target=\"_parent\"><img src=\"https://colab.research.google.com/assets/colab-badge.svg\" alt=\"Open In Colab\"/></a>"
      ]
    },
    {
      "cell_type": "markdown",
      "metadata": {
        "id": "XoGSpeq85QYz",
        "colab_type": "text"
      },
      "source": [
        "### 001.tuple1이라는 이름의 비어있는 튜플을 만들라."
      ]
    },
    {
      "cell_type": "code",
      "metadata": {
        "id": "glqWr_aQ5exr",
        "colab_type": "code",
        "colab": {}
      },
      "source": [
        "tuple1 = ()"
      ],
      "execution_count": 0,
      "outputs": []
    },
    {
      "cell_type": "markdown",
      "metadata": {
        "id": "ooSGI8ao6q2V",
        "colab_type": "text"
      },
      "source": [
        "### Q002.1, 2, 3의 값을 담은 tuple2를 만들어보자."
      ]
    },
    {
      "cell_type": "code",
      "metadata": {
        "id": "ROPf9zOw6_0T",
        "colab_type": "code",
        "colab": {}
      },
      "source": [
        "tuple2 = ( 1, 2, 3 )"
      ],
      "execution_count": 0,
      "outputs": []
    },
    {
      "cell_type": "markdown",
      "metadata": {
        "id": "26bC5qNH5woM",
        "colab_type": "text"
      },
      "source": [
        "### Q003.숫자 1 이 저장된 튜플 z를 생성하라."
      ]
    },
    {
      "cell_type": "code",
      "metadata": {
        "id": "kMLvF0Xd5wCE",
        "colab_type": "code",
        "colab": {}
      },
      "source": [
        "z = ( 1, )"
      ],
      "execution_count": 0,
      "outputs": []
    },
    {
      "cell_type": "markdown",
      "metadata": {
        "id": "IBeHrP-w5fY1",
        "colab_type": "text"
      },
      "source": [
        "### Q004.다음 코드를 실행해보자. 오류의 발생원인은 무엇인가?\n"
      ]
    },
    {
      "cell_type": "code",
      "metadata": {
        "id": "0UMIaYAH59fX",
        "colab_type": "code",
        "outputId": "5644ad7e-1c51-4e13-da9f-6169d4f7c971",
        "colab": {
          "base_uri": "https://localhost:8080/",
          "height": 204
        }
      },
      "source": [
        "t = ('x', 'y', 'z')\n",
        "t[0] = 'a'\n",
        "# 튜플은 값 수정 불가"
      ],
      "execution_count": 0,
      "outputs": [
        {
          "output_type": "error",
          "ename": "TypeError",
          "evalue": "ignored",
          "traceback": [
            "\u001b[0;31m---------------------------------------------------------------------------\u001b[0m",
            "\u001b[0;31mTypeError\u001b[0m                                 Traceback (most recent call last)",
            "\u001b[0;32m<ipython-input-4-a3a99d291310>\u001b[0m in \u001b[0;36m<module>\u001b[0;34m()\u001b[0m\n\u001b[1;32m      1\u001b[0m \u001b[0mt\u001b[0m \u001b[0;34m=\u001b[0m \u001b[0;34m(\u001b[0m\u001b[0;34m'x'\u001b[0m\u001b[0;34m,\u001b[0m \u001b[0;34m'y'\u001b[0m\u001b[0;34m,\u001b[0m \u001b[0;34m'z'\u001b[0m\u001b[0;34m)\u001b[0m\u001b[0;34m\u001b[0m\u001b[0;34m\u001b[0m\u001b[0m\n\u001b[0;32m----> 2\u001b[0;31m \u001b[0mt\u001b[0m\u001b[0;34m[\u001b[0m\u001b[0;36m0\u001b[0m\u001b[0;34m]\u001b[0m \u001b[0;34m=\u001b[0m \u001b[0;34m'a'\u001b[0m\u001b[0;34m\u001b[0m\u001b[0;34m\u001b[0m\u001b[0m\n\u001b[0m\u001b[1;32m      3\u001b[0m \u001b[0;31m# 튜플은 값 수정 불가\u001b[0m\u001b[0;34m\u001b[0m\u001b[0;34m\u001b[0m\u001b[0;34m\u001b[0m\u001b[0m\n",
            "\u001b[0;31mTypeError\u001b[0m: 'tuple' object does not support item assignment"
          ]
        }
      ]
    },
    {
      "cell_type": "markdown",
      "metadata": {
        "id": "J-_Hahcc7Wd0",
        "colab_type": "text"
      },
      "source": [
        "### Q005. 'a', 'b', 1, 3 을 갖는 tuple3을 만들어보자."
      ]
    },
    {
      "cell_type": "code",
      "metadata": {
        "id": "QAt6ZCPa7XJU",
        "colab_type": "code",
        "colab": {}
      },
      "source": [
        "tuple3 = ( 'a', 'b', 1, 3 )"
      ],
      "execution_count": 0,
      "outputs": []
    },
    {
      "cell_type": "markdown",
      "metadata": {
        "id": "Jx9Kif0i7l9k",
        "colab_type": "text"
      },
      "source": [
        "### Q006. 5번에서 만든 튜플 tuple3을 순서대로 출력해보자."
      ]
    },
    {
      "cell_type": "code",
      "metadata": {
        "id": "aUzTHuxN7uXc",
        "colab_type": "code",
        "outputId": "634610ee-ca64-4db6-f67e-3ddeb2ab8a8b",
        "colab": {
          "base_uri": "https://localhost:8080/",
          "height": 34
        }
      },
      "source": [
        "print( tuple3 )"
      ],
      "execution_count": 0,
      "outputs": [
        {
          "output_type": "stream",
          "text": [
            "('a', 'b', 1, 3)\n"
          ],
          "name": "stdout"
        }
      ]
    },
    {
      "cell_type": "markdown",
      "metadata": {
        "id": "rY1oCjsR70RL",
        "colab_type": "text"
      },
      "source": [
        "### Q007.5번에서 만든 튜플 tuple3을 슬라이스 하여 'b'와 1 만 출력해보자."
      ]
    },
    {
      "cell_type": "code",
      "metadata": {
        "id": "7MI_A1BR8Ei1",
        "colab_type": "code",
        "outputId": "21ab57c5-e54f-4826-f089-eac463014ba2",
        "colab": {
          "base_uri": "https://localhost:8080/",
          "height": 34
        }
      },
      "source": [
        "tuple3[ 1:3 ]"
      ],
      "execution_count": 0,
      "outputs": [
        {
          "output_type": "execute_result",
          "data": {
            "text/plain": [
              "('b', 1)"
            ]
          },
          "metadata": {
            "tags": []
          },
          "execution_count": 7
        }
      ]
    },
    {
      "cell_type": "markdown",
      "metadata": {
        "id": "kqaKpitc8HBr",
        "colab_type": "text"
      },
      "source": [
        "### Q008. 아래의 tup1과 tup2를 더하여 새로운 tup3를 만들어보자. tup3를 출력해보자."
      ]
    },
    {
      "cell_type": "code",
      "metadata": {
        "id": "fbSkYSnX8bU8",
        "colab_type": "code",
        "outputId": "0c6404ad-1062-42b7-993c-80834cd6604c",
        "colab": {
          "base_uri": "https://localhost:8080/",
          "height": 35
        }
      },
      "source": [
        "tup1 = ('q', 'w', 'e', 'r')\n",
        "tup2 = (1, 3, 5, 7)\n",
        "tup3 = tup1 + tup2\n",
        "print( tup3 )"
      ],
      "execution_count": 0,
      "outputs": [
        {
          "output_type": "stream",
          "text": [
            "('q', 'w', 'e', 'r', 1, 3, 5, 7)\n"
          ],
          "name": "stdout"
        }
      ]
    },
    {
      "cell_type": "markdown",
      "metadata": {
        "id": "3YP8udUA8noT",
        "colab_type": "text"
      },
      "source": [
        "### Q009. 아래 주어진 튜플 z에 2를 곱한 튜플 z2를 만들고 출력해보자."
      ]
    },
    {
      "cell_type": "code",
      "metadata": {
        "id": "swi9Wz7z9N1L",
        "colab_type": "code",
        "outputId": "2a873f99-af8c-42ee-cc6d-4c04f21a3db3",
        "colab": {
          "base_uri": "https://localhost:8080/",
          "height": 35
        }
      },
      "source": [
        "z = ('a', 'b', 1, 2)\n",
        "z2 = z*2\n",
        "print( z2 )"
      ],
      "execution_count": 0,
      "outputs": [
        {
          "output_type": "stream",
          "text": [
            "('a', 'b', 1, 2, 'a', 'b', 1, 2)\n"
          ],
          "name": "stdout"
        }
      ]
    },
    {
      "cell_type": "markdown",
      "metadata": {
        "id": "8TJ12UXd9WLU",
        "colab_type": "text"
      },
      "source": [
        "### Q010. 아래 주어진 튜플의 길이를 구해보자."
      ]
    },
    {
      "cell_type": "code",
      "metadata": {
        "id": "mIqS0WRW9au0",
        "colab_type": "code",
        "outputId": "ec9fc929-2664-460a-978f-d056103e1437",
        "colab": {
          "base_uri": "https://localhost:8080/",
          "height": 35
        }
      },
      "source": [
        "tup0 = ('철수', 'kim', 1, 'i')\n",
        "len( tup0 )"
      ],
      "execution_count": 0,
      "outputs": [
        {
          "output_type": "execute_result",
          "data": {
            "text/plain": [
              "4"
            ]
          },
          "metadata": {
            "tags": []
          },
          "execution_count": 12
        }
      ]
    },
    {
      "cell_type": "markdown",
      "metadata": {
        "id": "m_hzWp845-2b",
        "colab_type": "text"
      },
      "source": [
        "### Q011.다음 튜플을 리스트로 변환하라. 리스트 이름은 list1으로 하자."
      ]
    },
    {
      "cell_type": "code",
      "metadata": {
        "id": "O6XnwgbZ6MgC",
        "colab_type": "code",
        "outputId": "d834be14-3520-4f9b-b588-6daaa8e34ca6",
        "colab": {
          "base_uri": "https://localhost:8080/",
          "height": 35
        }
      },
      "source": [
        "tup1 = ('a', 'b', 'c')\n",
        "list1 = list(tup1)\n",
        "print( list1 )"
      ],
      "execution_count": 0,
      "outputs": [
        {
          "output_type": "stream",
          "text": [
            "['a', 'b', 'c']\n"
          ],
          "name": "stdout"
        }
      ]
    },
    {
      "cell_type": "markdown",
      "metadata": {
        "id": "WyfL2gsi6PBT",
        "colab_type": "text"
      },
      "source": [
        "### Q012.다음 리스트를 튜플로 변경하라.튜플 이름은 tup2으로 하자."
      ]
    },
    {
      "cell_type": "code",
      "metadata": {
        "id": "R0abXwcZ6Wpt",
        "colab_type": "code",
        "outputId": "65a19a87-2c75-4563-cc21-2769b82de8f8",
        "colab": {
          "base_uri": "https://localhost:8080/",
          "height": 35
        }
      },
      "source": [
        "list2 = ['z', 'x', 'c']\n",
        "tup2 = tuple( list2 )\n",
        "print( tup2 )"
      ],
      "execution_count": 0,
      "outputs": [
        {
          "output_type": "stream",
          "text": [
            "('z', 'x', 'c')\n"
          ],
          "name": "stdout"
        }
      ]
    },
    {
      "cell_type": "code",
      "metadata": {
        "id": "qErzL6Rln_aL",
        "colab_type": "code",
        "colab": {}
      },
      "source": [
        ""
      ],
      "execution_count": 0,
      "outputs": []
    }
  ]
}
