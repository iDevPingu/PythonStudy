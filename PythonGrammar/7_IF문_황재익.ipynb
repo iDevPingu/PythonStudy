{
  "nbformat": 4,
  "nbformat_minor": 0,
  "metadata": {
    "colab": {
      "name": "if의 사본",
      "version": "0.3.2",
      "provenance": [],
      "collapsed_sections": [],
      "include_colab_link": true
    },
    "kernelspec": {
      "name": "python3",
      "display_name": "Python 3"
    }
  },
  "cells": [
    {
      "cell_type": "markdown",
      "metadata": {
        "id": "view-in-github",
        "colab_type": "text"
      },
      "source": [
        "<a href=\"https://colab.research.google.com/github/jaicoco/PythonStudy/blob/master/7_IF%EB%AC%B8_%ED%99%A9%EC%9E%AC%EC%9D%B5.ipynb\" target=\"_parent\"><img src=\"https://colab.research.google.com/assets/colab-badge.svg\" alt=\"Open In Colab\"/></a>"
      ]
    },
    {
      "cell_type": "markdown",
      "metadata": {
        "id": "np8GIOGs8sIw",
        "colab_type": "text"
      },
      "source": [
        "# 제어문\n",
        "\n",
        "<pre>\n",
        "종류\n",
        "* if문\n",
        "* while문\n",
        "* for문\n",
        "\n",
        "공통 특징\n",
        "* 인덴트(들여쓰기)"
      ]
    },
    {
      "cell_type": "markdown",
      "metadata": {
        "id": "_Rg_SNwH4h1K",
        "colab_type": "text"
      },
      "source": [
        "# 1.if문\n",
        "조건이 참이면 실행문을 한 번 실행하는 제어문"
      ]
    },
    {
      "cell_type": "markdown",
      "metadata": {
        "id": "tyUrDLNF5isR",
        "colab_type": "text"
      },
      "source": [
        "## 1-1.if 문의 구조\n",
        "<pre>\n",
        "* 사용법\n",
        "if 조건문 :\n",
        "  실행문1\n",
        "  실행문2\n",
        "else:\n",
        "  실행문z\n",
        "  실행문x\n",
        "  \n",
        "* if 문의 특징\n",
        "  인덴트(들여쓰기)"
      ]
    },
    {
      "cell_type": "markdown",
      "metadata": {
        "id": "LfTPQiRG8kUN",
        "colab_type": "text"
      },
      "source": [
        "### 인덴트\n",
        "들여쓰기를 말함.\n",
        "\n",
        "제어문에서반드시 들어감\n",
        "<pre>\n",
        "* 사용법\n",
        "tab키 or 스페이스바 4번\n",
        "\n",
        "<->\n",
        "내어쓰기\n",
        "\n",
        "* 사용법\n",
        "shift + tap키"
      ]
    },
    {
      "cell_type": "code",
      "metadata": {
        "id": "hCjyy3rWAaEO",
        "colab_type": "code",
        "colab": {}
      },
      "source": [
        "  # 이 주석을 들여 쓰기 하세요."
      ],
      "execution_count": 0,
      "outputs": []
    },
    {
      "cell_type": "code",
      "metadata": {
        "id": "mHYL0O93AgqH",
        "colab_type": "code",
        "colab": {}
      },
      "source": [
        "# 이 주석을 내어 쓰기 하세요.\n",
        "# 이 주석을 내어 쓰기 하세요.\n",
        "# 이 주석을 내어 쓰기 하세요.\n",
        "# 이 주석을 내어 쓰기 하세요.\n",
        "# print(a)"
      ],
      "execution_count": 0,
      "outputs": []
    },
    {
      "cell_type": "markdown",
      "metadata": {
        "id": "nqM9wtWp_TqG",
        "colab_type": "text"
      },
      "source": [
        "### 조건문\n",
        "만약 ~ 라면:\n",
        "\n",
        "그게 아니면:\n",
        "\n",
        "<pre>\n",
        "if ~ :\n",
        "\n",
        "else:\n",
        "</pre>\n",
        "\n",
        "설명 : 조건문임을 표시하기 위해 반드시 끝에 콜론을 넣는다."
      ]
    },
    {
      "cell_type": "markdown",
      "metadata": {
        "id": "vBdl661QBD6N",
        "colab_type": "text"
      },
      "source": [
        "### 실행문\n",
        "... 해라\n",
        "\n",
        "<pre>\n",
        "(인덴트)실행할 코드\n",
        "</pre>\n",
        "\n",
        "설명 : 실행문임을 표시하기 위해 인덴트를 반드시 넣는다.\n"
      ]
    },
    {
      "cell_type": "markdown",
      "metadata": {
        "id": "4mkXjHNs6_M3",
        "colab_type": "text"
      },
      "source": [
        "## 1-2.if문 만들기\n",
        "<pre>\n",
        "if 조건문:\n",
        "  수행문"
      ]
    },
    {
      "cell_type": "code",
      "metadata": {
        "id": "BgnIfkXH76l3",
        "colab_type": "code",
        "outputId": "0d90d3e0-77df-464b-c7ca-aa8addad060c",
        "colab": {
          "base_uri": "https://localhost:8080/",
          "height": 34
        }
      },
      "source": [
        "if True:\n",
        "  print('참')\n",
        "else:\n",
        "  print('거짓')\n"
      ],
      "execution_count": 0,
      "outputs": [
        {
          "output_type": "stream",
          "text": [
            "참\n"
          ],
          "name": "stdout"
        }
      ]
    },
    {
      "cell_type": "code",
      "metadata": {
        "id": "J1AW_Cl2_0tX",
        "colab_type": "code",
        "outputId": "9e4cb674-591e-4af5-d90f-2d6f27c8ab39",
        "colab": {
          "base_uri": "https://localhost:8080/",
          "height": 34
        }
      },
      "source": [
        "if False:\n",
        "  print('if입니다')\n",
        "else:\n",
        "  print('else입니다')"
      ],
      "execution_count": 0,
      "outputs": [
        {
          "output_type": "stream",
          "text": [
            "else입니다\n"
          ],
          "name": "stdout"
        }
      ]
    },
    {
      "cell_type": "markdown",
      "metadata": {
        "id": "1XrdsmQpI97B",
        "colab_type": "text"
      },
      "source": [
        "## 1-3. 다양한 조건들"
      ]
    },
    {
      "cell_type": "markdown",
      "metadata": {
        "id": "fzdbpjZEDWL0",
        "colab_type": "text"
      },
      "source": [
        "### 비교 연산자\n",
        "값 비교를 위한 연산자"
      ]
    },
    {
      "cell_type": "markdown",
      "metadata": {
        "id": "L-VOCJVrDz8W",
        "colab_type": "text"
      },
      "source": [
        "#### > : 크다\n",
        "\n"
      ]
    },
    {
      "cell_type": "code",
      "metadata": {
        "id": "0NQ195LiEDwm",
        "colab_type": "code",
        "outputId": "21398310-f39a-4cd0-c9db-6071789156ec",
        "colab": {
          "base_uri": "https://localhost:8080/",
          "height": 34
        }
      },
      "source": [
        "5<10"
      ],
      "execution_count": 0,
      "outputs": [
        {
          "output_type": "execute_result",
          "data": {
            "text/plain": [
              "True"
            ]
          },
          "metadata": {
            "tags": []
          },
          "execution_count": 6
        }
      ]
    },
    {
      "cell_type": "markdown",
      "metadata": {
        "id": "L0PwAamwDz3n",
        "colab_type": "text"
      },
      "source": [
        "#### >= : 크거나 같다"
      ]
    },
    {
      "cell_type": "code",
      "metadata": {
        "id": "fL-5o2AWDz1K",
        "colab_type": "code",
        "outputId": "9c3736e3-8c80-4519-c96d-e730662fd1a3",
        "colab": {
          "base_uri": "https://localhost:8080/",
          "height": 34
        }
      },
      "source": [
        "5>=10"
      ],
      "execution_count": 0,
      "outputs": [
        {
          "output_type": "execute_result",
          "data": {
            "text/plain": [
              "False"
            ]
          },
          "metadata": {
            "tags": []
          },
          "execution_count": 7
        }
      ]
    },
    {
      "cell_type": "markdown",
      "metadata": {
        "id": "v1YGpHV1EW3m",
        "colab_type": "text"
      },
      "source": [
        "#### == : 같다"
      ]
    },
    {
      "cell_type": "code",
      "metadata": {
        "id": "AFoNaEyrDzyx",
        "colab_type": "code",
        "outputId": "81023470-2add-42fd-f18c-1575ca513b64",
        "colab": {
          "base_uri": "https://localhost:8080/",
          "height": 34
        }
      },
      "source": [
        "5==10"
      ],
      "execution_count": 0,
      "outputs": [
        {
          "output_type": "execute_result",
          "data": {
            "text/plain": [
              "False"
            ]
          },
          "metadata": {
            "tags": []
          },
          "execution_count": 8
        }
      ]
    },
    {
      "cell_type": "markdown",
      "metadata": {
        "id": "0CgYTh5BDzwO",
        "colab_type": "text"
      },
      "source": [
        "#### != : 다르다"
      ]
    },
    {
      "cell_type": "code",
      "metadata": {
        "id": "fvJoNYB2ExET",
        "colab_type": "code",
        "outputId": "a65be27e-58e4-4dcb-84eb-f12bf425c8d7",
        "colab": {
          "base_uri": "https://localhost:8080/",
          "height": 34
        }
      },
      "source": [
        "5!=10"
      ],
      "execution_count": 0,
      "outputs": [
        {
          "output_type": "execute_result",
          "data": {
            "text/plain": [
              "True"
            ]
          },
          "metadata": {
            "tags": []
          },
          "execution_count": 9
        }
      ]
    },
    {
      "cell_type": "markdown",
      "metadata": {
        "id": "ej858BJ7ExBj",
        "colab_type": "text"
      },
      "source": [
        "#### < : 작다"
      ]
    },
    {
      "cell_type": "code",
      "metadata": {
        "id": "ajZoaz5UEw_e",
        "colab_type": "code",
        "outputId": "9d38dbf1-21f7-4fb0-9d0a-f25b3cf84c09",
        "colab": {
          "base_uri": "https://localhost:8080/",
          "height": 34
        }
      },
      "source": [
        "5<10"
      ],
      "execution_count": 0,
      "outputs": [
        {
          "output_type": "execute_result",
          "data": {
            "text/plain": [
              "True"
            ]
          },
          "metadata": {
            "tags": []
          },
          "execution_count": 10
        }
      ]
    },
    {
      "cell_type": "markdown",
      "metadata": {
        "id": "fAHCdeUyEw2p",
        "colab_type": "text"
      },
      "source": [
        "#### <= : 작거나 같다"
      ]
    },
    {
      "cell_type": "code",
      "metadata": {
        "id": "HTlO_rNlEwz4",
        "colab_type": "code",
        "outputId": "c5db0a25-d77c-4f0c-f849-35e6bc361b36",
        "colab": {
          "base_uri": "https://localhost:8080/",
          "height": 34
        }
      },
      "source": [
        "5<=1"
      ],
      "execution_count": 0,
      "outputs": [
        {
          "output_type": "execute_result",
          "data": {
            "text/plain": [
              "False"
            ]
          },
          "metadata": {
            "tags": []
          },
          "execution_count": 12
        }
      ]
    },
    {
      "cell_type": "code",
      "metadata": {
        "id": "CETWH8hMBv1R",
        "colab_type": "code",
        "outputId": "e84b0edc-8bad-4cdc-92f5-871d1dc71e0b",
        "colab": {
          "base_uri": "https://localhost:8080/",
          "height": 52
        }
      },
      "source": [
        "mymoney = int(input())\n",
        "if mymoney>5000:\n",
        "  print(\"빵사와\")\n",
        "else:\n",
        "  print(\"그냥와\")"
      ],
      "execution_count": 0,
      "outputs": [
        {
          "output_type": "stream",
          "text": [
            "6000\n",
            "빵사와\n"
          ],
          "name": "stdout"
        }
      ]
    },
    {
      "cell_type": "code",
      "metadata": {
        "id": "NZ_nVZrDCLEu",
        "colab_type": "code",
        "outputId": "064d8977-6f39-407a-ddae-dd64329d2e10",
        "colab": {
          "base_uri": "https://localhost:8080/",
          "height": 34
        }
      },
      "source": [
        "a = 1\n",
        "if a==1:\n",
        "  print('{}는1입니다'.format('a'))"
      ],
      "execution_count": 0,
      "outputs": [
        {
          "output_type": "stream",
          "text": [
            "a는1입니다\n"
          ],
          "name": "stdout"
        }
      ]
    },
    {
      "cell_type": "markdown",
      "metadata": {
        "id": "oscY5bODDFha",
        "colab_type": "text"
      },
      "source": [
        "### x or y  \n",
        "x, y 둘 중 하나만 참이면 참\n",
        "\n",
        "### x and y \n",
        "x, y 둘 다 참이어야 참\n",
        "\n",
        "### not x\n",
        "x가 거짓이면 참"
      ]
    },
    {
      "cell_type": "code",
      "metadata": {
        "id": "A3bLEqEaGGd5",
        "colab_type": "code",
        "outputId": "cae3792e-8901-42be-bc13-ce911757804b",
        "colab": {
          "base_uri": "https://localhost:8080/",
          "height": 34
        }
      },
      "source": [
        "cash = 10000\n",
        "card = True\n",
        "\n",
        "if cash >= 5000 or card:\n",
        "  print('외식 ㄱㄱ')\n",
        "else :\n",
        "  print('굶자')"
      ],
      "execution_count": 0,
      "outputs": [
        {
          "output_type": "stream",
          "text": [
            "외식 ㄱㄱ\n"
          ],
          "name": "stdout"
        }
      ]
    },
    {
      "cell_type": "code",
      "metadata": {
        "id": "0sw1INz5Gyja",
        "colab_type": "code",
        "outputId": "0839069a-f4a7-4731-c560-7df1b0aa171a",
        "colab": {
          "base_uri": "https://localhost:8080/",
          "height": 34
        }
      },
      "source": [
        "cash = 10000\n",
        "card = False\n",
        "\n",
        "if cash >= 5000 and card:\n",
        "  print('외식 ㄱㄱ')\n",
        "else :\n",
        "  print('굶자')"
      ],
      "execution_count": 0,
      "outputs": [
        {
          "output_type": "stream",
          "text": [
            "굶자\n"
          ],
          "name": "stdout"
        }
      ]
    },
    {
      "cell_type": "code",
      "metadata": {
        "colab_type": "code",
        "id": "VaE4PuAycC0E",
        "colab": {}
      },
      "source": [
        ""
      ],
      "execution_count": 0,
      "outputs": []
    },
    {
      "cell_type": "code",
      "metadata": {
        "colab_type": "code",
        "id": "g3pawpAicClv",
        "colab": {}
      },
      "source": [
        ""
      ],
      "execution_count": 0,
      "outputs": []
    },
    {
      "cell_type": "markdown",
      "metadata": {
        "id": "1SzMaIkqHRfb",
        "colab_type": "text"
      },
      "source": [
        "### x in s\n",
        "x가 s 안에 있다면\n",
        "\n",
        "### x not in s\n",
        "x가 s 안에 있지 않다면\n",
        "\n",
        "<pre>\n",
        "s에는\n",
        "문자열, 리스트, 튜플 등이 올 수 있다."
      ]
    },
    {
      "cell_type": "code",
      "metadata": {
        "id": "G3xE7p5EID73",
        "colab_type": "code",
        "outputId": "62b522e6-911f-4f6e-be09-5e28a5515b2c",
        "colab": {
          "base_uri": "https://localhost:8080/",
          "height": 34
        }
      },
      "source": [
        "2 in [1,2,3]"
      ],
      "execution_count": 0,
      "outputs": [
        {
          "output_type": "execute_result",
          "data": {
            "text/plain": [
              "True"
            ]
          },
          "metadata": {
            "tags": []
          },
          "execution_count": 21
        }
      ]
    },
    {
      "cell_type": "code",
      "metadata": {
        "id": "0sz_iDnqIXOl",
        "colab_type": "code",
        "colab": {}
      },
      "source": [
        "bag = ['wallet','cellphone','notebook']"
      ],
      "execution_count": 0,
      "outputs": []
    },
    {
      "cell_type": "code",
      "metadata": {
        "id": "aXxef54LIgkk",
        "colab_type": "code",
        "outputId": "088e79b2-811f-4807-efa4-7c0e1470edae",
        "colab": {
          "base_uri": "https://localhost:8080/",
          "height": 34
        }
      },
      "source": [
        "if 'cellphone' in bag:\n",
        "  print('전화 ㄱㄱ')\n",
        "else:\n",
        "  print('전화안해')"
      ],
      "execution_count": 0,
      "outputs": [
        {
          "output_type": "stream",
          "text": [
            "전화 ㄱㄱ\n"
          ],
          "name": "stdout"
        }
      ]
    },
    {
      "cell_type": "markdown",
      "metadata": {
        "id": "0_0hZAu0JvgM",
        "colab_type": "text"
      },
      "source": [
        "### pass\n",
        "실행문에서 아무 것도 하지 않게 한다."
      ]
    },
    {
      "cell_type": "code",
      "metadata": {
        "id": "GowhOmMqLUag",
        "colab_type": "code",
        "outputId": "9b35a969-2dae-4baf-d51b-438ed532acec",
        "colab": {
          "base_uri": "https://localhost:8080/",
          "height": 34
        }
      },
      "source": [
        "if 'cellphone' not in bag:\n",
        "  pass\n",
        "else:\n",
        "  print('전화를 한다.')"
      ],
      "execution_count": 0,
      "outputs": [
        {
          "output_type": "stream",
          "text": [
            "전화를 한다.\n"
          ],
          "name": "stdout"
        }
      ]
    },
    {
      "cell_type": "markdown",
      "metadata": {
        "id": "TDDtDUXXLlTQ",
        "colab_type": "text"
      },
      "source": [
        "## 1-4.다양한 조건들은 elif\n",
        "조건이 다양해지면 elif를 사용\n",
        "<pre>\n",
        "사용법:\n",
        "if 조건문1:\n",
        "  실행문1\n",
        "elif 조건문2:\n",
        "  실행문2\n",
        "elif 조건문3:\n",
        "  실행문3\n",
        "else:\n",
        "  실행문4"
      ]
    },
    {
      "cell_type": "code",
      "metadata": {
        "id": "2uTtMLYAL3Es",
        "colab_type": "code",
        "colab": {}
      },
      "source": [
        "store = ['크림빵', '가위', '연필']"
      ],
      "execution_count": 0,
      "outputs": []
    },
    {
      "cell_type": "code",
      "metadata": {
        "id": "KMSQJ4FnMXHT",
        "colab_type": "code",
        "outputId": "a6dafb21-e010-4cd8-f9e1-52be73e7be6c",
        "colab": {
          "base_uri": "https://localhost:8080/",
          "height": 34
        }
      },
      "source": [
        "if '소보로' in store:\n",
        "  print('소보로 사라')\n",
        "elif '크림빵' in store:\n",
        "  print('크림빵 먹장')\n",
        "else:\n",
        "  print('먹지마')"
      ],
      "execution_count": 0,
      "outputs": [
        {
          "output_type": "stream",
          "text": [
            "크림빵 먹장\n"
          ],
          "name": "stdout"
        }
      ]
    },
    {
      "cell_type": "markdown",
      "metadata": {
        "id": "plbPN3J0NRdz",
        "colab_type": "text"
      },
      "source": [
        "### if문 한 줄로 작성하기"
      ]
    },
    {
      "cell_type": "code",
      "metadata": {
        "id": "0Sk4xj4jNmn9",
        "colab_type": "code",
        "colab": {}
      },
      "source": [
        "store = ['크림빵', '가위', '연필']"
      ],
      "execution_count": 0,
      "outputs": []
    },
    {
      "cell_type": "code",
      "metadata": {
        "id": "r4FfipLZN3Oq",
        "colab_type": "code",
        "outputId": "ada6b014-c067-46ff-c714-1dd8799285f5",
        "colab": {
          "base_uri": "https://localhost:8080/",
          "height": 34
        }
      },
      "source": [
        "if '크림빵' in store:\n",
        "  print('크림빵 산다')\n",
        "else:\n",
        "  print('안사.')"
      ],
      "execution_count": 0,
      "outputs": [
        {
          "output_type": "stream",
          "text": [
            "크림빵 산다\n"
          ],
          "name": "stdout"
        }
      ]
    },
    {
      "cell_type": "code",
      "metadata": {
        "id": "Hn2tVBobOGN2",
        "colab_type": "code",
        "outputId": "9a870dce-74ba-49c5-9100-576448d117cf",
        "colab": {
          "base_uri": "https://localhost:8080/",
          "height": 34
        }
      },
      "source": [
        "# 한 줄로 작성\n",
        "if '크림빵' in store: print('크림빵 산다')\n",
        "else:  print('안사.')"
      ],
      "execution_count": 0,
      "outputs": [
        {
          "output_type": "stream",
          "text": [
            "크림빵 산다\n"
          ],
          "name": "stdout"
        }
      ]
    },
    {
      "cell_type": "markdown",
      "metadata": {
        "id": "2Dmi2HJZOZrn",
        "colab_type": "text"
      },
      "source": [
        "## 1-6. 조건부 표현식\n",
        "<pre>\n",
        "*사용법:\n",
        "\n",
        "조건문이 참인 경우의 실행문 if 조건문 \n",
        "else 조건문이 거짓인 경우의 실행문 "
      ]
    },
    {
      "cell_type": "code",
      "metadata": {
        "id": "LmvtM3ebPL48",
        "colab_type": "code",
        "colab": {}
      },
      "source": [
        "score = 75"
      ],
      "execution_count": 0,
      "outputs": []
    },
    {
      "cell_type": "code",
      "metadata": {
        "id": "_swmBLW7O8iP",
        "colab_type": "code",
        "colab": {}
      },
      "source": [
        "if score >= 70:\n",
        "  my_score ='pass'\n",
        "  \n",
        "else:\n",
        "  my_score = 'fail'"
      ],
      "execution_count": 0,
      "outputs": []
    },
    {
      "cell_type": "code",
      "metadata": {
        "id": "tfhe-c2WPe8e",
        "colab_type": "code",
        "outputId": "aea99eee-ac1c-42fc-e895-11bf8a2641f1",
        "colab": {
          "base_uri": "https://localhost:8080/",
          "height": 34
        }
      },
      "source": [
        "print(score)"
      ],
      "execution_count": 0,
      "outputs": [
        {
          "output_type": "stream",
          "text": [
            "75\n"
          ],
          "name": "stdout"
        }
      ]
    },
    {
      "cell_type": "code",
      "metadata": {
        "id": "zno6_JplPw9n",
        "colab_type": "code",
        "colab": {}
      },
      "source": [
        "my_score = 'pass' if score <=70 else 'fail'"
      ],
      "execution_count": 0,
      "outputs": []
    },
    {
      "cell_type": "code",
      "metadata": {
        "id": "827g7P4OPhYI",
        "colab_type": "code",
        "outputId": "bd8abf57-dd34-4468-a071-525f945b45ba",
        "colab": {
          "base_uri": "https://localhost:8080/",
          "height": 34
        }
      },
      "source": [
        "my_score"
      ],
      "execution_count": 0,
      "outputs": [
        {
          "output_type": "execute_result",
          "data": {
            "text/plain": [
              "'fail'"
            ]
          },
          "metadata": {
            "tags": []
          },
          "execution_count": 35
        }
      ]
    },
    {
      "cell_type": "code",
      "metadata": {
        "id": "Ps4BkZycPsux",
        "colab_type": "code",
        "colab": {}
      },
      "source": [
        ""
      ],
      "execution_count": 0,
      "outputs": []
    }
  ]
}
