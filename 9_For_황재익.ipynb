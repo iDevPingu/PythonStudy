{
  "nbformat": 4,
  "nbformat_minor": 0,
  "metadata": {
    "colab": {
      "name": "9_For_황재익.ipynb",
      "version": "0.3.2",
      "provenance": [],
      "collapsed_sections": [],
      "include_colab_link": true
    },
    "kernelspec": {
      "name": "python3",
      "display_name": "Python 3"
    }
  },
  "cells": [
    {
      "cell_type": "markdown",
      "metadata": {
        "id": "view-in-github",
        "colab_type": "text"
      },
      "source": [
        "<a href=\"https://colab.research.google.com/github/jaicoco/PythonStudy/blob/master/9_For_%ED%99%A9%EC%9E%AC%EC%9D%B5.ipynb\" target=\"_parent\"><img src=\"https://colab.research.google.com/assets/colab-badge.svg\" alt=\"Open In Colab\"/></a>"
      ]
    },
    {
      "cell_type": "markdown",
      "metadata": {
        "id": "RVUAe47mm5Ln",
        "colab_type": "text"
      },
      "source": [
        "# for문\n",
        "횟수 혹은 값의 수 만큼 반복하는 제어문"
      ]
    },
    {
      "cell_type": "markdown",
      "metadata": {
        "id": "vNiapM5FoWWs",
        "colab_type": "text"
      },
      "source": [
        "## for문의 기본 구조\n",
        "<pre>\n",
        "* 형식:\n",
        "  for 변수 in 리스트(또는 튜플, 문자열):\n",
        "    수행할 문장1\n",
        "    수행할 문장2\n",
        "    ..."
      ]
    },
    {
      "cell_type": "markdown",
      "metadata": {
        "id": "kN2sF1PlqCgD",
        "colab_type": "text"
      },
      "source": [
        "## for문 사용하기"
      ]
    },
    {
      "cell_type": "code",
      "metadata": {
        "id": "PfbEAD_lpZzr",
        "colab_type": "code",
        "outputId": "310fea62-5b03-4e9c-cb71-49a86f0ad23c",
        "colab": {
          "base_uri": "https://localhost:8080/",
          "height": 70
        }
      },
      "source": [
        "list1 = ['a','b','c']\n",
        "\n",
        "for i in list1:\n",
        "  print(i)"
      ],
      "execution_count": 0,
      "outputs": [
        {
          "output_type": "stream",
          "text": [
            "a\n",
            "b\n",
            "c\n"
          ],
          "name": "stdout"
        }
      ]
    },
    {
      "cell_type": "code",
      "metadata": {
        "id": "evUC7xvP1TJ3",
        "colab_type": "code",
        "outputId": "551e9b8c-c46a-4386-c1c1-f9f11da7bb6e",
        "colab": {
          "base_uri": "https://localhost:8080/",
          "height": 70
        }
      },
      "source": [
        "a = [(2,4),(6,8),(9,10)]\n",
        "for (i,j) in a:\n",
        "  print(i,j)"
      ],
      "execution_count": 0,
      "outputs": [
        {
          "output_type": "stream",
          "text": [
            "2 4\n",
            "6 8\n",
            "9 10\n"
          ],
          "name": "stdout"
        }
      ]
    },
    {
      "cell_type": "code",
      "metadata": {
        "id": "wqOOHgmtp--o",
        "colab_type": "code",
        "outputId": "bfe80acd-2e5c-45ce-feca-a3a4cb8fa3eb",
        "colab": {
          "base_uri": "https://localhost:8080/",
          "height": 70
        }
      },
      "source": [
        "a = [(2,4),(6,8),(9,10)]\n",
        "for i in range(len(a)):\n",
        "  print(i)"
      ],
      "execution_count": 0,
      "outputs": [
        {
          "output_type": "stream",
          "text": [
            "0\n",
            "1\n",
            "2\n"
          ],
          "name": "stdout"
        }
      ]
    },
    {
      "cell_type": "code",
      "metadata": {
        "id": "eoKVdGsFq8jR",
        "colab_type": "code",
        "outputId": "f3c416bf-5b87-402f-bde9-2e9c5095f360",
        "colab": {
          "base_uri": "https://localhost:8080/",
          "height": 105
        }
      },
      "source": [
        "# 합/불합격 통보 프로그램\n",
        "scores = [80, 70, 75, 85, 55]\n",
        "\n",
        "num = 0\n",
        "for i in scores:\n",
        "  if i >= 60:\n",
        "    print('{}번학생 {}점으로 합격입니다!'.format(num,scores[num]))\n",
        "    \n",
        "  else:\n",
        "    print('{}번학생 {}점으로 불합격입니다!'.format(num,scores[num]))\n",
        "  num+= 1\n",
        "    "
      ],
      "execution_count": 0,
      "outputs": [
        {
          "output_type": "stream",
          "text": [
            "0번학생 80점으로 합격입니다!\n",
            "1번학생 70점으로 합격입니다!\n",
            "2번학생 75점으로 합격입니다!\n",
            "3번학생 85점으로 합격입니다!\n",
            "4번학생 55점으로 불합격입니다!\n"
          ],
          "name": "stdout"
        }
      ]
    },
    {
      "cell_type": "markdown",
      "metadata": {
        "id": "j1Q_l9kiWvpw",
        "colab_type": "text"
      },
      "source": [
        "### enumerate()\n",
        "순서가 있는 자료형(리스트, 튜플, 문자열)을 받아 인덱스(순번)과 값을 돌려줌.\n",
        "\n",
        "for 문과 자주 사용됨."
      ]
    },
    {
      "cell_type": "code",
      "metadata": {
        "id": "XBqRQcvzX3xc",
        "colab_type": "code",
        "outputId": "32d7894a-9a04-4492-c173-5c7279d3ec10",
        "colab": {
          "base_uri": "https://localhost:8080/",
          "height": 105
        }
      },
      "source": [
        "for i in enumerate(scores):\n",
        "  print(i )\n",
        "  \n"
      ],
      "execution_count": 0,
      "outputs": [
        {
          "output_type": "stream",
          "text": [
            "(0, 80)\n",
            "(1, 70)\n",
            "(2, 75)\n",
            "(3, 85)\n",
            "(4, 55)\n"
          ],
          "name": "stdout"
        }
      ]
    },
    {
      "cell_type": "code",
      "metadata": {
        "id": "nsj0PF8tYrIb",
        "colab_type": "code",
        "outputId": "079cdfb5-ad18-4329-d1ec-b64614fd5847",
        "colab": {
          "base_uri": "https://localhost:8080/",
          "height": 140
        }
      },
      "source": [
        "# 합/불합격 통보 프로그램\n",
        "scores = [80,70,75,85,55]\n",
        "for i,j in enumerate(scores):\n",
        "  if j>=60:\n",
        "    print(\"{}번학생 {}점으로 합격입니다\".format(i,j))\n",
        "  else:\n",
        "    print(\"{}번학생 {}점으로 불합격입니다.\".format(i,j))\n",
        "    \n",
        "\n",
        "a  = (enumerate(scores))\n",
        "print(a)\n",
        "d = list(a)\n",
        "d"
      ],
      "execution_count": 0,
      "outputs": [
        {
          "output_type": "stream",
          "text": [
            "0번학생 80점으로 합격입니다\n",
            "1번학생 70점으로 합격입니다\n",
            "2번학생 75점으로 합격입니다\n",
            "3번학생 85점으로 합격입니다\n",
            "4번학생 55점으로 불합격입니다.\n",
            "<enumerate object at 0x7fa4a3cf73f0>\n"
          ],
          "name": "stdout"
        },
        {
          "output_type": "execute_result",
          "data": {
            "text/plain": [
              "[(0, 80), (1, 70), (2, 75), (3, 85), (4, 55)]"
            ]
          },
          "metadata": {
            "tags": []
          },
          "execution_count": 48
        }
      ]
    },
    {
      "cell_type": "markdown",
      "metadata": {
        "id": "qlCy8bnGsxDY",
        "colab_type": "text"
      },
      "source": [
        "## continue\n",
        "for 문에 continue 이용"
      ]
    },
    {
      "cell_type": "code",
      "metadata": {
        "id": "OvMLLJ7TQnb_",
        "colab_type": "code",
        "outputId": "60e557e4-2a51-4270-90bd-d6cfdb6d066e",
        "colab": {
          "base_uri": "https://localhost:8080/",
          "height": 70
        }
      },
      "source": [
        "# 합격 통보기\n",
        "scores = [80, 70, 75, 45, 55]\n",
        "for i,j in enumerate(scores):\n",
        "  if j >= 60:\n",
        "    print(\"{}번 학생 {}점으로 합격입니다\".format(i,j))\n",
        "  else:\n",
        "    continue"
      ],
      "execution_count": 0,
      "outputs": [
        {
          "output_type": "stream",
          "text": [
            "0번 학생 80점으로 합격입니다\n",
            "1번 학생 70점으로 합격입니다\n",
            "2번 학생 75점으로 합격입니다\n"
          ],
          "name": "stdout"
        }
      ]
    },
    {
      "cell_type": "markdown",
      "metadata": {
        "id": "ZTQeU-g1RATG",
        "colab_type": "text"
      },
      "source": [
        "## range()\n",
        "for 문에 range()이용"
      ]
    },
    {
      "cell_type": "code",
      "metadata": {
        "id": "XPfPeYPST3cK",
        "colab_type": "code",
        "outputId": "6036fcec-2472-4869-f006-3ab7e0dfc322",
        "colab": {
          "base_uri": "https://localhost:8080/",
          "height": 34
        }
      },
      "source": [
        "list1 = list(range(1,11))\n",
        "print(list1)"
      ],
      "execution_count": 0,
      "outputs": [
        {
          "output_type": "stream",
          "text": [
            "[1, 2, 3, 4, 5, 6, 7, 8, 9, 10]\n"
          ],
          "name": "stdout"
        }
      ]
    },
    {
      "cell_type": "code",
      "metadata": {
        "id": "n5Ifer8JRQ8I",
        "colab_type": "code",
        "outputId": "29c1ab1f-9230-467f-c302-a17e4c1022eb",
        "colab": {
          "base_uri": "https://localhost:8080/",
          "height": 34
        }
      },
      "source": [
        "# 1부터 10까지 더하기\n",
        "sum = 0\n",
        "for i in range(1,11):\n",
        "  sum += i\n",
        "  \n",
        "print(sum)"
      ],
      "execution_count": 0,
      "outputs": [
        {
          "output_type": "stream",
          "text": [
            "55\n"
          ],
          "name": "stdout"
        }
      ]
    },
    {
      "cell_type": "code",
      "metadata": {
        "id": "Ho6J709ARwSw",
        "colab_type": "code",
        "outputId": "840a3ed4-99d8-441d-bf8e-7f42c3979f27",
        "colab": {
          "base_uri": "https://localhost:8080/",
          "height": 70
        }
      },
      "source": [
        "# 합격 통보기\n",
        "scores = [90, 25, 67, 45, 80]\n",
        "for i in range(len(scores)):\n",
        "  if scores[i] >=60:\n",
        "    print('{}번학생 {}점으로 합격입니다'.format(i,scores[i]))"
      ],
      "execution_count": 0,
      "outputs": [
        {
          "output_type": "stream",
          "text": [
            "0번학생 90점으로 합격입니다\n",
            "2번학생 67점으로 합격입니다\n",
            "4번학생 80점으로 합격입니다\n"
          ],
          "name": "stdout"
        }
      ]
    },
    {
      "cell_type": "markdown",
      "metadata": {
        "id": "vTCD7HkbSblh",
        "colab_type": "text"
      },
      "source": [
        "## 구구단\n",
        "for문을 중첩하여 구구단 만들기"
      ]
    },
    {
      "cell_type": "code",
      "metadata": {
        "id": "AiUD_TGGShRH",
        "colab_type": "code",
        "colab": {}
      },
      "source": [
        "for i in range(2,10):\n",
        "  for j in range(1,10):\n",
        "    print(\"{}*{}={}\".format(i,j,i*j))"
      ],
      "execution_count": 0,
      "outputs": []
    },
    {
      "cell_type": "markdown",
      "metadata": {
        "id": "OBY1jud8Svi8",
        "colab_type": "text"
      },
      "source": [
        "## 리스트 내포(List Comprehension)\n",
        "편리 & 직관적\n",
        "<pre>\n",
        "* 사용법\n",
        "리스트 = [(표현식) for i in (리스트) if (조건문)]"
      ]
    },
    {
      "cell_type": "code",
      "metadata": {
        "id": "ZFNO0_ILU5RS",
        "colab_type": "code",
        "outputId": "c2dfe57b-0d86-4a47-84be-88723f894642",
        "colab": {
          "base_uri": "https://localhost:8080/",
          "height": 34
        }
      },
      "source": [
        "# 3곱하여 담기\n",
        "a = [1,2,3,4]\n",
        "r = []\n",
        "for i in a:\n",
        "  r.append(i*3)\n",
        "print(r)"
      ],
      "execution_count": 0,
      "outputs": [
        {
          "output_type": "stream",
          "text": [
            "[3, 6, 9, 12]\n"
          ],
          "name": "stdout"
        }
      ]
    },
    {
      "cell_type": "code",
      "metadata": {
        "id": "jNeylNngVaUy",
        "colab_type": "code",
        "outputId": "ec83c307-322b-4332-9f94-d5bc569df519",
        "colab": {
          "base_uri": "https://localhost:8080/",
          "height": 34
        }
      },
      "source": [
        "# 리스트 내포 사용\n",
        "a = [1,2,3,4]\n",
        "r = [i*3 \n",
        "     for i in a]\n",
        "print(r)"
      ],
      "execution_count": 0,
      "outputs": [
        {
          "output_type": "stream",
          "text": [
            "[3, 6, 9, 12]\n"
          ],
          "name": "stdout"
        }
      ]
    },
    {
      "cell_type": "code",
      "metadata": {
        "id": "OyI7mlAnVsYo",
        "colab_type": "code",
        "outputId": "3fc8408d-f79f-4b5f-895d-e3fe48a586c0",
        "colab": {
          "base_uri": "https://localhost:8080/",
          "height": 52
        }
      },
      "source": [
        "# 짝수에만 3 곱하여 담기\n",
        "a = [1,2,3,4]\n",
        "r = [i*3 for i in a if i %2==0]\n",
        "print(r)\n",
        "\n",
        "a = [i*3 if i % 2 == 0 else i for i in a]\n",
        "print(a)"
      ],
      "execution_count": 0,
      "outputs": [
        {
          "output_type": "stream",
          "text": [
            "[6, 12]\n",
            "[1, 6, 3, 12]\n"
          ],
          "name": "stdout"
        }
      ]
    },
    {
      "cell_type": "code",
      "metadata": {
        "id": "9tdW0DFvz6yL",
        "colab_type": "code",
        "outputId": "d45d2989-8bd6-461e-d010-1a20d386ca0a",
        "colab": {
          "base_uri": "https://localhost:8080/",
          "height": 34
        }
      },
      "source": [
        "a = [1,2,3,4]\n",
        "a = [i*3 \n",
        "     if i % 2 == 0 \n",
        "     else i \n",
        "     for i in a]\n",
        "print(a)"
      ],
      "execution_count": 0,
      "outputs": [
        {
          "output_type": "stream",
          "text": [
            "[1, 6, 3, 12]\n"
          ],
          "name": "stdout"
        }
      ]
    },
    {
      "cell_type": "code",
      "metadata": {
        "id": "nanMjHxbWT84",
        "colab_type": "code",
        "colab": {}
      },
      "source": [
        "# 구구단\n"
      ],
      "execution_count": 0,
      "outputs": []
    },
    {
      "cell_type": "markdown",
      "metadata": {
        "id": "U5-FhAKogeXL",
        "colab_type": "text"
      },
      "source": [
        "## 튜플 for 문"
      ]
    },
    {
      "cell_type": "code",
      "metadata": {
        "id": "kyIqwTaZglF9",
        "colab_type": "code",
        "outputId": "cea1f28e-0407-4942-bde6-810464b692b3",
        "colab": {
          "base_uri": "https://localhost:8080/",
          "height": 105
        }
      },
      "source": [
        "a = (1,2,3,4)\n",
        "for i in a:\n",
        "  print(i)\n",
        "  \n",
        "r = []\n",
        "#append사용해보기\n",
        "for i in a:\n",
        "  r.append(i)\n",
        "  \n",
        "print(r)"
      ],
      "execution_count": 0,
      "outputs": [
        {
          "output_type": "stream",
          "text": [
            "1\n",
            "2\n",
            "3\n",
            "4\n",
            "[1, 2, 3, 4]\n"
          ],
          "name": "stdout"
        }
      ]
    },
    {
      "cell_type": "markdown",
      "metadata": {
        "id": "Al2LZ1TMg381",
        "colab_type": "text"
      },
      "source": [
        "## 딕셔너리 for 문"
      ]
    },
    {
      "cell_type": "code",
      "metadata": {
        "id": "yDgSSyIxg8Oa",
        "colab_type": "code",
        "outputId": "e7999016-ffd4-4814-e99d-a2eed2c0870e",
        "colab": {
          "base_uri": "https://localhost:8080/",
          "height": 87
        }
      },
      "source": [
        "a = {'a':1, 'b':2, 'c':3, 'd':4}\n",
        "for i in a.keys():\n",
        "  print(i*3)"
      ],
      "execution_count": 0,
      "outputs": [
        {
          "output_type": "stream",
          "text": [
            "aaa\n",
            "bbb\n",
            "ccc\n",
            "ddd\n"
          ],
          "name": "stdout"
        }
      ]
    },
    {
      "cell_type": "code",
      "metadata": {
        "id": "Rbr_BPKShZdP",
        "colab_type": "code",
        "outputId": "8f29e1b3-a61e-4068-a1eb-c7fe27c9fb79",
        "colab": {
          "base_uri": "https://localhost:8080/",
          "height": 87
        }
      },
      "source": [
        "for i in a.values():\n",
        "  print(i*3)"
      ],
      "execution_count": 0,
      "outputs": [
        {
          "output_type": "stream",
          "text": [
            "3\n",
            "6\n",
            "9\n",
            "12\n"
          ],
          "name": "stdout"
        }
      ]
    },
    {
      "cell_type": "code",
      "metadata": {
        "id": "u4EEJrjXheFl",
        "colab_type": "code",
        "outputId": "dd85fba8-1491-4af0-db29-00743a0376dd",
        "colab": {
          "base_uri": "https://localhost:8080/",
          "height": 87
        }
      },
      "source": [
        "for i in a.items():\n",
        "  print(i*3)"
      ],
      "execution_count": 0,
      "outputs": [
        {
          "output_type": "stream",
          "text": [
            "('a', 1, 'a', 1, 'a', 1)\n",
            "('b', 2, 'b', 2, 'b', 2)\n",
            "('c', 3, 'c', 3, 'c', 3)\n",
            "('d', 4, 'd', 4, 'd', 4)\n"
          ],
          "name": "stdout"
        }
      ]
    },
    {
      "cell_type": "code",
      "metadata": {
        "id": "y4sTYY42k13a",
        "colab_type": "code",
        "colab": {}
      },
      "source": [
        ""
      ],
      "execution_count": 0,
      "outputs": []
    }
  ]
}