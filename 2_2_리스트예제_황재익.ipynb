{
  "nbformat": 4,
  "nbformat_minor": 0,
  "metadata": {
    "colab": {
      "name": "2_2_리스트예제_황재익.ipynb",
      "version": "0.3.2",
      "provenance": [],
      "collapsed_sections": [],
      "include_colab_link": true
    },
    "kernelspec": {
      "name": "python3",
      "display_name": "Python 3"
    }
  },
  "cells": [
    {
      "cell_type": "markdown",
      "metadata": {
        "id": "view-in-github",
        "colab_type": "text"
      },
      "source": [
        "<a href=\"https://colab.research.google.com/github/jaicoco/PythonStudy/blob/master/2_2_%EB%A6%AC%EC%8A%A4%ED%8A%B8%EC%98%88%EC%A0%9C_%ED%99%A9%EC%9E%AC%EC%9D%B5.ipynb\" target=\"_parent\"><img src=\"https://colab.research.google.com/assets/colab-badge.svg\" alt=\"Open In Colab\"/></a>"
      ]
    },
    {
      "cell_type": "markdown",
      "metadata": {
        "id": "D2U7_i9UBMa-",
        "colab_type": "text"
      },
      "source": [
        "### Q001. 빈 리스트인 list0을 만들어보자.\n",
        "### 출력까지 해보자."
      ]
    },
    {
      "cell_type": "code",
      "metadata": {
        "id": "AjeXBQWyBM-U",
        "colab_type": "code",
        "outputId": "320b7749-9cf9-47e3-8dad-369c86fced1a",
        "colab": {
          "base_uri": "https://localhost:8080/",
          "height": 34
        }
      },
      "source": [
        "list0=[]\n",
        "print(list0)"
      ],
      "execution_count": 0,
      "outputs": [
        {
          "output_type": "stream",
          "text": [
            "[]\n"
          ],
          "name": "stdout"
        }
      ]
    },
    {
      "cell_type": "markdown",
      "metadata": {
        "id": "ri0GazzCBWMe",
        "colab_type": "text"
      },
      "source": [
        "### Q002.'희준', '강타' 를 넣어 HOT라는 리스트를 만들어보자.\n",
        "### 출력까지 해보자."
      ]
    },
    {
      "cell_type": "code",
      "metadata": {
        "id": "lvsQrLtiBWoM",
        "colab_type": "code",
        "outputId": "0f2b230c-22a1-400a-f2ef-6bd9240fdf07",
        "colab": {
          "base_uri": "https://localhost:8080/",
          "height": 34
        }
      },
      "source": [
        "HOT = ['희준','강타']\n",
        "print(HOT)"
      ],
      "execution_count": 0,
      "outputs": [
        {
          "output_type": "stream",
          "text": [
            "['희준', '강타']\n"
          ],
          "name": "stdout"
        }
      ]
    },
    {
      "cell_type": "markdown",
      "metadata": {
        "id": "swTN2AkHDjSE",
        "colab_type": "text"
      },
      "source": [
        "### Q003. 1,2,3 이라는 값을 갖는 numbers 라는 리스트를 만들자.\n",
        "### 인덱스를 이용하여 값들을 각각 출력해보자.\n",
        "<pre>\n",
        "출력:\n",
        "1\n",
        "2\n",
        "3"
      ]
    },
    {
      "cell_type": "code",
      "metadata": {
        "id": "JsJRJ-rxEEZ1",
        "colab_type": "code",
        "outputId": "02c5ef1d-0200-4097-ce87-91b3a340fa24",
        "colab": {
          "base_uri": "https://localhost:8080/",
          "height": 70
        }
      },
      "source": [
        "numbers = [1,2,3]\n",
        "print(numbers[0])\n",
        "print(numbers[1])\n",
        "print(numbers[2])"
      ],
      "execution_count": 0,
      "outputs": [
        {
          "output_type": "stream",
          "text": [
            "1\n",
            "2\n",
            "3\n"
          ],
          "name": "stdout"
        }
      ]
    },
    {
      "cell_type": "markdown",
      "metadata": {
        "id": "ByAo7r96EEs0",
        "colab_type": "text"
      },
      "source": [
        "### Q004. 앞에서 만든 numbers 리스트에서 마이너스(-)인덱스를 이용해서 값 3을 출력해보자."
      ]
    },
    {
      "cell_type": "code",
      "metadata": {
        "id": "sgA5hvqfEUdU",
        "colab_type": "code",
        "outputId": "10545aeb-f58f-4ad3-eb81-23c80a941945",
        "colab": {
          "base_uri": "https://localhost:8080/",
          "height": 34
        }
      },
      "source": [
        "print(numbers[-1])"
      ],
      "execution_count": 0,
      "outputs": [
        {
          "output_type": "stream",
          "text": [
            "3\n"
          ],
          "name": "stdout"
        }
      ]
    },
    {
      "cell_type": "markdown",
      "metadata": {
        "id": "qNPVUfRgEV7-",
        "colab_type": "text"
      },
      "source": [
        "### Q005. 아래 리스트에서 인덱스를 이용해서 '여름', '겨울'을 각각 출력해 보세요."
      ]
    },
    {
      "cell_type": "code",
      "metadata": {
        "id": "7-_ivhXebqt1",
        "colab_type": "code",
        "outputId": "c29cfc7f-f989-417d-b4c8-7d91c5bb40c0",
        "colab": {
          "base_uri": "https://localhost:8080/",
          "height": 52
        }
      },
      "source": [
        "z = ['q', 1, ['여름', '겨울']]\n",
        "print(z[2][0])\n",
        "print(z[2][1])"
      ],
      "execution_count": 0,
      "outputs": [
        {
          "output_type": "stream",
          "text": [
            "여름\n",
            "겨울\n"
          ],
          "name": "stdout"
        }
      ]
    },
    {
      "cell_type": "markdown",
      "metadata": {
        "id": "tJEz4EQ_cMdm",
        "colab_type": "text"
      },
      "source": [
        "### Q006. 아래 리스트에서 2,3,4까지 슬라이스해서 출력해보세요."
      ]
    },
    {
      "cell_type": "code",
      "metadata": {
        "id": "6Rgnw1AUdyrw",
        "colab_type": "code",
        "outputId": "1c0fd050-bea6-44cb-d86f-560afc07d8a9",
        "colab": {
          "base_uri": "https://localhost:8080/",
          "height": 34
        }
      },
      "source": [
        "a = [1,2,3,4,5]\n",
        "print(a[1:4])"
      ],
      "execution_count": 0,
      "outputs": [
        {
          "output_type": "stream",
          "text": [
            "[2, 3, 4]\n"
          ],
          "name": "stdout"
        }
      ]
    },
    {
      "cell_type": "markdown",
      "metadata": {
        "id": "41bvfpKYfio-",
        "colab_type": "text"
      },
      "source": [
        "### Q007. 아래 리스트에서 홀수만 슬라이스 해서 출력해보세요."
      ]
    },
    {
      "cell_type": "code",
      "metadata": {
        "id": "lot_9IW2fxvy",
        "colab_type": "code",
        "outputId": "b555c6c6-2289-4b60-8040-c26ac6f45d21",
        "colab": {
          "base_uri": "https://localhost:8080/",
          "height": 34
        }
      },
      "source": [
        "w = [1,2,3,4,5,6,7,8,9]\n",
        "print(w[::2])"
      ],
      "execution_count": 0,
      "outputs": [
        {
          "output_type": "stream",
          "text": [
            "[1, 3, 5, 7, 9]\n"
          ],
          "name": "stdout"
        }
      ]
    },
    {
      "cell_type": "code",
      "metadata": {
        "id": "baZrdw-hjf0n",
        "colab_type": "code",
        "outputId": "16c35599-9bd2-40c2-9efd-763ac582b255",
        "colab": {
          "base_uri": "https://localhost:8080/",
          "height": 87
        }
      },
      "source": [
        "w = [1,2,3,4,5,6,7,8,9]\n",
        "print(w[1:-2:2])\n",
        "print(w[1:-2])\n",
        "print(w[1:-1])\n",
        "print(w[:])"
      ],
      "execution_count": 0,
      "outputs": [
        {
          "output_type": "stream",
          "text": [
            "[2, 4, 6]\n",
            "[2, 3, 4, 5, 6, 7]\n",
            "[2, 3, 4, 5, 6, 7, 8]\n",
            "[1, 2, 3, 4, 5, 6, 7, 8, 9]\n"
          ],
          "name": "stdout"
        }
      ]
    },
    {
      "cell_type": "markdown",
      "metadata": {
        "id": "11xSbAfof-ye",
        "colab_type": "text"
      },
      "source": [
        "### Q008. 아래 리스트에서 짝수만 슬라이스 해서 출력해보세요."
      ]
    },
    {
      "cell_type": "code",
      "metadata": {
        "id": "CnHZPsLigbFn",
        "colab_type": "code",
        "outputId": "7a144f7b-9db7-41bc-8df3-47b5f33f1659",
        "colab": {
          "base_uri": "https://localhost:8080/",
          "height": 34
        }
      },
      "source": [
        "w = [1,2,3,4,5,6,7,8,9]\n",
        "print(w[1::2])"
      ],
      "execution_count": 0,
      "outputs": [
        {
          "output_type": "stream",
          "text": [
            "[2, 4, 6, 8]\n"
          ],
          "name": "stdout"
        }
      ]
    },
    {
      "cell_type": "markdown",
      "metadata": {
        "id": "n_t0w8hZggEv",
        "colab_type": "text"
      },
      "source": [
        "### Q009. 리스트 z와 리스트 q를 더해서 새로운 리스트 w를 만들어보세요.\n",
        "### 출력도 해보세요."
      ]
    },
    {
      "cell_type": "code",
      "metadata": {
        "id": "JAnMoWPQsiJv",
        "colab_type": "code",
        "outputId": "e8be9048-c6fc-400e-c5bd-bb0c573c64c1",
        "colab": {
          "base_uri": "https://localhost:8080/",
          "height": 34
        }
      },
      "source": [
        "z = [1, 2]\n",
        "q = [3, 4]\n",
        "w = z+q\n",
        "print(w)\n"
      ],
      "execution_count": 0,
      "outputs": [
        {
          "output_type": "stream",
          "text": [
            "[1, 2, 3, 4]\n"
          ],
          "name": "stdout"
        }
      ]
    },
    {
      "cell_type": "markdown",
      "metadata": {
        "id": "_ptJyWVVtc_Y",
        "colab_type": "text"
      },
      "source": [
        "### Q010. 리스트 z에 3을 곱하여 반복한 z2를 만들어보세요.\n",
        "### z2를 출력해보세요."
      ]
    },
    {
      "cell_type": "code",
      "metadata": {
        "id": "rPdWJ-3cvX04",
        "colab_type": "code",
        "outputId": "57faf089-2a4f-4f0d-fd2a-ed64b366d366",
        "colab": {
          "base_uri": "https://localhost:8080/",
          "height": 34
        }
      },
      "source": [
        "z = ['x', 'y']\n",
        "z2 = z*3\n",
        "print(z2)\n"
      ],
      "execution_count": 0,
      "outputs": [
        {
          "output_type": "stream",
          "text": [
            "['x', 'y', 'x', 'y', 'x', 'y']\n"
          ],
          "name": "stdout"
        }
      ]
    },
    {
      "cell_type": "markdown",
      "metadata": {
        "id": "R_EZA2dUvYzw",
        "colab_type": "text"
      },
      "source": [
        "### Q011. 아래 리스트 z의 길이를 구하세요."
      ]
    },
    {
      "cell_type": "code",
      "metadata": {
        "id": "MbmBsZwlwR54",
        "colab_type": "code",
        "outputId": "3ffade4f-ac29-4765-dfe6-d05ee606a37a",
        "colab": {
          "base_uri": "https://localhost:8080/",
          "height": 34
        }
      },
      "source": [
        "z = [1,2,3,1,2,3,1,2,3,1,2,3,1,2,3,1,2,3,1,23]\n",
        "print(len(z))\n",
        "\n"
      ],
      "execution_count": 0,
      "outputs": [
        {
          "output_type": "stream",
          "text": [
            "20\n"
          ],
          "name": "stdout"
        }
      ]
    },
    {
      "cell_type": "markdown",
      "metadata": {
        "id": "GxyXd405w1DD",
        "colab_type": "text"
      },
      "source": [
        "### Q012.리스트 colors가 아래와 같이 주어질 때, 'yellow'를 추가하세요."
      ]
    },
    {
      "cell_type": "code",
      "metadata": {
        "id": "c7ywuRU9x_vD",
        "colab_type": "code",
        "outputId": "69916369-38ee-4ddc-9a28-1848ddc3f57e",
        "colab": {
          "base_uri": "https://localhost:8080/",
          "height": 34
        }
      },
      "source": [
        "colors = ['red', 'blue', 'green']\n",
        "colors.append('yellow')\n",
        "print(colors)"
      ],
      "execution_count": 0,
      "outputs": [
        {
          "output_type": "stream",
          "text": [
            "['red', 'blue', 'green', 'yellow']\n"
          ],
          "name": "stdout"
        }
      ]
    },
    {
      "cell_type": "markdown",
      "metadata": {
        "id": "zwUEWDvCyQbJ",
        "colab_type": "text"
      },
      "source": [
        "### Q013. 리스트 colors가 아래와 같이 주어질 때, colors2에 있는 여러 값들을 colors에 추가하세요."
      ]
    },
    {
      "cell_type": "code",
      "metadata": {
        "id": "ECixB5mIym_A",
        "colab_type": "code",
        "outputId": "36cd7626-8d8a-4595-c452-edb63e9e5e48",
        "colab": {
          "base_uri": "https://localhost:8080/",
          "height": 34
        }
      },
      "source": [
        "colors = ['red', 'blue', 'green', 'yellow']\n",
        "colors2 = ['black', 'gray']\n",
        "colors.extend(colors2)\n",
        "print(colors)"
      ],
      "execution_count": 0,
      "outputs": [
        {
          "output_type": "stream",
          "text": [
            "['red', 'blue', 'green', 'yellow', 'black', 'gray']\n"
          ],
          "name": "stdout"
        }
      ]
    },
    {
      "cell_type": "markdown",
      "metadata": {
        "id": "f2VJoiNuy34w",
        "colab_type": "text"
      },
      "source": [
        "### Q014. 리스트 a가 아래와 같을 때, 3번째 인덱스(순번)에 10을 넣으세요."
      ]
    },
    {
      "cell_type": "code",
      "metadata": {
        "id": "Bey3MxrYzK8W",
        "colab_type": "code",
        "outputId": "603586bc-5362-4860-a329-c7d9cbc3da37",
        "colab": {
          "base_uri": "https://localhost:8080/",
          "height": 34
        }
      },
      "source": [
        "a = [1, 3, 4, 9, 8, 2]\n",
        "a.insert(3,10)\n",
        "print(a)"
      ],
      "execution_count": 0,
      "outputs": [
        {
          "output_type": "stream",
          "text": [
            "[1, 3, 4, 10, 9, 8, 2]\n"
          ],
          "name": "stdout"
        }
      ]
    },
    {
      "cell_type": "markdown",
      "metadata": {
        "id": "MX0Uggc0zTCR",
        "colab_type": "text"
      },
      "source": [
        "### Q015. 리스트 q가 아래와 같을 때, '철수' 를 제거하세요."
      ]
    },
    {
      "cell_type": "code",
      "metadata": {
        "id": "rUVQkqfKzeRO",
        "colab_type": "code",
        "colab": {}
      },
      "source": [
        "q = ['민희', '민지', '병호', '철수', '훈희']\n",
        "q.remove('철수')"
      ],
      "execution_count": 0,
      "outputs": []
    },
    {
      "cell_type": "markdown",
      "metadata": {
        "id": "epS4BGnWzk7E",
        "colab_type": "text"
      },
      "source": [
        "### Q016. 리스트 a가 아래와 같을 때, 값 1을 10으로 바꾸세요."
      ]
    },
    {
      "cell_type": "code",
      "metadata": {
        "id": "B0nLLdDiz17G",
        "colab_type": "code",
        "outputId": "7d50070d-1953-443e-df57-1e0947f4222b",
        "colab": {
          "base_uri": "https://localhost:8080/",
          "height": 34
        }
      },
      "source": [
        "a = [2,3,1,7,9]\n",
        "a[2]=10\n",
        "print(a)"
      ],
      "execution_count": 0,
      "outputs": [
        {
          "output_type": "stream",
          "text": [
            "[2, 3, 10, 7, 9]\n"
          ],
          "name": "stdout"
        }
      ]
    },
    {
      "cell_type": "markdown",
      "metadata": {
        "id": "vOKuvpwF0AxI",
        "colab_type": "text"
      },
      "source": [
        "### Q017. 리스트 list1 이 아래와 같을 때, 'fox'의 인덱스(순번)을 찾으세요."
      ]
    },
    {
      "cell_type": "code",
      "metadata": {
        "id": "Qn9Q-r2Q1VjO",
        "colab_type": "code",
        "outputId": "ab5992c5-c742-4c64-84b6-71560ca3b584",
        "colab": {
          "base_uri": "https://localhost:8080/",
          "height": 34
        }
      },
      "source": [
        "list1 = ['lion', 'tiger', 'dog', 'cat', 'fox', 'turtle']\n",
        "list1.index('fox')"
      ],
      "execution_count": 0,
      "outputs": [
        {
          "output_type": "execute_result",
          "data": {
            "text/plain": [
              "4"
            ]
          },
          "metadata": {
            "tags": []
          },
          "execution_count": 22
        }
      ]
    },
    {
      "cell_type": "markdown",
      "metadata": {
        "id": "K5RsWbtJ1ecy",
        "colab_type": "text"
      },
      "source": [
        "### Q018. 리스트 list2가 아래와 같을 때 7의 갯수를 출력하세요."
      ]
    },
    {
      "cell_type": "code",
      "metadata": {
        "id": "0A0NXPteil55",
        "colab_type": "code",
        "outputId": "6dc8c2e1-eecc-4b28-97ed-8af8994a5db2",
        "colab": {
          "base_uri": "https://localhost:8080/",
          "height": 34
        }
      },
      "source": [
        "list2 = [7,7,7,7,7,8,8,8,88,6,5,5,4,4,3,2,2,25,6,6,7,77,7,8,8,88,5,5,5,8,888,77,7]\n",
        "list2.count(7)"
      ],
      "execution_count": 0,
      "outputs": [
        {
          "output_type": "execute_result",
          "data": {
            "text/plain": [
              "8"
            ]
          },
          "metadata": {
            "tags": []
          },
          "execution_count": 36
        }
      ]
    },
    {
      "cell_type": "code",
      "metadata": {
        "id": "5kTL9m2PkgTZ",
        "colab_type": "code",
        "colab": {}
      },
      "source": [
        ""
      ],
      "execution_count": 0,
      "outputs": []
    }
  ]
}