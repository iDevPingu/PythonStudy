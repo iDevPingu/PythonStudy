{
  "nbformat": 4,
  "nbformat_minor": 0,
  "metadata": {
    "colab": {
      "name": "3_튜플_황재익.ipynb",
      "version": "0.3.2",
      "provenance": [],
      "collapsed_sections": [],
      "include_colab_link": true
    },
    "kernelspec": {
      "name": "python3",
      "display_name": "Python 3"
    }
  },
  "cells": [
    {
      "cell_type": "markdown",
      "metadata": {
        "id": "view-in-github",
        "colab_type": "text"
      },
      "source": [
        "<a href=\"https://colab.research.google.com/github/jaicoco/PythonStudy/blob/master/3_%ED%8A%9C%ED%94%8C_%ED%99%A9%EC%9E%AC%EC%9D%B5.ipynb\" target=\"_parent\"><img src=\"https://colab.research.google.com/assets/colab-badge.svg\" alt=\"Open In Colab\"/></a>"
      ]
    },
    {
      "cell_type": "markdown",
      "metadata": {
        "id": "fQQVwV_wbSum",
        "colab_type": "text"
      },
      "source": [
        "# 3.튜플\n",
        "여러개의 값을 담고 있는 변수."
      ]
    },
    {
      "cell_type": "markdown",
      "metadata": {
        "id": "6CyUN9Rcc8Rs",
        "colab_type": "text"
      },
      "source": [
        "## 3-1.튜플 형식\n",
        "<pre>\n",
        "* 튜플이름 = (값1, 값2, 값3, ...)\n",
        "  튜플이름 = () <- 빈 튜플\n",
        "  튜플이름 = (값1,) <- 값 하나인 튜플\n",
        "\n",
        "* 튜플 이름으로 안되는 것들 : \n",
        "  - if, def, class, while, for, else 등의 예약어.\n",
        "  - 숫자로 시작하는 것\n",
        "  ex) 1a, 3name, ...\n",
        "\n",
        "* 튜플 특징\n",
        "  1.순서가 존재\n",
        "  2.값을 인덱스로 불러옴\n",
        "  3.값 수정 불가\n"
      ]
    },
    {
      "cell_type": "markdown",
      "metadata": {
        "id": "gQwUEVjRd-e1",
        "colab_type": "text"
      },
      "source": [
        "## 3-2. 튜플 다루기\n",
        "리스트와 유사"
      ]
    },
    {
      "cell_type": "code",
      "metadata": {
        "id": "FowG3O1p10Zp",
        "colab_type": "code",
        "outputId": "4a9dc283-5da6-455a-9dc8-daa9392af0e8",
        "colab": {
          "base_uri": "https://localhost:8080/",
          "height": 52
        }
      },
      "source": [
        "a = (1,2,3)\n",
        "print(a)\n",
        "b = (2,)\n",
        "print(b)"
      ],
      "execution_count": 0,
      "outputs": [
        {
          "output_type": "stream",
          "text": [
            "(1, 2, 3)\n",
            "(2,)\n"
          ],
          "name": "stdout"
        }
      ]
    },
    {
      "cell_type": "code",
      "metadata": {
        "id": "a5i_Qw2i1-cb",
        "colab_type": "code",
        "outputId": "01f2aec1-b292-4b58-d77c-76e5ac265f18",
        "colab": {
          "base_uri": "https://localhost:8080/",
          "height": 34
        }
      },
      "source": [
        "type(b)"
      ],
      "execution_count": 0,
      "outputs": [
        {
          "output_type": "execute_result",
          "data": {
            "text/plain": [
              "tuple"
            ]
          },
          "metadata": {
            "tags": []
          },
          "execution_count": 7
        }
      ]
    },
    {
      "cell_type": "markdown",
      "metadata": {
        "id": "FxVyre03eOjw",
        "colab_type": "text"
      },
      "source": [
        "### 튜플 인덱스\n",
        "<pre>\n",
        "*사용법:\n",
        "튜플이름[인덱스]"
      ]
    },
    {
      "cell_type": "code",
      "metadata": {
        "id": "QkpKhsbueWyh",
        "colab_type": "code",
        "colab": {}
      },
      "source": [
        "a = (3, 5, 'z', 'x')"
      ],
      "execution_count": 0,
      "outputs": []
    },
    {
      "cell_type": "code",
      "metadata": {
        "id": "l6K-eEEC4T0Y",
        "colab_type": "code",
        "outputId": "59ffc912-be45-4ffe-fde2-d14d20d58e43",
        "colab": {
          "base_uri": "https://localhost:8080/",
          "height": 34
        }
      },
      "source": [
        "print(a[0])"
      ],
      "execution_count": 0,
      "outputs": [
        {
          "output_type": "stream",
          "text": [
            "3\n"
          ],
          "name": "stdout"
        }
      ]
    },
    {
      "cell_type": "markdown",
      "metadata": {
        "id": "i9PuCmk9eqkb",
        "colab_type": "text"
      },
      "source": [
        "### 튜플 슬라이스\n",
        "<pre>\n",
        "*사용법:\n",
        "튜플이름[시작 인덱스:원하는 인덱스+1]"
      ]
    },
    {
      "cell_type": "code",
      "metadata": {
        "id": "B7BRU6e443gP",
        "colab_type": "code",
        "colab": {}
      },
      "source": [
        "a = (3, 5, 'z', 'x')"
      ],
      "execution_count": 0,
      "outputs": []
    },
    {
      "cell_type": "code",
      "metadata": {
        "id": "iF2waOkieyPz",
        "colab_type": "code",
        "outputId": "947f214a-839d-4166-c0a3-ca9705a6b0b4",
        "colab": {
          "base_uri": "https://localhost:8080/",
          "height": 34
        }
      },
      "source": [
        "# 1,2번 인덱스만 뽑아내고 싶다면\n",
        "print(a[1:3])"
      ],
      "execution_count": 0,
      "outputs": [
        {
          "output_type": "stream",
          "text": [
            "(5, 'z')\n"
          ],
          "name": "stdout"
        }
      ]
    },
    {
      "cell_type": "markdown",
      "metadata": {
        "id": "NKaqg4qGe8XF",
        "colab_type": "text"
      },
      "source": [
        "### 튜플 더하기\n",
        "'+'"
      ]
    },
    {
      "cell_type": "code",
      "metadata": {
        "id": "-XYbE7en5KX2",
        "colab_type": "code",
        "colab": {}
      },
      "source": [
        "q = (1,2,3,4)\n",
        "w = ('z', 'x')"
      ],
      "execution_count": 0,
      "outputs": []
    },
    {
      "cell_type": "code",
      "metadata": {
        "id": "3rSaQrs7fE7V",
        "colab_type": "code",
        "outputId": "778c5ece-5ac5-4a67-f3ee-06cbdfb8794c",
        "colab": {
          "base_uri": "https://localhost:8080/",
          "height": 34
        }
      },
      "source": [
        "z = q+w\n",
        "print(z)"
      ],
      "execution_count": 0,
      "outputs": [
        {
          "output_type": "stream",
          "text": [
            "(1, 2, 3, 4, 'z', 'x')\n"
          ],
          "name": "stdout"
        }
      ]
    },
    {
      "cell_type": "markdown",
      "metadata": {
        "id": "q9OOVLJJfdhc",
        "colab_type": "text"
      },
      "source": [
        "### 튜플 곱하기\n",
        "'*'"
      ]
    },
    {
      "cell_type": "code",
      "metadata": {
        "id": "Sa6cI-a25TUO",
        "colab_type": "code",
        "colab": {}
      },
      "source": [
        "w = ('z', 'x')"
      ],
      "execution_count": 0,
      "outputs": []
    },
    {
      "cell_type": "code",
      "metadata": {
        "id": "uOeln67wfzbY",
        "colab_type": "code",
        "outputId": "7f6025d5-9da2-44f5-8a49-c115c520e13f",
        "colab": {
          "base_uri": "https://localhost:8080/",
          "height": 34
        }
      },
      "source": [
        "z = w*2\n",
        "print(z)"
      ],
      "execution_count": 0,
      "outputs": [
        {
          "output_type": "stream",
          "text": [
            "('z', 'x', 'z', 'x')\n"
          ],
          "name": "stdout"
        }
      ]
    },
    {
      "cell_type": "markdown",
      "metadata": {
        "id": "QCm9c4D8flyT",
        "colab_type": "text"
      },
      "source": [
        "### 튜플 길이 구하기\n",
        "<pre>\n",
        "* 사용법:\n",
        "len(튜플)"
      ]
    },
    {
      "cell_type": "code",
      "metadata": {
        "id": "9r9bluNUfwsP",
        "colab_type": "code",
        "colab": {}
      },
      "source": [
        "\n",
        "q = (1,2,3,4)"
      ],
      "execution_count": 0,
      "outputs": []
    },
    {
      "cell_type": "code",
      "metadata": {
        "id": "3ObwoDh55dVW",
        "colab_type": "code",
        "outputId": "51615dc3-9ee9-4df0-b280-4400114e372b",
        "colab": {
          "base_uri": "https://localhost:8080/",
          "height": 34
        }
      },
      "source": [
        "len(q)"
      ],
      "execution_count": 0,
      "outputs": [
        {
          "output_type": "execute_result",
          "data": {
            "text/plain": [
              "4"
            ]
          },
          "metadata": {
            "tags": []
          },
          "execution_count": 15
        }
      ]
    },
    {
      "cell_type": "markdown",
      "metadata": {
        "id": "ztwscBgs0-H2",
        "colab_type": "text"
      },
      "source": [
        "### 튜플<->리스트 변환하기\n",
        "<pre>\n",
        "튜플 -> 리스트 :\n",
        "list(튜플)\n",
        "\n",
        "리스트 ->튜플 :\n",
        "tuple(리스트)"
      ]
    },
    {
      "cell_type": "code",
      "metadata": {
        "id": "W0sPuZuI5sf3",
        "colab_type": "code",
        "colab": {}
      },
      "source": [
        "tuple1 = (1,2,3,4)"
      ],
      "execution_count": 0,
      "outputs": []
    },
    {
      "cell_type": "code",
      "metadata": {
        "id": "bDVq3RaY2KTw",
        "colab_type": "code",
        "outputId": "dff47edb-7d0e-4f9b-df20-a255e18f9df4",
        "colab": {
          "base_uri": "https://localhost:8080/",
          "height": 52
        }
      },
      "source": [
        "# 튜플 -> 리스트\n",
        "print(type(tuple1))\n",
        "list1=list(tuple1)\n",
        "print(type(list1))"
      ],
      "execution_count": 0,
      "outputs": [
        {
          "output_type": "stream",
          "text": [
            "<class 'tuple'>\n",
            "<class 'list'>\n"
          ],
          "name": "stdout"
        }
      ]
    },
    {
      "cell_type": "code",
      "metadata": {
        "id": "YL1wARox5vGm",
        "colab_type": "code",
        "colab": {}
      },
      "source": [
        "list2 = [1,2,3,4]"
      ],
      "execution_count": 0,
      "outputs": []
    },
    {
      "cell_type": "code",
      "metadata": {
        "id": "_cclWR6W2XZo",
        "colab_type": "code",
        "outputId": "af969b4e-b22c-4f43-c139-811576d092e0",
        "colab": {
          "base_uri": "https://localhost:8080/",
          "height": 52
        }
      },
      "source": [
        "# 리스트 -> 튜플\n",
        "print(type(list2))\n",
        "tuple2=tuple(list2)\n",
        "print(type(tuple2))"
      ],
      "execution_count": 0,
      "outputs": [
        {
          "output_type": "stream",
          "text": [
            "<class 'list'>\n",
            "<class 'tuple'>\n"
          ],
          "name": "stdout"
        }
      ]
    },
    {
      "cell_type": "code",
      "metadata": {
        "id": "svcUx1NanijM",
        "colab_type": "code",
        "colab": {}
      },
      "source": [
        ""
      ],
      "execution_count": 0,
      "outputs": []
    }
  ]
}