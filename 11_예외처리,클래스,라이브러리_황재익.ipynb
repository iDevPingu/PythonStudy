{
  "nbformat": 4,
  "nbformat_minor": 0,
  "metadata": {
    "colab": {
      "name": "11_예외처리,클래스,라이브러리_황재익.ipynb",
      "version": "0.3.2",
      "provenance": [],
      "collapsed_sections": [],
      "include_colab_link": true
    },
    "kernelspec": {
      "name": "python3",
      "display_name": "Python 3"
    }
  },
  "cells": [
    {
      "cell_type": "markdown",
      "metadata": {
        "id": "view-in-github",
        "colab_type": "text"
      },
      "source": [
        "<a href=\"https://colab.research.google.com/github/jaicoco/PythonStudy/blob/master/11_%EC%98%88%EC%99%B8%EC%B2%98%EB%A6%AC%2C%ED%81%B4%EB%9E%98%EC%8A%A4%2C%EB%9D%BC%EC%9D%B4%EB%B8%8C%EB%9F%AC%EB%A6%AC_%ED%99%A9%EC%9E%AC%EC%9D%B5.ipynb\" target=\"_parent\"><img src=\"https://colab.research.google.com/assets/colab-badge.svg\" alt=\"Open In Colab\"/></a>"
      ]
    },
    {
      "cell_type": "markdown",
      "metadata": {
        "id": "5RfNacGian8e",
        "colab_type": "text"
      },
      "source": [
        "# 추가 문법들\n",
        "<pre>\n",
        "1.오류 예외처리\n",
        "2.클래스\n",
        "3.라이브러리(모듈)"
      ]
    },
    {
      "cell_type": "markdown",
      "metadata": {
        "id": "lOq5T3d5a3Gk",
        "colab_type": "text"
      },
      "source": [
        "## 1.오류 예외 처리\n",
        "코드를 실행하다보면 에러가 뜨기 마련.\n",
        "\n",
        "오류가 뜨면 프로그램이 멈춤.\n",
        "\n",
        "오류가 뜨더라도 프로그램이 멈추지 않게 하려 할 때 사용.\n"
      ]
    },
    {
      "cell_type": "markdown",
      "metadata": {
        "id": "VajSc8DLguJ6",
        "colab_type": "text"
      },
      "source": [
        "## try, except문\n",
        "<pre>\n",
        "* 사용법:\n",
        "try:\n",
        "  실제 실행할 실행문\n",
        "except 에러이름:\n",
        "  에러 시 대체할 실행문"
      ]
    },
    {
      "cell_type": "code",
      "metadata": {
        "id": "4tjsl_9qhSxU",
        "colab_type": "code",
        "outputId": "6562086c-041b-4850-d2b9-43ffe5ef818b",
        "colab": {
          "base_uri": "https://localhost:8080/",
          "height": 52
        }
      },
      "source": [
        "try:\n",
        "  4/0\n",
        "except ZeroDivisionError:\n",
        "  print('해지맬래좌놔')\n",
        "print(4)"
      ],
      "execution_count": 0,
      "outputs": [
        {
          "output_type": "stream",
          "text": [
            "해지맬래좌놔\n",
            "4\n"
          ],
          "name": "stdout"
        }
      ]
    },
    {
      "cell_type": "markdown",
      "metadata": {
        "id": "JD9fCGsFhrAI",
        "colab_type": "text"
      },
      "source": [
        "## 2. 클래스\n",
        "클래스란 변수를 만드는 '틀'입니다.\n",
        "\n",
        "예를 들어 들어 봅시다.\n",
        "\n",
        "<pre>\n",
        "자동차라는 클래스를 만듭니다.\n",
        "이 자동차라는 클래스는 자동차를 만드는 틀이라고 보시면 됩니다.\n",
        "이 자동차라는 클래스를 통해 자동차를 만듭니다. \n",
        "그러면 연식, 배기량, 속도, 무게 등의 속성을 갖고 만들어집니다.\n",
        "이 자동차라는 클래스를 이용해서 만든 자동차는 달릴 수 있습니다. \n",
        "짐을 실을 수도 있습니다.\n",
        "</pre>\n"
      ]
    },
    {
      "cell_type": "markdown",
      "metadata": {
        "id": "kL6JR5o8h_7N",
        "colab_type": "text"
      },
      "source": [
        "### 1. class 만들기\n",
        "<pre>\n",
        "* 형식\n",
        "  class 클래스명():\n",
        "    클래스 속성\n",
        "    \n",
        "    클래스 함수"
      ]
    },
    {
      "cell_type": "code",
      "metadata": {
        "id": "Bnw3QQraiEEO",
        "colab_type": "code",
        "colab": {}
      },
      "source": [
        "class Car():\n",
        "  #자동차\n",
        "  \n",
        "  # 속성 만들기\n",
        "  def __init__(self, age, disp, vel, weight):\n",
        "    self.age = age # 연식\n",
        "    self.disp = disp # 배기량\n",
        "    self.vel = 0 # 초기 속도\n",
        "    self.weight = weight # 초기 무게\n",
        "  \n",
        "  # 가속 시키기\n",
        "  def accel(self,v):\n",
        "    self.vel = self.vel + v # v km/h 가속\n",
        "    print('현재 속도는 {}km/h 입니다.'.format(self.vel))\n",
        "  \n",
        "  # 감속 시키기\n",
        "  def brake(self,v):\n",
        "    self.vel = self.vel - v # v km/h 감속\n",
        "    print('현재 속도는 {}km/h 입니다.'.format(self.vel))\n",
        "  \n",
        "  # 짐 싣기\n",
        "  def Load_plus(self,x):\n",
        "    self.weight = self.weight + x # x kg 싣기\n",
        "    print('현재 무게는 {}kg 입니다.'.format(self.weight))\n",
        "  \n",
        "  # 짐 내리기\n",
        "  def Load_minus(self,x):\n",
        "    self.weight = self.weight - x # 20kg 내리기\n",
        "    print('현재 무게는 {}kg 입니다.'.format(self.weight))\n",
        "      \n",
        "  "
      ],
      "execution_count": 0,
      "outputs": []
    },
    {
      "cell_type": "markdown",
      "metadata": {
        "id": "mcw1Zz5IiLMy",
        "colab_type": "text"
      },
      "source": [
        "### 2. class 사용하기"
      ]
    },
    {
      "cell_type": "code",
      "metadata": {
        "id": "mgIzXIzxiPCp",
        "colab_type": "code",
        "outputId": "966144f1-26d2-476c-d42e-e974ec74726a",
        "colab": {
          "base_uri": "https://localhost:8080/",
          "height": 70
        }
      },
      "source": [
        "# Car 클래스로 연식, 배기량, 속도, 초기 무게 넣어서 Avante라는 객체 만들기\n",
        "Avante = Car(2,30,0,1000)\n",
        "print(Avante.age)\n",
        "Avante.age = 3\n",
        "print(Avante.age)\n",
        "Avante.accel(30)"
      ],
      "execution_count": 0,
      "outputs": [
        {
          "output_type": "stream",
          "text": [
            "2\n",
            "3\n",
            "현재 속도는 30km/h 입니다.\n"
          ],
          "name": "stdout"
        }
      ]
    },
    {
      "cell_type": "code",
      "metadata": {
        "id": "RwNDnhNEiTBU",
        "colab_type": "code",
        "outputId": "c492a336-c381-41ad-d5e0-f24c4e174287",
        "colab": {
          "base_uri": "https://localhost:8080/",
          "height": 34
        }
      },
      "source": [
        "# Avante 의 연식 확인하기\n",
        "Avante.age"
      ],
      "execution_count": 0,
      "outputs": [
        {
          "output_type": "execute_result",
          "data": {
            "text/plain": [
              "3"
            ]
          },
          "metadata": {
            "tags": []
          },
          "execution_count": 12
        }
      ]
    },
    {
      "cell_type": "code",
      "metadata": {
        "id": "Qdi6XHgPiT5d",
        "colab_type": "code",
        "outputId": "1d00a7ba-9ca4-412e-eb04-30e572b40f30",
        "colab": {
          "base_uri": "https://localhost:8080/",
          "height": 34
        }
      },
      "source": [
        "# Avante 의 배기량 확인하기\n",
        "Avante.disp"
      ],
      "execution_count": 0,
      "outputs": [
        {
          "output_type": "execute_result",
          "data": {
            "text/plain": [
              "30"
            ]
          },
          "metadata": {
            "tags": []
          },
          "execution_count": 13
        }
      ]
    },
    {
      "cell_type": "code",
      "metadata": {
        "id": "8V0kbtxuiY8i",
        "colab_type": "code",
        "outputId": "92cb4ae9-eac8-4161-a1af-4036ce2b8bc7",
        "colab": {
          "base_uri": "https://localhost:8080/",
          "height": 34
        }
      },
      "source": [
        "# Avante의 속도 확인하기\n",
        "Avante.vel"
      ],
      "execution_count": 0,
      "outputs": [
        {
          "output_type": "execute_result",
          "data": {
            "text/plain": [
              "30"
            ]
          },
          "metadata": {
            "tags": []
          },
          "execution_count": 15
        }
      ]
    },
    {
      "cell_type": "code",
      "metadata": {
        "id": "HDzGI-j6ia_O",
        "colab_type": "code",
        "outputId": "1050c98b-f3cd-447c-c8f2-227cc7363bd5",
        "colab": {
          "base_uri": "https://localhost:8080/",
          "height": 34
        }
      },
      "source": [
        "# Avante 5km/h 가속하기\n",
        "Avante.accel(5)"
      ],
      "execution_count": 0,
      "outputs": [
        {
          "output_type": "stream",
          "text": [
            "현재 속도는 35km/h 입니다.\n"
          ],
          "name": "stdout"
        }
      ]
    },
    {
      "cell_type": "code",
      "metadata": {
        "id": "ZF9Xg1Szic1m",
        "colab_type": "code",
        "outputId": "67574811-7bdc-49a7-dd4f-44a0eefde322",
        "colab": {
          "base_uri": "https://localhost:8080/",
          "height": 34
        }
      },
      "source": [
        "# Avante 10km/h 가속하기\n",
        "Avante.accel(10)"
      ],
      "execution_count": 0,
      "outputs": [
        {
          "output_type": "stream",
          "text": [
            "현재 속도는 45km/h 입니다.\n"
          ],
          "name": "stdout"
        }
      ]
    },
    {
      "cell_type": "code",
      "metadata": {
        "id": "XQaadk0JiepL",
        "colab_type": "code",
        "outputId": "ba70ea3a-6603-49dd-8ab7-6113d9069aaa",
        "colab": {
          "base_uri": "https://localhost:8080/",
          "height": 34
        }
      },
      "source": [
        "# Avante 7km/h 감속하기\n",
        "Avante.brake(7)"
      ],
      "execution_count": 0,
      "outputs": [
        {
          "output_type": "stream",
          "text": [
            "현재 속도는 38km/h 입니다.\n"
          ],
          "name": "stdout"
        }
      ]
    },
    {
      "cell_type": "code",
      "metadata": {
        "id": "AE7iK0xVigca",
        "colab_type": "code",
        "outputId": "a7c1d144-1b61-4ed9-9be5-e12a59b75ff3",
        "colab": {
          "base_uri": "https://localhost:8080/",
          "height": 34
        }
      },
      "source": [
        "# Avante 속도 확인\n",
        "Avante.vel"
      ],
      "execution_count": 0,
      "outputs": [
        {
          "output_type": "execute_result",
          "data": {
            "text/plain": [
              "38"
            ]
          },
          "metadata": {
            "tags": []
          },
          "execution_count": 19
        }
      ]
    },
    {
      "cell_type": "code",
      "metadata": {
        "id": "oDLNLmCwiiat",
        "colab_type": "code",
        "outputId": "c0a022de-0fb6-43da-c709-49aed8d0d0d3",
        "colab": {
          "base_uri": "https://localhost:8080/",
          "height": 34
        }
      },
      "source": [
        "# Avante 무게 확인\n",
        "Avante.weight"
      ],
      "execution_count": 0,
      "outputs": [
        {
          "output_type": "execute_result",
          "data": {
            "text/plain": [
              "1000"
            ]
          },
          "metadata": {
            "tags": []
          },
          "execution_count": 20
        }
      ]
    },
    {
      "cell_type": "code",
      "metadata": {
        "id": "df-YYsS-iks_",
        "colab_type": "code",
        "outputId": "41503097-b0b9-4803-dc9a-01c571cab605",
        "colab": {
          "base_uri": "https://localhost:8080/",
          "height": 34
        }
      },
      "source": [
        "# Avante에 30kg 싣기\n",
        "Avante.Load_plus(30)"
      ],
      "execution_count": 0,
      "outputs": [
        {
          "output_type": "stream",
          "text": [
            "현재 무게는 1030kg 입니다.\n"
          ],
          "name": "stdout"
        }
      ]
    },
    {
      "cell_type": "code",
      "metadata": {
        "id": "6E4V1ZUOims2",
        "colab_type": "code",
        "outputId": "aca2768f-a30c-487a-8942-54bb3966099a",
        "colab": {
          "base_uri": "https://localhost:8080/",
          "height": 34
        }
      },
      "source": [
        "# Avante에서 10kg 빼기\n",
        "Avante.Load_minus(10)"
      ],
      "execution_count": 0,
      "outputs": [
        {
          "output_type": "stream",
          "text": [
            "현재 무게는 1020kg 입니다.\n"
          ],
          "name": "stdout"
        }
      ]
    },
    {
      "cell_type": "code",
      "metadata": {
        "id": "V_1IB0D0iopg",
        "colab_type": "code",
        "outputId": "ae70453d-2d39-42ad-baeb-1baf6bfdc66e",
        "colab": {
          "base_uri": "https://localhost:8080/",
          "height": 34
        }
      },
      "source": [
        "# Avante의 무게 확인\n",
        "Avante.weight"
      ],
      "execution_count": 0,
      "outputs": [
        {
          "output_type": "execute_result",
          "data": {
            "text/plain": [
              "1020"
            ]
          },
          "metadata": {
            "tags": []
          },
          "execution_count": 24
        }
      ]
    },
    {
      "cell_type": "markdown",
      "metadata": {
        "id": "sYaBciKFiqbM",
        "colab_type": "text"
      },
      "source": [
        "\n",
        "이처럼 특정한 속성들을 갖고, 특정한 행위를 할 수 있는 변수를 만들 수 있습니다.\n",
        "\n",
        "이것의 장점은 일을 다음과 같습니다.\n",
        "\n",
        "어떤 한가지 일에 특화된 변수를 만들어 줄 수 있다는 것이죠.\n",
        "\n",
        "이는 협업에 있어서 꼭 필요한 부분입니다.\n",
        "\n",
        "각자 맡은 부분에 해당하는 일를 하는 클래스를 만들어 따로 관리할 수 있습니다.\n",
        "\n",
        "각자 맡은 부분을 붙이면 여러가지 응용을 할 수 있게 되겠지요."
      ]
    },
    {
      "cell_type": "markdown",
      "metadata": {
        "id": "XAReicGtisvC",
        "colab_type": "text"
      },
      "source": [
        "## 3.라이브러리(모듈)\n",
        "라이브러리란 특정 기능들의 묶음입니다.\n",
        "예를 들어 볼까요?\n",
        "\n",
        "<pre>\n",
        "예금하기, 이체하기, 적금들기, 출금하기 => 은행업무 라이브러리\n",
        "신규 고객 전화하기, 기존 고객 전화받기, 고객 장부 정리 => 고객관리 라이브러리 \n",
        "</pre>\n",
        "\n",
        "이런 식으로 어떤 행위들의 묶음을 라이브러리라고 합니다.\n",
        "\n",
        "우리는 필요에 따라 누군가가 만들어 둔 라이브러리를 불러와서 사용할 수 있습니다.\n",
        "\n",
        "함수가 들어있고, 클래스가 들어 있습니다."
      ]
    },
    {
      "cell_type": "markdown",
      "metadata": {
        "id": "16twW3BWi1zs",
        "colab_type": "text"
      },
      "source": [
        "### 1. 라이브러리 설치\n",
        "<pre>\n",
        "* 형식 :\n",
        "  !pip install 라이브러리명"
      ]
    },
    {
      "cell_type": "code",
      "metadata": {
        "id": "_dXTqpR5i6E_",
        "colab_type": "code",
        "outputId": "c9a218a9-5b11-4f49-cd37-30b9019e7242",
        "colab": {
          "base_uri": "https://localhost:8080/",
          "height": 105
        }
      },
      "source": [
        "# 엑셀 파일 다루는 라이브러리 설치 : pandas\n",
        "!pip install pandas"
      ],
      "execution_count": 0,
      "outputs": [
        {
          "output_type": "stream",
          "text": [
            "Requirement already satisfied: pandas in /usr/local/lib/python3.6/dist-packages (0.24.2)\n",
            "Requirement already satisfied: pytz>=2011k in /usr/local/lib/python3.6/dist-packages (from pandas) (2018.9)\n",
            "Requirement already satisfied: numpy>=1.12.0 in /usr/local/lib/python3.6/dist-packages (from pandas) (1.16.4)\n",
            "Requirement already satisfied: python-dateutil>=2.5.0 in /usr/local/lib/python3.6/dist-packages (from pandas) (2.5.3)\n",
            "Requirement already satisfied: six>=1.5 in /usr/local/lib/python3.6/dist-packages (from python-dateutil>=2.5.0->pandas) (1.12.0)\n"
          ],
          "name": "stdout"
        }
      ]
    },
    {
      "cell_type": "markdown",
      "metadata": {
        "id": "sWBmXUSti9Cq",
        "colab_type": "text"
      },
      "source": [
        "### 2. 라이브러리 불러오기\n",
        "<pre>\n",
        "* 형식 :\n",
        "  import 라이브러리명"
      ]
    },
    {
      "cell_type": "code",
      "metadata": {
        "id": "kYf16uPBjBxx",
        "colab_type": "code",
        "colab": {}
      },
      "source": [
        "# 엑셀 파일 다루는 pandas 불러오기\n",
        "import pandas as pa"
      ],
      "execution_count": 0,
      "outputs": []
    },
    {
      "cell_type": "code",
      "metadata": {
        "id": "dpJkdAnzjFNU",
        "colab_type": "code",
        "colab": {}
      },
      "source": [
        "# 고객 데이터 파일 불러오기\n",
        "df = pa.read_excel('3-1고객_데이터.xlsx')"
      ],
      "execution_count": 0,
      "outputs": []
    },
    {
      "cell_type": "code",
      "metadata": {
        "id": "hD1_NjZijHP2",
        "colab_type": "code",
        "outputId": "6b66808e-0d64-4228-a526-fea3eb88479d",
        "colab": {
          "base_uri": "https://localhost:8080/",
          "height": 166
        }
      },
      "source": [
        "# 고객 데이터 출력하기\n",
        "df"
      ],
      "execution_count": 0,
      "outputs": [
        {
          "output_type": "execute_result",
          "data": {
            "text/html": [
              "<div>\n",
              "<style scoped>\n",
              "    .dataframe tbody tr th:only-of-type {\n",
              "        vertical-align: middle;\n",
              "    }\n",
              "\n",
              "    .dataframe tbody tr th {\n",
              "        vertical-align: top;\n",
              "    }\n",
              "\n",
              "    .dataframe thead th {\n",
              "        text-align: right;\n",
              "    }\n",
              "</style>\n",
              "<table border=\"1\" class=\"dataframe\">\n",
              "  <thead>\n",
              "    <tr style=\"text-align: right;\">\n",
              "      <th></th>\n",
              "      <th>이름</th>\n",
              "      <th>주소</th>\n",
              "      <th>생년월일</th>\n",
              "      <th>성별</th>\n",
              "      <th>가입 상품</th>\n",
              "    </tr>\n",
              "  </thead>\n",
              "  <tbody>\n",
              "    <tr>\n",
              "      <th>0</th>\n",
              "      <td>김영철</td>\n",
              "      <td>서울시 동대문구</td>\n",
              "      <td>900202</td>\n",
              "      <td>남</td>\n",
              "      <td>데이터 55</td>\n",
              "    </tr>\n",
              "    <tr>\n",
              "      <th>1</th>\n",
              "      <td>박만수</td>\n",
              "      <td>서울시 중구</td>\n",
              "      <td>780511</td>\n",
              "      <td>남</td>\n",
              "      <td>데이터 45</td>\n",
              "    </tr>\n",
              "    <tr>\n",
              "      <th>2</th>\n",
              "      <td>김영희</td>\n",
              "      <td>서울시 서초구</td>\n",
              "      <td>690722</td>\n",
              "      <td>여</td>\n",
              "      <td>데이터 35</td>\n",
              "    </tr>\n",
              "    <tr>\n",
              "      <th>3</th>\n",
              "      <td>류승룡</td>\n",
              "      <td>서울시 노원구</td>\n",
              "      <td>991212</td>\n",
              "      <td>남</td>\n",
              "      <td>데이터 65</td>\n",
              "    </tr>\n",
              "  </tbody>\n",
              "</table>\n",
              "</div>"
            ],
            "text/plain": [
              "    이름        주소    생년월일 성별   가입 상품\n",
              "0  김영철  서울시 동대문구  900202  남  데이터 55\n",
              "1  박만수    서울시 중구  780511  남  데이터 45\n",
              "2  김영희   서울시 서초구  690722  여  데이터 35\n",
              "3  류승룡   서울시 노원구  991212  남  데이터 65"
            ]
          },
          "metadata": {
            "tags": []
          },
          "execution_count": 29
        }
      ]
    },
    {
      "cell_type": "code",
      "metadata": {
        "id": "osYuwKw5PHus",
        "colab_type": "code",
        "colab": {}
      },
      "source": [
        ""
      ],
      "execution_count": 0,
      "outputs": []
    }
  ]
}