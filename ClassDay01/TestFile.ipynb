{
  "nbformat": 4,
  "nbformat_minor": 0,
  "metadata": {
    "colab": {
      "name": "황재익.ipynb",
      "version": "0.3.2",
      "provenance": [],
      "collapsed_sections": []
    },
    "kernelspec": {
      "name": "python3",
      "display_name": "Python 3"
    }
  },
  "cells": [
    {
      "cell_type": "markdown",
      "metadata": {
        "id": "5FeHKQPGPPe2",
        "colab_type": "text"
      },
      "source": [
        "#리스트"
      ]
    },
    {
      "cell_type": "markdown",
      "metadata": {
        "id": "qyGhORxoPfT2",
        "colab_type": "text"
      },
      "source": [
        "##리스트란?\n",
        "리스트는 여러 값을 담을 수 있는 변수입니다"
      ]
    },
    {
      "cell_type": "markdown",
      "metadata": {
        "id": "H1havBoUP4zE",
        "colab_type": "text"
      },
      "source": [
        "###1. 리스트 만들기\n",
        "방법은 두가지"
      ]
    },
    {
      "cell_type": "markdown",
      "metadata": {
        "id": "I4hORNvJQQTb",
        "colab_type": "text"
      },
      "source": [
        "####방법 1"
      ]
    },
    {
      "cell_type": "code",
      "metadata": {
        "id": "Qv8NxMz5Qkx0",
        "colab_type": "code",
        "colab": {}
      },
      "source": [
        "#list1이라는 빈 리스트를 만들어 보겠습니다\n",
        "list1 = []"
      ],
      "execution_count": 0,
      "outputs": []
    },
    {
      "cell_type": "code",
      "metadata": {
        "id": "nz6taV8RQwh5",
        "colab_type": "code",
        "colab": {
          "base_uri": "https://localhost:8080/",
          "height": 34
        },
        "outputId": "936fdd73-c669-487c-dfe9-001e84773a06"
      },
      "source": [
        "print(list1)"
      ],
      "execution_count": 12,
      "outputs": [
        {
          "output_type": "stream",
          "text": [
            "[]\n"
          ],
          "name": "stdout"
        }
      ]
    },
    {
      "cell_type": "code",
      "metadata": {
        "id": "cObvyitSQyE1",
        "colab_type": "code",
        "colab": {
          "base_uri": "https://localhost:8080/",
          "height": 34
        },
        "outputId": "7a83cd06-00e8-4057-ef58-a9998998f779"
      },
      "source": [
        "#list2를 만들고 1,'철수','True'를 넣어보자.\n",
        "list2 = [1,'철수','True']\n",
        "print(list2)"
      ],
      "execution_count": 6,
      "outputs": [
        {
          "output_type": "stream",
          "text": [
            "[1, '철수', 'True']\n"
          ],
          "name": "stdout"
        }
      ]
    },
    {
      "cell_type": "markdown",
      "metadata": {
        "id": "wXTy2eYEREEy",
        "colab_type": "text"
      },
      "source": [
        "####방법2"
      ]
    },
    {
      "cell_type": "code",
      "metadata": {
        "id": "I_UrgGOQR6-T",
        "colab_type": "code",
        "colab": {
          "base_uri": "https://localhost:8080/",
          "height": 34
        },
        "outputId": "4f450546-67be-4222-9095-7cb00cbda476"
      },
      "source": [
        "list3 = list()\n",
        "print(list3)"
      ],
      "execution_count": 8,
      "outputs": [
        {
          "output_type": "stream",
          "text": [
            "[]\n"
          ],
          "name": "stdout"
        }
      ]
    },
    {
      "cell_type": "code",
      "metadata": {
        "id": "XslcBJwJS-ya",
        "colab_type": "code",
        "colab": {}
      },
      "source": [
        "list4 = list(['1','철수',True])\n",
        "list4"
      ],
      "execution_count": 0,
      "outputs": []
    },
    {
      "cell_type": "code",
      "metadata": {
        "id": "x2tOnHThTKev",
        "colab_type": "code",
        "colab": {}
      },
      "source": [
        "del list4[2]"
      ],
      "execution_count": 0,
      "outputs": []
    },
    {
      "cell_type": "code",
      "metadata": {
        "id": "hLr0BPv8U6Mq",
        "colab_type": "code",
        "colab": {
          "base_uri": "https://localhost:8080/",
          "height": 34
        },
        "outputId": "a47daa14-244d-4e4e-d8cd-5e003781c3dc"
      },
      "source": [
        "list4"
      ],
      "execution_count": 19,
      "outputs": [
        {
          "output_type": "execute_result",
          "data": {
            "text/plain": [
              "['1', '철수']"
            ]
          },
          "metadata": {
            "tags": []
          },
          "execution_count": 19
        }
      ]
    },
    {
      "cell_type": "code",
      "metadata": {
        "id": "OX_Kuy4fVByO",
        "colab_type": "code",
        "colab": {}
      },
      "source": [
        ""
      ],
      "execution_count": 0,
      "outputs": []
    }
  ]
}
