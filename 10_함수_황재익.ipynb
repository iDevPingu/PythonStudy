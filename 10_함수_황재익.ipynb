{
  "nbformat": 4,
  "nbformat_minor": 0,
  "metadata": {
    "colab": {
      "name": "10_함수_황재익.ipynb",
      "version": "0.3.2",
      "provenance": [],
      "collapsed_sections": [],
      "include_colab_link": true
    },
    "kernelspec": {
      "name": "python3",
      "display_name": "Python 3"
    }
  },
  "cells": [
    {
      "cell_type": "markdown",
      "metadata": {
        "id": "view-in-github",
        "colab_type": "text"
      },
      "source": [
        "<a href=\"https://colab.research.google.com/github/jaicoco/PythonStudy/blob/master/10_%ED%95%A8%EC%88%98_%ED%99%A9%EC%9E%AC%EC%9D%B5.ipynb\" target=\"_parent\"><img src=\"https://colab.research.google.com/assets/colab-badge.svg\" alt=\"Open In Colab\"/></a>"
      ]
    },
    {
      "cell_type": "markdown",
      "metadata": {
        "id": "c2TloT0BiLh3",
        "colab_type": "text"
      },
      "source": [
        "# 함수\n",
        "컴퓨터에게 시킬 일\n",
        "\n",
        "즉, 컴퓨터가 할 행위"
      ]
    },
    {
      "cell_type": "markdown",
      "metadata": {
        "id": "BthFC2hbrwT6",
        "colab_type": "text"
      },
      "source": [
        "## 함수의 만들기\n",
        "<pre>\n",
        "def 함수명():\n",
        "  실행문\n",
        "</pre>  \n",
        "\n",
        "## 함수 사용\n",
        "<pre>\n",
        "함수명()"
      ]
    },
    {
      "cell_type": "markdown",
      "metadata": {
        "id": "QG9-DyYcsKi2",
        "colab_type": "text"
      },
      "source": [
        "### 1. 입력값이 없는 함수"
      ]
    },
    {
      "cell_type": "code",
      "metadata": {
        "id": "7hteNZ9lsQ5f",
        "colab_type": "code",
        "colab": {}
      },
      "source": [
        "def hello():\n",
        "  return 'hello'"
      ],
      "execution_count": 0,
      "outputs": []
    },
    {
      "cell_type": "code",
      "metadata": {
        "id": "MHjQ8737uAb9",
        "colab_type": "code",
        "outputId": "a69db7a2-a667-4785-a59d-7e07e2a7be63",
        "colab": {
          "base_uri": "https://localhost:8080/",
          "height": 52
        }
      },
      "source": [
        "print(hello())\n",
        "a = hello()\n",
        "print(a)"
      ],
      "execution_count": 0,
      "outputs": [
        {
          "output_type": "stream",
          "text": [
            "hello\n",
            "hello\n"
          ],
          "name": "stdout"
        }
      ]
    },
    {
      "cell_type": "markdown",
      "metadata": {
        "id": "aVVBOuu2t87-",
        "colab_type": "text"
      },
      "source": [
        "### 2. 결과값이 없는 함수"
      ]
    },
    {
      "cell_type": "code",
      "metadata": {
        "id": "kklkltlQuNCu",
        "colab_type": "code",
        "colab": {}
      },
      "source": [
        "# 여기서 함수를 정의할 때 들어가는 a, b 같은 값들을 매개 변수라고 한다.\n",
        "def sumab(a,b):\n",
        "  print(\"{}+{}={}\".format(a,b,a+b))\n"
      ],
      "execution_count": 0,
      "outputs": []
    },
    {
      "cell_type": "code",
      "metadata": {
        "id": "18FHYPjYujUr",
        "colab_type": "code",
        "outputId": "a1bde70b-fd42-4fc1-ec06-9c96b112348f",
        "colab": {
          "base_uri": "https://localhost:8080/",
          "height": 34
        }
      },
      "source": [
        "sumab(4,5)"
      ],
      "execution_count": 0,
      "outputs": [
        {
          "output_type": "stream",
          "text": [
            "4+5=9\n"
          ],
          "name": "stdout"
        }
      ]
    },
    {
      "cell_type": "markdown",
      "metadata": {
        "id": "ZObbM_Hfumyr",
        "colab_type": "text"
      },
      "source": [
        "### 3. 입력도 결과값도 없는 함수"
      ]
    },
    {
      "cell_type": "code",
      "metadata": {
        "id": "qP-ThmG4u5JG",
        "colab_type": "code",
        "colab": {}
      },
      "source": [
        "def Hi():\n",
        "  return 4"
      ],
      "execution_count": 0,
      "outputs": []
    },
    {
      "cell_type": "code",
      "metadata": {
        "id": "IdO0A6nku_xh",
        "colab_type": "code",
        "outputId": "d4894a48-66ae-4303-cfea-b5e7cde2e0e9",
        "colab": {
          "base_uri": "https://localhost:8080/",
          "height": 34
        }
      },
      "source": [
        "print(Hi())"
      ],
      "execution_count": 0,
      "outputs": [
        {
          "output_type": "stream",
          "text": [
            "4\n"
          ],
          "name": "stdout"
        }
      ]
    },
    {
      "cell_type": "markdown",
      "metadata": {
        "id": "u7CiVb7yvEnR",
        "colab_type": "text"
      },
      "source": [
        "### 4. 매개변수 지정해서 호출"
      ]
    },
    {
      "cell_type": "code",
      "metadata": {
        "id": "tLJ0yVYuwIm0",
        "colab_type": "code",
        "colab": {}
      },
      "source": [
        "def add(a,b):\n",
        "  return a+b"
      ],
      "execution_count": 0,
      "outputs": []
    },
    {
      "cell_type": "code",
      "metadata": {
        "id": "EWSIasNnwRSS",
        "colab_type": "code",
        "outputId": "51488ff0-557e-47fe-f20e-eb37091e4e51",
        "colab": {
          "base_uri": "https://localhost:8080/",
          "height": 34
        }
      },
      "source": [
        "print(add(4,5))"
      ],
      "execution_count": 0,
      "outputs": [
        {
          "output_type": "stream",
          "text": [
            "9\n"
          ],
          "name": "stdout"
        }
      ]
    },
    {
      "cell_type": "markdown",
      "metadata": {
        "id": "qQvOegXfwZb8",
        "colab_type": "text"
      },
      "source": [
        "### 5.입력값 수가 미정일 때\n",
        "<pre>\n",
        "def 함수이름(*매개변수):\n",
        "  실행할 문장"
      ]
    },
    {
      "cell_type": "code",
      "metadata": {
        "id": "SocoEgolwolc",
        "colab_type": "code",
        "colab": {}
      },
      "source": [
        "# args는 arguments(독립변수)의 줄임말\n",
        "# 그냥 변수들 정로로 이해하자.\n",
        "def add_many(*args):\n",
        "  sum1 = 0\n",
        "  for i in args:\n",
        "    sum1 += i\n",
        "  return sum1"
      ],
      "execution_count": 0,
      "outputs": []
    },
    {
      "cell_type": "code",
      "metadata": {
        "id": "RDpxlWYAxLlo",
        "colab_type": "code",
        "outputId": "85e5fa31-de8b-4812-d986-268d61fbf485",
        "colab": {
          "base_uri": "https://localhost:8080/",
          "height": 34
        }
      },
      "source": [
        "add_many(4,45,5,3,4,4,3)"
      ],
      "execution_count": 0,
      "outputs": [
        {
          "output_type": "execute_result",
          "data": {
            "text/plain": [
              "68"
            ]
          },
          "metadata": {
            "tags": []
          },
          "execution_count": 17
        }
      ]
    },
    {
      "cell_type": "code",
      "metadata": {
        "id": "ymRcKMPWxZyW",
        "colab_type": "code",
        "colab": {}
      },
      "source": [
        "# add_mul\n",
        "\n",
        "def add_mul(choice, *args):\n",
        "  addresult = 0\n",
        "  mulresult = 1\n",
        "  if choice == 'add':\n",
        "    for i in args:\n",
        "      addresult += i\n",
        "    return addresult\n",
        "  elif choice == 'mul':\n",
        "    for i in args:\n",
        "      mulresult *= i\n",
        "    return mulresult\n",
        "  else:\n",
        "    print(\"오류\")\n",
        "    return 0\n",
        "    "
      ],
      "execution_count": 0,
      "outputs": []
    },
    {
      "cell_type": "code",
      "metadata": {
        "id": "pOXm5ImIyiQ6",
        "colab_type": "code",
        "outputId": "86d7e593-2109-4b79-9808-79f5a49499de",
        "colab": {
          "base_uri": "https://localhost:8080/",
          "height": 34
        }
      },
      "source": [
        "add_mul('mul',3,1,4,5,2)"
      ],
      "execution_count": 0,
      "outputs": [
        {
          "output_type": "execute_result",
          "data": {
            "text/plain": [
              "120"
            ]
          },
          "metadata": {
            "tags": []
          },
          "execution_count": 32
        }
      ]
    },
    {
      "cell_type": "code",
      "metadata": {
        "id": "b_jYBLm5yprL",
        "colab_type": "code",
        "colab": {}
      },
      "source": [
        ""
      ],
      "execution_count": 0,
      "outputs": []
    },
    {
      "cell_type": "code",
      "metadata": {
        "id": "AgZZVi5myxyT",
        "colab_type": "code",
        "colab": {}
      },
      "source": [
        ""
      ],
      "execution_count": 0,
      "outputs": []
    },
    {
      "cell_type": "markdown",
      "metadata": {
        "id": "1C1AdBb7SCbu",
        "colab_type": "text"
      },
      "source": [
        "### 6. lambda\n",
        "함수를 만들 때 사용하는 예약어\n",
        "\n",
        "def와 유사\n",
        "\n",
        "<pre>\n",
        "*lambda를 이용해 함수 만드는 법:\n",
        "함수명 = lambda 매개변수1, 매개변수2, ... : 매개변수를 이용한 식"
      ]
    },
    {
      "cell_type": "code",
      "metadata": {
        "id": "crJZ9vEFS2Ur",
        "colab_type": "code",
        "colab": {}
      },
      "source": [
        "def add(a,b):\n",
        "  return a+b"
      ],
      "execution_count": 0,
      "outputs": []
    },
    {
      "cell_type": "code",
      "metadata": {
        "id": "0YVAUs-gTioc",
        "colab_type": "code",
        "colab": {}
      },
      "source": [
        "add2 = lambda a,b:a+b"
      ],
      "execution_count": 0,
      "outputs": []
    },
    {
      "cell_type": "code",
      "metadata": {
        "id": "KYaIKln8S9QD",
        "colab_type": "code",
        "outputId": "172aa564-dbb6-4132-fdbe-c2f2a7e8bc9e",
        "colab": {
          "base_uri": "https://localhost:8080/",
          "height": 34
        }
      },
      "source": [
        "add2(1,2)"
      ],
      "execution_count": 0,
      "outputs": [
        {
          "output_type": "execute_result",
          "data": {
            "text/plain": [
              "3"
            ]
          },
          "metadata": {
            "tags": []
          },
          "execution_count": 40
        }
      ]
    },
    {
      "cell_type": "code",
      "metadata": {
        "id": "KD7BGWZgS9Jn",
        "colab_type": "code",
        "colab": {}
      },
      "source": [
        ""
      ],
      "execution_count": 0,
      "outputs": []
    },
    {
      "cell_type": "markdown",
      "metadata": {
        "id": "xZH2FH026Xj-",
        "colab_type": "text"
      },
      "source": [
        "## 문제 풀고 함수 만들어보기"
      ]
    },
    {
      "cell_type": "code",
      "metadata": {
        "id": "vjhjrxAtz6T7",
        "colab_type": "code",
        "outputId": "3f03814a-434f-464c-843a-bb6ea84c18d9",
        "colab": {
          "base_uri": "https://localhost:8080/",
          "height": 34
        }
      },
      "source": [
        "# 1000 미만의 수 중에 3과 5의 배수의 합 구하기\n",
        "\n",
        "result = 0\n",
        "for i in range(1,1001):\n",
        "  if i%3==0 and i%5==0:\n",
        "    result += i\n",
        "    \n",
        "  else:\n",
        "    pass\n",
        "print(result)  "
      ],
      "execution_count": 0,
      "outputs": [
        {
          "output_type": "stream",
          "text": [
            "33165\n"
          ],
          "name": "stdout"
        }
      ]
    },
    {
      "cell_type": "code",
      "metadata": {
        "id": "bvS8Z8Ya5qM-",
        "colab_type": "code",
        "colab": {}
      },
      "source": [
        "#1000미만의 수 중에 원하는 두 개의 수의 공배수 합 구하기\n",
        "\n",
        "def LcmSum(a,b):\n",
        "  result = 0 \n",
        "  for i in range(1,1001):\n",
        "    if i%a==0 and i%b==0:\n",
        "      result += i \n",
        "    else:\n",
        "      pass\n",
        "  return result"
      ],
      "execution_count": 0,
      "outputs": []
    },
    {
      "cell_type": "code",
      "metadata": {
        "id": "RisbMTnN6Kte",
        "colab_type": "code",
        "outputId": "41b12586-a21b-445b-8104-fcaebbcf6be0",
        "colab": {
          "base_uri": "https://localhost:8080/",
          "height": 34
        }
      },
      "source": [
        "LcmSum(10,20)"
      ],
      "execution_count": 0,
      "outputs": [
        {
          "output_type": "execute_result",
          "data": {
            "text/plain": [
              "25500"
            ]
          },
          "metadata": {
            "tags": []
          },
          "execution_count": 49
        }
      ]
    },
    {
      "cell_type": "code",
      "metadata": {
        "id": "pz0tiLah6Ofn",
        "colab_type": "code",
        "colab": {}
      },
      "source": [
        "#100미만의 수를 출력하는 함수\n",
        "def UnderHundred():\n",
        "  for i in range(1,100):\n",
        "    print(i,end=' ')"
      ],
      "execution_count": 0,
      "outputs": []
    },
    {
      "cell_type": "code",
      "metadata": {
        "id": "xJAwyfZPKUaQ",
        "colab_type": "code",
        "colab": {}
      },
      "source": [
        "file = open('basic.txt','w')\n",
        "file.write('Hello Python Programming...!')\n",
        "file.close()"
      ],
      "execution_count": 0,
      "outputs": []
    },
    {
      "cell_type": "code",
      "metadata": {
        "id": "9KqA7MXr-N1B",
        "colab_type": "code",
        "colab": {}
      },
      "source": [
        "def sum35(a):\n",
        "  r = 0 \n",
        "  for i in range(1,a):\n",
        "    if i %3 ==0 or i%5 ==0:\n",
        "      r +=i\n",
        "    if i == 10:\n",
        "      r=i\n",
        "      return r\n",
        "    else:\n",
        "      pass\n",
        "    \n",
        "  print(r)\n",
        "  "
      ],
      "execution_count": 0,
      "outputs": []
    },
    {
      "cell_type": "code",
      "metadata": {
        "id": "RI5MtQ3CBSIQ",
        "colab_type": "code",
        "outputId": "985aead8-7569-431b-c1f8-6ae25adf7988",
        "colab": {
          "base_uri": "https://localhost:8080/",
          "height": 34
        }
      },
      "source": [
        "print(sum35(30))"
      ],
      "execution_count": 0,
      "outputs": [
        {
          "output_type": "stream",
          "text": [
            "10\n"
          ],
          "name": "stdout"
        }
      ]
    },
    {
      "cell_type": "code",
      "metadata": {
        "id": "bePGPEAOBUVe",
        "colab_type": "code",
        "outputId": "c58e7d71-2113-4572-af78-678800346b6e",
        "colab": {
          "base_uri": "https://localhost:8080/",
          "height": 34
        }
      },
      "source": [
        "sum35(30)"
      ],
      "execution_count": 0,
      "outputs": [
        {
          "output_type": "execute_result",
          "data": {
            "text/plain": [
              "10"
            ]
          },
          "metadata": {
            "tags": []
          },
          "execution_count": 83
        }
      ]
    },
    {
      "cell_type": "code",
      "metadata": {
        "id": "ScEEzFVuCJwj",
        "colab_type": "code",
        "colab": {}
      },
      "source": [
        ""
      ],
      "execution_count": 0,
      "outputs": []
    }
  ]
}