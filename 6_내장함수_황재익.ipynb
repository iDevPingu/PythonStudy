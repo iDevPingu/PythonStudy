{
  "nbformat": 4,
  "nbformat_minor": 0,
  "metadata": {
    "colab": {
      "name": "6_내장함수_황재익.ipynb",
      "version": "0.3.2",
      "provenance": [],
      "collapsed_sections": [],
      "include_colab_link": true
    },
    "kernelspec": {
      "name": "python3",
      "display_name": "Python 3"
    }
  },
  "cells": [
    {
      "cell_type": "markdown",
      "metadata": {
        "id": "view-in-github",
        "colab_type": "text"
      },
      "source": [
        "<a href=\"https://colab.research.google.com/github/jaicoco/PythonStudy/blob/master/6_%EB%82%B4%EC%9E%A5%ED%95%A8%EC%88%98_%ED%99%A9%EC%9E%AC%EC%9D%B5.ipynb\" target=\"_parent\"><img src=\"https://colab.research.google.com/assets/colab-badge.svg\" alt=\"Open In Colab\"/></a>"
      ]
    },
    {
      "cell_type": "markdown",
      "metadata": {
        "id": "49xhBh-XTbGh",
        "colab_type": "text"
      },
      "source": [
        "# 내장함수\n",
        "사람들이 파이썬에 이미 만들어 놓은 함수\n",
        "<pre>\n",
        "ex) print()"
      ]
    },
    {
      "cell_type": "markdown",
      "metadata": {
        "id": "PE9BkkQeWxih",
        "colab_type": "text"
      },
      "source": [
        "### print()\n",
        "값을 출력한다."
      ]
    },
    {
      "cell_type": "code",
      "metadata": {
        "id": "RMqeSC49Wxgh",
        "colab_type": "code",
        "outputId": "5a1fc7be-64a5-43d0-ee5f-6dce0bb764a7",
        "colab": {
          "base_uri": "https://localhost:8080/",
          "height": 34
        }
      },
      "source": [
        "print('철수')"
      ],
      "execution_count": 0,
      "outputs": [
        {
          "output_type": "stream",
          "text": [
            "철수\n"
          ],
          "name": "stdout"
        }
      ]
    },
    {
      "cell_type": "code",
      "metadata": {
        "id": "cbN8Oh6AWxdg",
        "colab_type": "code",
        "outputId": "50833dfe-dbd8-4f16-ef91-b23ebf234df7",
        "colab": {
          "base_uri": "https://localhost:8080/",
          "height": 52
        }
      },
      "source": [
        "# ;를 쓰면 함수를 한 줄로 이어 쓸 수 있다.\n",
        "print('철수');print('민수')"
      ],
      "execution_count": 0,
      "outputs": [
        {
          "output_type": "stream",
          "text": [
            "철수\n",
            "민수\n"
          ],
          "name": "stdout"
        }
      ]
    },
    {
      "cell_type": "code",
      "metadata": {
        "id": "NvqIxA2cWxa5",
        "colab_type": "code",
        "outputId": "0c943679-724d-40c5-de02-03fae97786f0",
        "colab": {
          "base_uri": "https://localhost:8080/",
          "height": 34
        }
      },
      "source": [
        "# ,end= 을 넣으면 뒤의 값이 따라오게 한다.\n",
        "print('철수', end=' ')\n",
        "print('민수')"
      ],
      "execution_count": 0,
      "outputs": [
        {
          "output_type": "stream",
          "text": [
            "철수 민수\n"
          ],
          "name": "stdout"
        }
      ]
    },
    {
      "cell_type": "code",
      "metadata": {
        "id": "7COiMqFmWxYR",
        "colab_type": "code",
        "outputId": "c7bdafa9-7231-4fa1-e182-d8543e2e9827",
        "colab": {
          "base_uri": "https://localhost:8080/",
          "height": 34
        }
      },
      "source": [
        "print('철수', end=',');print('민수')"
      ],
      "execution_count": 0,
      "outputs": [
        {
          "output_type": "stream",
          "text": [
            "철수,민수\n"
          ],
          "name": "stdout"
        }
      ]
    },
    {
      "cell_type": "code",
      "metadata": {
        "id": "AN-okNHYWxV4",
        "colab_type": "code",
        "outputId": "c63e490a-eaad-4532-d598-61f80879c534",
        "colab": {
          "base_uri": "https://localhost:8080/",
          "height": 52
        }
      },
      "source": [
        "# 띄어 쓰기는 콤마로.\n",
        "print('My heart will go on')\n",
        "print('My','heart','will','go','on')"
      ],
      "execution_count": 0,
      "outputs": [
        {
          "output_type": "stream",
          "text": [
            "My heart will go on\n",
            "My heart will go on\n"
          ],
          "name": "stdout"
        }
      ]
    },
    {
      "cell_type": "markdown",
      "metadata": {
        "id": "qz9RJNl7Wf7_",
        "colab_type": "text"
      },
      "source": [
        "### type()\n",
        "값의 타입을 알려준다."
      ]
    },
    {
      "cell_type": "code",
      "metadata": {
        "id": "7AmbBfb-Wf5R",
        "colab_type": "code",
        "outputId": "0ad8bd01-8ad3-4bc8-eed7-ddf0fb24e2b5",
        "colab": {
          "base_uri": "https://localhost:8080/",
          "height": 70
        }
      },
      "source": [
        "a = 1\n",
        "b = 'b'\n",
        "fl = 1.2\n",
        "print(type(a))\n",
        "print(type(b))\n",
        "print(type(fl))"
      ],
      "execution_count": 0,
      "outputs": [
        {
          "output_type": "stream",
          "text": [
            "<class 'int'>\n",
            "<class 'str'>\n",
            "<class 'float'>\n"
          ],
          "name": "stdout"
        }
      ]
    },
    {
      "cell_type": "code",
      "metadata": {
        "id": "CdOD61BcWf3B",
        "colab_type": "code",
        "outputId": "d74ff185-8626-4a32-ff7a-1cdc25109ec2",
        "colab": {
          "base_uri": "https://localhost:8080/",
          "height": 34
        }
      },
      "source": [
        "c = (1,2)\n",
        "type(c)"
      ],
      "execution_count": 0,
      "outputs": [
        {
          "output_type": "execute_result",
          "data": {
            "text/plain": [
              "tuple"
            ]
          },
          "metadata": {
            "tags": []
          },
          "execution_count": 7
        }
      ]
    },
    {
      "cell_type": "code",
      "metadata": {
        "id": "Ben_dEgaWf0x",
        "colab_type": "code",
        "outputId": "c2da884b-5a74-49e8-b855-b991bbe562a0",
        "colab": {
          "base_uri": "https://localhost:8080/",
          "height": 34
        }
      },
      "source": [
        "d = {1,2}\n",
        "type(d)"
      ],
      "execution_count": 0,
      "outputs": [
        {
          "output_type": "execute_result",
          "data": {
            "text/plain": [
              "set"
            ]
          },
          "metadata": {
            "tags": []
          },
          "execution_count": 8
        }
      ]
    },
    {
      "cell_type": "code",
      "metadata": {
        "id": "BBmARSqfWfyQ",
        "colab_type": "code",
        "outputId": "7824e6c2-ba9d-4949-e949-1096c870ad8a",
        "colab": {
          "base_uri": "https://localhost:8080/",
          "height": 34
        }
      },
      "source": [
        "e = [1,2]\n",
        "type(e)"
      ],
      "execution_count": 0,
      "outputs": [
        {
          "output_type": "execute_result",
          "data": {
            "text/plain": [
              "list"
            ]
          },
          "metadata": {
            "tags": []
          },
          "execution_count": 9
        }
      ]
    },
    {
      "cell_type": "code",
      "metadata": {
        "id": "-gzvkLgeWftQ",
        "colab_type": "code",
        "outputId": "5c6ea4b1-0f62-40b0-f3f8-f10b25886c59",
        "colab": {
          "base_uri": "https://localhost:8080/",
          "height": 34
        }
      },
      "source": [
        "f = {'hello':'안녕','apple':'사과'}\n",
        "type(f)"
      ],
      "execution_count": 0,
      "outputs": [
        {
          "output_type": "execute_result",
          "data": {
            "text/plain": [
              "dict"
            ]
          },
          "metadata": {
            "tags": []
          },
          "execution_count": 13
        }
      ]
    },
    {
      "cell_type": "markdown",
      "metadata": {
        "id": "zaFkcLUaT23y",
        "colab_type": "text"
      },
      "source": [
        "### len()\n",
        "값의 길이(또는 값의 갯수)를 돌려줌."
      ]
    },
    {
      "cell_type": "code",
      "metadata": {
        "id": "2jxiFs1hUT82",
        "colab_type": "code",
        "outputId": "eb4dd679-aefe-4442-c137-f702915cb47f",
        "colab": {
          "base_uri": "https://localhost:8080/",
          "height": 34
        }
      },
      "source": [
        "print(len(e))"
      ],
      "execution_count": 0,
      "outputs": [
        {
          "output_type": "stream",
          "text": [
            "2\n"
          ],
          "name": "stdout"
        }
      ]
    },
    {
      "cell_type": "code",
      "metadata": {
        "id": "576oteumUXcz",
        "colab_type": "code",
        "outputId": "17f3711e-a239-461d-eecb-f6e5f6efbfce",
        "colab": {
          "base_uri": "https://localhost:8080/",
          "height": 34
        }
      },
      "source": [
        "myname = '황재익'\n",
        "len(myname)"
      ],
      "execution_count": 0,
      "outputs": [
        {
          "output_type": "execute_result",
          "data": {
            "text/plain": [
              "3"
            ]
          },
          "metadata": {
            "tags": []
          },
          "execution_count": 15
        }
      ]
    },
    {
      "cell_type": "code",
      "metadata": {
        "id": "9riOyTb3ZOjL",
        "colab_type": "code",
        "outputId": "143b0a21-acbc-403f-b13d-26a4f5f0f6c0",
        "colab": {
          "base_uri": "https://localhost:8080/",
          "height": 34
        }
      },
      "source": [
        "print(len(f))"
      ],
      "execution_count": 0,
      "outputs": [
        {
          "output_type": "stream",
          "text": [
            "2\n"
          ],
          "name": "stdout"
        }
      ]
    },
    {
      "cell_type": "code",
      "metadata": {
        "id": "2uzM9Nbfs1ZI",
        "colab_type": "code",
        "outputId": "d34cf9fc-8bfe-4d59-8aa8-9cfc42d506cf",
        "colab": {
          "base_uri": "https://localhost:8080/",
          "height": 52
        }
      },
      "source": [
        "myset = set([1,2,3,4,4])\n",
        "print(len(myset))\n",
        "print(myset)"
      ],
      "execution_count": 0,
      "outputs": [
        {
          "output_type": "stream",
          "text": [
            "4\n",
            "{1, 2, 3, 4}\n"
          ],
          "name": "stdout"
        }
      ]
    },
    {
      "cell_type": "markdown",
      "metadata": {
        "id": "omFWmzF5ZTW9",
        "colab_type": "text"
      },
      "source": [
        "### int()\n",
        "'1' 같은 문자열 숫자나 1.2같은 소숫점 숫자를 정수로 돌려줌."
      ]
    },
    {
      "cell_type": "code",
      "metadata": {
        "id": "74Zhxh_-Z6tc",
        "colab_type": "code",
        "outputId": "6a97b78b-fc7c-4ddb-8a06-f39af40e1738",
        "colab": {
          "base_uri": "https://localhost:8080/",
          "height": 52
        }
      },
      "source": [
        "a = '1'\n",
        "b = int(a)\n",
        "print(type(a));print(type(b))"
      ],
      "execution_count": 0,
      "outputs": [
        {
          "output_type": "stream",
          "text": [
            "<class 'str'>\n",
            "<class 'int'>\n"
          ],
          "name": "stdout"
        }
      ]
    },
    {
      "cell_type": "code",
      "metadata": {
        "id": "LIrPkJvkaO3j",
        "colab_type": "code",
        "outputId": "dfb39fdd-fd47-468f-9a11-be5a21018ba5",
        "colab": {
          "base_uri": "https://localhost:8080/",
          "height": 34
        }
      },
      "source": [
        "a = 2.4444\n",
        "b = int(a)\n",
        "print(b)"
      ],
      "execution_count": 0,
      "outputs": [
        {
          "output_type": "stream",
          "text": [
            "2\n"
          ],
          "name": "stdout"
        }
      ]
    },
    {
      "cell_type": "markdown",
      "metadata": {
        "id": "kR3FwAtEafso",
        "colab_type": "text"
      },
      "source": [
        "### str()\n",
        "문자열로 변환해 돌려줌."
      ]
    },
    {
      "cell_type": "code",
      "metadata": {
        "id": "Cu-d8KGJawy_",
        "colab_type": "code",
        "outputId": "6b063271-710c-46cf-e06c-df92922c7350",
        "colab": {
          "base_uri": "https://localhost:8080/",
          "height": 70
        }
      },
      "source": [
        "c = str(a)\n",
        "d = 'strGood'\n",
        "print(c);print(type(c))\n",
        "print(c+d)"
      ],
      "execution_count": 0,
      "outputs": [
        {
          "output_type": "stream",
          "text": [
            "2.4444\n",
            "<class 'str'>\n",
            "2.4444strGood\n"
          ],
          "name": "stdout"
        }
      ]
    },
    {
      "cell_type": "markdown",
      "metadata": {
        "id": "jwo5-GVChJNr",
        "colab_type": "text"
      },
      "source": [
        "### input()\n",
        "사용자 입력 받는 함수"
      ]
    },
    {
      "cell_type": "code",
      "metadata": {
        "id": "M5z8mPSNhJIz",
        "colab_type": "code",
        "outputId": "06d50955-fa53-4da8-b324-169e988faaf8",
        "colab": {
          "base_uri": "https://localhost:8080/",
          "height": 70
        }
      },
      "source": [
        "a = input('a = ')\n",
        "b = input('b = ')\n",
        "print(a+b)"
      ],
      "execution_count": 0,
      "outputs": [
        {
          "output_type": "stream",
          "text": [
            "a = 4\n",
            "b = 3\n",
            "43\n"
          ],
          "name": "stdout"
        }
      ]
    },
    {
      "cell_type": "code",
      "metadata": {
        "id": "tz6ow9GmhJF7",
        "colab_type": "code",
        "outputId": "d8d3d5f2-4d0c-43c8-cc77-ec7c7e274843",
        "colab": {
          "base_uri": "https://localhost:8080/",
          "height": 34
        }
      },
      "source": [
        "type(a)"
      ],
      "execution_count": 0,
      "outputs": [
        {
          "output_type": "execute_result",
          "data": {
            "text/plain": [
              "str"
            ]
          },
          "metadata": {
            "tags": []
          },
          "execution_count": 34
        }
      ]
    },
    {
      "cell_type": "code",
      "metadata": {
        "id": "lD_KKo15hJBp",
        "colab_type": "code",
        "outputId": "26b7a04f-3893-4976-9d41-0084aed859dc",
        "colab": {
          "base_uri": "https://localhost:8080/",
          "height": 87
        }
      },
      "source": [
        "a = int(input( ))\n",
        "b = int(input( ))\n",
        "print(a+b)\n",
        "print(type(a))"
      ],
      "execution_count": 0,
      "outputs": [
        {
          "output_type": "stream",
          "text": [
            "4\n",
            "3\n",
            "7\n",
            "<class 'int'>\n"
          ],
          "name": "stdout"
        }
      ]
    },
    {
      "cell_type": "code",
      "metadata": {
        "id": "ceO5tjwhhsbB",
        "colab_type": "code",
        "outputId": "135cff0e-ec2d-4000-d5e9-e40862c130cd",
        "colab": {
          "base_uri": "https://localhost:8080/",
          "height": 52
        }
      },
      "source": [
        "a = list(input('이름을 입력하세요 : '))\n",
        "print(a)"
      ],
      "execution_count": 0,
      "outputs": [
        {
          "output_type": "stream",
          "text": [
            "이름을 입력하세요 : 황재익\n",
            "['황', '재', '익']\n"
          ],
          "name": "stdout"
        }
      ]
    },
    {
      "cell_type": "code",
      "metadata": {
        "id": "zebyueTehsX8",
        "colab_type": "code",
        "outputId": "7fbb1ce7-8688-4317-fe7e-28b63cc1ae0f",
        "colab": {
          "base_uri": "https://localhost:8080/",
          "height": 52
        }
      },
      "source": [
        "a = set(input('이름을 입력하세요 : '))\n",
        "print(a)\n",
        "#set은 인덱스 지원X"
      ],
      "execution_count": 0,
      "outputs": [
        {
          "output_type": "stream",
          "text": [
            "이름을 입력하세요 : 황재익익익재재재황황\n",
            "{'익', '재', '황'}\n"
          ],
          "name": "stdout"
        }
      ]
    },
    {
      "cell_type": "markdown",
      "metadata": {
        "id": "9asdjpLnbSHR",
        "colab_type": "text"
      },
      "source": [
        "### list()\n",
        "리스트로 만들어 돌려줌."
      ]
    },
    {
      "cell_type": "code",
      "metadata": {
        "id": "8ENTkRMebmZq",
        "colab_type": "code",
        "outputId": "efd1c68d-fe34-4a93-a613-6430e1e8cf2b",
        "colab": {
          "base_uri": "https://localhost:8080/",
          "height": 34
        }
      },
      "source": [
        "a = (1,2,3)\n",
        "type(a)"
      ],
      "execution_count": 0,
      "outputs": [
        {
          "output_type": "execute_result",
          "data": {
            "text/plain": [
              "tuple"
            ]
          },
          "metadata": {
            "tags": []
          },
          "execution_count": 43
        }
      ]
    },
    {
      "cell_type": "code",
      "metadata": {
        "id": "bve-AzpnbuFq",
        "colab_type": "code",
        "outputId": "e818cf8b-5087-4ea3-a5a7-10cd966ffac4",
        "colab": {
          "base_uri": "https://localhost:8080/",
          "height": 52
        }
      },
      "source": [
        "b = list(a)\n",
        "print(type(b))\n",
        "\n",
        "myname = '황재익'\n",
        "b = list(myname)\n",
        "print(b)"
      ],
      "execution_count": 0,
      "outputs": [
        {
          "output_type": "stream",
          "text": [
            "<class 'list'>\n",
            "['황', '재', '익']\n"
          ],
          "name": "stdout"
        }
      ]
    },
    {
      "cell_type": "markdown",
      "metadata": {
        "id": "Nb3Eujf5b5Fx",
        "colab_type": "text"
      },
      "source": [
        "\n",
        "### range()\n",
        "입력받은 숫자의 범위 값을 돌려줌.\n",
        "\n",
        "range(시작숫자, 끝숫자+1)\n",
        "\n",
        "<pre>\n",
        "사용법:\n",
        "list(range())"
      ]
    },
    {
      "cell_type": "code",
      "metadata": {
        "id": "mKxM_t5Rcqir",
        "colab_type": "code",
        "outputId": "b4329a64-165c-4936-e2c0-d28edc8e70b8",
        "colab": {
          "base_uri": "https://localhost:8080/",
          "height": 70
        }
      },
      "source": [
        "print(list(range(1,21)))\n",
        "a = range(1,21)\n",
        "print(a)\n",
        "print(type(a))"
      ],
      "execution_count": 0,
      "outputs": [
        {
          "output_type": "stream",
          "text": [
            "[1, 2, 3, 4, 5, 6, 7, 8, 9, 10, 11, 12, 13, 14, 15, 16, 17, 18, 19, 20]\n",
            "range(1, 21)\n",
            "<class 'range'>\n"
          ],
          "name": "stdout"
        }
      ]
    },
    {
      "cell_type": "code",
      "metadata": {
        "id": "vWjRGRy-cUh2",
        "colab_type": "code",
        "outputId": "5bafd639-e68d-4dc5-fc7e-78101285dc5a",
        "colab": {
          "base_uri": "https://localhost:8080/",
          "height": 34
        }
      },
      "source": [
        "# 시작 숫자는 생략 가능\n",
        "a = range(11,)\n",
        "print(a)"
      ],
      "execution_count": 0,
      "outputs": [
        {
          "output_type": "stream",
          "text": [
            "range(0, 11)\n"
          ],
          "name": "stdout"
        }
      ]
    },
    {
      "cell_type": "code",
      "metadata": {
        "id": "X2Phs5gggTOn",
        "colab_type": "code",
        "outputId": "12847819-4742-483b-e614-ef2791c71d58",
        "colab": {
          "base_uri": "https://localhost:8080/",
          "height": 52
        }
      },
      "source": [
        "### 숫자 사이 거리 추가\n",
        "a = range(1,11,2)\n",
        "print(list(a))\n",
        "b = range(20,0,-2)\n",
        "print(list(b))"
      ],
      "execution_count": 0,
      "outputs": [
        {
          "output_type": "stream",
          "text": [
            "[1, 3, 5, 7, 9]\n",
            "[20, 18, 16, 14, 12, 10, 8, 6, 4, 2]\n"
          ],
          "name": "stdout"
        }
      ]
    }
  ]
}